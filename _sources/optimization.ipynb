{
 "cells": [
  {
   "cell_type": "markdown",
   "id": "d89e96a0",
   "metadata": {},
   "source": [
    "## Optimization\n",
    "\n"
   ]
  },
  {
   "cell_type": "markdown",
   "id": "2057c0ff",
   "metadata": {},
   "source": [
    "### Constrained optimization\n",
    "\n"
   ]
  },
  {
   "cell_type": "markdown",
   "id": "4e70e1e9",
   "metadata": {},
   "source": [
    "[optimization!constrained](optimization!constrained)\n",
    "[fmin_slsqp](fmin_slsqp)\n",
    "[Matlab post](http://matlab.cheme.cmu.edu/2011/12/24/constrained-optimization/)\n",
    "\n",
    "adapted from [http://en.wikipedia.org/wiki/Lagrange_multipliers](http://en.wikipedia.org/wiki/Lagrange_multipliers).\n",
    "\n",
    "Suppose we seek to minimize the function $f(x,y)=x+y$ subject to the constraint that $x^2 + y^2 = 1$. The function we seek to maximize is an unbounded plane, while the constraint is a unit circle. We could setup a Lagrange multiplier approach to solving this problem, but we will use a constrained optimization approach instead.\n",
    "\n"
   ]
  },
  {
   "cell_type": "code",
   "execution_count": null,
   "id": "25aae074",
   "metadata": {},
   "outputs": [],
   "source": [
    "from scipy.optimize import fmin_slsqp\n",
    "\n",
    "def objective(X):\n",
    "    x, y = X\n",
    "    return x + y\n",
    "\n",
    "def eqc(X):\n",
    "    'equality constraint'\n",
    "    x, y = X\n",
    "    return x**2 + y**2 - 1.0\n",
    "\n",
    "X0 = [-1, -1]\n",
    "X = fmin_slsqp(objective, X0, eqcons=[eqc])\n",
    "print(X)"
   ]
  },
  {
   "cell_type": "markdown",
   "id": "9b4f30c0",
   "metadata": {},
   "source": [
    "### Finding the maximum power of a photovoltaic device.\n",
    "\n"
   ]
  },
  {
   "cell_type": "markdown",
   "id": "d2bba8a5",
   "metadata": {},
   "source": [
    "CLOSED: <span class=\"timestamp-wrapper\"><span class=\"timestamp\">[2016-04-04 Mon 11:48]</span></span>\n",
    "\n",
    ":categories: python,optimization\n",
    ":date:     2014/04/15 20:38:10\n",
    ":updated:  2016/04/04 11:54:50\n",
    "\n",
    "A photovoltaic device is characterized by a current-voltage relationship. Let us say, for argument's sake, that the relationship is known and defined by\n",
    "\n",
    "$i = 0.5 - 0.5 * V^2$\n",
    "\n",
    "The voltage is highest when the current is equal to zero, but of course then you get no power. The current is highest when the voltage is zero, i.e. short-circuited, but there is again no power. We seek the highest power condition, which is to find the maximum of $i V$. This is a constrained optimization. We solve it by creating an objective function that returns the negative of (\\i V\\\\), and then find the minimum.\n",
    "\n",
    "First, let us examine the i-V relationship.\n",
    "\n"
   ]
  },
  {
   "cell_type": "code",
   "execution_count": null,
   "id": "91387b4e",
   "metadata": {},
   "outputs": [],
   "source": [
    "import matplotlib.pyplot as plt\n",
    "import numpy as np\n",
    "\n",
    "V = np.linspace(0, 1)\n",
    "\n",
    "def i(V):\n",
    "    return 0.5 - 0.5 * V**2\n",
    "\n",
    "plt.figure()\n",
    "plt.plot(V, i(V));"
   ]
  },
  {
   "cell_type": "markdown",
   "id": "0f5fb598",
   "metadata": {},
   "source": [
    "Now, let us be sure there is a maximum in power.\n",
    "\n"
   ]
  },
  {
   "cell_type": "code",
   "execution_count": null,
   "id": "dd3c1ec8",
   "metadata": {},
   "outputs": [],
   "source": [
    "import matplotlib.pyplot as plt\n",
    "import numpy as np\n",
    "\n",
    "V = np.linspace(0, 1)\n",
    "\n",
    "def i(V):\n",
    "    return 0.5 - 0.5 * V**2\n",
    "\n",
    "plt.plot(V, i(V) * V);"
   ]
  },
  {
   "cell_type": "markdown",
   "id": "029608fa",
   "metadata": {},
   "source": [
    "You can see in fact there is a maximum, near V=0.6. We could solve this problem analytically by taking the appropriate derivative and solving it for zero. That still might require solving a nonlinear problem though. We will directly setup and solve the constrained optimization.\n",
    "\n"
   ]
  },
  {
   "cell_type": "code",
   "execution_count": null,
   "id": "9a07b520",
   "metadata": {},
   "outputs": [],
   "source": [
    "from scipy.optimize import fmin_slsqp\n",
    "import numpy as np\n",
    "import matplotlib.pyplot as plt\n",
    "\n",
    "def objective(X):\n",
    "    i, V = X\n",
    "    return - i * V\n",
    "\n",
    "def eqc(X):\n",
    "    'equality constraint'\n",
    "    i, V = X\n",
    "    return (0.5 - 0.5 * V**2) - i\n",
    "\n",
    "X0 = [0.2, 0.6]\n",
    "X = fmin_slsqp(objective, X0, eqcons=[eqc])\n",
    "\n",
    "imax, Vmax = X\n",
    "\n",
    "\n",
    "V = np.linspace(0, 1)\n",
    "\n",
    "def i(V):\n",
    "    return 0.5 - 0.5 * V**2\n",
    "\n",
    "plt.plot(V, i(V), Vmax, imax, 'ro');"
   ]
  },
  {
   "cell_type": "markdown",
   "id": "ddde20b2",
   "metadata": {},
   "source": [
    "You can see the maximum power is approximately 0.2 (unspecified units), at the conditions indicated by the red dot in the figure above.\n",
    "\n"
   ]
  },
  {
   "cell_type": "markdown",
   "id": "091491d9",
   "metadata": {},
   "source": [
    "### Using Lagrange multipliers in optimization\n",
    "\n"
   ]
  },
  {
   "cell_type": "markdown",
   "id": "bd3d56f0",
   "metadata": {},
   "source": [
    "[optimization!Lagrange multipliers](optimization!Lagrange multipliers)\n",
    "[fsolve](fsolve)\n",
    "[Matlab post](http://matlab.cheme.cmu.edu/2011/12/24/using-lagrange-multipliers-in-optimization/)  (adapted from [http://en.wikipedia.org/wiki/Lagrange_multipliers](http://en.wikipedia.org/wiki/Lagrange_multipliers).)\n",
    "\n",
    "Suppose we seek to maximize the function $f(x,y)=x+y$ subject to the constraint that $x^2 + y^2 = 1$. The function we seek to maximize is an unbounded plane, while the constraint is a unit circle. We want the maximum value of the circle, on the plane. We plot these two functions here.\n",
    "\n"
   ]
  },
  {
   "cell_type": "code",
   "execution_count": null,
   "id": "f967e552",
   "metadata": {},
   "outputs": [],
   "source": [
    "import numpy as np\n",
    "\n",
    "x = np.linspace(-1.5, 1.5)\n",
    "\n",
    "[X, Y] = np.meshgrid(x, x)\n",
    "\n",
    "import matplotlib as mpl\n",
    "import matplotlib.pyplot as plt\n",
    "\n",
    "fig = plt.figure()\n",
    "ax = fig.add_subplot(projection='3d')\n",
    "\n",
    "ax.plot_surface(X, Y, X + Y)\n",
    "\n",
    "theta = np.linspace(0,2*np.pi);\n",
    "R = 1.0\n",
    "x1 = R * np.cos(theta)\n",
    "y1 = R * np.sin(theta)\n",
    "\n",
    "ax.plot(x1, y1, x1 + y1, 'r-');"
   ]
  },
  {
   "cell_type": "markdown",
   "id": "63dece23",
   "metadata": {},
   "source": [
    "#### Construct the Lagrange multiplier augmented function\n",
    "\n"
   ]
  },
  {
   "cell_type": "markdown",
   "id": "780531d5",
   "metadata": {},
   "source": [
    "To find the maximum, we construct the following function: $\\Lambda(x,y; \\lambda) = f(x,y)+\\lambda g(x,y)$ where $g(x,y) = x^2 + y^2 - 1 = 0$, which is the constraint function. Since $g(x,y)=0$, we are not really changing the original function, provided that the constraint is met!\n",
    "\n"
   ]
  },
  {
   "cell_type": "code",
   "execution_count": null,
   "id": "81700aec",
   "metadata": {},
   "outputs": [],
   "source": [
    "import numpy as np\n",
    "\n",
    "def func(X):\n",
    "    x = X[0]\n",
    "    y = X[1]\n",
    "    L = X[2] # this is the multiplier. lambda is a reserved keyword in python\n",
    "    return x + y + L * (x**2 + y**2 - 1)"
   ]
  },
  {
   "cell_type": "markdown",
   "id": "a35eb5fe",
   "metadata": {},
   "source": [
    "#### Finding the partial derivatives\n",
    "\n"
   ]
  },
  {
   "cell_type": "markdown",
   "id": "f652d38c",
   "metadata": {},
   "source": [
    "The minima/maxima of the augmented function are located where all of the partial derivatives of the augmented function are equal to zero, i.e. $\\partial \\Lambda/\\partial x = 0$, $\\partial \\Lambda/\\partial y = 0$, and $\\partial \\Lambda/\\partial \\lambda = 0$. the process for solving this is usually to analytically evaluate the partial derivatives, and then solve the unconstrained resulting equations, which may be nonlinear.\n",
    "\n",
    "Rather than perform the analytical differentiation, here we develop a way to numerically approximate the partial derivatives.\n",
    "\n"
   ]
  },
  {
   "cell_type": "code",
   "execution_count": null,
   "id": "168fef5e",
   "metadata": {},
   "outputs": [],
   "source": [
    "def dfunc(X):\n",
    "    dLambda = np.zeros(len(X))\n",
    "    h = 1e-3 # this is the step size used in the finite difference.\n",
    "    for i in range(len(X)):\n",
    "        dX = np.zeros(len(X))\n",
    "        dX[i] = h\n",
    "        dLambda[i] = (func(X+dX)-func(X-dX))/(2*h);\n",
    "    return dLambda"
   ]
  },
  {
   "cell_type": "markdown",
   "id": "abf44092",
   "metadata": {},
   "source": [
    "#### Now we solve for the zeros in the partial derivatives\n",
    "\n"
   ]
  },
  {
   "cell_type": "markdown",
   "id": "d9033de5",
   "metadata": {},
   "source": [
    "The function we defined above (dfunc) will equal zero at a maximum or minimum. It turns out there are two solutions to this problem, but only one of them is the maximum value. Which solution you get depends on the initial guess provided to the solver. Here we have to use some judgement to identify the maximum.\n",
    "\n"
   ]
  },
  {
   "cell_type": "code",
   "execution_count": null,
   "id": "5bf521b7",
   "metadata": {},
   "outputs": [],
   "source": [
    "from scipy.optimize import fsolve\n",
    "\n",
    "# this is the max\n",
    "X1 = fsolve(dfunc, [1, 1, 0])\n",
    "print(X1, func(X1))\n",
    "\n",
    "# this is the min\n",
    "X2 = fsolve(dfunc, [-1, -1, 0])\n",
    "print(X2, func(X2))"
   ]
  },
  {
   "cell_type": "markdown",
   "id": "f5c88656",
   "metadata": {},
   "source": [
    "#### Summary\n",
    "\n"
   ]
  },
  {
   "cell_type": "markdown",
   "id": "4dac1e34",
   "metadata": {},
   "source": [
    "Three dimensional plots in matplotlib are a little more difficult than in Matlab (where the code is almost the same as 2D plots, just different commands, e.g. plot vs plot3). In Matplotlib you have to import additional modules in the right order, and use the object oriented approach to plotting as shown here.\n",
    "\n"
   ]
  },
  {
   "cell_type": "markdown",
   "id": "1a54bb10",
   "metadata": {},
   "source": [
    "### Linear programming example with inequality constraints\n",
    "\n"
   ]
  },
  {
   "cell_type": "markdown",
   "id": "9fbd9d81",
   "metadata": {},
   "source": [
    "[optimization!linear programming](optimization!linear programming)\n",
    "[Matlab post](http://matlab.cheme.cmu.edu/2011/10/21/linear-programming-example-with-inequality-constraints/)\n",
    "\n",
    "adapted from [http://www.matrixlab-examples.com/linear-programming.html>](http://www.matrixlab-examples.com/linear-programming.html>)which solves this problem with fminsearch.\n",
    "\n",
    "Let us suppose that a merry farmer has 75 roods (4 roods = 1 acre) on which to plant two crops: wheat and corn. To produce these crops, it costs the farmer (for seed, water, fertilizer, etc. ) $120 per rood for the wheat, and $210 per rood for the corn. The farmer has $15,000 available for expenses, but after the harvest the farmer must store the crops while awaiting favorable or good market conditions. The farmer has storage space for 4,000 bushels. Each rood yields an average of 110 bushels of wheat or 30 bushels of corn. If the net profit per bushel of wheat (after all the expenses) is $1.30 and for corn is $2.00, how should the merry farmer plant the 75 roods to maximize profit?\n",
    "\n",
    "Let $x$ be the number of roods of wheat planted, and $y$ be the number of roods of corn planted. The profit function is: $ P = (110)($1.3)x + (30)($2)y = 143x + 60y $\n",
    "\n",
    "There are some constraint inequalities, specified by the limits on expenses, storage and roodage. They are:\n",
    "\n",
    "$\\$120x + \\$210y <= \\$15000$ (The total amount spent cannot exceed the amount the farm has)\n",
    "\n",
    "$110x + 30y <= 4000$ (The amount generated should not exceed storage space.)\n",
    "\n",
    "$x + y <= 75$ (We cannot plant more space than we have.)\n",
    "\n",
    "$0 <= x and 0 <= y $ (all amounts of planted land must be positive.)\n",
    "\n",
    "To solve this problem, we cast it as a linear programming problem, which minimizes a function f(X) subject to some constraints. We create a proxy function for the negative of profit, which we seek to minimize.\n",
    "\n",
    "f = -(143\\*x + 60\\*y)\n",
    "\n"
   ]
  },
  {
   "cell_type": "code",
   "execution_count": null,
   "id": "6c002469",
   "metadata": {},
   "outputs": [],
   "source": [
    "from scipy.optimize import fmin_cobyla\n",
    "\n",
    "def objective(X):\n",
    "    '''objective function to minimize. It is the negative of profit,\n",
    "    which we seek to maximize.'''\n",
    "    x, y = X\n",
    "    return -(143*x + 60*y)\n",
    "\n",
    "def c1(X):\n",
    "    'Ensure 120x + 210y <= 15000'\n",
    "    x,y = X\n",
    "    return 15000 - 120 * x - 210*y\n",
    "\n",
    "def c2(X):\n",
    "    'ensure 110x + 30y <= 4000'\n",
    "    x,y = X\n",
    "    return 4000 - 110*x - 30 * y\n",
    "\n",
    "def c3(X):\n",
    "    'Ensure x + y is less than or equal to 75'\n",
    "    x,y = X\n",
    "    return 75 - x - y\n",
    "\n",
    "def c4(X):\n",
    "    'Ensure x >= 0'\n",
    "    return X[0]\n",
    "\n",
    "def c5(X):\n",
    "    'Ensure y >= 0'\n",
    "    return X[1]\n",
    "\n",
    "X = fmin_cobyla(objective, x0=[20, 30], cons=[c1, c2, c3, c4, c5])\n",
    "\n",
    "print('We should plant {0:1.2f} roods of wheat.'.format(X[0]))\n",
    "print('We should plant {0:1.2f} roods of corn'.format(X[1]))\n",
    "print('The maximum profit we can earn is ${0:1.2f}.'.format(-objective(X)))"
   ]
  },
  {
   "cell_type": "markdown",
   "id": "15bd1400",
   "metadata": {},
   "source": [
    "This code is not exactly the same as the original [post](http://matlab.cheme.cmu.edu/2011/10/21/linear-programming-example-with-inequality-constraints/), but we get to the same answer. The linear programming capability in scipy is currently somewhat limited in 0.10. It is a little better in 0.11, but probably not as advanced as Matlab. There are some external libraries available:\n",
    "\n",
    "1.  [http://abel.ee.ucla.edu/cvxopt/](http://abel.ee.ucla.edu/cvxopt/)\n",
    "2.  [http://openopt.org/LP](http://openopt.org/LP)\n",
    "\n"
   ]
  },
  {
   "cell_type": "markdown",
   "id": "553116d7",
   "metadata": {},
   "source": [
    "### Find the minimum distance from a point to a curve.\n",
    "\n"
   ]
  },
  {
   "cell_type": "markdown",
   "id": "68fd9f2a",
   "metadata": {},
   "source": [
    "[optimization!constrained](optimization!constrained)\n",
    "A problem that can be cast as a constrained minimization problem is to find the minimum distance from a point to a curve. Suppose we have $f(x) = x^2$, and the point (0.5, 2). what is the minimum distance from that point to $f(x)$?\n",
    "\n"
   ]
  },
  {
   "cell_type": "code",
   "execution_count": null,
   "id": "b9ef9444",
   "metadata": {},
   "outputs": [],
   "source": [
    "import numpy as np\n",
    "import matplotlib.pyplot as plt\n",
    "from scipy.optimize import fmin_cobyla\n",
    "\n",
    "P = (0.5, 2)\n",
    "\n",
    "def f(x):\n",
    "    return x**2\n",
    "\n",
    "def objective(X):\n",
    "    x,y = X\n",
    "    return np.sqrt((x - P[0])**2 + (y - P[1])**2)\n",
    "\n",
    "def c1(X):\n",
    "    x,y = X\n",
    "    return f(x) - y\n",
    "\n",
    "X = fmin_cobyla(objective, x0=[0.5,0.5], cons=[c1])\n",
    "\n",
    "print('The minimum distance is {0:1.2f}'.format(objective(X)))\n",
    "\n",
    "# Verify the vector to this point is normal to the tangent of the curve\n",
    "# position vector from curve to point\n",
    "v1 = np.array(P) - np.array(X)\n",
    "# position vector\n",
    "v2 = np.array([1, 2.0 * X[0]])\n",
    "print('dot(v1, v2) = ',np.dot(v1, v2))\n",
    "\n",
    "x = np.linspace(-2, 2, 100)\n",
    "\n",
    "plt.plot(x, f(x), 'r-', label='f(x)')\n",
    "plt.plot(P[0], P[1], 'bo', label='point')\n",
    "plt.plot([P[0], X[0]], [P[1], X[1]], 'b-', label='shortest distance')\n",
    "plt.plot([X[0], X[0] + 1], [X[1], X[1] + 2.0 * X[0]], 'g-', label='tangent')\n",
    "plt.axis('equal')\n",
    "plt.xlabel('x')\n",
    "plt.ylabel('y')\n",
    "plt.legend(loc='best');"
   ]
  },
  {
   "cell_type": "markdown",
   "id": "f663858f",
   "metadata": {},
   "source": [
    "In the code above, we demonstrate that the point we find on the curve that minimizes the distance satisfies the property that a vector from that point to our other point is normal to the tangent of the curve at that point. This is shown by the fact that the dot product of the two vectors is very close to zero. It is not zero because of the accuracy criteria that is used to stop the minimization is not high enough.\n",
    "\n"
   ]
  }
 ],
 "metadata": {
  "kernelspec": {
   "display_name": "Python 3",
   "language": "python",
   "name": "python3"
  }
 },
 "nbformat": 4,
 "nbformat_minor": 5
}