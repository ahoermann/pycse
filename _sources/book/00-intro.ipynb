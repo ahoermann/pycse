{
 "cells": [
  {
   "cell_type": "markdown",
   "id": "d4242076",
   "metadata": {},
   "source": [
    "# Introduction to Python and Jupyter\n",
    "- KEYWORDS: introduction\n"
   ]
  },
  {
   "cell_type": "markdown",
   "id": "f93b64d4",
   "metadata": {},
   "source": [
    "## Python\n",
    "\n"
   ]
  },
  {
   "cell_type": "markdown",
   "id": "9cbc0f61",
   "metadata": {},
   "source": [
    "I will use Python exclusively in class, every day. Python is free, and better than anything else for what we will do in this class. I have used it in research for more than a decade, and it is one of the most popular programming languages around today.\n",
    "\n",
    "I assume most of you have not used Python before. We will start small, and continuously build up skills in using it. You will see it a lot, and you should practice using it. It is an opportunity to learn something new!\n",
    "\n",
    "For a lot of examples of using Python for scientific computing, see [http://kitchingroup.cheme.cmu.edu/pycse/](http://kitchingroup.cheme.cmu.edu/pycse/).\n",
    "\n"
   ]
  },
  {
   "cell_type": "markdown",
   "id": "0362e533",
   "metadata": {},
   "source": [
    "## Jupyter notebook introduction\n",
    "\n"
   ]
  },
  {
   "cell_type": "markdown",
   "id": "801273e2",
   "metadata": {},
   "source": [
    "Jupyter notebooks are an interactive, browser-based tool for running Python. We will use them exclusively in this class. We will quickly build up the skills required to solve engineering problems. We will not learn everything about programming, mathematical modeling or engineering processes. My goal is to get you thinking about a very general computational way of thinking about these problems, and to learn how to use computation as a way to augment your analytical skills.\n",
    "\n",
    "I will lecture from the notebooks, and show you how I use them. The notes will be available to you during class for you to work along with me.\n",
    "\n"
   ]
  },
  {
   "cell_type": "code",
   "execution_count": null,
   "id": "800c3d63",
   "metadata": {},
   "outputs": [],
   "source": [
    "print('Hello World! Welcome to the pycse course!')\n",
    "# Type C-Enter to run this cell\n",
    "# Type shift-Enter to run this cell and got to the next one or create a new one."
   ]
  },
  {
   "cell_type": "markdown",
   "id": "709e8fa7",
   "metadata": {},
   "source": [
    "What is the value of $a$ that satisfies the equation $a + 4 = 5$?\n",
    "\n",
    "We can document our solution here, e.g. we find $x$ by algebra. If we subtract 4 from each side of the equation, $a$ will be isolated, and equal to the value of the right hand side of the equation.\n",
    "\n",
    "<div class=\"alert alert-warning\">\n",
    "You can double-click on any text block to see what the Markdown is that generates it. Type C-Enter to re-render the cell.\n",
    "</div>\n",
    "\n",
    "You can add text if you want, and re-execute the cell with C-enter\n",
    "\n",
    "Here is the code that implements that explanation:\n",
    "\n"
   ]
  },
  {
   "cell_type": "code",
   "execution_count": null,
   "id": "1b717cb4",
   "metadata": {},
   "outputs": [],
   "source": [
    "a = 5 - 4\n",
    "print(f'The solution is {a}')"
   ]
  },
  {
   "cell_type": "markdown",
   "id": "fd18693c",
   "metadata": {},
   "source": [
    "### numpy\n",
    "\n"
   ]
  },
  {
   "cell_type": "markdown",
   "id": "8a3b7c7a",
   "metadata": {},
   "source": [
    "[numpy](http://www.numpy.org) is a Python library for arrays. We have to import this library to access the functionality in it. The conventional way to import this library is:\n",
    "\n",
    "<div class=\"alert alert-warning\">\n",
    "Remember this cell. You will use it almost every time.\n",
    "</div>\n",
    "\n"
   ]
  },
  {
   "cell_type": "code",
   "execution_count": null,
   "id": "ac4e88d3",
   "metadata": {},
   "outputs": [],
   "source": [
    "import numpy as np"
   ]
  },
  {
   "cell_type": "markdown",
   "id": "ad50e81b",
   "metadata": {
    "lines_to_next_cell": 2
   },
   "source": [
    "To see help on the numpy library, run this cell:\n",
    "\n"
   ]
  },
  {
   "cell_type": "markdown",
   "id": "d186a405",
   "metadata": {
    "lines_to_next_cell": 2
   },
   "source": [
    "Now, we can access functions in the numpy module using \"dot notation\". For example, let us start by creating an array of linearly spaced points using the linspace function. \n",
    "\n"
   ]
  },
  {
   "cell_type": "markdown",
   "id": "1b830d59",
   "metadata": {},
   "source": [
    "<div class=\"alert alert-warning\">\n",
    "np.pi is a constant for the number $\\pi$\n",
    "</div>\n",
    "\n"
   ]
  },
  {
   "cell_type": "code",
   "execution_count": null,
   "id": "3adcb4c4",
   "metadata": {},
   "outputs": [],
   "source": [
    "x = np.linspace(0, 2 * np.pi, 40)\n",
    "x"
   ]
  },
  {
   "cell_type": "markdown",
   "id": "70608b32",
   "metadata": {},
   "source": [
    "Most mathematical operations are element-wise on arrays.\n",
    "\n"
   ]
  },
  {
   "cell_type": "code",
   "execution_count": null,
   "id": "4a37987e",
   "metadata": {},
   "outputs": [],
   "source": [
    "x * x"
   ]
  },
  {
   "cell_type": "markdown",
   "id": "935205b1",
   "metadata": {},
   "source": [
    "We can define new variables\n",
    "\n"
   ]
  },
  {
   "cell_type": "code",
   "execution_count": null,
   "id": "41792e0a",
   "metadata": {},
   "outputs": [],
   "source": [
    "y1 = np.sin(x)\n",
    "y2 = np.cos(x)\n",
    "y2.shape"
   ]
  },
  {
   "cell_type": "code",
   "execution_count": null,
   "id": "fa30508c",
   "metadata": {},
   "outputs": [],
   "source": [
    "a = [ 0, 1, 2]\n",
    "print(a) \n",
    "print(np.array([0, 1, 2]))"
   ]
  },
  {
   "cell_type": "code",
   "execution_count": null,
   "id": "e249d5d6",
   "metadata": {},
   "outputs": [],
   "source": [
    "2 * a\n",
    "2 + np.array(a)"
   ]
  },
  {
   "cell_type": "code",
   "execution_count": null,
   "id": "a74afd1f",
   "metadata": {},
   "outputs": [],
   "source": [
    "np.sin([0, 1, 2]), np.sin(a)"
   ]
  },
  {
   "cell_type": "markdown",
   "id": "1bd7aca8",
   "metadata": {},
   "source": [
    "### plotting\n",
    "\n"
   ]
  },
  {
   "cell_type": "markdown",
   "id": "6efdd917",
   "metadata": {},
   "source": [
    "We can make plots using [matplotlib](https://matplotlib.org). First we need this line. This line imports the plotting library. \n",
    "\n",
    "<div class=\"alert alert-warning\">\n",
    "Remember this cell. You will use it almost every time you make a plot.\n",
    "</div>\n",
    "\n"
   ]
  },
  {
   "cell_type": "code",
   "execution_count": null,
   "id": "5bc20f9a",
   "metadata": {
    "lines_to_next_cell": 2
   },
   "outputs": [],
   "source": [
    "import matplotlib.pyplot as plt"
   ]
  },
  {
   "cell_type": "markdown",
   "id": "e14b92ec",
   "metadata": {},
   "source": [
    "You call functions in the plt library to create plots. These are automatically saved in the notebook.\n",
    "\n"
   ]
  },
  {
   "cell_type": "code",
   "execution_count": null,
   "id": "8d686e0a",
   "metadata": {},
   "outputs": [],
   "source": [
    "plt.plot(y1, y2, 'g-.')\n",
    "plt.xlabel('y1')\n",
    "plt.ylabel('y2')\n",
    "plt.legend(['y1', 'y2'])\n",
    "plt.axis('equal')\n",
    "# Always include axis labels and legends when appropriate"
   ]
  },
  {
   "cell_type": "markdown",
   "id": "49d878f4",
   "metadata": {},
   "source": [
    "### scipy\n",
    "\n"
   ]
  },
  {
   "cell_type": "markdown",
   "id": "b6a813cb",
   "metadata": {},
   "source": [
    "[scipy](https://www.scipy.org) contains numerous libraries for a broad range of scientific computing needs.\n",
    "\n",
    "Suppose we want to perform the [following integral](https://docs.scipy.org/doc/scipy/reference/tutorial/integrate.html#general-integration-quad): $I = \\int_0^{4.5} J_{2.5}(x) dx$. The function $J_{2.5}$ is a special function known as a Bessel function. scipy provides both the integration function, and an implementation of the special function we can use.\n",
    "\n"
   ]
  },
  {
   "cell_type": "code",
   "execution_count": null,
   "id": "b7815abb",
   "metadata": {},
   "outputs": [],
   "source": [
    "from scipy.integrate import quad\n",
    "from scipy.special import jv\n",
    "\n"
   ]
  },
  {
   "cell_type": "markdown",
   "id": "0a0ed3a8",
   "metadata": {},
   "source": [
    "To evaluate this integral, we have to define a function for the integrand, and use the quad function to compute the integral. The quad function returns two values, the value of the integral, and an estimate of the maximum error in the integral.\n",
    "\n"
   ]
  },
  {
   "cell_type": "code",
   "execution_count": null,
   "id": "e643599a",
   "metadata": {},
   "outputs": [],
   "source": [
    "# This is how we define a function. There is a function name, and arguments\n",
    "# The function returns the output of the jv function.\n",
    "def integrand(x):\n",
    "    return jv(2.5, x)\n",
    "\n",
    "integrand([0, 0.5])\n",
    "\n",
    "x1 = np.linspace(0, 4.5)\n",
    "plt.plot(x1, integrand(x1))"
   ]
  },
  {
   "cell_type": "code",
   "execution_count": null,
   "id": "208a1436",
   "metadata": {},
   "outputs": [],
   "source": [
    "I, err, info = quad(integrand, 0, 4.5, full_output=1)\n",
    "\n",
    "info"
   ]
  },
  {
   "cell_type": "code",
   "execution_count": null,
   "id": "51f5e695",
   "metadata": {},
   "outputs": [],
   "source": [
    "x1 = np.linspace(0, 4.5, 150)\n",
    "(np.trapz(integrand(x1), x1) - I) / I"
   ]
  },
  {
   "cell_type": "markdown",
   "id": "37ff7cf8",
   "metadata": {},
   "source": [
    "## Summary\n",
    "\n"
   ]
  },
  {
   "cell_type": "markdown",
   "id": "869b39b8",
   "metadata": {
    "lines_to_next_cell": 2
   },
   "source": [
    "Today we introduced several ideas about using Jupyter notebooks to run Python computations. The main points are:\n",
    "\n",
    "1.  Code is run in code cells\n",
    "2.  You have to import some functions from libraries\n",
    "3.  numpy, scipy and matplotlib are three of the main scientific programming libraries we will use a lot.\n",
    "4.  We saw some ways to get help on functions\n",
    "\n",
    "Next time we will dig into defining functions more deeply, and how to print formatted strings containing results.\n",
    "\n"
   ]
  }
 ],
 "metadata": {
  "kernelspec": {
   "display_name": "Python 3 (ipykernel)",
   "language": "python",
   "name": "python3"
  }
 },
 "nbformat": 4,
 "nbformat_minor": 5
}