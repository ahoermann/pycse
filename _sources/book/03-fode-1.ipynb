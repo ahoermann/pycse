{
 "cells": [
  {
   "cell_type": "markdown",
   "metadata": {},
   "source": [
    "# First-order differential equations\n",
    "\n",
    "- KEYWORDS: integration, quad, zeros, shape, enumerate, solve_ivp\n"
   ]
  },
  {
   "cell_type": "markdown",
   "metadata": {},
   "source": [
    "## Solutions to first-order differential equations by integration\n",
    "\n"
   ]
  },
  {
   "cell_type": "markdown",
   "metadata": {},
   "source": [
    "Adapted from Ch. 2 in Advanced Engineering Mathematics, 2<sup>nd</sup> Ed. by Michael Greenberg.\n",
    "\n"
   ]
  },
  {
   "cell_type": "markdown",
   "metadata": {},
   "source": [
    "### Homogeneous, first-order linear differential equations\n",
    "\n"
   ]
  },
  {
   "cell_type": "markdown",
   "metadata": {},
   "source": [
    "We first consider a homogeneous, first-order, linear differential equation of the form:\n",
    "\n",
    "$y' + p(x) y = 0$, with $y(a) = b$ as an initial value.\n",
    "\n",
    "You can derive a solution to this ODE as:\n",
    "\n",
    "$y(x) = b e^{-\\int_a^x p(\\xi) d\\xi}$\n",
    "\n",
    "For concreteness, consider $(x+2) y' - xy = 0, y(0) = 3$\n",
    "\n",
    "what is the value of $y(1)$?\n",
    "\n",
    "We need to cast this in the form required to identify $p(x)$. That form is:\n",
    "\n",
    "$y' + \\frac{-x}{x+2}y = 0$.\n",
    "\n",
    "Now, we simply evaluate the required integral and use it to compute the value of the solution at the desired new $x$ value.\n",
    "\n"
   ]
  },
  {
   "cell_type": "code",
   "execution_count": 2,
   "metadata": {},
   "outputs": [
    {
     "name": "stdout",
     "output_type": "stream",
     "text": [
      "y(1) = 3.624\n"
     ]
    }
   ],
   "source": [
    "import numpy as np\n",
    "a = 0  # y(a)=b\n",
    "b = 3\n",
    "x1 = 1 # where we want y(1)\n",
    "\n",
    "def p(x):\n",
    "    return -x / (x + 2)\n",
    "\n",
    "import numpy as np\n",
    "from scipy.integrate import quad\n",
    "\n",
    "I, err = quad(p, a, x1)\n",
    "\n",
    "y_x1 = b * np.exp(-I)\n",
    "\n",
    "print(f'y(1) = {y_x1:1.3f}')"
   ]
  },
  {
   "cell_type": "markdown",
   "metadata": {},
   "source": [
    "It is a little trickier to evaluate the solution at several x-values, e.g. to make a plot. The `quad` function is not \"vectorized\", meaning it only performs one integral for one range at a time. You cannot pass it a list of ranges to evaluate it several times. Instead, we have to use a loop for this. In the loop, we will solve the integral, and accumulate the result in a solution array. Before we do that, here are a few useful commands we will need to use.\n",
    "\n",
    "First, it is useful to make an array to store the results in. There are a few ways to do this, the one we use today is the `np.zeros` function. You specify the size of the array as an argument. For example, to make an array with three zeros, do this:\n",
    "\n"
   ]
  },
  {
   "cell_type": "code",
   "execution_count": 3,
   "metadata": {},
   "outputs": [
    {
     "data": {
      "text/plain": [
       "(array([0., 0., 0., 0.]), array([1., 1., 1., 1.]), array([0., 0., 0., 0.]))"
      ]
     },
     "execution_count": 3,
     "metadata": {},
     "output_type": "execute_result"
    }
   ],
   "source": [
    "np.zeros((4, )), np.ones(4), np.empty(4)"
   ]
  },
  {
   "cell_type": "markdown",
   "metadata": {},
   "source": [
    "Second, it is helpful to get the shape of an array. You use dot notation and the shape attribute of an array for this. This allows you to create an array, and later make an array of zeros with the same shape and size.\n",
    "\n"
   ]
  },
  {
   "cell_type": "code",
   "execution_count": 4,
   "metadata": {},
   "outputs": [
    {
     "data": {
      "text/plain": [
       "array([0., 0., 0., 0., 0., 0., 0., 0., 0., 0., 0., 0., 0., 0., 0., 0., 0.,\n",
       "       0., 0., 0., 0., 0., 0., 0., 0., 0., 0., 0., 0., 0., 0., 0., 0., 0.,\n",
       "       0., 0., 0., 0., 0., 0., 0., 0., 0., 0., 0., 0., 0., 0., 0., 0.])"
      ]
     },
     "execution_count": 4,
     "metadata": {},
     "output_type": "execute_result"
    }
   ],
   "source": [
    "x = np.linspace(0, 3.5)\n",
    "np.zeros(x.shape)\n"
   ]
  },
  {
   "cell_type": "code",
   "execution_count": 5,
   "metadata": {},
   "outputs": [
    {
     "name": "stdout",
     "output_type": "stream",
     "text": [
      "0 a\n",
      "1 b\n",
      "2 c\n"
     ]
    }
   ],
   "source": [
    "for i, value in enumerate(['a','b','c']):\n",
    "    print(i, value)"
   ]
  },
  {
   "cell_type": "code",
   "execution_count": 6,
   "metadata": {},
   "outputs": [
    {
     "name": "stdout",
     "output_type": "stream",
     "text": [
      "0 a\n",
      "1 b\n",
      "2 c\n"
     ]
    }
   ],
   "source": [
    "# old-fashioned way to do this\n",
    "L = ['a','b','c']\n",
    "for i in range(len(L)):\n",
    "    print(i, L[i])"
   ]
  },
  {
   "cell_type": "markdown",
   "metadata": {},
   "source": [
    "Finally we will iterate over the elements of the x array, and in each step we need to know the index of the element *and* the value of the element. `enumerate` provides this in a pretty straightforward syntax. This function iterates over an array and returns at each step the index and element, which you can assign to variables that you use inside the loop. There are other ways to achieve this, but we only consider this method today. Here, we create an array, and an array of zeros that is the same shape. Then, we iterate over the first array, and set the corresponding index in the second array equal to a computation using the index and element value.\n",
    "\n"
   ]
  },
  {
   "cell_type": "code",
   "execution_count": 7,
   "metadata": {},
   "outputs": [
    {
     "data": {
      "text/plain": [
       "array([0., 0., 0., 0., 0., 0., 0., 0., 0., 0., 0., 0., 0., 0., 0., 0., 0.,\n",
       "       0., 0., 0., 0., 0., 0., 0., 0., 0., 0., 0., 0., 0., 0., 0., 0., 0.,\n",
       "       0., 0., 0., 0., 0., 0., 0., 0., 0., 0., 0., 0., 0., 0., 0., 0.])"
      ]
     },
     "execution_count": 7,
     "metadata": {},
     "output_type": "execute_result"
    }
   ],
   "source": [
    "np.zeros_like(np.linspace(0, 1))"
   ]
  },
  {
   "cell_type": "code",
   "execution_count": 8,
   "metadata": {},
   "outputs": [
    {
     "name": "stdout",
     "output_type": "stream",
     "text": [
      "Before the loop new_arr = [0. 0. 0. 0. 0.]\n",
      "The element at index 0 is 0.0\n",
      "The element at index 1 is 0.25\n",
      "The element at index 2 is 0.5\n",
      "The element at index 3 is 0.75\n",
      "The element at index 4 is 1.0\n",
      "After the loop new_arr = [0.   0.25 1.   2.25 4.  ]\n"
     ]
    }
   ],
   "source": [
    "arr = np.linspace(0, 1, 5)\n",
    "new_arr = np.zeros(arr.shape)\n",
    "print(f'Before the loop new_arr = {new_arr}')\n",
    "\n",
    "for i, val in enumerate(arr):\n",
    "    new_arr[i] = i * val\n",
    "    print(f'The element at index {i} is {val}')\n",
    "\n",
    "print(f'After the loop new_arr = {new_arr}')"
   ]
  },
  {
   "cell_type": "markdown",
   "metadata": {},
   "source": [
    "Back to the solution to our integration problem. Our goal is to compute the value of the solution for an array of x-values. We will iterate over an array of x-values, and for each one compute the value of the solution at that x, and save the solution in a new array.\n",
    "\n"
   ]
  },
  {
   "cell_type": "code",
   "execution_count": 9,
   "metadata": {},
   "outputs": [
    {
     "data": {
      "image/png": "[encoded data removed]",
      "text/plain": [
       "<Figure size 640x480 with 1 Axes>"
      ]
     },
     "metadata": {},
     "output_type": "display_data"
    }
   ],
   "source": [
    "x = np.linspace(0, 3.5)  # xs we want y(x) for\n",
    "y = np.zeros(x.shape)\n",
    "\n",
    "for i, x1 in enumerate(x):\n",
    "    I, err = quad(p, a, x1)\n",
    "    y[i] = b * np.exp(-I)\n",
    "\n",
    "%matplotlib inline\n",
    "import matplotlib.pyplot as plt\n",
    "plt.plot(x, y)\n",
    "plt.xlabel('x')\n",
    "plt.ylabel('y')\n",
    "plt.xlim([x.min(), x.max()]);"
   ]
  },
  {
   "cell_type": "markdown",
   "metadata": {},
   "source": [
    "We should ask, how can we tell this is correct? We can confirm the initial values, which we know are correct.\n",
    "\n"
   ]
  },
  {
   "cell_type": "code",
   "execution_count": 10,
   "metadata": {},
   "outputs": [
    {
     "data": {
      "text/plain": [
       "(0.0, 3.0)"
      ]
     },
     "execution_count": 10,
     "metadata": {},
     "output_type": "execute_result"
    }
   ],
   "source": [
    "x[0], y[0]"
   ]
  },
  {
   "cell_type": "markdown",
   "metadata": {},
   "source": [
    "We can express the ODE as: $y' = \\frac{x}{x+2}y$. By inspection, we can see that the derivative will always be positive, so the solution should increase from the initial value, which it does.\n",
    "\n",
    "We can also examine the derivatives of our solution. We have to rely on numerical derivatives of our solution because x and y are arrays. `np.gradient` will compute the derivative using a reasonable approximation. We know the derivative analytically from the ODE.\n",
    "\n"
   ]
  },
  {
   "cell_type": "code",
   "execution_count": 11,
   "metadata": {},
   "outputs": [
    {
     "data": {
      "text/plain": [
       "\u001b[0;31mSignature:\u001b[0m \u001b[0mnp\u001b[0m\u001b[0;34m.\u001b[0m\u001b[0mgradient\u001b[0m\u001b[0;34m(\u001b[0m\u001b[0mf\u001b[0m\u001b[0;34m,\u001b[0m \u001b[0;34m*\u001b[0m\u001b[0mvarargs\u001b[0m\u001b[0;34m,\u001b[0m \u001b[0maxis\u001b[0m\u001b[0;34m=\u001b[0m\u001b[0;32mNone\u001b[0m\u001b[0;34m,\u001b[0m \u001b[0medge_order\u001b[0m\u001b[0;34m=\u001b[0m\u001b[0;36m1\u001b[0m\u001b[0;34m)\u001b[0m\u001b[0;34m\u001b[0m\u001b[0;34m\u001b[0m\u001b[0m\n",
       "\u001b[0;31mDocstring:\u001b[0m\n",
       "Return the gradient of an N-dimensional array.\n",
       "\n",
       "The gradient is computed using second order accurate central differences\n",
       "in the interior points and either first or second order accurate one-sides\n",
       "(forward or backwards) differences at the boundaries.\n",
       "The returned gradient hence has the same shape as the input array.\n",
       "\n",
       "Parameters\n",
       "----------\n",
       "f : array_like\n",
       "    An N-dimensional array containing samples of a scalar function.\n",
       "varargs : list of scalar or array, optional\n",
       "    Spacing between f values. Default unitary spacing for all dimensions.\n",
       "    Spacing can be specified using:\n",
       "\n",
       "    1. single scalar to specify a sample distance for all dimensions.\n",
       "    2. N scalars to specify a constant sample distance for each dimension.\n",
       "       i.e. `dx`, `dy`, `dz`, ...\n",
       "    3. N arrays to specify the coordinates of the values along each\n",
       "       dimension of F. The length of the array must match the size of\n",
       "       the corresponding dimension\n",
       "    4. Any combination of N scalars/arrays with the meaning of 2. and 3.\n",
       "\n",
       "    If `axis` is given, the number of varargs must equal the number of axes.\n",
       "    Default: 1.\n",
       "\n",
       "edge_order : {1, 2}, optional\n",
       "    Gradient is calculated using N-th order accurate differences\n",
       "    at the boundaries. Default: 1.\n",
       "\n",
       "    .. versionadded:: 1.9.1\n",
       "\n",
       "axis : None or int or tuple of ints, optional\n",
       "    Gradient is calculated only along the given axis or axes\n",
       "    The default (axis = None) is to calculate the gradient for all the axes\n",
       "    of the input array. axis may be negative, in which case it counts from\n",
       "    the last to the first axis.\n",
       "\n",
       "    .. versionadded:: 1.11.0\n",
       "\n",
       "Returns\n",
       "-------\n",
       "gradient : ndarray or list of ndarray\n",
       "    A list of ndarrays (or a single ndarray if there is only one dimension)\n",
       "    corresponding to the derivatives of f with respect to each dimension.\n",
       "    Each derivative has the same shape as f.\n",
       "\n",
       "Examples\n",
       "--------\n",
       ">>> f = np.array([1, 2, 4, 7, 11, 16], dtype=float)\n",
       ">>> np.gradient(f)\n",
       "array([1. , 1.5, 2.5, 3.5, 4.5, 5. ])\n",
       ">>> np.gradient(f, 2)\n",
       "array([0.5 ,  0.75,  1.25,  1.75,  2.25,  2.5 ])\n",
       "\n",
       "Spacing can be also specified with an array that represents the coordinates\n",
       "of the values F along the dimensions.\n",
       "For instance a uniform spacing:\n",
       "\n",
       ">>> x = np.arange(f.size)\n",
       ">>> np.gradient(f, x)\n",
       "array([1. ,  1.5,  2.5,  3.5,  4.5,  5. ])\n",
       "\n",
       "Or a non uniform one:\n",
       "\n",
       ">>> x = np.array([0., 1., 1.5, 3.5, 4., 6.], dtype=float)\n",
       ">>> np.gradient(f, x)\n",
       "array([1. ,  3. ,  3.5,  6.7,  6.9,  2.5])\n",
       "\n",
       "For two dimensional arrays, the return will be two arrays ordered by\n",
       "axis. In this example the first array stands for the gradient in\n",
       "rows and the second one in columns direction:\n",
       "\n",
       ">>> np.gradient(np.array([[1, 2, 6], [3, 4, 5]], dtype=float))\n",
       "[array([[ 2.,  2., -1.],\n",
       "       [ 2.,  2., -1.]]), array([[1. , 2.5, 4. ],\n",
       "       [1. , 1. , 1. ]])]\n",
       "\n",
       "In this example the spacing is also specified:\n",
       "uniform for axis=0 and non uniform for axis=1\n",
       "\n",
       ">>> dx = 2.\n",
       ">>> y = [1., 1.5, 3.5]\n",
       ">>> np.gradient(np.array([[1, 2, 6], [3, 4, 5]], dtype=float), dx, y)\n",
       "[array([[ 1. ,  1. , -0.5],\n",
       "       [ 1. ,  1. , -0.5]]), array([[2. , 2. , 2. ],\n",
       "       [2. , 1.7, 0.5]])]\n",
       "\n",
       "It is possible to specify how boundaries are treated using `edge_order`\n",
       "\n",
       ">>> x = np.array([0, 1, 2, 3, 4])\n",
       ">>> f = x**2\n",
       ">>> np.gradient(f, edge_order=1)\n",
       "array([1.,  2.,  4.,  6.,  7.])\n",
       ">>> np.gradient(f, edge_order=2)\n",
       "array([0., 2., 4., 6., 8.])\n",
       "\n",
       "The `axis` keyword can be used to specify a subset of axes of which the\n",
       "gradient is calculated\n",
       "\n",
       ">>> np.gradient(np.array([[1, 2, 6], [3, 4, 5]], dtype=float), axis=0)\n",
       "array([[ 2.,  2., -1.],\n",
       "       [ 2.,  2., -1.]])\n",
       "\n",
       "Notes\n",
       "-----\n",
       "Assuming that :math:`f\\in C^{3}` (i.e., :math:`f` has at least 3 continuous\n",
       "derivatives) and let :math:`h_{*}` be a non-homogeneous stepsize, we\n",
       "minimize the \"consistency error\" :math:`\\eta_{i}` between the true gradient\n",
       "and its estimate from a linear combination of the neighboring grid-points:\n",
       "\n",
       ".. math::\n",
       "\n",
       "    \\eta_{i} = f_{i}^{\\left(1\\right)} -\n",
       "                \\left[ \\alpha f\\left(x_{i}\\right) +\n",
       "                        \\beta f\\left(x_{i} + h_{d}\\right) +\n",
       "                        \\gamma f\\left(x_{i}-h_{s}\\right)\n",
       "                \\right]\n",
       "\n",
       "By substituting :math:`f(x_{i} + h_{d})` and :math:`f(x_{i} - h_{s})`\n",
       "with their Taylor series expansion, this translates into solving\n",
       "the following the linear system:\n",
       "\n",
       ".. math::\n",
       "\n",
       "    \\left\\{\n",
       "        \\begin{array}{r}\n",
       "            \\alpha+\\beta+\\gamma=0 \\\\\n",
       "            \\beta h_{d}-\\gamma h_{s}=1 \\\\\n",
       "            \\beta h_{d}^{2}+\\gamma h_{s}^{2}=0\n",
       "        \\end{array}\n",
       "    \\right.\n",
       "\n",
       "The resulting approximation of :math:`f_{i}^{(1)}` is the following:\n",
       "\n",
       ".. math::\n",
       "\n",
       "    \\hat f_{i}^{(1)} =\n",
       "        \\frac{\n",
       "            h_{s}^{2}f\\left(x_{i} + h_{d}\\right)\n",
       "            + \\left(h_{d}^{2} - h_{s}^{2}\\right)f\\left(x_{i}\\right)\n",
       "            - h_{d}^{2}f\\left(x_{i}-h_{s}\\right)}\n",
       "            { h_{s}h_{d}\\left(h_{d} + h_{s}\\right)}\n",
       "        + \\mathcal{O}\\left(\\frac{h_{d}h_{s}^{2}\n",
       "                            + h_{s}h_{d}^{2}}{h_{d}\n",
       "                            + h_{s}}\\right)\n",
       "\n",
       "It is worth noting that if :math:`h_{s}=h_{d}`\n",
       "(i.e., data are evenly spaced)\n",
       "we find the standard second order approximation:\n",
       "\n",
       ".. math::\n",
       "\n",
       "    \\hat f_{i}^{(1)}=\n",
       "        \\frac{f\\left(x_{i+1}\\right) - f\\left(x_{i-1}\\right)}{2h}\n",
       "        + \\mathcal{O}\\left(h^{2}\\right)\n",
       "\n",
       "With a similar procedure the forward/backward approximations used for\n",
       "boundaries can be derived.\n",
       "\n",
       "References\n",
       "----------\n",
       ".. [1]  Quarteroni A., Sacco R., Saleri F. (2007) Numerical Mathematics\n",
       "        (Texts in Applied Mathematics). New York: Springer.\n",
       ".. [2]  Durran D. R. (1999) Numerical Methods for Wave Equations\n",
       "        in Geophysical Fluid Dynamics. New York: Springer.\n",
       ".. [3]  Fornberg B. (1988) Generation of Finite Difference Formulas on\n",
       "        Arbitrarily Spaced Grids,\n",
       "        Mathematics of Computation 51, no. 184 : 699-706.\n",
       "        `PDF <http://www.ams.org/journals/mcom/1988-51-184/\n",
       "        S0025-5718-1988-0935077-0/S0025-5718-1988-0935077-0.pdf>`_.\n",
       "\u001b[0;31mFile:\u001b[0m      ~/anaconda3/lib/python3.10/site-packages/numpy/lib/function_base.py\n",
       "\u001b[0;31mType:\u001b[0m      function"
      ]
     },
     "metadata": {},
     "output_type": "display_data"
    }
   ],
   "source": [
    "?np.gradient"
   ]
  },
  {
   "cell_type": "code",
   "execution_count": 12,
   "metadata": {},
   "outputs": [
    {
     "data": {
      "text/plain": [
       "<matplotlib.legend.Legend at 0x12454d870>"
      ]
     },
     "execution_count": 12,
     "metadata": {},
     "output_type": "execute_result"
    },
    {
     "data": {
      "image/png": "[encoded data removed]",
      "text/plain": [
       "<Figure size 640x480 with 1 Axes>"
      ]
     },
     "metadata": {},
     "output_type": "display_data"
    }
   ],
   "source": [
    "dydx = np.gradient(y, x, edge_order=2) # edge_order=2 is a more accurate estimate\n",
    "\n",
    "plt.plot(x, dydx, label='numerical')\n",
    "plt.plot(x, x / (x + 2) * y, 'r--', label='analytical')\n",
    "plt.xlabel('x')\n",
    "plt.ylabel('dy/dx')\n",
    "plt.legend()"
   ]
  },
  {
   "cell_type": "markdown",
   "metadata": {},
   "source": [
    "Here you see good agreement over most of the range. The end-points are always less accurate because the derivatives there are approximated by a less accurate formula. We interpret the sum of this evidence to mean our solution to the ODE is good over this range of x values.\n",
    "\n"
   ]
  },
  {
   "cell_type": "markdown",
   "metadata": {},
   "source": [
    "### Non-homogeneous linear first-order ODEs\n",
    "\n"
   ]
  },
  {
   "cell_type": "markdown",
   "metadata": {},
   "source": [
    "A non-homogenous first order, linear differential equation has this form:\n",
    "\n",
    "$y' + p(x) y = q(x), y(a)=b$\n",
    "\n",
    "Equations of this form are typically solved with a method called variation of parameters. In the most general form, this leads to solutions of the form:\n",
    "\n",
    "$y(x) = e^{-\\int_a^x p(\\xi)d\\xi}\\left(\\int_a^x e^{\\int_a^{\\xi} p(\\zeta)d\\zeta} q(\\xi)d\\xi + b\\right)$\n",
    "\n",
    "It is a little tricky to implement this. It is helpful to break this down into several pieces. Note that it is not necessary to do this, it just makes it easier to read, debug, and see that you have done it correctly. Here are the easiest parts.\n",
    "\n"
   ]
  },
  {
   "cell_type": "code",
   "execution_count": 13,
   "metadata": {},
   "outputs": [],
   "source": [
    "def p(xi):\n",
    "    return -2 * xi\n",
    "\n",
    "def q(xi):\n",
    "    return np.sin(xi)\n",
    "\n",
    "a = 0\n",
    "b = 3"
   ]
  },
  {
   "cell_type": "markdown",
   "metadata": {},
   "source": [
    "Next, we will break the equation into two parts:\n",
    "\n",
    "$y(x) = term1 * term2$ where\n",
    "\n",
    "$term1 = e^{-\\int_a^x p(\\xi)d\\xi}$\n",
    "\n",
    "and\n",
    "\n",
    "$term2 = \\left(\\int_a^x e^{\\int_a^{\\xi} p(\\zeta)d\\zeta} q(\\xi)d\\xi + b\\right)$\n",
    "\n",
    "We can immediately define a function for term1 as:\n",
    "\n"
   ]
  },
  {
   "cell_type": "code",
   "execution_count": 14,
   "metadata": {},
   "outputs": [],
   "source": [
    "def term1(x):\n",
    "    I1, _ = quad(p, a, x)\n",
    "    return np.exp(-I1)"
   ]
  },
  {
   "cell_type": "markdown",
   "metadata": {},
   "source": [
    "term2 is a little trickier, as it has a partial integral inside an integral. We can define a function for this term also, but we have to define an internal function to use for the integral. The internal function will have an integral inside of it.\n",
    "\n"
   ]
  },
  {
   "cell_type": "code",
   "execution_count": 15,
   "metadata": {},
   "outputs": [],
   "source": [
    "def integrand(xi):\n",
    "        internal_term1, _ = quad(p, a, xi)\n",
    "        return np.exp(internal_term1) * q(xi)\n",
    "    \n",
    "def term2(x):\n",
    "    I2, _ = quad(integrand, a, x)\n",
    "    return I2 + b"
   ]
  },
  {
   "cell_type": "markdown",
   "metadata": {},
   "source": [
    "Now, to use it, we form the product of the two terms:\n",
    "\n"
   ]
  },
  {
   "cell_type": "code",
   "execution_count": 16,
   "metadata": {},
   "outputs": [
    {
     "name": "stdout",
     "output_type": "stream",
     "text": [
      "3.991276533834524\n"
     ]
    }
   ],
   "source": [
    "x1 = 0.5\n",
    "print(term1(x1) * term2(x1))"
   ]
  },
  {
   "cell_type": "markdown",
   "metadata": {},
   "source": [
    "With some algebra and calculus on your part, you might arrive at the following non-elementary integral solution:\n",
    "\n",
    "$y(x) = e^{x^2} \\left(\\int_0^x e^{-\\xi^2} \\sin{\\xi} d\\xi + 3\\right)$\n",
    "\n",
    "The solution is called non-elementary because you cannot evaluate the integral in closed form using elementary functions, e.g. powers of x, trigonometric functions, exponentials or logarithms. You can, however, use numerical methods to integrate it.\n",
    "\n"
   ]
  },
  {
   "cell_type": "code",
   "execution_count": 17,
   "metadata": {},
   "outputs": [
    {
     "data": {
      "text/plain": [
       "3.991276533834524"
      ]
     },
     "execution_count": 17,
     "metadata": {},
     "output_type": "execute_result"
    }
   ],
   "source": [
    "def integrand(x):\n",
    "    return np.exp(-x**2) * np.sin(x)\n",
    "\n",
    "I, _ = quad(integrand, 0, x1)\n",
    "\n",
    "sol = np.exp(x1**2) * (I + b)\n",
    "sol"
   ]
  },
  {
   "cell_type": "markdown",
   "metadata": {},
   "source": [
    "Note there is some conservation of effort here. If you can derive the solution above correctly (and you have all learned how to do this if you had a differential equations course), the code below is quite short to get the solution at some value of x. If you are unable to derive that solution, you can use the general solution we gave, but then it is a trickier solution to implement in code.\n",
    "\n"
   ]
  },
  {
   "cell_type": "markdown",
   "metadata": {},
   "source": [
    "### Limitations of solutions by integration\n",
    "\n"
   ]
  },
  {
   "cell_type": "markdown",
   "metadata": {},
   "source": [
    "Solution by integration has some advantages. You get an estimate of the error in the solution from the `quad` function, which is helpful to know how good the solution is. However, the methods described above are limited to *linear* differential equations of the form described. If you have a nonlinear differential equation, or if you are unable to separate the equations into integrable form, the methods simply don't work. Next, we consider how to approach equations where we cannot use integration to solve the problems.\n",
    "\n"
   ]
  },
  {
   "cell_type": "markdown",
   "metadata": {},
   "source": [
    "## Numerical solutions to differential equations\n",
    "\n"
   ]
  },
  {
   "cell_type": "markdown",
   "metadata": {},
   "source": [
    "We begin with a brief review of first order differential equations. The equations we are concerned with here all have the form:\n",
    "\n",
    "$\\frac{dy}{dx} = f(x, y)$\n",
    "\n",
    "And the value of the solution is known at some point, e.g. $y(x0) = y0$. $f(x, y)$ can be linear or nonlinear. Our goal in this section is to motivate how numerical solutions are obtained.\n",
    "\n",
    "These notes were adapted from Chapter 6 in Advanced Engineering Mathematics 2<sup>nd</sup> ed. by Michael D. Greenberg.\n",
    "\n",
    "The basic idea behind these methods is that we know the initial value of the solution *and* the derivative of the solution (it is defined by the ODE definition above), and so we can estimate the solution a small distance away from the initial value. If you repeat this process with the newly estimated point, you can estimate the next point, and so on. There are many algorithms for performing the estimation, and we will consider a two of them. These algorithms differ in efficiency, ease of implementation, and accuracy.\n",
    "\n"
   ]
  },
  {
   "cell_type": "markdown",
   "metadata": {},
   "source": [
    "### Euler's method\n",
    "\n"
   ]
  },
  {
   "cell_type": "markdown",
   "metadata": {},
   "source": [
    "The main idea of Euler's method is that if you know the value of the solution at some point, and you know the derivative at that point, you can estimate the solution nearby at $x0 + h$, where $h$ is a small number:\n",
    "\n",
    "$y_{n+1} = y_n + f(x_n, y_n) h$\n",
    "\n",
    "Now, you just repeat this until you get to the x-value that you want. For concreteness, consider:\n",
    "\n",
    "$y' = y + 2x - x^2; y(0) = 1$.\n",
    "\n",
    "This ODE has a known analytical solution: $y(x) = x^2 + e^x$. We will use this for comparison.\n",
    "\n"
   ]
  },
  {
   "cell_type": "code",
   "execution_count": 18,
   "metadata": {},
   "outputs": [
    {
     "data": {
      "text/plain": [
       "\u001b[0;31mInit signature:\u001b[0m \u001b[0mrange\u001b[0m\u001b[0;34m(\u001b[0m\u001b[0mself\u001b[0m\u001b[0;34m,\u001b[0m \u001b[0;34m/\u001b[0m\u001b[0;34m,\u001b[0m \u001b[0;34m*\u001b[0m\u001b[0margs\u001b[0m\u001b[0;34m,\u001b[0m \u001b[0;34m**\u001b[0m\u001b[0mkwargs\u001b[0m\u001b[0;34m)\u001b[0m\u001b[0;34m\u001b[0m\u001b[0;34m\u001b[0m\u001b[0m\n",
       "\u001b[0;31mDocstring:\u001b[0m     \n",
       "range(stop) -> range object\n",
       "range(start, stop[, step]) -> range object\n",
       "\n",
       "Return an object that produces a sequence of integers from start (inclusive)\n",
       "to stop (exclusive) by step.  range(i, j) produces i, i+1, i+2, ..., j-1.\n",
       "start defaults to 0, and stop is omitted!  range(4) produces 0, 1, 2, 3.\n",
       "These are exactly the valid indices for a list of 4 elements.\n",
       "When step is given, it specifies the increment (or decrement).\n",
       "\u001b[0;31mType:\u001b[0m           type\n",
       "\u001b[0;31mSubclasses:\u001b[0m     "
      ]
     },
     "metadata": {},
     "output_type": "display_data"
    }
   ],
   "source": [
    "?range\n"
   ]
  },
  {
   "cell_type": "code",
   "execution_count": 19,
   "metadata": {},
   "outputs": [
    {
     "name": "stdout",
     "output_type": "stream",
     "text": [
      "h = 0.0010006671114076052\n"
     ]
    }
   ],
   "source": [
    "import numpy as np\n",
    "\n",
    "def f(x, y):\n",
    "    return y + 2 * x - x**2\n",
    "\n",
    "x0 = 0\n",
    "y0 = 1\n",
    "\n",
    "x, h = np.linspace(x0, 1.5, 1500, retstep=True)  # Note the optional argument to get the stepsize.\n",
    "print(f'h = {h}')\n",
    "\n",
    "y = np.zeros(x.shape)\n",
    "y[0] = y0 # initial condition corresponding to x[0]\n",
    "\n",
    "# Implementation of Euler's method\n",
    "for n in range(0, len(x) - 1):\n",
    "    y[n + 1] = y[n] + f(x[n], y[n]) * h"
   ]
  },
  {
   "cell_type": "markdown",
   "metadata": {},
   "source": [
    "We can check out the solution graphically:\n",
    "\n"
   ]
  },
  {
   "cell_type": "code",
   "execution_count": 20,
   "metadata": {},
   "outputs": [
    {
     "data": {
      "text/plain": [
       "<matplotlib.legend.Legend at 0x1245a76d0>"
      ]
     },
     "execution_count": 20,
     "metadata": {},
     "output_type": "execute_result"
    },
    {
     "data": {
      "image/png": "[encoded data removed]",
      "text/plain": [
       "<Figure size 640x480 with 1 Axes>"
      ]
     },
     "metadata": {},
     "output_type": "display_data"
    }
   ],
   "source": [
    "%matplotlib inline\n",
    "import matplotlib.pyplot as plt\n",
    "plt.plot(x, y, label='Euler')\n",
    "plt.plot(x, x**2 + np.exp(x), 'r--', label='Analytical')\n",
    "plt.xlabel('x')\n",
    "plt.ylabel('y')\n",
    "plt.legend();"
   ]
  },
  {
   "cell_type": "markdown",
   "metadata": {},
   "source": [
    "This solution does not look that good until you increase the number of points (i.e. decrease the value of $h$, significantly). It is known the error decreases only linearly with $h$.\n",
    "\n",
    "**Exercise** Increase the number of points in the x array and see how it affects the solution.\n",
    "\n",
    "This method is not used in practice; it is not very accurate, and you need quite small $h$ to get a good solution. It is used here to illustrate the idea of how one integrates a differential equation. We will consider one more advanced method, the fourth-order Runge-Kutta method.\n",
    "\n"
   ]
  },
  {
   "cell_type": "markdown",
   "metadata": {},
   "source": [
    "### Fourth-order Runge-Kutta method\n",
    "\n"
   ]
  },
  {
   "cell_type": "markdown",
   "metadata": {},
   "source": [
    "The general idea of the more advanced methods is to use a weighted average of slopes at various points around a point to best estimate the next function value. Here we consider the fourth-order Runge-Kutta algorithm. The terms are tedious to derive, and we will not do it here as they can be looked up in several places (e.g. [https://en.wikipedia.org/wiki/Runge%E2%80%93Kutta_methods#The_Runge%E2%80%93Kutta_method](https://en.wikipedia.org/wiki/Runge%E2%80%93Kutta_methods#The_Runge%E2%80%93Kutta_method)).\n",
    "\n"
   ]
  },
  {
   "cell_type": "code",
   "execution_count": 21,
   "metadata": {},
   "outputs": [
    {
     "name": "stdout",
     "output_type": "stream",
     "text": [
      "h = 0.375\n"
     ]
    }
   ],
   "source": [
    "x0 = 0\n",
    "y0 = 1\n",
    "\n",
    "x, h = np.linspace(x0, 1.5, 5, retstep=True)\n",
    "print(f'h = {h}')\n",
    "y = np.zeros(x.shape)\n",
    "y[0] = y0\n",
    "\n",
    "# Implementation of fourth order Runge Kutta method\n",
    "for i in range(0, len(x) - 1):\n",
    "    k1 = h * f(x[i], y[i]) # Note this is like Euler's method\n",
    "    k2 = h * f(x[i] + h / 2, y[i] + k1 / 2)  # This is the increment at the midpoint using y, k1\n",
    "    k3 = h * f(x[i] + h / 2, y[i] + k2 / 2)  # This is the increment at the midpoint using y, k2\n",
    "    k4 = h * f(x[i] + h, y[i] + k3) # This is the increment at the end of the interval\n",
    "    # This is a weighted average of the four increments computed above. There is a heavier weight on the midpoints\n",
    "    y[i + 1] = y[i] + (k1 + (2 * k2) + (2 * k3) + k4) / 6"
   ]
  },
  {
   "cell_type": "code",
   "execution_count": 22,
   "metadata": {},
   "outputs": [
    {
     "data": {
      "text/plain": [
       "<matplotlib.legend.Legend at 0x124639c90>"
      ]
     },
     "execution_count": 22,
     "metadata": {},
     "output_type": "execute_result"
    },
    {
     "data": {
      "image/png": "[encoded data removed]",
      "text/plain": [
       "<Figure size 640x480 with 1 Axes>"
      ]
     },
     "metadata": {},
     "output_type": "display_data"
    }
   ],
   "source": [
    "plt.plot(x, y, label='RK-4')\n",
    "plt.plot(x, x**2 + np.exp(x), 'r--', label='Analytical')\n",
    "plt.xlabel('x')\n",
    "plt.ylabel('y')\n",
    "plt.legend();"
   ]
  },
  {
   "cell_type": "markdown",
   "metadata": {},
   "source": [
    "Note you can get a much more accurate solution with a larger $h$ with this method.\n",
    "\n",
    "*If* our differential equation is just $\\frac{dy}{dt} = f(x)$, i.e. $f$ is independent of $y$, then this method is equivalent to Simpson't rule of integration.\n",
    "\n",
    "Both of these methods leave some things to be desired:\n",
    "\n",
    "1.  We had to code them, and there are many places to make mistakes.\n",
    "2.  You have to choose $h$, or equivalently the number of points to use, and then make sure the solution has converged (does not depend on your choice).\n",
    "3.  $h$ is fixed in these examples, and you might prefer to use an adaptive value.\n",
    "4.  It is not easy to solve the inverse problem, e.g. for what value of $x$ does $y=4$?\n",
    "\n",
    "In practice, there are well-written ODE integrators to solve this kind of problem that address all the short-comings listed above. To use them, we just need to learn the syntax. We do that next.\n",
    "\n"
   ]
  },
  {
   "cell_type": "markdown",
   "metadata": {},
   "source": [
    "## scipy.integrate.solve_ivp\n",
    "\n"
   ]
  },
  {
   "cell_type": "markdown",
   "metadata": {},
   "source": [
    "The `scipy.integrate` library provides `solve_ivp` to solve first order differential equations. It is not the only one available, but this function is recommended. You import the function like this:\n",
    "\n"
   ]
  },
  {
   "cell_type": "code",
   "execution_count": 23,
   "metadata": {},
   "outputs": [
    {
     "data": {
      "text/plain": [
       "\u001b[0;31mSignature:\u001b[0m\n",
       "\u001b[0msolve_ivp\u001b[0m\u001b[0;34m(\u001b[0m\u001b[0;34m\u001b[0m\n",
       "\u001b[0;34m\u001b[0m    \u001b[0mfun\u001b[0m\u001b[0;34m,\u001b[0m\u001b[0;34m\u001b[0m\n",
       "\u001b[0;34m\u001b[0m    \u001b[0mt_span\u001b[0m\u001b[0;34m,\u001b[0m\u001b[0;34m\u001b[0m\n",
       "\u001b[0;34m\u001b[0m    \u001b[0my0\u001b[0m\u001b[0;34m,\u001b[0m\u001b[0;34m\u001b[0m\n",
       "\u001b[0;34m\u001b[0m    \u001b[0mmethod\u001b[0m\u001b[0;34m=\u001b[0m\u001b[0;34m'RK45'\u001b[0m\u001b[0;34m,\u001b[0m\u001b[0;34m\u001b[0m\n",
       "\u001b[0;34m\u001b[0m    \u001b[0mt_eval\u001b[0m\u001b[0;34m=\u001b[0m\u001b[0;32mNone\u001b[0m\u001b[0;34m,\u001b[0m\u001b[0;34m\u001b[0m\n",
       "\u001b[0;34m\u001b[0m    \u001b[0mdense_output\u001b[0m\u001b[0;34m=\u001b[0m\u001b[0;32mFalse\u001b[0m\u001b[0;34m,\u001b[0m\u001b[0;34m\u001b[0m\n",
       "\u001b[0;34m\u001b[0m    \u001b[0mevents\u001b[0m\u001b[0;34m=\u001b[0m\u001b[0;32mNone\u001b[0m\u001b[0;34m,\u001b[0m\u001b[0;34m\u001b[0m\n",
       "\u001b[0;34m\u001b[0m    \u001b[0mvectorized\u001b[0m\u001b[0;34m=\u001b[0m\u001b[0;32mFalse\u001b[0m\u001b[0;34m,\u001b[0m\u001b[0;34m\u001b[0m\n",
       "\u001b[0;34m\u001b[0m    \u001b[0margs\u001b[0m\u001b[0;34m=\u001b[0m\u001b[0;32mNone\u001b[0m\u001b[0;34m,\u001b[0m\u001b[0;34m\u001b[0m\n",
       "\u001b[0;34m\u001b[0m    \u001b[0;34m**\u001b[0m\u001b[0moptions\u001b[0m\u001b[0;34m,\u001b[0m\u001b[0;34m\u001b[0m\n",
       "\u001b[0;34m\u001b[0m\u001b[0;34m)\u001b[0m\u001b[0;34m\u001b[0m\u001b[0;34m\u001b[0m\u001b[0m\n",
       "\u001b[0;31mDocstring:\u001b[0m\n",
       "Solve an initial value problem for a system of ODEs.\n",
       "\n",
       "This function numerically integrates a system of ordinary differential\n",
       "equations given an initial value::\n",
       "\n",
       "    dy / dt = f(t, y)\n",
       "    y(t0) = y0\n",
       "\n",
       "Here t is a 1-D independent variable (time), y(t) is an\n",
       "N-D vector-valued function (state), and an N-D\n",
       "vector-valued function f(t, y) determines the differential equations.\n",
       "The goal is to find y(t) approximately satisfying the differential\n",
       "equations, given an initial value y(t0)=y0.\n",
       "\n",
       "Some of the solvers support integration in the complex domain, but note\n",
       "that for stiff ODE solvers, the right-hand side must be\n",
       "complex-differentiable (satisfy Cauchy-Riemann equations [11]_).\n",
       "To solve a problem in the complex domain, pass y0 with a complex data type.\n",
       "Another option always available is to rewrite your problem for real and\n",
       "imaginary parts separately.\n",
       "\n",
       "Parameters\n",
       "----------\n",
       "fun : callable\n",
       "    Right-hand side of the system. The calling signature is ``fun(t, y)``.\n",
       "    Here `t` is a scalar, and there are two options for the ndarray `y`:\n",
       "    It can either have shape (n,); then `fun` must return array_like with\n",
       "    shape (n,). Alternatively, it can have shape (n, k); then `fun`\n",
       "    must return an array_like with shape (n, k), i.e., each column\n",
       "    corresponds to a single column in `y`. The choice between the two\n",
       "    options is determined by `vectorized` argument (see below). The\n",
       "    vectorized implementation allows a faster approximation of the Jacobian\n",
       "    by finite differences (required for stiff solvers).\n",
       "t_span : 2-member sequence\n",
       "    Interval of integration (t0, tf). The solver starts with t=t0 and\n",
       "    integrates until it reaches t=tf. Both t0 and tf must be floats\n",
       "    or values interpretable by the float conversion function.\n",
       "y0 : array_like, shape (n,)\n",
       "    Initial state. For problems in the complex domain, pass `y0` with a\n",
       "    complex data type (even if the initial value is purely real).\n",
       "method : string or `OdeSolver`, optional\n",
       "    Integration method to use:\n",
       "\n",
       "        * 'RK45' (default): Explicit Runge-Kutta method of order 5(4) [1]_.\n",
       "          The error is controlled assuming accuracy of the fourth-order\n",
       "          method, but steps are taken using the fifth-order accurate\n",
       "          formula (local extrapolation is done). A quartic interpolation\n",
       "          polynomial is used for the dense output [2]_. Can be applied in\n",
       "          the complex domain.\n",
       "        * 'RK23': Explicit Runge-Kutta method of order 3(2) [3]_. The error\n",
       "          is controlled assuming accuracy of the second-order method, but\n",
       "          steps are taken using the third-order accurate formula (local\n",
       "          extrapolation is done). A cubic Hermite polynomial is used for the\n",
       "          dense output. Can be applied in the complex domain.\n",
       "        * 'DOP853': Explicit Runge-Kutta method of order 8 [13]_.\n",
       "          Python implementation of the \"DOP853\" algorithm originally\n",
       "          written in Fortran [14]_. A 7-th order interpolation polynomial\n",
       "          accurate to 7-th order is used for the dense output.\n",
       "          Can be applied in the complex domain.\n",
       "        * 'Radau': Implicit Runge-Kutta method of the Radau IIA family of\n",
       "          order 5 [4]_. The error is controlled with a third-order accurate\n",
       "          embedded formula. A cubic polynomial which satisfies the\n",
       "          collocation conditions is used for the dense output.\n",
       "        * 'BDF': Implicit multi-step variable-order (1 to 5) method based\n",
       "          on a backward differentiation formula for the derivative\n",
       "          approximation [5]_. The implementation follows the one described\n",
       "          in [6]_. A quasi-constant step scheme is used and accuracy is\n",
       "          enhanced using the NDF modification. Can be applied in the\n",
       "          complex domain.\n",
       "        * 'LSODA': Adams/BDF method with automatic stiffness detection and\n",
       "          switching [7]_, [8]_. This is a wrapper of the Fortran solver\n",
       "          from ODEPACK.\n",
       "\n",
       "    Explicit Runge-Kutta methods ('RK23', 'RK45', 'DOP853') should be used\n",
       "    for non-stiff problems and implicit methods ('Radau', 'BDF') for\n",
       "    stiff problems [9]_. Among Runge-Kutta methods, 'DOP853' is recommended\n",
       "    for solving with high precision (low values of `rtol` and `atol`).\n",
       "\n",
       "    If not sure, first try to run 'RK45'. If it makes unusually many\n",
       "    iterations, diverges, or fails, your problem is likely to be stiff and\n",
       "    you should use 'Radau' or 'BDF'. 'LSODA' can also be a good universal\n",
       "    choice, but it might be somewhat less convenient to work with as it\n",
       "    wraps old Fortran code.\n",
       "\n",
       "    You can also pass an arbitrary class derived from `OdeSolver` which\n",
       "    implements the solver.\n",
       "t_eval : array_like or None, optional\n",
       "    Times at which to store the computed solution, must be sorted and lie\n",
       "    within `t_span`. If None (default), use points selected by the solver.\n",
       "dense_output : bool, optional\n",
       "    Whether to compute a continuous solution. Default is False.\n",
       "events : callable, or list of callables, optional\n",
       "    Events to track. If None (default), no events will be tracked.\n",
       "    Each event occurs at the zeros of a continuous function of time and\n",
       "    state. Each function must have the signature ``event(t, y)`` and return\n",
       "    a float. The solver will find an accurate value of `t` at which\n",
       "    ``event(t, y(t)) = 0`` using a root-finding algorithm. By default, all\n",
       "    zeros will be found. The solver looks for a sign change over each step,\n",
       "    so if multiple zero crossings occur within one step, events may be\n",
       "    missed. Additionally each `event` function might have the following\n",
       "    attributes:\n",
       "\n",
       "        terminal: bool, optional\n",
       "            Whether to terminate integration if this event occurs.\n",
       "            Implicitly False if not assigned.\n",
       "        direction: float, optional\n",
       "            Direction of a zero crossing. If `direction` is positive,\n",
       "            `event` will only trigger when going from negative to positive,\n",
       "            and vice versa if `direction` is negative. If 0, then either\n",
       "            direction will trigger event. Implicitly 0 if not assigned.\n",
       "\n",
       "    You can assign attributes like ``event.terminal = True`` to any\n",
       "    function in Python.\n",
       "vectorized : bool, optional\n",
       "    Whether `fun` is implemented in a vectorized fashion. Default is False.\n",
       "args : tuple, optional\n",
       "    Additional arguments to pass to the user-defined functions.  If given,\n",
       "    the additional arguments are passed to all user-defined functions.\n",
       "    So if, for example, `fun` has the signature ``fun(t, y, a, b, c)``,\n",
       "    then `jac` (if given) and any event functions must have the same\n",
       "    signature, and `args` must be a tuple of length 3.\n",
       "**options\n",
       "    Options passed to a chosen solver. All options available for already\n",
       "    implemented solvers are listed below.\n",
       "first_step : float or None, optional\n",
       "    Initial step size. Default is `None` which means that the algorithm\n",
       "    should choose.\n",
       "max_step : float, optional\n",
       "    Maximum allowed step size. Default is np.inf, i.e., the step size is not\n",
       "    bounded and determined solely by the solver.\n",
       "rtol, atol : float or array_like, optional\n",
       "    Relative and absolute tolerances. The solver keeps the local error\n",
       "    estimates less than ``atol + rtol * abs(y)``. Here `rtol` controls a\n",
       "    relative accuracy (number of correct digits), while `atol` controls\n",
       "    absolute accuracy (number of correct decimal places). To achieve the\n",
       "    desired `rtol`, set `atol` to be smaller than the smallest value that\n",
       "    can be expected from ``rtol * abs(y)`` so that `rtol` dominates the\n",
       "    allowable error. If `atol` is larger than ``rtol * abs(y)`` the\n",
       "    number of correct digits is not guaranteed. Conversely, to achieve the\n",
       "    desired `atol` set `rtol` such that ``rtol * abs(y)`` is always smaller\n",
       "    than `atol`. If components of y have different scales, it might be\n",
       "    beneficial to set different `atol` values for different components by\n",
       "    passing array_like with shape (n,) for `atol`. Default values are\n",
       "    1e-3 for `rtol` and 1e-6 for `atol`.\n",
       "jac : array_like, sparse_matrix, callable or None, optional\n",
       "    Jacobian matrix of the right-hand side of the system with respect\n",
       "    to y, required by the 'Radau', 'BDF' and 'LSODA' method. The\n",
       "    Jacobian matrix has shape (n, n) and its element (i, j) is equal to\n",
       "    ``d f_i / d y_j``.  There are three ways to define the Jacobian:\n",
       "\n",
       "        * If array_like or sparse_matrix, the Jacobian is assumed to\n",
       "          be constant. Not supported by 'LSODA'.\n",
       "        * If callable, the Jacobian is assumed to depend on both\n",
       "          t and y; it will be called as ``jac(t, y)``, as necessary.\n",
       "          For 'Radau' and 'BDF' methods, the return value might be a\n",
       "          sparse matrix.\n",
       "        * If None (default), the Jacobian will be approximated by\n",
       "          finite differences.\n",
       "\n",
       "    It is generally recommended to provide the Jacobian rather than\n",
       "    relying on a finite-difference approximation.\n",
       "jac_sparsity : array_like, sparse matrix or None, optional\n",
       "    Defines a sparsity structure of the Jacobian matrix for a finite-\n",
       "    difference approximation. Its shape must be (n, n). This argument\n",
       "    is ignored if `jac` is not `None`. If the Jacobian has only few\n",
       "    non-zero elements in *each* row, providing the sparsity structure\n",
       "    will greatly speed up the computations [10]_. A zero entry means that\n",
       "    a corresponding element in the Jacobian is always zero. If None\n",
       "    (default), the Jacobian is assumed to be dense.\n",
       "    Not supported by 'LSODA', see `lband` and `uband` instead.\n",
       "lband, uband : int or None, optional\n",
       "    Parameters defining the bandwidth of the Jacobian for the 'LSODA'\n",
       "    method, i.e., ``jac[i, j] != 0 only for i - lband <= j <= i + uband``.\n",
       "    Default is None. Setting these requires your jac routine to return the\n",
       "    Jacobian in the packed format: the returned array must have ``n``\n",
       "    columns and ``uband + lband + 1`` rows in which Jacobian diagonals are\n",
       "    written. Specifically ``jac_packed[uband + i - j , j] = jac[i, j]``.\n",
       "    The same format is used in `scipy.linalg.solve_banded` (check for an\n",
       "    illustration).  These parameters can be also used with ``jac=None`` to\n",
       "    reduce the number of Jacobian elements estimated by finite differences.\n",
       "min_step : float, optional\n",
       "    The minimum allowed step size for 'LSODA' method.\n",
       "    By default `min_step` is zero.\n",
       "\n",
       "Returns\n",
       "-------\n",
       "Bunch object with the following fields defined:\n",
       "t : ndarray, shape (n_points,)\n",
       "    Time points.\n",
       "y : ndarray, shape (n, n_points)\n",
       "    Values of the solution at `t`.\n",
       "sol : `OdeSolution` or None\n",
       "    Found solution as `OdeSolution` instance; None if `dense_output` was\n",
       "    set to False.\n",
       "t_events : list of ndarray or None\n",
       "    Contains for each event type a list of arrays at which an event of\n",
       "    that type event was detected. None if `events` was None.\n",
       "y_events : list of ndarray or None\n",
       "    For each value of `t_events`, the corresponding value of the solution.\n",
       "    None if `events` was None.\n",
       "nfev : int\n",
       "    Number of evaluations of the right-hand side.\n",
       "njev : int\n",
       "    Number of evaluations of the Jacobian.\n",
       "nlu : int\n",
       "    Number of LU decompositions.\n",
       "status : int\n",
       "    Reason for algorithm termination:\n",
       "\n",
       "        * -1: Integration step failed.\n",
       "        *  0: The solver successfully reached the end of `tspan`.\n",
       "        *  1: A termination event occurred.\n",
       "\n",
       "message : string\n",
       "    Human-readable description of the termination reason.\n",
       "success : bool\n",
       "    True if the solver reached the interval end or a termination event\n",
       "    occurred (``status >= 0``).\n",
       "\n",
       "References\n",
       "----------\n",
       ".. [1] J. R. Dormand, P. J. Prince, \"A family of embedded Runge-Kutta\n",
       "       formulae\", Journal of Computational and Applied Mathematics, Vol. 6,\n",
       "       No. 1, pp. 19-26, 1980.\n",
       ".. [2] L. W. Shampine, \"Some Practical Runge-Kutta Formulas\", Mathematics\n",
       "       of Computation,, Vol. 46, No. 173, pp. 135-150, 1986.\n",
       ".. [3] P. Bogacki, L.F. Shampine, \"A 3(2) Pair of Runge-Kutta Formulas\",\n",
       "       Appl. Math. Lett. Vol. 2, No. 4. pp. 321-325, 1989.\n",
       ".. [4] E. Hairer, G. Wanner, \"Solving Ordinary Differential Equations II:\n",
       "       Stiff and Differential-Algebraic Problems\", Sec. IV.8.\n",
       ".. [5] `Backward Differentiation Formula\n",
       "        <https://en.wikipedia.org/wiki/Backward_differentiation_formula>`_\n",
       "        on Wikipedia.\n",
       ".. [6] L. F. Shampine, M. W. Reichelt, \"THE MATLAB ODE SUITE\", SIAM J. SCI.\n",
       "       COMPUTE., Vol. 18, No. 1, pp. 1-22, January 1997.\n",
       ".. [7] A. C. Hindmarsh, \"ODEPACK, A Systematized Collection of ODE\n",
       "       Solvers,\" IMACS Transactions on Scientific Computation, Vol 1.,\n",
       "       pp. 55-64, 1983.\n",
       ".. [8] L. Petzold, \"Automatic selection of methods for solving stiff and\n",
       "       nonstiff systems of ordinary differential equations\", SIAM Journal\n",
       "       on Scientific and Statistical Computing, Vol. 4, No. 1, pp. 136-148,\n",
       "       1983.\n",
       ".. [9] `Stiff equation <https://en.wikipedia.org/wiki/Stiff_equation>`_ on\n",
       "       Wikipedia.\n",
       ".. [10] A. Curtis, M. J. D. Powell, and J. Reid, \"On the estimation of\n",
       "        sparse Jacobian matrices\", Journal of the Institute of Mathematics\n",
       "        and its Applications, 13, pp. 117-120, 1974.\n",
       ".. [11] `Cauchy-Riemann equations\n",
       "         <https://en.wikipedia.org/wiki/Cauchy-Riemann_equations>`_ on\n",
       "         Wikipedia.\n",
       ".. [12] `Lotka-Volterra equations\n",
       "        <https://en.wikipedia.org/wiki/Lotka%E2%80%93Volterra_equations>`_\n",
       "        on Wikipedia.\n",
       ".. [13] E. Hairer, S. P. Norsett G. Wanner, \"Solving Ordinary Differential\n",
       "        Equations I: Nonstiff Problems\", Sec. II.\n",
       ".. [14] `Page with original Fortran code of DOP853\n",
       "        <http://www.unige.ch/~hairer/software.html>`_.\n",
       "\n",
       "Examples\n",
       "--------\n",
       "Basic exponential decay showing automatically chosen time points.\n",
       "\n",
       ">>> import numpy as np\n",
       ">>> from scipy.integrate import solve_ivp\n",
       ">>> def exponential_decay(t, y): return -0.5 * y\n",
       ">>> sol = solve_ivp(exponential_decay, [0, 10], [2, 4, 8])\n",
       ">>> print(sol.t)\n",
       "[ 0.          0.11487653  1.26364188  3.06061781  4.81611105  6.57445806\n",
       "  8.33328988 10.        ]\n",
       ">>> print(sol.y)\n",
       "[[2.         1.88836035 1.06327177 0.43319312 0.18017253 0.07483045\n",
       "  0.03107158 0.01350781]\n",
       " [4.         3.7767207  2.12654355 0.86638624 0.36034507 0.14966091\n",
       "  0.06214316 0.02701561]\n",
       " [8.         7.5534414  4.25308709 1.73277247 0.72069014 0.29932181\n",
       "  0.12428631 0.05403123]]\n",
       "\n",
       "Specifying points where the solution is desired.\n",
       "\n",
       ">>> sol = solve_ivp(exponential_decay, [0, 10], [2, 4, 8],\n",
       "...                 t_eval=[0, 1, 2, 4, 10])\n",
       ">>> print(sol.t)\n",
       "[ 0  1  2  4 10]\n",
       ">>> print(sol.y)\n",
       "[[2.         1.21305369 0.73534021 0.27066736 0.01350938]\n",
       " [4.         2.42610739 1.47068043 0.54133472 0.02701876]\n",
       " [8.         4.85221478 2.94136085 1.08266944 0.05403753]]\n",
       "\n",
       "Cannon fired upward with terminal event upon impact. The ``terminal`` and\n",
       "``direction`` fields of an event are applied by monkey patching a function.\n",
       "Here ``y[0]`` is position and ``y[1]`` is velocity. The projectile starts\n",
       "at position 0 with velocity +10. Note that the integration never reaches\n",
       "t=100 because the event is terminal.\n",
       "\n",
       ">>> def upward_cannon(t, y): return [y[1], -0.5]\n",
       ">>> def hit_ground(t, y): return y[0]\n",
       ">>> hit_ground.terminal = True\n",
       ">>> hit_ground.direction = -1\n",
       ">>> sol = solve_ivp(upward_cannon, [0, 100], [0, 10], events=hit_ground)\n",
       ">>> print(sol.t_events)\n",
       "[array([40.])]\n",
       ">>> print(sol.t)\n",
       "[0.00000000e+00 9.99900010e-05 1.09989001e-03 1.10988901e-02\n",
       " 1.11088891e-01 1.11098890e+00 1.11099890e+01 4.00000000e+01]\n",
       "\n",
       "Use `dense_output` and `events` to find position, which is 100, at the apex\n",
       "of the cannonball's trajectory. Apex is not defined as terminal, so both\n",
       "apex and hit_ground are found. There is no information at t=20, so the sol\n",
       "attribute is used to evaluate the solution. The sol attribute is returned\n",
       "by setting ``dense_output=True``. Alternatively, the `y_events` attribute\n",
       "can be used to access the solution at the time of the event.\n",
       "\n",
       ">>> def apex(t, y): return y[1]\n",
       ">>> sol = solve_ivp(upward_cannon, [0, 100], [0, 10],\n",
       "...                 events=(hit_ground, apex), dense_output=True)\n",
       ">>> print(sol.t_events)\n",
       "[array([40.]), array([20.])]\n",
       ">>> print(sol.t)\n",
       "[0.00000000e+00 9.99900010e-05 1.09989001e-03 1.10988901e-02\n",
       " 1.11088891e-01 1.11098890e+00 1.11099890e+01 4.00000000e+01]\n",
       ">>> print(sol.sol(sol.t_events[1][0]))\n",
       "[100.   0.]\n",
       ">>> print(sol.y_events)\n",
       "[array([[-5.68434189e-14, -1.00000000e+01]]), array([[1.00000000e+02, 1.77635684e-15]])]\n",
       "\n",
       "As an example of a system with additional parameters, we'll implement\n",
       "the Lotka-Volterra equations [12]_.\n",
       "\n",
       ">>> def lotkavolterra(t, z, a, b, c, d):\n",
       "...     x, y = z\n",
       "...     return [a*x - b*x*y, -c*y + d*x*y]\n",
       "...\n",
       "\n",
       "We pass in the parameter values a=1.5, b=1, c=3 and d=1 with the `args`\n",
       "argument.\n",
       "\n",
       ">>> sol = solve_ivp(lotkavolterra, [0, 15], [10, 5], args=(1.5, 1, 3, 1),\n",
       "...                 dense_output=True)\n",
       "\n",
       "Compute a dense solution and plot it.\n",
       "\n",
       ">>> t = np.linspace(0, 15, 300)\n",
       ">>> z = sol.sol(t)\n",
       ">>> import matplotlib.pyplot as plt\n",
       ">>> plt.plot(t, z.T)\n",
       ">>> plt.xlabel('t')\n",
       ">>> plt.legend(['x', 'y'], shadow=True)\n",
       ">>> plt.title('Lotka-Volterra System')\n",
       ">>> plt.show()\n",
       "\u001b[0;31mFile:\u001b[0m      ~/anaconda3/lib/python3.10/site-packages/scipy/integrate/_ivp/ivp.py\n",
       "\u001b[0;31mType:\u001b[0m      function"
      ]
     },
     "metadata": {},
     "output_type": "display_data"
    }
   ],
   "source": [
    "from scipy.integrate import solve_ivp\n",
    "?solve_ivp"
   ]
  },
  {
   "cell_type": "markdown",
   "metadata": {},
   "source": [
    "Here is a minimal use of the function, with keyword arguments.\n",
    "\n",
    "`y0` is an array containing the initial values.  `fun` is a function with a signature of f(t, y). Here, $t$ is considered the independent variable. You can call it whatever you want, so f(x, y) is also fine. Since `solve_ivp` had $t$ in mind, the second argument is the `t_span`, which is a tuple of two numbers for where the integration starts (t0, or x0) and where it ends.  `solve_ivp` returns an object.\n",
    "\n"
   ]
  },
  {
   "cell_type": "code",
   "execution_count": 24,
   "metadata": {},
   "outputs": [
    {
     "data": {
      "text/plain": [
       "\u001b[0;31mSignature:\u001b[0m \u001b[0mf\u001b[0m\u001b[0;34m(\u001b[0m\u001b[0mx\u001b[0m\u001b[0;34m,\u001b[0m \u001b[0my\u001b[0m\u001b[0;34m)\u001b[0m\u001b[0;34m\u001b[0m\u001b[0;34m\u001b[0m\u001b[0m\n",
       "\u001b[0;31mDocstring:\u001b[0m <no docstring>\n",
       "\u001b[0;31mFile:\u001b[0m      /var/folders/3q/ht_2mtk52hl7ydxrcr87z2gr0000gn/T/ipykernel_2291/113436247.py\n",
       "\u001b[0;31mType:\u001b[0m      function"
      ]
     },
     "metadata": {},
     "output_type": "display_data"
    }
   ],
   "source": [
    "?f\n"
   ]
  },
  {
   "cell_type": "code",
   "execution_count": null,
   "metadata": {},
   "outputs": [],
   "source": [
    "y0 = 1\n",
    "y0 = np.array([y0]) # It is a good idea to make y0 an array. It will be important later.\n",
    "sol = solve_ivp(fun=f, t_span=(x0, 1.5), y0=y0)"
   ]
  },
  {
   "cell_type": "markdown",
   "metadata": {},
   "source": [
    "The output of `solve_ip` is an object containing results in attributes on the object.\n",
    "\n"
   ]
  },
  {
   "cell_type": "code",
   "execution_count": null,
   "metadata": {},
   "outputs": [],
   "source": [
    "sol"
   ]
  },
  {
   "cell_type": "markdown",
   "metadata": {},
   "source": [
    "You should look for a few things here. One is that the message indicates success. Second, we access the solution using dot notation. Here are the independent variable values the solution was evaluated at.\n",
    "\n"
   ]
  },
  {
   "cell_type": "code",
   "execution_count": null,
   "metadata": {},
   "outputs": [],
   "source": [
    "sol.t.shape"
   ]
  },
  {
   "cell_type": "markdown",
   "metadata": {},
   "source": [
    "Third, the solution is in a 2D array. We only have one equation here, so we use indexing to get the first row as an array.\n",
    "\n"
   ]
  },
  {
   "cell_type": "code",
   "execution_count": null,
   "metadata": {},
   "outputs": [],
   "source": [
    "sol.y"
   ]
  },
  {
   "cell_type": "markdown",
   "metadata": {},
   "source": [
    "Now, we can plot the solution.\n",
    "\n"
   ]
  },
  {
   "cell_type": "code",
   "execution_count": null,
   "metadata": {},
   "outputs": [],
   "source": [
    "plt.plot(sol.t, sol.y.T, 'bo', label='solve_ivp')\n",
    "plt.plot(sol.t, sol.t**2 + np.exp(sol.t), 'r--', label='Analytical')\n",
    "plt.xlabel('x')\n",
    "plt.ylabel('y')\n",
    "plt.legend()"
   ]
  },
  {
   "cell_type": "markdown",
   "metadata": {},
   "source": [
    "That doesn't looks so great since there are only four data points. By default, the algorithm only uses as many points as it needs to achieve a specified tolerance. We can specify that we want the solution evaluated at other points using the optional `t_eval` keyword arg.\n",
    "\n"
   ]
  },
  {
   "cell_type": "code",
   "execution_count": null,
   "metadata": {},
   "outputs": [],
   "source": [
    "X = np.linspace(x0, 1.5)\n",
    "sol = solve_ivp(fun=f, t_span=(x0, 1.5), y0=y0, t_eval=X)\n",
    "sol"
   ]
  },
  {
   "cell_type": "code",
   "execution_count": null,
   "metadata": {},
   "outputs": [],
   "source": [
    "plt.plot(sol.t, sol.y[0], 'b.', label='solve_ivp')\n",
    "plt.plot(X, X**2 + np.exp(X), 'r--', label='Analytical')\n",
    "plt.xlabel('x')\n",
    "plt.ylabel('y')\n",
    "plt.legend()"
   ]
  },
  {
   "cell_type": "markdown",
   "metadata": {},
   "source": [
    "So far, `solve_ivp` solves the issues with item 1 (we did not have to code the algorithm), and items 2 and 3 (it uses an adaptive step and converges to a tolerance for us). It will also help us solve for the inverse problem, i.e. for what value of $x$ is $y=4$?\n",
    "\n",
    "To do this, we need a new concept of an \"event function\". During each step of the integration, you can run a function that can detect an \"event\". When an event is detected, the location of the event is stored, and if desired integration can be terminated. `solve_ivp` can take a list of event functions. We consider only one for now.\n",
    "\n",
    "An event occurs when an event function is equal to zero. During integration, if the event function changes sign, then it is clear an event has occurred, and the algorithm determines where it occurred. Since we want to know when $y=4$, we will define a function that returns $y - 4$, because that will equal zero at that condition. We want the integration to terminate when that happens, so we set the \"terminal\" attribute on our function to True.\n",
    "\n",
    "An event function has a signature of f(x, y). Remember that $y$ is going to be an array,\n",
    "\n"
   ]
  },
  {
   "cell_type": "code",
   "execution_count": null,
   "metadata": {},
   "outputs": [],
   "source": [
    "def event1(x, y):\n",
    "    return y[0] - 4\n",
    "\n",
    "event1.terminal = True\n",
    "\n",
    "sol = solve_ivp(fun=f, t_span=(x0, 1.5), y0=y0, events=event1)\n",
    "sol"
   ]
  },
  {
   "cell_type": "markdown",
   "metadata": {},
   "source": [
    "Now, there are a couple of new things to note. First, we got a message that a termination event occurred. Second, the sol.y array ends at 4.0, because we made the event function *terminal*. Next, sol.t\\_events is not empty, because an event occurred. It now contains the value where the event occurred, which is where $y=4$!\n",
    "\n"
   ]
  },
  {
   "cell_type": "code",
   "execution_count": null,
   "metadata": {},
   "outputs": [],
   "source": [
    "sol.t_events[0]"
   ]
  },
  {
   "cell_type": "code",
   "execution_count": null,
   "metadata": {},
   "outputs": [],
   "source": [
    "sol.t"
   ]
  },
  {
   "cell_type": "code",
   "execution_count": null,
   "metadata": {},
   "outputs": [],
   "source": [
    "print(f'y=4 at x={sol.t[-1]}. Confirming: y = {sol.t[-1]**2 + np.exp(sol.t[-1])}')"
   ]
  },
  {
   "cell_type": "markdown",
   "metadata": {},
   "source": [
    "That is pretty close. You have to decide if it is close enough for the purpose you want. You can control the tolerance with optional `atol` and `rtol` keywords. You should read the documentation before changing this.\n",
    "\n"
   ]
  },
  {
   "cell_type": "code",
   "execution_count": null,
   "metadata": {},
   "outputs": [],
   "source": [
    "def event1(x, y):\n",
    "    return y[0] - 4\n",
    "\n",
    "event1.terminal = True\n",
    "\n",
    "sol = solve_ivp(fun=f, t_span=(x0, 1.5), y0=y0, events=event1, rtol=1e-9)\n",
    "sol\n",
    "sol.t[-1]**2 + np.exp(sol.t[-1])"
   ]
  },
  {
   "cell_type": "markdown",
   "metadata": {},
   "source": [
    "## Summary\n",
    "\n"
   ]
  },
  {
   "cell_type": "markdown",
   "metadata": {},
   "source": [
    "We learned how to solve different types of first-order differential equations. Linear equations can be solved by integration, which has the benefit of providing an estimate of error if the `scipy.integrate.quad` function is used.\n",
    "\n",
    "Most first-order differential equations can be solved numerically with `scipy.integrate.solve_ivp`. This solver allows you to specify the points the solution is evaluated on, and to define event functions that can terminate the integration, or record where events occur.\n",
    "\n"
   ]
  }
 ],
 "metadata": {
  "kernelspec": {
   "display_name": "Python 3 (ipykernel)",
   "language": "python",
   "name": "python3"
  },
  "language_info": {
   "codemirror_mode": {
    "name": "ipython",
    "version": 3
   },
   "file_extension": ".py",
   "mimetype": "text/x-python",
   "name": "python",
   "nbconvert_exporter": "python",
   "pygments_lexer": "ipython3",
   "version": "3.10.11"
  },
  "org": {
   "KEYWORDS": "integration, quad, zeros, shape, enumerate, solve_ivp"
  }
 },
 "nbformat": 4,
 "nbformat_minor": 4
}
