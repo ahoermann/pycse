{
 "cells": [
  {
   "cell_type": "markdown",
   "id": "34e352af",
   "metadata": {},
   "source": [
    "## Plotting\n",
    "\n"
   ]
  },
  {
   "cell_type": "markdown",
   "id": "4bab6d3c",
   "metadata": {},
   "source": [
    "### Plot customizations - Modifying line, text and figure properties\n",
    "\n"
   ]
  },
  {
   "cell_type": "markdown",
   "id": "e739136d",
   "metadata": {},
   "source": [
    "[Matlab post](http://matlab.cheme.cmu.edu/2011/08/01/plot-customizations-modifying-line-text-and-figure-properties/)\n",
    "\n",
    "Here is a vanilla plot.\n",
    "\n"
   ]
  },
  {
   "cell_type": "code",
   "execution_count": null,
   "id": "e8cbe99c",
   "metadata": {},
   "outputs": [],
   "source": [
    "import numpy as np\n",
    "import matplotlib.pyplot as plt\n",
    "\n",
    "x = np.linspace(0, 2 * np.pi)\n",
    "plt.plot(x, np.sin(x));"
   ]
  },
  {
   "cell_type": "markdown",
   "id": "8ef4c1a4",
   "metadata": {},
   "source": [
    "Lets increase the line thickness, change the line color to red, and make the markers red circles with black outlines. I also like figures in presentations to be 6 inches high, and 4 inches wide.\n",
    "\n"
   ]
  },
  {
   "cell_type": "code",
   "execution_count": null,
   "id": "5d2717df",
   "metadata": {},
   "outputs": [],
   "source": [
    "import numpy as np\n",
    "import matplotlib.pyplot as plt\n",
    "\n",
    "x = np.linspace(0, 2 * np.pi)\n",
    "\n",
    "plt.figure(figsize=(4, 6))\n",
    "plt.plot(x, np.sin(x), lw=2, color='r', marker='o', mec='k', mfc='b')\n",
    "\n",
    "plt.xlabel('x data', fontsize=12, fontweight='bold')\n",
    "plt.ylabel('y data', fontsize=12, fontstyle='italic', color='b')\n",
    "plt.tight_layout(); # auto-adjust position of axes to fit figure."
   ]
  },
  {
   "cell_type": "markdown",
   "id": "7aca0e94",
   "metadata": {},
   "source": [
    "#### setting all the text properties in a figure.\n",
    "\n"
   ]
  },
  {
   "cell_type": "markdown",
   "id": "df55a6c7",
   "metadata": {},
   "source": [
    "You may notice the axis tick labels are not consistent with the labels now. If you have many plots it can be tedious to try setting each text property. Python to the rescue! With these commands you can find all the text instances, and change them all at one time! Likewise, you can change all the lines, and all the axes.\n",
    "\n"
   ]
  },
  {
   "cell_type": "code",
   "execution_count": null,
   "id": "2071c349",
   "metadata": {},
   "outputs": [],
   "source": [
    "import numpy as np\n",
    "import matplotlib.pyplot as plt\n",
    "\n",
    "x = np.linspace(0, 2 * np.pi)\n",
    "\n",
    "plt.figure(figsize=(4, 6))\n",
    "plt.plot(x, np.sin(x), lw=2, color='r', marker='o', mec='k', mfc='b')\n",
    "\n",
    "plt.xlabel('x data', fontsize=12, fontweight='bold')\n",
    "plt.ylabel('y data', fontsize=12, fontstyle='italic', color='b')\n",
    "\n",
    "# set all font properties\n",
    "fig = plt.gcf()\n",
    "for o in  fig.findobj(lambda x:hasattr(x, 'set_fontname')\n",
    "\t\t      or hasattr(x, 'set_fontweight')\n",
    "\t\t      or hasattr(x, 'set_fontsize')):\n",
    "    o.set_fontname('Arial')\n",
    "    o.set_fontweight('bold')\n",
    "    o.set_fontsize(14)\n",
    "\n",
    "# make anything you can set linewidth to be lw=2\n",
    "def myfunc(x):\n",
    "    return hasattr(x, 'set_linewidth')\n",
    "\n",
    "for o in  fig.findobj(myfunc):\n",
    "    o.set_linewidth(2)\n",
    "\n",
    "plt.tight_layout(); # auto-adjust position of axes to fit figure."
   ]
  },
  {
   "cell_type": "markdown",
   "id": "8c4cba57",
   "metadata": {},
   "source": [
    "There are many other things you can do!\n",
    "\n"
   ]
  },
  {
   "cell_type": "markdown",
   "id": "05ddc43a",
   "metadata": {},
   "source": [
    "### Plotting two datasets with very different scales\n",
    "\n"
   ]
  },
  {
   "cell_type": "markdown",
   "id": "6cccaff8",
   "metadata": {},
   "source": [
    "CLOSED: <span class=\"timestamp-wrapper\"><span class=\"timestamp\">[2014-06-19 Thu 15:26]</span></span>\n",
    "\n",
    ":categories: plotting\n",
    ":date:     2013/09/13 13:55:20\n",
    ":updated:  2014/06/19 15:26:20\n",
    "\n",
    "[Matlab plot](http://matlab.cheme.cmu.edu/2011/08/25/plotting-two-datasets-with-very-different-scales/)\n",
    "\n",
    "Sometimes you will have two datasets you want to plot together, but the scales will be so different it is hard to seem them both in the same plot. Here we examine a few strategies to plotting this kind of data.\n",
    "\n"
   ]
  },
  {
   "cell_type": "code",
   "execution_count": null,
   "id": "49ed262f",
   "metadata": {},
   "outputs": [],
   "source": [
    "import numpy as np\n",
    "import matplotlib.pyplot as plt\n",
    "\n",
    "x = np.linspace(0, 2*np.pi)\n",
    "y1 = np.sin(x);\n",
    "y2 = 0.01 * np.cos(x);\n",
    "\n",
    "plt.plot(x, y1, x, y2)\n",
    "plt.legend(['y1', 'y2']);\n",
    "# in this plot y2 looks almost flat!"
   ]
  },
  {
   "cell_type": "markdown",
   "id": "b7460364",
   "metadata": {},
   "source": [
    "#### Make two plots!\n",
    "\n"
   ]
  },
  {
   "cell_type": "markdown",
   "id": "3fc91b50",
   "metadata": {},
   "source": [
    "this certainly solves the problem, but you have two full size plots, which can take up a lot of space in a presentation and report. Often your goal in plotting both data sets is to compare them, and it is easiest to compare plots when they are perfectly lined up. Doing that manually can be tedious.\n",
    "\n"
   ]
  },
  {
   "cell_type": "code",
   "execution_count": null,
   "id": "4468e8e4",
   "metadata": {},
   "outputs": [],
   "source": [
    "plt.figure()\n",
    "plt.plot(x,y1)\n",
    "plt.legend(['y1'])\n",
    "\n",
    "plt.figure()\n",
    "plt.plot(x,y2)\n",
    "plt.legend(['y2']);"
   ]
  },
  {
   "cell_type": "markdown",
   "id": "41dd0490",
   "metadata": {},
   "source": [
    "#### Scaling the results\n",
    "\n"
   ]
  },
  {
   "cell_type": "markdown",
   "id": "db7aac36",
   "metadata": {},
   "source": [
    "Sometimes you can scale one dataset so it has a similar magnitude as the other data set. Here we could multiply y2 by 100, and then it will be similar in size to y1. Of course, you need to indicate that y2 has been scaled in the graph somehow. Here we use the legend.\n",
    "\n"
   ]
  },
  {
   "cell_type": "code",
   "execution_count": null,
   "id": "4913ba6e",
   "metadata": {},
   "outputs": [],
   "source": [
    "plt.figure()\n",
    "plt.plot(x, y1, x, 100 * y2)\n",
    "plt.legend(['y1', '100*y2']);"
   ]
  },
  {
   "cell_type": "markdown",
   "id": "ae40cf61",
   "metadata": {},
   "source": [
    "#### Double-y axis plot\n",
    "\n"
   ]
  },
  {
   "cell_type": "markdown",
   "id": "dcbe3877",
   "metadata": {},
   "source": [
    "[plot!double y-axis](plot!double y-axis)\n",
    "\n",
    "Using two separate y-axes can solve your scaling problem. Note that each y-axis is color coded to the data. It can be difficult to read these graphs when printed in black and white\n",
    "\n"
   ]
  },
  {
   "cell_type": "code",
   "execution_count": null,
   "id": "f657a1de",
   "metadata": {},
   "outputs": [],
   "source": [
    "fig = plt.figure()\n",
    "ax1 = fig.add_subplot(111)\n",
    "ax1.plot(x, y1)\n",
    "ax1.set_ylabel('y1')\n",
    "\n",
    "ax2 = ax1.twinx()\n",
    "ax2.plot(x, y2, 'r-')\n",
    "ax2.set_ylabel('y2', color='r')\n",
    "for tl in ax2.get_yticklabels():\n",
    "    tl.set_color('r');"
   ]
  },
  {
   "cell_type": "markdown",
   "id": "0f4fd090",
   "metadata": {},
   "source": [
    "#### Subplots\n",
    "\n"
   ]
  },
  {
   "cell_type": "markdown",
   "id": "464eee56",
   "metadata": {},
   "source": [
    "[plot!subplot](plot!subplot)\n",
    "An alternative approach to double y axes is to use subplots.\n",
    "\n"
   ]
  },
  {
   "cell_type": "code",
   "execution_count": null,
   "id": "14ac7f27",
   "metadata": {},
   "outputs": [],
   "source": [
    "f, axes = plt.subplots(2, 1);\n",
    "axes[0].plot(x, y1)\n",
    "axes[0].set_ylabel('y1')\n",
    "\n",
    "axes[1].plot(x, y2)\n",
    "axes[1].set_ylabel('y2');"
   ]
  },
  {
   "cell_type": "markdown",
   "id": "6be231e6",
   "metadata": {},
   "source": [
    "### Customizing plots after the fact\n",
    "\n"
   ]
  },
  {
   "cell_type": "markdown",
   "id": "b14444a5",
   "metadata": {},
   "source": [
    "[Matlab post](http://matlab.cheme.cmu.edu/2011/09/16/customizing-plots-after-the-fact/)\n",
    "Sometimes it is desirable to make a plot that shows the data you want to present, and to customize the details, e.g. font size/type and line thicknesses afterwards. It can be tedious to try to add the customization code to the existing code that makes the plot. Today, we look at a way to do the customization after the plot is created.\n",
    "\n"
   ]
  },
  {
   "cell_type": "code",
   "execution_count": null,
   "id": "373ce3f2",
   "metadata": {},
   "outputs": [],
   "source": [
    "import numpy as np\n",
    "import matplotlib.pyplot as plt\n",
    "\n",
    "f = plt.figure()\n",
    "x = np.linspace(0,2)\n",
    "y1 = x\n",
    "y2 = x**2\n",
    "y3 = x**3\n",
    "\n",
    "plt.plot(x, y1, x, y2, x, y3)\n",
    "xL = plt.xlabel('x')\n",
    "yL = plt.ylabel('f(x)')\n",
    "plt.title('plots of y = x^n')\n",
    "plt.legend(['x', 'x^2', 'x^3'], loc='best');\n",
    "\n",
    "plt.setp(f, 'size_inches', (4, 6))\n",
    "\n",
    "\n",
    "# set lines to dashed\n",
    "from matplotlib.lines import Line2D\n",
    "for o in fig.findobj(Line2D):\n",
    "    o.set_linestyle('--')\n",
    "\n",
    "#set(allaxes,'FontName','Arial','FontWeight','Bold','LineWidth',2,'FontSize',14);\n",
    "\n",
    "import matplotlib.text as text\n",
    "for o in fig.findobj(text.Text):\n",
    "    plt.setp(o, 'fontname','Arial', 'fontweight','bold', 'fontsize', 14)\n",
    "\n",
    "plt.setp(xL, 'fontstyle', 'italic')\n",
    "plt.setp(yL, 'fontstyle', 'italic');"
   ]
  },
  {
   "cell_type": "markdown",
   "id": "5eaa5e20",
   "metadata": {},
   "source": [
    "### Fancy, built-in colors in Python\n",
    "\n"
   ]
  },
  {
   "cell_type": "markdown",
   "id": "d781d508",
   "metadata": {},
   "source": [
    "[Matlab post](http://matlab.cheme.cmu.edu/2011/09/13/check-out-the-new-fall-colors/)\n",
    "\n",
    "Matplotlib has a lot of built-in colors. Here is a list of them, and an example of using them.\n",
    "\n"
   ]
  },
  {
   "cell_type": "code",
   "execution_count": null,
   "id": "9d010e41",
   "metadata": {},
   "outputs": [],
   "source": [
    "import matplotlib.pyplot as plt\n",
    "from matplotlib.colors import cnames\n",
    "print(cnames.keys())\n",
    "\n",
    "plt.plot([1, 2, 3, 4], lw=2, color='moccasin', marker='o', mfc='lightblue', mec='seagreen');"
   ]
  },
  {
   "cell_type": "markdown",
   "id": "907b5b66",
   "metadata": {},
   "source": [
    "### Picasso's short lived blue period with Python\n",
    "\n"
   ]
  },
  {
   "cell_type": "markdown",
   "id": "a70a56e1",
   "metadata": {},
   "source": [
    "CLOSED: <span class=\"timestamp-wrapper\"><span class=\"timestamp\">[2018-02-04 Sun 17:03]</span></span>\n",
    "\n",
    ":date:     2013/03/04 16:07:55\n",
    ":updated:  2018/02/04 17:03:58\n",
    ":categories: plotting\n",
    ":tags:     color\n",
    ":org-url:  [http://kitchingroup.cheme.cmu.edu/org/2013/03/04/Picasso's-short-lived-blue-period-with-Python.org](http://kitchingroup.cheme.cmu.edu/org/2013/03/04/Picasso's-short-lived-blue-period-with-Python.org)\n",
    ":permalink: [http://kitchingroup.cheme.cmu.edu/blog/2013/03/04/Picasso's-short-lived-blue-period-with-Python/index.html](http://kitchingroup.cheme.cmu.edu/blog/2013/03/04/Picasso's-short-lived-blue-period-with-Python/index.html)\n",
    "\n",
    "[Matlab post](http://matlab.cheme.cmu.edu/2011/09/14/picassos-short-lived-blue-period-with-matlab/)\n",
    "\n",
    "It is an unknown fact that Picasso had a brief blue plotting period with Matlab before moving on to his more famous paintings. It started from irritation with the default colors available in Matlab for plotting. After watching his friend van Gogh cut off his own ear out of frustration with the ugly default colors, Picasso had to do something different.\n",
    "\n"
   ]
  },
  {
   "cell_type": "code",
   "execution_count": null,
   "id": "b7056930",
   "metadata": {},
   "outputs": [],
   "source": [
    "import numpy as np\n",
    "import matplotlib.pyplot as plt\n",
    "\n",
    "#this plots horizontal lines for each y value of m.\n",
    "for m in np.linspace(1, 50, 100):\n",
    "    plt.plot([0, 50], [m, m]);"
   ]
  },
  {
   "cell_type": "markdown",
   "id": "7bbbde60",
   "metadata": {},
   "source": [
    "Picasso copied the table available at [http://en.wikipedia.org/wiki/List_of_colors>](http://en.wikipedia.org/wiki/List_of_colors>)and parsed it into a dictionary of hex codes for new colors. That allowed him to specify a list of beautiful blues for his graph. Picasso eventually gave up on python as an artform, and moved on to painting.\n",
    "\n"
   ]
  },
  {
   "cell_type": "code",
   "execution_count": null,
   "id": "dd3e99bf",
   "metadata": {},
   "outputs": [],
   "source": [
    "import numpy as np\n",
    "import matplotlib.pyplot as plt\n",
    "import matplotlib as mpl\n",
    "\n",
    "c = {}\n",
    "with open('../color.table') as f:\n",
    "    for line in f:\n",
    "        fields = line.split('\\t')\n",
    "        colorname = fields[0].lower()\n",
    "        hexcode = fields[1]\n",
    "        c[colorname] = hexcode\n",
    "\n",
    "names = c.keys()\n",
    "names = sorted(names)\n",
    "\n",
    "print(names)"
   ]
  },
  {
   "cell_type": "code",
   "execution_count": null,
   "id": "757633d0",
   "metadata": {},
   "outputs": [],
   "source": [
    "blues = [c['alice blue'],\n",
    "         c['light blue'],\n",
    "         c['baby blue'],\n",
    "         c['light sky blue'],\n",
    "         c['maya blue'],\n",
    "         c['cornflower blue'],\n",
    "         c['bleu de france'],\n",
    "         c['azure'],\n",
    "         c['blue sapphire'],\n",
    "         c['cobalt'],\n",
    "         c['blue'],\n",
    "         c['egyptian blue'],\n",
    "         c['duke blue']]\n",
    "\n",
    "ax = plt.gca()\n",
    "\n",
    "# Temporarily set the colors\n",
    "with mpl.rc_context({'axes.prop_cycle': mpl.cycler(color=blues)}):\n",
    "    #this plots horizontal lines for each y value of m.\n",
    "    for i, m in enumerate(np.linspace(1, 50, 100)):\n",
    "        plt.plot([0, 50], [m, m]);"
   ]
  },
  {
   "cell_type": "markdown",
   "id": "3449a35d",
   "metadata": {},
   "source": [
    "### Peak annotation in matplotlib\n",
    "\n"
   ]
  },
  {
   "cell_type": "markdown",
   "id": "1c607638",
   "metadata": {},
   "source": [
    "This post is just some examples of annotating features in a plot in matplotlib. We illustrate finding peak maxima in a range, shading a region, shading peaks, and labeling a region of peaks. I find it difficult to remember the detailed syntax for these, so here are examples I could refer to later.\n",
    "\n"
   ]
  },
  {
   "cell_type": "code",
   "execution_count": null,
   "id": "823e06fb",
   "metadata": {},
   "outputs": [],
   "source": [
    "import numpy as np\n",
    "import matplotlib.pyplot as plt\n",
    "\n",
    "w, i = np.loadtxt('../data/raman.txt', usecols=(0, 1), unpack=True)\n",
    "\n",
    "plt.plot(w, i)\n",
    "plt.xlabel('Raman shift (cm$^{-1}$)')\n",
    "plt.ylabel('Intensity (counts)')\n",
    "\n",
    "ax = plt.gca()\n",
    "\n",
    "# put a shaded rectangle over a region\n",
    "ax.annotate('Some typical region', xy=(550, 15500), xycoords='data')\n",
    "ax.fill_between([700, 800], 0, [16000, 16000], facecolor='red', alpha=0.25)\n",
    "\n",
    "# shade the region in the spectrum\n",
    "ind = (w>1019) & (w<1054)\n",
    "ax.fill_between(w[ind], 0, i[ind], facecolor='gray', alpha=0.5)\n",
    "area = np.trapz(i[ind], w[ind])\n",
    "x, y = w[ind][np.argmax(i[ind])], i[ind][np.argmax(i[ind])]\n",
    "ax.annotate('Area = {0:1.2f}'.format(area), xy=(x, y),\n",
    "            xycoords='data',\n",
    "            xytext=(x + 50, y + 5000),\n",
    "            textcoords='data',\n",
    "            arrowprops=dict(arrowstyle=\"->\",\n",
    "                            connectionstyle=\"angle,angleA=0,angleB=90,rad=10\"))\n",
    "\n",
    "\n",
    "# find a max in this region, and annotate it\n",
    "ind = (w>1250) & (w<1252)\n",
    "x,y = w[ind][np.argmax(i[ind])], i[ind][np.argmax(i[ind])]\n",
    "ax.annotate('A peak', xy=(x, y),\n",
    "            xycoords='data',\n",
    "            xytext=(x + 350, y + 2000),\n",
    "            textcoords='data',\n",
    "            arrowprops=dict(arrowstyle=\"->\",\n",
    "                            connectionstyle=\"angle,angleA=0,angleB=90,rad=10\"))\n",
    "\n",
    "# find max in this region, and annotate it\n",
    "ind = (w>1380) & (w<1400)\n",
    "x,y = w[ind][np.argmax(i[ind])], i[ind][np.argmax(i[ind])]\n",
    "ax.annotate('Another peak', xy=(x, y),\n",
    "            xycoords='data',\n",
    "            xytext=(x + 50, y + 2000),\n",
    "            textcoords='data',\n",
    "            arrowprops=dict(arrowstyle=\"->\",\n",
    "                            connectionstyle=\"angle,angleA=0,angleB=90,rad=10\"))\n",
    "\n",
    "# indicate a region with connected arrows\n",
    "ax.annotate('CH bonds', xy=(2780, 6000), xycoords='data')\n",
    "ax.annotate('', xy=(2800., 5000.),  xycoords='data',\n",
    "            xytext=(3050, 5000), textcoords='data',\n",
    "            # the arrows connect the xy to xytext coondinates\n",
    "            arrowprops=dict(arrowstyle=\"<->\",\n",
    "                            connectionstyle=\"bar\",\n",
    "                            ec=\"k\",  # edge color\n",
    "                            shrinkA=0.1, shrinkB=0.1));"
   ]
  }
 ],
 "metadata": {
  "kernelspec": {
   "display_name": "Python 3",
   "language": "python",
   "name": "python3"
  }
 },
 "nbformat": 4,
 "nbformat_minor": 5
}