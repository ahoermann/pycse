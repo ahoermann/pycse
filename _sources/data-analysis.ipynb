{
 "cells": [
  {
   "cell_type": "markdown",
   "id": "69a15c87",
   "metadata": {},
   "source": [
    "## Data analysis\n",
    "\n"
   ]
  },
  {
   "cell_type": "markdown",
   "id": "d04c05a5",
   "metadata": {},
   "source": [
    "### Fit a line to numerical data\n",
    "\n"
   ]
  },
  {
   "cell_type": "markdown",
   "id": "d29b299d",
   "metadata": {},
   "source": [
    "[Matlab post](http://matlab.cheme.cmu.edu/2011/08/04/fit-a-line-to-numerical-data/)\n",
    "\n",
    "We want to fit a line to this data:\n",
    "\n"
   ]
  },
  {
   "cell_type": "code",
   "execution_count": null,
   "id": "1e81b732",
   "metadata": {},
   "outputs": [],
   "source": [
    "x = [0, 0.5, 1, 1.5, 2.0, 3.0, 4.0, 6.0, 10]\n",
    "y = [0, -0.157, -0.315, -0.472, -0.629, -0.942, -1.255, -1.884, -3.147]"
   ]
  },
  {
   "cell_type": "markdown",
   "id": "61c1b7eb",
   "metadata": {},
   "source": [
    "We use the polyfit(x, y, n) command where n is the polynomial order, n=1 for a line.\n",
    "\n"
   ]
  },
  {
   "cell_type": "code",
   "execution_count": null,
   "id": "0fc15d59",
   "metadata": {},
   "outputs": [],
   "source": [
    "import numpy as np\n",
    "\n",
    "p = np.polyfit(x, y, 1)\n",
    "print(p)\n",
    "slope, intercept = p\n",
    "print(slope, intercept)"
   ]
  },
  {
   "cell_type": "markdown",
   "id": "d5ab4ba8",
   "metadata": {},
   "source": [
    "To show the fit, we can use numpy.polyval to evaluate the fit at many points.\n",
    "\n"
   ]
  },
  {
   "cell_type": "code",
   "execution_count": null,
   "id": "edcc71f3",
   "metadata": {},
   "outputs": [],
   "source": [
    "import matplotlib.pyplot as plt\n",
    "\n",
    "xfit = np.linspace(0, 10)\n",
    "yfit = np.polyval(p, xfit)\n",
    "\n",
    "plt.plot(x, y, 'bo', label='raw data')\n",
    "plt.plot(xfit, yfit, 'r-', label='fit')\n",
    "plt.xlabel('x')\n",
    "plt.ylabel('y')\n",
    "plt.legend();"
   ]
  },
  {
   "cell_type": "markdown",
   "id": "2e28ca44",
   "metadata": {},
   "source": [
    "### Linear least squares fitting with linear algebra\n",
    "\n"
   ]
  },
  {
   "cell_type": "markdown",
   "id": "59f1bb12",
   "metadata": {},
   "source": [
    "[Matlab post](http://matlab.cheme.cmu.edu/2011/09/24/linear-least-squares-fitting-with-linear-algebra/)\n",
    "\n",
    "The idea here is to formulate a set of linear equations that is easy to solve. We  can express the equations in terms of our unknown fitting parameters $p_i$ as:\n",
    "\n",
    "    x1^0*p0 + x1*p1 = y1\n",
    "    x2^0*p0 + x2*p1 = y2\n",
    "    x3^0*p0 + x3*p1 = y3\n",
    "    etc...\n",
    "\n",
    "Which we write in matrix form as $A p = y$ where $A$ is a matrix of column vectors, e.g. [1, x\\_i]. $A$ is not a square matrix, so we cannot solve it as written. Instead, we form $A^T A p = A^T y$ and solve that set of equations.\n",
    "\n"
   ]
  },
  {
   "cell_type": "code",
   "execution_count": null,
   "id": "1f3755cd",
   "metadata": {},
   "outputs": [],
   "source": [
    "import numpy as np\n",
    "x = np.array([0, 0.5, 1, 1.5, 2.0, 3.0, 4.0, 6.0, 10])\n",
    "y = np.array([0, -0.157, -0.315, -0.472, -0.629, -0.942, -1.255, -1.884, -3.147])\n",
    "\n",
    "A = np.column_stack([x**0, x])\n",
    "\n",
    "M = np.dot(A.T, A)\n",
    "b = np.dot(A.T, y)\n",
    "\n",
    "i1, slope1 = np.dot(np.linalg.inv(M), b)\n",
    "i2, slope2 = np.linalg.solve(M, b) # an alternative approach.\n",
    "\n",
    "print(i1, slope1)\n",
    "print(i2, slope2)\n",
    "\n",
    "# plot data and fit\n",
    "import matplotlib.pyplot as plt\n",
    "\n",
    "plt.plot(x, y, 'bo')\n",
    "plt.plot(x, np.dot(A, [i1, slope1]), 'r--')\n",
    "plt.xlabel('x')\n",
    "plt.ylabel('y');"
   ]
  },
  {
   "cell_type": "markdown",
   "id": "51b710f3",
   "metadata": {},
   "source": [
    "This method can be readily extended to fitting any polynomial model, or other linear model that is fit in a least squares sense. This method does not provide confidence intervals.\n",
    "\n"
   ]
  },
  {
   "cell_type": "markdown",
   "id": "a57100c7",
   "metadata": {},
   "source": [
    "### Linear regression with confidence intervals (updated)\n",
    "\n"
   ]
  },
  {
   "cell_type": "markdown",
   "id": "ea621aaf",
   "metadata": {},
   "source": [
    "[Matlab post](http://matlab.cheme.cmu.edu/2011/08/28/linear-regression-with-confidence-intervals/)\n",
    "\n",
    "Fit a fourth order polynomial to this data and determine the confidence interval for each parameter. Data from example 5-1 in Fogler, Elements of Chemical Reaction Engineering.\n",
    "\n",
    "We want the equation $Ca(t) = b0 + b1*t + b2*t^2 + b3*t^3 + b4*t^4$ fit to the data in the least squares sense. We can write this in a linear algebra form as: T\\*p = Ca where T is a matrix of columns [1 t t^2 t^3 t^4], and p is a column vector of the fitting parameters. We want to solve for the p vector and estimate the confidence intervals.\n",
    "\n",
    "`pycse` now has a regress function similar to Matlab. That function just uses the code in the next example (also seen [here](http://jkitchin.github.io/blog/2013/02/18/Linear-regression-with-confidence-intervals/)).\n",
    "\n"
   ]
  },
  {
   "cell_type": "code",
   "execution_count": null,
   "id": "180ec5ec",
   "metadata": {},
   "outputs": [],
   "source": [
    "from pycse import regress\n",
    "import numpy as np\n",
    "time = np.array([0.0, 50.0, 100.0, 150.0, 200.0, 250.0, 300.0])\n",
    "Ca = np.array([50.0, 38.0, 30.6, 25.6, 22.2, 19.5, 17.4])*1e-3\n",
    "\n",
    "T = np.column_stack([time**0, time, time**2, time**3, time**4])\n",
    "\n",
    "alpha = 0.05\n",
    "p, pint, se = regress(T, Ca, alpha)\n",
    "print(pint)"
   ]
  },
  {
   "cell_type": "markdown",
   "id": "8e35b750",
   "metadata": {},
   "source": [
    "### Linear regression with confidence intervals.\n",
    "\n"
   ]
  },
  {
   "cell_type": "markdown",
   "id": "f91c1ec2",
   "metadata": {},
   "source": [
    "[Matlab post](http://matlab.cheme.cmu.edu/2011/08/28/linear-regression-with-confidence-intervals/)\n",
    "\n",
    "Fit a fourth order polynomial to this data and determine the confidence interval for each parameter. Data from example 5-1 in Fogler, Elements of Chemical Reaction Engineering.\n",
    "\n",
    "We want the equation $Ca(t) = b0 + b1*t + b2*t^2 + b3*t^3 + b4*t^4$ fit to the data in the least squares sense. We can write this in a linear algebra form as: T\\*p = Ca where T is a matrix of columns [1 t t^2 t^3 t^4], and p is a column vector of the fitting parameters. We want to solve for the p vector and estimate the confidence intervals.\n",
    "\n"
   ]
  },
  {
   "cell_type": "code",
   "execution_count": null,
   "id": "9ab98767",
   "metadata": {},
   "outputs": [],
   "source": [
    "import numpy as np\n",
    "from scipy.stats.distributions import  t\n",
    "\n",
    "time = np.array([0.0, 50.0, 100.0, 150.0, 200.0, 250.0, 300.0])\n",
    "Ca = np.array([50.0, 38.0, 30.6, 25.6, 22.2, 19.5, 17.4])*1e-3\n",
    "\n",
    "T = np.column_stack([time**0, time, time**2, time**3, time**4])\n",
    "\n",
    "p, res, rank, s = np.linalg.lstsq(T, Ca, rcond=None)\n",
    "# the parameters are now in p\n",
    "\n",
    "# compute the confidence intervals\n",
    "n = len(Ca)\n",
    "k = len(p)\n",
    "\n",
    "sigma2 = np.sum((Ca - np.dot(T, p))**2) / (n - k)  # RMSE\n",
    "\n",
    "C = sigma2 * np.linalg.inv(np.dot(T.T, T)) # covariance matrix\n",
    "se = np.sqrt(np.diag(C)) # standard error\n",
    "\n",
    "alpha = 0.05 # 100*(1 - alpha) confidence level\n",
    "\n",
    "sT = t.ppf(1.0 - alpha/2.0, n - k) # student T multiplier\n",
    "CI = sT * se\n",
    "\n",
    "for beta, ci in zip(p, CI):\n",
    "    print('{2: 1.2e} [{0: 1.4e} {1: 1.4e}]'.format(beta - ci, beta + ci, beta))\n",
    "\n",
    "SS_tot = np.sum((Ca - np.mean(Ca))**2)\n",
    "SS_err = np.sum((np.dot(T, p) - Ca)**2)\n",
    "\n",
    "#  http://en.wikipedia.org/wiki/Coefficient_of_determination\n",
    "Rsq = 1 - SS_err/SS_tot\n",
    "print('R^2 = {0}'.format(Rsq))\n",
    "\n",
    "# plot fit\n",
    "import matplotlib.pyplot as plt\n",
    "plt.plot(time, Ca, 'bo', label='raw data')\n",
    "plt.plot(time, np.dot(T, p), 'r-', label='fit')\n",
    "plt.xlabel('Time')\n",
    "plt.ylabel('Ca (mol/L)')\n",
    "plt.legend(loc='best');"
   ]
  },
  {
   "cell_type": "markdown",
   "id": "fe228b22",
   "metadata": {},
   "source": [
    "A fourth order polynomial fits the data well, with a good R^2 value. All of the parameters appear to be significant, i.e. zero is not included in any of the parameter confidence intervals. This does not mean this is the best model for the data, just that the model fits well.\n",
    "\n"
   ]
  },
  {
   "cell_type": "markdown",
   "id": "538a960d",
   "metadata": {},
   "source": [
    "### Nonlinear curve fitting\n",
    "\n"
   ]
  },
  {
   "cell_type": "markdown",
   "id": "e9f6d2ae",
   "metadata": {},
   "source": [
    "Here is a typical nonlinear function fit to data. you need to provide an initial guess. In this example we fit the Birch-Murnaghan equation of state to energy vs. volume data from density functional theory calculations.\n",
    "\n"
   ]
  },
  {
   "cell_type": "code",
   "execution_count": null,
   "id": "5ab1fc73",
   "metadata": {},
   "outputs": [],
   "source": [
    "from scipy.optimize import leastsq\n",
    "import numpy as np\n",
    "\n",
    "vols = np.array([13.71, 14.82, 16.0, 17.23, 18.52])\n",
    "\n",
    "energies = np.array([-56.29, -56.41, -56.46, -56.463, -56.41])\n",
    "\n",
    "def Murnaghan(parameters, vol):\n",
    "    'From Phys. Rev. B 28, 5480 (1983)'\n",
    "    E0, B0, BP, V0 = parameters\n",
    "\n",
    "    E = E0 + B0 * vol / BP * (((V0 / vol)**BP) / (BP - 1) + 1) - V0 * B0 / (BP - 1.0)\n",
    "\n",
    "    return E\n",
    "\n",
    "def objective(pars, y, x):\n",
    "    #we will minimize this function\n",
    "    err =  y - Murnaghan(pars, x)\n",
    "    return err\n",
    "\n",
    "x0 = [ -56.0, 0.54, 2.0, 16.5] #initial guess of parameters\n",
    "\n",
    "plsq = leastsq(objective, x0, args=(energies, vols))\n",
    "\n",
    "print('Fitted parameters = {0}'.format(plsq[0]))\n",
    "\n",
    "import matplotlib.pyplot as plt\n",
    "plt.plot(vols,energies, 'ro')\n",
    "\n",
    "#plot the fitted curve on top\n",
    "x = np.linspace(min(vols), max(vols), 50)\n",
    "y = Murnaghan(plsq[0], x)\n",
    "plt.plot(x, y, 'k-')\n",
    "plt.xlabel('Volume')\n",
    "plt.ylabel('Energy');"
   ]
  },
  {
   "cell_type": "markdown",
   "id": "02def0c3",
   "metadata": {},
   "source": [
    "See additional examples at \\url{http://docs.scipy.org/doc/scipy/reference/tutorial/optimize.html}.\n",
    "\n"
   ]
  },
  {
   "cell_type": "markdown",
   "id": "28bb7530",
   "metadata": {},
   "source": [
    "### Nonlinear curve fitting by direct least squares minimization\n",
    "\n"
   ]
  },
  {
   "cell_type": "markdown",
   "id": "1d944de8",
   "metadata": {},
   "source": [
    "Here is an example of fitting a nonlinear function to data by direct minimization of the summed squared error.\n",
    "\n"
   ]
  },
  {
   "cell_type": "code",
   "execution_count": null,
   "id": "4665ce33",
   "metadata": {},
   "outputs": [],
   "source": [
    "from scipy.optimize import fmin\n",
    "import numpy as np\n",
    "\n",
    "volumes = np.array([13.71, 14.82, 16.0, 17.23, 18.52])\n",
    "\n",
    "energies = np.array([-56.29, -56.41, -56.46, -56.463,-56.41])\n",
    "\n",
    "def Murnaghan(parameters,vol):\n",
    "    'From PRB 28,5480 (1983'\n",
    "    E0 = parameters[0]\n",
    "    B0 = parameters[1]\n",
    "    BP = parameters[2]\n",
    "    V0 = parameters[3]\n",
    "\n",
    "    E = E0 + B0*vol/BP*(((V0/vol)**BP)/(BP-1)+1) - V0*B0/(BP-1.)\n",
    "\n",
    "    return E\n",
    "\n",
    "def objective(pars,vol):\n",
    "    #we will minimize this function\n",
    "    err =  energies - Murnaghan(pars,vol)\n",
    "    return np.sum(err**2) #we return the summed squared error directly\n",
    "\n",
    "x0 = [ -56., 0.54, 2., 16.5] #initial guess of parameters\n",
    "\n",
    "plsq = fmin(objective,x0,args=(volumes,)) #note args is a tuple\n",
    "\n",
    "print('parameters = {0}'.format(plsq))\n",
    "\n",
    "import matplotlib.pyplot as plt\n",
    "plt.plot(volumes,energies,'ro')\n",
    "\n",
    "#plot the fitted curve on top\n",
    "x = np.linspace(min(volumes),max(volumes),50)\n",
    "y = Murnaghan(plsq,x)\n",
    "plt.plot(x,y,'k-')\n",
    "plt.xlabel('Volume ($\\AA^3$)')\n",
    "plt.ylabel('Total energy (eV)');"
   ]
  },
  {
   "cell_type": "markdown",
   "id": "c3956669",
   "metadata": {},
   "source": [
    "![img](./images/nonlinear-fitting-lsq.png \"Fitting a nonlinear function.\")\n",
    "\n"
   ]
  },
  {
   "cell_type": "markdown",
   "id": "bbf5ae2f",
   "metadata": {},
   "source": [
    "### Parameter estimation by directly minimizing summed squared errors\n",
    "\n"
   ]
  },
  {
   "cell_type": "markdown",
   "id": "f535beaa",
   "metadata": {},
   "source": [
    "[Matlab post](http://matlab.cheme.cmu.edu/2011/10/10/nonlinearfit_minsse-m/)\n",
    "\n"
   ]
  },
  {
   "cell_type": "code",
   "execution_count": null,
   "id": "db33acb5",
   "metadata": {},
   "outputs": [],
   "source": [
    "import numpy as np\n",
    "import matplotlib.pyplot as plt\n",
    "\n",
    "x = np.array([0.0,       1.1,       2.3,      3.1,       4.05,      6.0])\n",
    "y = np.array([0.0039,    1.2270,    5.7035,   10.6472,   18.6032,   42.3024])\n",
    "\n",
    "plt.plot(x, y)\n",
    "plt.xlabel('x')\n",
    "plt.ylabel('y');"
   ]
  },
  {
   "cell_type": "markdown",
   "id": "183dc1d5",
   "metadata": {},
   "source": [
    "We are going to fit the function $y = x^a$ to the data. The best $a$ will minimize the summed squared error between the model and the fit.\n",
    "\n"
   ]
  },
  {
   "cell_type": "code",
   "execution_count": null,
   "id": "20d59d93",
   "metadata": {},
   "outputs": [],
   "source": [
    "def errfunc_(a):\n",
    "    return np.sum((y - x**a)**2)\n",
    "\n",
    "errfunc = np.vectorize(errfunc_)\n",
    "\n",
    "arange = np.linspace(1, 3)\n",
    "sse = errfunc(arange)\n",
    "\n",
    "plt.figure()\n",
    "plt.plot(arange, sse)\n",
    "plt.xlabel('a')\n",
    "plt.ylabel('$\\Sigma (y - y_{pred})^2$');"
   ]
  },
  {
   "cell_type": "markdown",
   "id": "3e640735",
   "metadata": {},
   "source": [
    "Based on the graph above, you can see a minimum in the summed squared error near $a = 2.1$. We use that as our initial guess. Since we know the answer is bounded, we use scipy.optimize.fminbound\n",
    "\n"
   ]
  },
  {
   "cell_type": "code",
   "execution_count": null,
   "id": "4b0dbeab",
   "metadata": {},
   "outputs": [],
   "source": [
    "from scipy.optimize import fminbound\n",
    "\n",
    "amin = fminbound(errfunc, 1.0, 3.0)\n",
    "\n",
    "print(amin)\n",
    "\n",
    "plt.figure()\n",
    "plt.plot(x, y, 'bo', label='data')\n",
    "plt.plot(x, x**amin, 'r-', label='fit')\n",
    "plt.xlabel('x')\n",
    "plt.ylabel('y')\n",
    "plt.legend(loc='best');"
   ]
  },
  {
   "cell_type": "markdown",
   "id": "d63f8f65",
   "metadata": {},
   "source": [
    "We can do nonlinear fitting by directly minimizing the summed squared error between a model and data. This method lacks some of the features of other methods, notably the simple ability to get the confidence interval. However, this method is flexible and may offer more insight into how the solution depends on the parameters.\n",
    "\n"
   ]
  },
  {
   "cell_type": "markdown",
   "id": "507bd341",
   "metadata": {},
   "source": [
    "### Nonlinear curve fitting with parameter confidence intervals\n",
    "\n"
   ]
  },
  {
   "cell_type": "markdown",
   "id": "a5c11bc9",
   "metadata": {},
   "source": [
    "[Matlab post](http://matlab.cheme.cmu.edu/2011/08/29/nonlinear-curve-fitting-with-parameter-confidence-intervals/)\n",
    "\n",
    "We often need to estimate parameters from nonlinear regression of data. We should also consider how good the parameters are, and one way to do that is to consider the confidence interval. A confidence interval tells us a range that we are confident the true parameter lies in.\n",
    "\n",
    "In this example we use a nonlinear curve-fitting function: scipy.optimize.curve\\_fit to give us the parameters in a function that we define which best fit the data. The scipy.optimize.curve\\_fit function also gives us the [covariance](http://en.wikipedia.org/wiki/Covariance_matrix) matrix which we can use to estimate the standard error of each parameter. Finally,  we modify the standard error by a student-t value which accounts for the additional uncertainty in our estimates due to the small number of data points we are fitting to.\n",
    "\n",
    "We will fit the function $y = a x / (b + x)$ to some data, and compute the 95% confidence intervals on the parameters.\n",
    "\n"
   ]
  },
  {
   "cell_type": "code",
   "execution_count": null,
   "id": "248bd97c",
   "metadata": {},
   "outputs": [],
   "source": [
    "# Nonlinear curve fit with confidence interval\n",
    "import numpy as np\n",
    "from scipy.optimize import curve_fit\n",
    "from scipy.stats.distributions import  t\n",
    "\n",
    "x = np.array([0.5, 0.387, 0.24, 0.136, 0.04, 0.011])\n",
    "y = np.array([1.255, 1.25, 1.189, 1.124, 0.783, 0.402])\n",
    "\n",
    "# this is the function we want to fit to our data\n",
    "def func(x, a, b):\n",
    "    'nonlinear function in a and b to fit to data'\n",
    "    return a * x / (b + x)\n",
    "\n",
    "initial_guess = [1.2, 0.03]\n",
    "pars, pcov = curve_fit(func, x, y, p0=initial_guess)\n",
    "\n",
    "alpha = 0.05 # 95% confidence interval = 100*(1-alpha)\n",
    "\n",
    "n = len(y)    # number of data points\n",
    "p = len(pars) # number of parameters\n",
    "\n",
    "dof = max(0, n - p) # number of degrees of freedom\n",
    "\n",
    "# student-t value for the dof and confidence level\n",
    "tval = t.ppf(1.0-alpha/2., dof)\n",
    "\n",
    "for i, p,var in zip(range(n), pars, np.diag(pcov)):\n",
    "    sigma = var**0.5\n",
    "    print('p{0}: {1} [{2}  {3}]'.format(i, p,\n",
    "                                        p - sigma*tval,\n",
    "                                        p + sigma*tval))\n",
    "\n",
    "import matplotlib.pyplot as plt\n",
    "plt.plot(x,y,'bo ')\n",
    "xfit = np.linspace(0,1)\n",
    "yfit = func(xfit, pars[0], pars[1])\n",
    "plt.plot(xfit,yfit,'b-')\n",
    "\n",
    "plt.legend(['data','fit'],loc='best');"
   ]
  },
  {
   "cell_type": "markdown",
   "id": "abf874a6",
   "metadata": {},
   "source": [
    "You can see by inspection that the fit looks pretty reasonable. The parameter confidence intervals are not too big, so we can be pretty confident of their values.\n",
    "\n"
   ]
  },
  {
   "cell_type": "markdown",
   "id": "b6830ad8",
   "metadata": {},
   "source": [
    "### Nonlinear curve fitting with confidence intervals\n",
    "\n"
   ]
  },
  {
   "cell_type": "markdown",
   "id": "2ad1e4ed",
   "metadata": {},
   "source": [
    "Our goal is to fit this equation to data $y = c1 exp(-x) + c2*x$ and compute the confidence intervals on the parameters.\n",
    "\n",
    "This is actually could be a linear regression problem, but it is convenient to illustrate the  use the nonlinear fitting routine because it makes it easy to get\n",
    "confidence intervals for comparison. The basic idea is to use the covariance matrix returned from the nonlinear fitting routine to estimate the student-t corrected confidence interval.\n",
    "\n"
   ]
  },
  {
   "cell_type": "code",
   "execution_count": null,
   "id": "3855d32b",
   "metadata": {},
   "outputs": [],
   "source": [
    "# Nonlinear curve fit with confidence interval\n",
    "import numpy as np\n",
    "from scipy.optimize import curve_fit\n",
    "from scipy.stats.distributions import  t\n",
    "\n",
    "x = np.array([ 0.1,  0.2,  0.3,  0.4,  0.5,  0.6,  0.7,  0.8,  0.9,  1. ])\n",
    "y = np.array([ 4.70192769,  4.46826356,  4.57021389,  4.29240134,  3.88155125,\n",
    "\t       3.78382253,  3.65454727,  3.86379487,  4.16428541,  4.06079909])\n",
    "\n",
    "# this is the function we want to fit to our data\n",
    "def func(x,c0, c1):\n",
    "    return c0 * np.exp(-x) + c1*x\n",
    "\n",
    "pars, pcov = curve_fit(func, x, y, p0=[4.96, 2.11])\n",
    "\n",
    "alpha = 0.05 # 95% confidence interval\n",
    "\n",
    "n = len(y)    # number of data points\n",
    "p = len(pars) # number of parameters\n",
    "\n",
    "dof = max(0, n-p) # number of degrees of freedom\n",
    "\n",
    "tval = t.ppf(1.0 - alpha / 2.0, dof) # student-t value for the dof and confidence level\n",
    "\n",
    "for i, p,var in zip(range(n), pars, np.diag(pcov)):\n",
    "    sigma = var**0.5\n",
    "    print('c{0}: {1} [{2}  {3}]'.format(i, p,\n",
    "\t\t\t\t\tp - sigma*tval,\n",
    "                                        p + sigma*tval))\n",
    "\n",
    "import matplotlib.pyplot as plt\n",
    "plt.plot(x,y,'bo ')\n",
    "xfit = np.linspace(0,1)\n",
    "yfit = func(xfit, pars[0], pars[1])\n",
    "plt.plot(xfit,yfit,'b-')\n",
    "plt.legend(['data','fit'],loc='best');"
   ]
  },
  {
   "cell_type": "markdown",
   "id": "fb883639",
   "metadata": {},
   "source": [
    "### Graphical methods to help get initial guesses for multivariate nonlinear regression\n",
    "\n"
   ]
  },
  {
   "cell_type": "markdown",
   "id": "fa25dff1",
   "metadata": {},
   "source": [
    "[Matlab post](http://matlab.cheme.cmu.edu/2011/10/09/graphical-methods-to-help-get-initial-guesses-for-multivariate-nonlinear-regression/)\n",
    "\n",
    "Fit the model f(x1,x2; a,b) = a\\*x1 + x2^b to the data given below. This model has two independent variables, and two parameters.\n",
    "\n",
    "We want to do a nonlinear fit to find a and b that minimize the summed squared errors between the model predictions and the data. With only two variables, we can graph how the summed squared error varies with the parameters, which may help us get initial guesses. Let us assume the parameters lie in a range, here we choose 0 to 5. In other problems you would adjust this as needed.\n",
    "\n"
   ]
  },
  {
   "cell_type": "code",
   "execution_count": null,
   "id": "b4a527a7",
   "metadata": {},
   "outputs": [],
   "source": [
    "import numpy as np\n",
    "\n",
    "import matplotlib.pyplot as plt\n",
    "\n",
    "x1 = [1.0, 2.0, 3.0, 4.0, 5.0, 6.0]\n",
    "x2 = [0.2, 0.4, 0.8, 0.9, 1.1, 2.1]\n",
    "X = np.column_stack([x1, x2]) # independent variables\n",
    "\n",
    "f = [ 3.3079,    6.6358,   10.3143,   13.6492,   17.2755,   23.6271]\n",
    "\n",
    "fig = plt.figure()\n",
    "ax = fig.add_subplot(projection = '3d')\n",
    "\n",
    "ax.plot(x1, x2, f)\n",
    "ax.set_xlabel('x1')\n",
    "ax.set_ylabel('x2')\n",
    "ax.set_zlabel('f(x1,x2)');"
   ]
  },
  {
   "cell_type": "code",
   "execution_count": null,
   "id": "4a293278",
   "metadata": {},
   "outputs": [],
   "source": [
    "arange = np.linspace(0,5);\n",
    "brange = np.linspace(0,5);\n",
    "\n",
    "A,B = np.meshgrid(arange, brange)\n",
    "\n",
    "def model(X, a, b):\n",
    "    'Nested function for the model'\n",
    "    x1 = X[:, 0]\n",
    "    x2 = X[:, 1]\n",
    "\n",
    "    f = a * x1 + x2**b\n",
    "    return f\n",
    "\n",
    "@np.vectorize\n",
    "def errfunc(a, b):\n",
    "    # function for the summed squared error\n",
    "    fit = model(X, a, b)\n",
    "    sse = np.sum((fit - f)**2)\n",
    "    return sse\n",
    "\n",
    "SSE = errfunc(A, B)\n",
    "\n",
    "plt.contourf(A, B, SSE, 50)\n",
    "plt.plot([3.2], [2.1], 'ro')\n",
    "\n",
    "guesses = [3.18, 2.02]\n",
    "\n",
    "from scipy.optimize import curve_fit\n",
    "\n",
    "popt, pcov = curve_fit(model, X, f, guesses)\n",
    "print(popt)\n",
    "\n",
    "plt.plot([popt[0]], [popt[1]], 'r*')\n",
    "\n",
    "\n",
    "print(model(X, *popt))"
   ]
  },
  {
   "cell_type": "code",
   "execution_count": null,
   "id": "42a75fa7",
   "metadata": {},
   "outputs": [],
   "source": [
    "fig = plt.figure()\n",
    "ax = fig.add_subplot(projection = '3d')\n",
    "\n",
    "ax.plot(x1, x2, f, 'ko', label='data')\n",
    "ax.plot(x1, x2, model(X, *popt), 'r-', label='fit')\n",
    "ax.set_xlabel('x1')\n",
    "ax.set_ylabel('x2')\n",
    "ax.set_zlabel('f(x1,x2)');"
   ]
  },
  {
   "cell_type": "markdown",
   "id": "e4e0f91c",
   "metadata": {},
   "source": [
    "It can be difficult to figure out initial guesses for nonlinear fitting problems. For one and two dimensional systems, graphical techniques may be useful to visualize how the summed squared error between the model and data depends on the parameters.\n",
    "\n"
   ]
  },
  {
   "cell_type": "markdown",
   "id": "8cebd7f9",
   "metadata": {},
   "source": [
    "### Fitting a numerical ODE solution to data\n",
    "\n"
   ]
  },
  {
   "cell_type": "markdown",
   "id": "4529ba00",
   "metadata": {},
   "source": [
    "[Matlab post](http://matlab.cheme.cmu.edu/2011/09/29/fitting-a-numerical-ode-solution-to-data/)\n",
    "\n",
    "Suppose we know the concentration of A follows this differential equation: $\\frac{dC_A}{dt} = -k C_A$, and we have data we want to fit to it. Here is an example of doing that.\n",
    "\n"
   ]
  },
  {
   "cell_type": "code",
   "execution_count": null,
   "id": "defe4884",
   "metadata": {},
   "outputs": [],
   "source": [
    "import numpy as np\n",
    "from scipy.optimize import curve_fit\n",
    "from scipy.integrate import odeint\n",
    "\n",
    "# given data we want to fit\n",
    "tspan = [0, 0.1, 0.2, 0.4, 0.8, 1]\n",
    "Ca_data = [2.0081,  1.5512,  1.1903,  0.7160,  0.2562,  0.1495]\n",
    "\n",
    "def fitfunc(t, k):\n",
    "    'Function that returns Ca computed from an ODE for a k'\n",
    "    def myode(Ca, t):\n",
    "        return -k * Ca\n",
    "\n",
    "    Ca0 = Ca_data[0]\n",
    "    Casol = odeint(myode, Ca0, t)\n",
    "    return Casol[:,0]\n",
    "\n",
    "k_fit, kcov = curve_fit(fitfunc, tspan, Ca_data, p0=1.3)\n",
    "print(k_fit)\n",
    "\n",
    "tfit = np.linspace(0,1);\n",
    "fit = fitfunc(tfit, k_fit)\n",
    "\n",
    "import matplotlib.pyplot as plt\n",
    "plt.plot(tspan, Ca_data, 'ro', label='data')\n",
    "plt.plot(tfit, fit, 'b-', label='fit')\n",
    "plt.legend(loc='best');"
   ]
  },
  {
   "cell_type": "markdown",
   "id": "c8e32cd5",
   "metadata": {},
   "source": [
    "### Reading in delimited text files\n",
    "\n"
   ]
  },
  {
   "cell_type": "markdown",
   "id": "2c4c37fc",
   "metadata": {},
   "source": [
    "[Matlab post](http://matlab.cheme.cmu.edu/2011/08/07/reading-in-delimited-text-files/)\n",
    "\n",
    "sometimes you will get data in a delimited text file format, .e.g. separated by commas or tabs. Matlab can read these in easily. Suppose we have a file containing this data:\n",
    "\n",
    "    1   3\n",
    "    3   4\n",
    "    5   6\n",
    "    4   8\n",
    "\n",
    "It is easy to read this directly into variables like this:\n",
    "\n"
   ]
  },
  {
   "cell_type": "code",
   "execution_count": null,
   "id": "c5afa726",
   "metadata": {},
   "outputs": [],
   "source": [
    "import numpy as np\n",
    "\n",
    "x,y = np.loadtxt('../data/testdata.txt', unpack=True)\n",
    "\n",
    "print(x, y)"
   ]
  }
 ],
 "metadata": {
  "kernelspec": {
   "display_name": "Python 3",
   "language": "python",
   "name": "python3"
  }
 },
 "nbformat": 4,
 "nbformat_minor": 5
}