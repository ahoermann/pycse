{
 "cells": [
  {
   "cell_type": "markdown",
   "id": "44db4797",
   "metadata": {},
   "source": [
    "## Worked examples\n",
    "\n"
   ]
  },
  {
   "cell_type": "markdown",
   "id": "445a92bf",
   "metadata": {},
   "source": [
    "### Peak finding in Raman spectroscopy\n",
    "\n"
   ]
  },
  {
   "cell_type": "markdown",
   "id": "f5a252ec",
   "metadata": {},
   "source": [
    "CLOSED: <span class=\"timestamp-wrapper\"><span class=\"timestamp\">[2014-10-14 Tue 15:01]</span></span>\n",
    "\n",
    ":categories: data analysis\n",
    ":date:     2013/02/27 10:55:57\n",
    ":updated:  2014/10/14 15:01:48\n",
    "\n",
    "Raman spectroscopy is a vibrational spectroscopy. The data typically comes as intensity vs. wavenumber, and it is discrete. Sometimes it is necessary to identify the precise location of a peak. In this post, we will use spline smoothing to construct an interpolating function of the data, and then use fminbnd to identify peak positions.\n",
    "\n",
    "This example was originally worked out in Matlab at [http://matlab.cheme.cmu.edu/2012/08/27/peak-finding-in-raman-spectroscopy/](http://matlab.cheme.cmu.edu/2012/08/27/peak-finding-in-raman-spectroscopy/)\n",
    "\n",
    "[loadtxt](loadtxt)\n",
    "\n",
    "Let us take a look at the raw data.\n",
    "\n"
   ]
  },
  {
   "cell_type": "code",
   "execution_count": null,
   "id": "ec084805",
   "metadata": {},
   "outputs": [],
   "source": [
    "import numpy as np\n",
    "import matplotlib.pyplot as plt\n",
    "\n",
    "w, i = np.loadtxt('../data/raman.txt', usecols=(0, 1), unpack=True)\n",
    "\n",
    "plt.plot(w, i)\n",
    "plt.xlabel('Raman shift (cm$^{-1}$)')\n",
    "plt.ylabel('Intensity (counts)');"
   ]
  },
  {
   "cell_type": "markdown",
   "id": "74fb0ec5",
   "metadata": {},
   "source": [
    "The next thing to do is narrow our focus to the region we are interested in between 1340 cm<sup>-1</sup> and 1360 cm<sup>-1</sup>.\n",
    "\n"
   ]
  },
  {
   "cell_type": "code",
   "execution_count": null,
   "id": "54f0ce3d",
   "metadata": {},
   "outputs": [],
   "source": [
    "ind = (w > 1340) & (w < 1360)\n",
    "w1 = w[ind]\n",
    "i1 = i[ind]\n",
    "\n",
    "plt.figure()\n",
    "plt.plot(w1, i1, 'b. ')\n",
    "plt.xlabel('Raman shift (cm$^{-1}$)')\n",
    "plt.ylabel('Intensity (counts)');"
   ]
  },
  {
   "cell_type": "markdown",
   "id": "7b5353fa",
   "metadata": {},
   "source": [
    "Next we consider a scipy:UnivariateSpline. This function \"smooths\" the data.\n",
    "\n"
   ]
  },
  {
   "cell_type": "code",
   "execution_count": null,
   "id": "c32d2ff8",
   "metadata": {},
   "outputs": [],
   "source": [
    "from scipy.interpolate import UnivariateSpline\n",
    "\n",
    "# s is a \"smoothing\" factor\n",
    "sp = UnivariateSpline(w1, i1, k=4, s=2000)\n",
    "\n",
    "plt.plot(w1, i1, 'b. ')\n",
    "plt.plot(w1, sp(w1), 'r-')\n",
    "plt.xlabel('Raman shift (cm$^{-1}$)')\n",
    "plt.ylabel('Intensity (counts)');"
   ]
  },
  {
   "cell_type": "markdown",
   "id": "9c2b47da",
   "metadata": {},
   "source": [
    "Note that the UnivariateSpline function returns a \"callable\" function! Our next goal is to find the places where there are peaks. This is defined by the first derivative of the data being equal to zero. It is easy to get the first derivative of a UnivariateSpline with a second argument as shown below.\n",
    "\n"
   ]
  },
  {
   "cell_type": "code",
   "execution_count": null,
   "id": "da5af251",
   "metadata": {},
   "outputs": [],
   "source": [
    "# get the first derivative evaluated at all the points\n",
    "d1s = sp.derivative()\n",
    "\n",
    "d1 = d1s(w1)\n",
    "\n",
    "# we can get the roots directly here, which correspond to minima and\n",
    "# maxima.\n",
    "print('Roots = {}'.format(sp.derivative().roots()))\n",
    "minmax = sp.derivative().roots()\n",
    "\n",
    "plt.clf()\n",
    "plt.plot(w1, d1, label='first derivative')\n",
    "plt.xlabel('Raman shift (cm$^{-1}$)')\n",
    "plt.ylabel('First derivative')\n",
    "plt.grid()\n",
    "\n",
    "plt.figure()\n",
    "plt.plot(minmax, d1s(minmax), 'ro ', label='zeros')\n",
    "plt.legend(loc='best')\n",
    "\n",
    "plt.plot(w1, i1, 'b. ')\n",
    "plt.plot(w1, sp(w1), 'r-')\n",
    "plt.xlabel('Raman shift (cm$^{-1}$)')\n",
    "plt.ylabel('Intensity (counts)')\n",
    "plt.plot(minmax, sp(minmax), 'ro ');"
   ]
  },
  {
   "cell_type": "markdown",
   "id": "f3744a43",
   "metadata": {},
   "source": [
    "In the end, we have illustrated how to construct a spline smoothing interpolation function and to find maxima in the function, including generating some initial guesses. There is more art to this than you might like, since you have to judge how much smoothing is enough or too much. With too much, you may smooth peaks out. With too little, noise may be mistaken for peaks.\n",
    "\n"
   ]
  },
  {
   "cell_type": "markdown",
   "id": "0ac41bf7",
   "metadata": {},
   "source": [
    "#### Summary notes\n",
    "\n"
   ]
  },
  {
   "cell_type": "markdown",
   "id": "931c1e63",
   "metadata": {},
   "source": [
    "Using org-mode with  allows a large script to be broken up into mini sections. However, it only seems to work with the default python mode in Emacs, and it does not work with emacs-for-python or the latest python-mode. I also do not really like the output style, e.g. the output from the plotting commands.\n",
    "\n"
   ]
  },
  {
   "cell_type": "markdown",
   "id": "f06fd55d",
   "metadata": {},
   "source": [
    "### Curve fitting to get overlapping peak areas\n",
    "\n"
   ]
  },
  {
   "cell_type": "markdown",
   "id": "f8964bf5",
   "metadata": {},
   "source": [
    "Today we examine an approach to fitting curves to overlapping peaks to deconvolute them so we can estimate the area under each curve. We have a text file that contains data from a gas chromatograph with two peaks that overlap. We want the area under each peak to estimate the gas composition. You will see how to read the text file in, parse it to get the data for plotting and analysis, and then how to fit it.\n",
    "\n",
    "A line like \"# of Points\t9969\" tells us the number of points we have to read. The data starts after a line containing \"R.Time\tIntensity\". Here we read the number of points, and then get the data into arrays.\n",
    "\n"
   ]
  },
  {
   "cell_type": "code",
   "execution_count": null,
   "id": "dae7b1e3",
   "metadata": {},
   "outputs": [],
   "source": [
    "import numpy as np\n",
    "import matplotlib.pyplot as plt\n",
    "\n",
    "datafile = '../data/gc-data-21.txt'\n",
    "\n",
    "i = 0\n",
    "with open(datafile) as f:\n",
    "    lines = f.readlines()\n",
    "\n",
    "for i,line in enumerate(lines):\n",
    "    if '# of Points' in line:\n",
    "        npoints = int(line.split()[-1])\n",
    "    elif 'R.Time\\tIntensity' in line:\n",
    "        i += 1\n",
    "        break\n",
    "\n",
    "# now get the data\n",
    "t, intensity = [], []\n",
    "for j in range(i, i + npoints):\n",
    "    fields = lines[j].split()\n",
    "    t += [float(fields[0])]\n",
    "    intensity += [int(fields[1])]\n",
    "\n",
    "t = np.array(t)\n",
    "intensity = np.array(intensity, float)\n",
    "\n",
    "# now plot the data in the relevant time frame\n",
    "plt.plot(t, intensity)\n",
    "plt.xlim([4, 6])\n",
    "plt.xlabel('Time (s)')\n",
    "plt.ylabel('Intensity (arb. units)');"
   ]
  },
  {
   "cell_type": "markdown",
   "id": "4ff91530",
   "metadata": {},
   "source": [
    "You can see there is a non-zero baseline. We will normalize that by the average between 4 and 4.4 seconds.\n",
    "\n"
   ]
  },
  {
   "cell_type": "code",
   "execution_count": null,
   "id": "9f8dbb37",
   "metadata": {},
   "outputs": [],
   "source": [
    "intensity -= np.mean(intensity[(t > 4.0) & (t < 4.4)])\n",
    "plt.figure()\n",
    "plt.plot(t, intensity)\n",
    "plt.xlim([4, 6])\n",
    "plt.xlabel('Time (s)')\n",
    "plt.ylabel('Intensity (arb. units)');"
   ]
  },
  {
   "cell_type": "markdown",
   "id": "ff33cf37",
   "metadata": {},
   "source": [
    "The peaks are asymmetric, decaying gaussian functions. We define a function for this\n",
    "\n"
   ]
  },
  {
   "cell_type": "code",
   "execution_count": null,
   "id": "3ebb4593",
   "metadata": {},
   "outputs": [],
   "source": [
    "from scipy.special import erf\n",
    "\n",
    "def asym_peak(t, pars):\n",
    "    'from Anal. Chem. 1994, 66, 1294-1301'\n",
    "    a0 = pars[0]  # peak area\n",
    "    a1 = pars[1]  # elution time\n",
    "    a2 = pars[2]  # width of gaussian\n",
    "    a3 = pars[3]  # exponential damping term\n",
    "    f = (a0/2/a3*np.exp(a2**2/2.0/a3**2 + (a1 - t)/a3)\n",
    "         *(erf((t-a1)/(np.sqrt(2.0)*a2) - a2/np.sqrt(2.0)/a3) + 1.0))\n",
    "    return f"
   ]
  },
  {
   "cell_type": "markdown",
   "id": "43291b4b",
   "metadata": {},
   "source": [
    "To get two peaks, we simply add two peaks together.\n",
    "\n"
   ]
  },
  {
   "cell_type": "code",
   "execution_count": null,
   "id": "1c88080e",
   "metadata": {},
   "outputs": [],
   "source": [
    "def two_peaks(t, *pars):\n",
    "    'function of two overlapping peaks'\n",
    "    a10 = pars[0]  # peak area\n",
    "    a11 = pars[1]  # elution time\n",
    "    a12 = pars[2]  # width of gaussian\n",
    "    a13 = pars[3]  # exponential damping term\n",
    "    a20 = pars[4]  # peak area\n",
    "    a21 = pars[5]  # elution time\n",
    "    a22 = pars[6]  # width of gaussian\n",
    "    a23 = pars[7]  # exponential damping term\n",
    "    p1 = asym_peak(t, [a10, a11, a12, a13])\n",
    "    p2 = asym_peak(t, [a20, a21, a22, a23])\n",
    "    return p1 + p2"
   ]
  },
  {
   "cell_type": "markdown",
   "id": "bb604e37",
   "metadata": {},
   "source": [
    "To show the function is close to reasonable, we plot the fitting function with an initial guess for each parameter. The fit is not good, but we have only guessed the parameters for now.\n",
    "\n"
   ]
  },
  {
   "cell_type": "code",
   "execution_count": null,
   "id": "69e0540a",
   "metadata": {},
   "outputs": [],
   "source": [
    "parguess = (1500, 4.85, 0.05, 0.05, 5000, 5.1, 0.05, 0.1)\n",
    "plt.figure()\n",
    "plt.plot(t, intensity)\n",
    "plt.plot(t,two_peaks(t, *parguess),'g-')\n",
    "plt.xlim([4, 6])\n",
    "plt.xlabel('Time (s)')\n",
    "plt.ylabel('Intensity (arb. units)');"
   ]
  },
  {
   "cell_type": "markdown",
   "id": "8476a6ac",
   "metadata": {},
   "source": [
    "Next, we use nonlinear curve fitting from scipy.optimize.curve\\_fit\n",
    "\n"
   ]
  },
  {
   "cell_type": "code",
   "execution_count": null,
   "id": "c832761e",
   "metadata": {},
   "outputs": [],
   "source": [
    "from scipy.optimize import curve_fit\n",
    "\n",
    "popt, pcov = curve_fit(two_peaks, t, intensity, parguess)\n",
    "print(popt)\n",
    "plt.plot(t, intensity)\n",
    "plt.plot(t,two_peaks(t, *parguess),'g-')\n",
    "plt.xlim([4, 6])\n",
    "plt.plot(t, two_peaks(t, *popt), 'r-')\n",
    "plt.legend(['data', 'initial guess','final fit']);"
   ]
  },
  {
   "cell_type": "markdown",
   "id": "0d84d7e2",
   "metadata": {},
   "source": [
    "The fits are not perfect. The small peak is pretty good, but there is an unphysical tail on the larger peak, and a small mismatch at the peak. There is not much to do about that, it means the model peak we are using is not a good model for the peak. We will still integrate the areas though.\n",
    "\n"
   ]
  },
  {
   "cell_type": "code",
   "execution_count": null,
   "id": "cdb27c14",
   "metadata": {},
   "outputs": [],
   "source": [
    "pars1 = popt[0:4]\n",
    "pars2 = popt[4:8]\n",
    "\n",
    "peak1 = asym_peak(t, pars1)\n",
    "peak2 = asym_peak(t, pars2)\n",
    "\n",
    "area1 = np.trapz(peak1, t)\n",
    "area2 = np.trapz(peak2, t)\n",
    "\n",
    "print('Area 1 = {0:1.2f}'.format(area1))\n",
    "print('Area 2 = {0:1.2f}'.format(area2))\n",
    "\n",
    "print('Area 1 is {0:1.2%} of the whole area'.format(area1/(area1 + area2)))\n",
    "print('Area 2 is {0:1.2%} of the whole area'.format(area2/(area1 + area2)))\n",
    "\n",
    "plt.figure()\n",
    "plt.plot(t, intensity)\n",
    "plt.plot(t, peak1, 'r-')\n",
    "plt.plot(t, peak2, 'g-')\n",
    "plt.xlim([4, 6])\n",
    "plt.xlabel('Time (s)')\n",
    "plt.ylabel('Intensity (arb. units)')\n",
    "plt.legend(['data', 'peak 1', 'peak 2']);"
   ]
  },
  {
   "cell_type": "markdown",
   "id": "5565f23a",
   "metadata": {},
   "source": [
    "This sample was air, and the first peak is oxygen, and the second peak is nitrogen. we come pretty close to the actual composition of air, although it is low on the oxygen content. To do better, one would have to use a calibration curve.\n",
    "\n",
    "In the end, the overlap of the peaks is pretty small, but it is still difficult to reliably and reproducibly deconvolute them. By using an algorithm like we have demonstrated here, it is possible at least to make the deconvolution reproducible.\n",
    "\n"
   ]
  },
  {
   "cell_type": "markdown",
   "id": "b84c69b9",
   "metadata": {},
   "source": [
    "#### Notable differences from Matlab\n",
    "\n"
   ]
  },
  {
   "cell_type": "markdown",
   "id": "85cd3a23",
   "metadata": {},
   "source": [
    "1.  The order of arguments to np.trapz is reversed.\n",
    "2.  The order of arguments to the fitting function scipy.optimize.curve\\_fit is different than in Matlab.\n",
    "3.  The scipy.optimize.curve\\_fit function expects a fitting function that has all parameters as arguments, where Matlab expects a vector of parameters.\n",
    "4.  \n",
    "\n"
   ]
  },
  {
   "cell_type": "markdown",
   "id": "23a7a33f",
   "metadata": {},
   "source": [
    "### Estimating the boiling point of water\n",
    "\n"
   ]
  },
  {
   "cell_type": "markdown",
   "id": "b124efff",
   "metadata": {},
   "source": [
    "[Matlab post](http://matlab.cheme.cmu.edu/2012/01/01/estimating-the-boiling-point-of-water/)\n",
    "\n",
    "I got distracted looking for Shomate parameters for ethane today, and came across this [website](http://senese.wordpress.com/2010/01/26/notebook-3-2-predicting-boiling-points-from-liquidvapor-gibbs-free-energy-functions/) on predicting the boiling point of water using the Shomate equations. The basic idea is to find the temperature where the Gibbs energy of water as a vapor is equal to the Gibbs energy of the liquid.\n",
    "\n"
   ]
  },
  {
   "cell_type": "code",
   "execution_count": null,
   "id": "172257bb",
   "metadata": {},
   "outputs": [],
   "source": [
    "import matplotlib.pyplot as plt"
   ]
  },
  {
   "cell_type": "markdown",
   "id": "d3255253",
   "metadata": {},
   "source": [
    "Liquid water (\\url{http://webbook.nist.gov/cgi/cbook.cgi?ID=C7732185&Units=SI&Mask=2#Thermo-Condensed})\n",
    "\n"
   ]
  },
  {
   "cell_type": "code",
   "execution_count": null,
   "id": "64848bf8",
   "metadata": {},
   "outputs": [],
   "source": [
    "# valid over 298-500\n",
    "\n",
    "Hf_liq = -285.830   # kJ/mol\n",
    "S_liq = 0.06995     # kJ/mol/K\n",
    "shomateL = [-203.6060,\n",
    "            1523.290,\n",
    "           -3196.413,\n",
    "            2474.455,\n",
    "               3.855326,\n",
    "            -256.5478,\n",
    "            -488.7163,\n",
    "            -285.8304]"
   ]
  },
  {
   "cell_type": "markdown",
   "id": "9f9de6b6",
   "metadata": {},
   "source": [
    "Gas phase water (\\url{http://webbook.nist.gov/cgi/cbook.cgi?ID=C7732185&Units=SI&Mask=1&Type=JANAFG&Table=on#JANAFG})\n",
    "\n",
    "Interestingly, these parameters are listed as valid only above 500K. That means we have to extrapolate the values down to 298K. That is risky for polynomial models, as they can deviate substantially outside the region they were fitted to.\n",
    "\n"
   ]
  },
  {
   "cell_type": "code",
   "execution_count": null,
   "id": "785d7579",
   "metadata": {},
   "outputs": [],
   "source": [
    "Hf_gas = -241.826  # kJ/mol\n",
    "S_gas = 0.188835   # kJ/mol/K\n",
    "\n",
    "shomateG = [30.09200,\n",
    "             6.832514,\n",
    "             6.793435,\n",
    "            -2.534480,\n",
    "             0.082139,\n",
    "          -250.8810,\n",
    "           223.3967,\n",
    "          -241.8264]"
   ]
  },
  {
   "cell_type": "markdown",
   "id": "eaef3d06",
   "metadata": {},
   "source": [
    "Now, we wan to compute G for each phase as a function of T\n",
    "\n"
   ]
  },
  {
   "cell_type": "code",
   "execution_count": null,
   "id": "08bd1530",
   "metadata": {},
   "outputs": [],
   "source": [
    "import numpy as np\n",
    "\n",
    "T = np.linspace(0, 200) + 273.15\n",
    "t = T / 1000.0\n",
    "\n",
    "sTT = np.vstack([np.log(t),\n",
    "                 t,\n",
    "                 (t**2) / 2.0,\n",
    "                 (t**3) / 3.0,\n",
    "                 -1.0 / (2*t**2),\n",
    "                 0 * t,\n",
    "                 t**0,\n",
    "                 0 * t**0]).T / 1000.0\n",
    "\n",
    "hTT = np.vstack([t,\n",
    "                 (t**2)/2.0,\n",
    "                 (t**3)/3.0,\n",
    "                 (t**4)/4.0,\n",
    "                 -1.0 / t,\n",
    "                 1 * t**0,\n",
    "                 0 * t**0,\n",
    "                 -1 * t**0]).T\n",
    "\n",
    "Gliq = Hf_liq + np.dot(hTT, shomateL) - T*(np.dot(sTT, shomateL))\n",
    "Ggas = Hf_gas + np.dot(hTT, shomateG) - T*(np.dot(sTT, shomateG))\n",
    "\n",
    "from scipy.interpolate import interp1d\n",
    "from scipy.optimize import fsolve\n",
    "\n",
    "f = interp1d(T, Gliq - Ggas)\n",
    "bp, = fsolve(f, 373)\n",
    "print('The boiling point is {0} K'.format(bp))"
   ]
  },
  {
   "cell_type": "code",
   "execution_count": null,
   "id": "31e31682",
   "metadata": {},
   "outputs": [],
   "source": [
    "plt.figure(); plt.clf()\n",
    "plt.plot(T-273.15, Gliq, T-273.15, Ggas)\n",
    "plt.legend(['liquid water', 'steam'])\n",
    "\n",
    "plt.xlabel('Temperature $^\\circ$C')\n",
    "plt.ylabel('$\\Delta G$ (kJ/mol)')\n",
    "plt.title('The boiling point is approximately {0:1.2f} $^\\circ$C'.format(bp-273.15));"
   ]
  },
  {
   "cell_type": "markdown",
   "id": "3edc79ba",
   "metadata": {},
   "source": [
    "#### Summary\n",
    "\n"
   ]
  },
  {
   "cell_type": "markdown",
   "id": "a6fafa05",
   "metadata": {},
   "source": [
    "The answer we get us 0.05 K too high, which is not bad considering we estimated it using parameters that were fitted to thermodynamic data and that had finite precision and extrapolated the steam properties below the region the parameters were stated to be valid for.\n",
    "\n"
   ]
  },
  {
   "cell_type": "markdown",
   "id": "05bfda7c",
   "metadata": {},
   "source": [
    "### Gibbs energy minimization and the NIST webbook\n",
    "\n"
   ]
  },
  {
   "cell_type": "markdown",
   "id": "3c917eb5",
   "metadata": {},
   "source": [
    "[Matlab post](http://matlab.cheme.cmu.edu/2011/12/25/gibbs-energy-minimization-and-the-nist-webbook/)\n",
    "In Post 1536 we used the NIST webbook to compute a temperature dependent Gibbs energy of reaction, and then used a reaction extent variable to compute the equilibrium concentrations of each species for the water gas shift reaction.\n",
    "\n",
    "Today, we look at the direct minimization of the Gibbs free energy of the species, with no assumptions about stoichiometry of reactions. We only apply the constraint of conservation of atoms. We use the NIST Webbook to provide the data for the Gibbs energy of each species.\n",
    "\n",
    "As a reminder we consider equilibrium between the species $CO$, $H_2O$, $CO_2$ and $H_2$, at 1000K, and 10 atm total pressure with an initial equimolar molar flow rate of $CO$ and $H_2O$.\n",
    "\n"
   ]
  },
  {
   "cell_type": "code",
   "execution_count": null,
   "id": "84d2cf84",
   "metadata": {},
   "outputs": [],
   "source": [
    "import numpy as np\n",
    "\n",
    "T = 1000  # K\n",
    "R = 8.314e-3 # kJ/mol/K\n",
    "\n",
    "P = 10.0 # atm, this is the total pressure in the reactor\n",
    "Po = 1.0 # atm, this is the standard state pressure"
   ]
  },
  {
   "cell_type": "markdown",
   "id": "8401b0a1",
   "metadata": {},
   "source": [
    "We are going to store all the data and calculations in vectors, so we need to assign each position in the vector to a species. Here are the definitions we use in this work.\n",
    "\n",
    "    1  CO\n",
    "    2  H2O\n",
    "    3  CO2\n",
    "    4  H2\n",
    "\n"
   ]
  },
  {
   "cell_type": "code",
   "execution_count": null,
   "id": "03e35b9d",
   "metadata": {},
   "outputs": [],
   "source": [
    "species = ['CO', 'H2O', 'CO2', 'H2']\n",
    "\n",
    "# Heats of formation at 298.15 K\n",
    "\n",
    "Hf298 = [\n",
    "    -110.53,  # CO\n",
    "    -241.826, # H2O\n",
    "    -393.51,  # CO2\n",
    "       0.0]   # H2\n",
    "\n",
    "# Shomate parameters for each species\n",
    "#           A          B           C          D          E            F          G       H\n",
    "WB = [[25.56759,  6.096130,     4.054656,  -2.671301,  0.131021, -118.0089, 227.3665,   -110.5271],  # CO\n",
    "      [30.09200,  6.832514,     6.793435,  -2.534480,  0.082139, -250.8810, 223.3967,   -241.8264],  # H2O\n",
    "      [24.99735,  55.18696,   -33.69137,    7.948387, -0.136638, -403.6075, 228.2431,   -393.5224],  # CO2\n",
    "      [33.066178, -11.363417,  11.432816,  -2.772874, -0.158558, -9.980797, 172.707974,    0.0]]     # H2\n",
    "\n",
    "WB = np.array(WB)\n",
    "\n",
    "# Shomate equations\n",
    "t = T/1000\n",
    "T_H = np.array([t,  t**2 / 2.0, t**3 / 3.0, t**4 / 4.0, -1.0 / t, 1.0, 0.0, -1.0])\n",
    "T_S = np.array([np.log(t), t,  t**2 / 2.0,  t**3 / 3.0, -1.0 / (2.0 * t**2), 0.0, 1.0, 0.0])\n",
    "\n",
    "H = np.dot(WB, T_H)        # (H - H_298.15) kJ/mol\n",
    "S = np.dot(WB, T_S/1000.0) # absolute entropy kJ/mol/K\n",
    "\n",
    "Gjo = Hf298 + H - T*S      # Gibbs energy of each component at 1000 K"
   ]
  },
  {
   "cell_type": "markdown",
   "id": "b8dfab0f",
   "metadata": {},
   "source": [
    "Now, construct the Gibbs free energy function, accounting for the change in activity due to concentration changes (ideal mixing).\n",
    "\n"
   ]
  },
  {
   "cell_type": "code",
   "execution_count": null,
   "id": "81c6b90e",
   "metadata": {},
   "outputs": [],
   "source": [
    "def func(nj):\n",
    "    nj = np.array(nj)\n",
    "    Enj = np.sum(nj);\n",
    "    Gj =  Gjo / (R * T) + np.log(nj / Enj * P / Po)\n",
    "    return np.dot(nj, Gj)"
   ]
  },
  {
   "cell_type": "markdown",
   "id": "248ed7b3",
   "metadata": {},
   "source": [
    "We impose the constraint that all atoms are conserved from the initial conditions to the equilibrium distribution of species. These constraints are in the form of $A_{eq} n = b_{eq}$, where $n$ is the vector of mole numbers for each species.\n",
    "\n"
   ]
  },
  {
   "cell_type": "code",
   "execution_count": null,
   "id": "311dd788",
   "metadata": {},
   "outputs": [],
   "source": [
    "Aeq = np.array([[ 1,    0,    1,    0],  # C balance\n",
    "                [ 1,    1,    2,    0],  # O balance\n",
    "                [ 0,    2,    0,    2]]) # H balance\n",
    "\n",
    "# equimolar feed of 1 mol H2O and 1 mol CO\n",
    "beq = np.array([1,  # mol C fed\n",
    "                2,  # mol O fed\n",
    "                2]) # mol H fed\n",
    "\n",
    "def ec1(nj):\n",
    "    'conservation of atoms constraint'\n",
    "    return np.dot(Aeq, nj) - beq"
   ]
  },
  {
   "cell_type": "markdown",
   "id": "1eb2bb57",
   "metadata": {},
   "source": [
    "Now we are ready to solve the problem.\n",
    "\n"
   ]
  },
  {
   "cell_type": "code",
   "execution_count": null,
   "id": "2f0c67df",
   "metadata": {},
   "outputs": [],
   "source": [
    "from scipy.optimize import fmin_slsqp\n",
    "\n",
    "n0 = [0.5, 0.5, 0.5, 0.5]  # initial guesses\n",
    "N = fmin_slsqp(func, n0, f_eqcons=ec1)\n",
    "print(N)"
   ]
  },
  {
   "cell_type": "markdown",
   "id": "43cfef4c",
   "metadata": {},
   "source": [
    "#### Compute mole fractions and partial pressures\n",
    "\n"
   ]
  },
  {
   "cell_type": "markdown",
   "id": "27a75e52",
   "metadata": {},
   "source": [
    "The pressures here are in good agreement with the pressures found by other methods. The minor disagreement (in the third or fourth decimal place) is likely due to convergence tolerances in the different algorithms used.\n",
    "\n"
   ]
  },
  {
   "cell_type": "code",
   "execution_count": null,
   "id": "127dc5d3",
   "metadata": {},
   "outputs": [],
   "source": [
    "yj = N / np.sum(N)\n",
    "Pj = yj * P\n",
    "\n",
    "for s, y, p in zip(species, yj, Pj):\n",
    "    print('{0:10s}: {1:1.2f} {2:1.2f}'.format(s, y, p))"
   ]
  },
  {
   "cell_type": "markdown",
   "id": "4fd6999c",
   "metadata": {},
   "source": [
    "#### Computing equilibrium constants\n",
    "\n"
   ]
  },
  {
   "cell_type": "markdown",
   "id": "8545d68a",
   "metadata": {},
   "source": [
    "We can compute the equilibrium constant for the reaction $CO + H_2O \\rightleftharpoons CO_2 + H_2$. Compared to the value of K = 1.44 we found at the end of Post 1536 , the agreement is excellent. Note, that to define an equilibrium constant it is necessary to specify a reaction, even though it is not necessary to even consider a reaction to obtain the equilibrium distribution of species!\n",
    "\n"
   ]
  },
  {
   "cell_type": "code",
   "execution_count": null,
   "id": "afb5d5b9",
   "metadata": {},
   "outputs": [],
   "source": [
    "nuj = np.array([-1, -1, 1, 1])  # stoichiometric coefficients of the reaction\n",
    "K = np.prod(yj**nuj)\n",
    "print(K)"
   ]
  },
  {
   "cell_type": "markdown",
   "id": "d5a70509",
   "metadata": {},
   "source": [
    "### Finding equilibrium composition by direct minimization of Gibbs free energy on mole numbers\n",
    "\n"
   ]
  },
  {
   "cell_type": "markdown",
   "id": "675c830f",
   "metadata": {},
   "source": [
    "CLOSED: <span class=\"timestamp-wrapper\"><span class=\"timestamp\">[2014-09-10 Wed 13:15]</span></span>\n",
    "\n",
    ":date:     2013/03/01 12:27:48\n",
    ":updated:  2014/09/10 13:15:30\n",
    ":categories: optimization\n",
    ":tags:     thermodynamics\n",
    "\n",
    "[Matlab post](http://matlab.cheme.cmu.edu/2011/12/25/finding-equilibrium-composition-by-direct-minimization-of-gibbs-free-energy-on-mole-numbers/)\n",
    "Adapted from problem 4.5 in Cutlip and Shacham\n",
    "Ethane and steam are fed to a steam cracker at a total pressure of 1 atm and at 1000K at a ratio of 4 mol H2O to 1 mol ethane. Estimate the equilibrium distribution of products (CH4, C2H4, C2H2, CO2, CO, O2, H2, H2O, and C2H6).\n",
    "\n",
    "Solution method: We will construct a Gibbs energy function for the mixture, and obtain the equilibrium composition by minimization of the function subject to elemental mass balance constraints.\n",
    "\n"
   ]
  },
  {
   "cell_type": "code",
   "execution_count": null,
   "id": "f86a4233",
   "metadata": {},
   "outputs": [],
   "source": [
    "import numpy as np\n",
    "\n",
    "R = 0.00198588 # kcal/mol/K\n",
    "T = 1000 # K\n",
    "\n",
    "species = ['CH4', 'C2H4', 'C2H2', 'CO2', 'CO', 'O2', 'H2', 'H2O', 'C2H6']\n",
    "\n",
    "# $G_^\\circ for each species. These are the heats of formation for each\n",
    "# species.\n",
    "Gjo = np.array([4.61, 28.249, 40.604, -94.61, -47.942, 0, 0, -46.03, 26.13]) # kcal/mol"
   ]
  },
  {
   "cell_type": "markdown",
   "id": "d0186676",
   "metadata": {},
   "source": [
    "#### The Gibbs energy of a mixture\n",
    "\n"
   ]
  },
  {
   "cell_type": "markdown",
   "id": "e421455f",
   "metadata": {},
   "source": [
    "We start with $G=\\sum\\limits_j n_j \\mu_j$. Recalling that we define $\\mu_j = G_j^\\circ + RT \\ln a_j$, and in the ideal gas limit, $a_j = y_j P/P^\\circ$, and that $y_j = \\frac{n_j}{\\sum n_j}$. Since in this problem, P = 1 atm, this leads to the function $\\frac{G}{RT} = \\sum\\limits_{j=1}^n n_j\\left(\\frac{G_j^\\circ}{RT} + \\ln \\frac{n_j}{\\sum n_j}\\right)$.\n",
    "\n"
   ]
  },
  {
   "cell_type": "code",
   "execution_count": null,
   "id": "14bcbc54",
   "metadata": {},
   "outputs": [],
   "source": [
    "import numpy as np\n",
    "\n",
    "def func(nj):\n",
    "    nj = np.array(nj)\n",
    "    Enj = np.sum(nj);\n",
    "    G = np.sum(nj * (Gjo / R / T + np.log(nj / Enj)))\n",
    "    return G"
   ]
  },
  {
   "cell_type": "markdown",
   "id": "b3db1c38",
   "metadata": {},
   "source": [
    "#### Linear equality constraints for atomic mass conservation\n",
    "\n"
   ]
  },
  {
   "cell_type": "markdown",
   "id": "2f518754",
   "metadata": {},
   "source": [
    "The total number of each type of atom must be the same as what entered the reactor. These form equality constraints on the equilibrium composition. We express these constraints as: $A_{eq} n = b$ where $n$ is a vector of the moles of each species present in the mixture. CH4 C2H4 C2H2 CO2 CO O2 H2 H2O C2H6\n",
    "\n"
   ]
  },
  {
   "cell_type": "code",
   "execution_count": null,
   "id": "22b290e0",
   "metadata": {},
   "outputs": [],
   "source": [
    "Aeq = np.array([[0,   0,    0,   2,   1,  2,  0,  1,   0],      # oxygen balance\n",
    "                [4,   4,    2,   0,   0,  0,  2,  2,   6],      # hydrogen balance\n",
    "                [1,   2,    2,   1,   1,  0,  0,  0,   2]])     # carbon balance\n",
    "\n",
    "# the incoming feed was 4 mol H2O and 1 mol ethane\n",
    "beq = np.array([4,  # moles of oxygen atoms coming in\n",
    "                14, # moles of hydrogen atoms coming in\n",
    "                2]) # moles of carbon atoms coming in\n",
    "\n",
    "def ec1(n):\n",
    "    'equality constraint'\n",
    "    return np.dot(Aeq, n) - beq\n",
    "\n",
    "def ic1(n):\n",
    "    '''inequality constraint\n",
    "       all n>=0\n",
    "    '''\n",
    "    return n"
   ]
  },
  {
   "cell_type": "markdown",
   "id": "e8e63c48",
   "metadata": {},
   "source": [
    "Now we solve the problem.\n",
    "\n"
   ]
  },
  {
   "cell_type": "code",
   "execution_count": null,
   "id": "c0bdafb4",
   "metadata": {},
   "outputs": [],
   "source": [
    "# initial guess suggested in the example\n",
    "n0 = [1e-3, 1e-3, 1e-3, 0.993, 1.0, 1e-4, 5.992, 1.0, 1e-3]\n",
    "\n",
    "#n0 = [0.066, 8.7e-08, 2.1e-14, 0.545, 1.39, 5.7e-14, 5.346, 1.521, 1.58e-7]\n",
    "\n",
    "from scipy.optimize import fmin_slsqp\n",
    "print(func(n0))\n",
    "\n",
    "X = fmin_slsqp(func, n0, f_eqcons=ec1, f_ieqcons=ic1, iter=900, acc=1e-12)\n",
    "\n",
    "for s,x in zip(species, X):\n",
    "    print('{0:10s} {1:1.4g}'.format(s, x))\n",
    "\n",
    "# check that constraints were met\n",
    "print(np.dot(Aeq, X) - beq)\n",
    "print(np.all( np.abs( np.dot(Aeq, X) - beq) < 1e-12))"
   ]
  },
  {
   "cell_type": "markdown",
   "id": "b7aaf36b",
   "metadata": {},
   "source": [
    "I found it necessary to tighten the accuracy parameter to get pretty good matches to the solutions found in Matlab. It was also necessary to increase the number of iterations. Even still, not all of the numbers match well, especially the very small numbers. You can, however, see that the constraints were satisfied pretty well.\n",
    "\n",
    "Interestingly there is a distribution of products! That is interesting because only steam and ethane enter the reactor, but a small fraction of methane is formed! The main product is hydrogen. The stoichiometry of steam reforming is ideally $C_2H_6 + 4H_2O \\rightarrow 2CO_2 + 7 H2$. Even though nearly all the ethane is consumed, we do not get the full yield of hydrogen. It appears that another equilibrium, one between CO, CO2, H2O and H2, may be limiting that, since the rest of the hydrogen is largely in the water. It is also of great importance that we have not said anything about reactions, i.e. how these products were formed.\n",
    "\n",
    "The water gas shift reaction is: $CO + H_2O \\rightleftharpoons CO_2 + H_2$. We can compute the Gibbs free energy of the reaction from the heats of formation of each species. Assuming these are the formation energies at 1000K, this is the reaction free energy at 1000K.\n",
    "\n"
   ]
  },
  {
   "cell_type": "code",
   "execution_count": null,
   "id": "4f9a2204",
   "metadata": {},
   "outputs": [],
   "source": [
    "G_wgs = Gjo[3] + Gjo[6] - Gjo[4] - Gjo[7]\n",
    "print(G_wgs)\n",
    "\n",
    "K = np.exp(-G_wgs / (R*T))\n",
    "print(K)"
   ]
  },
  {
   "cell_type": "markdown",
   "id": "55ae5526",
   "metadata": {},
   "source": [
    "#### Equilibrium constant based on mole numbers\n",
    "\n"
   ]
  },
  {
   "cell_type": "markdown",
   "id": "83c9c2c0",
   "metadata": {},
   "source": [
    "One normally uses activities to define the equilibrium constant. Since there are the same number of moles on each side of the reaction all factors that convert mole numbers to activity, concentration or pressure cancel, so we simply consider the ratio of mole numbers here.\n",
    "\n"
   ]
  },
  {
   "cell_type": "code",
   "execution_count": null,
   "id": "9533b9d3",
   "metadata": {},
   "outputs": [],
   "source": [
    "print((X[3] * X[6]) / (X[4] * X[7]))"
   ]
  },
  {
   "cell_type": "markdown",
   "id": "1fb7ad7f",
   "metadata": {},
   "source": [
    "This is very close to the equilibrium constant computed above.\n",
    "\n",
    "Clearly, there is an equilibrium between these species that prevents the complete reaction of steam reforming.\n",
    "\n"
   ]
  },
  {
   "cell_type": "markdown",
   "id": "1f753dd9",
   "metadata": {},
   "source": [
    "#### Summary\n",
    "\n"
   ]
  },
  {
   "cell_type": "markdown",
   "id": "9ec6fc30",
   "metadata": {},
   "source": [
    "This is an appealing way to minimize the Gibbs energy of a mixture. No assumptions about reactions are necessary, and the constraints are easy to identify. The Gibbs energy function is especially easy to code.\n",
    "\n"
   ]
  },
  {
   "cell_type": "markdown",
   "id": "3c481b75",
   "metadata": {},
   "source": [
    "### The Gibbs free energy of a reacting mixture and the equilibrium composition\n",
    "\n"
   ]
  },
  {
   "cell_type": "markdown",
   "id": "a00e7582",
   "metadata": {},
   "source": [
    "CLOSED: <span class=\"timestamp-wrapper\"><span class=\"timestamp\">[2014-09-10 Wed 12:21]</span></span>\n",
    "\n",
    ":categories: optimization\n",
    ":date:     2013/02/18 09:00:00\n",
    ":updated:  2014/09/10 12:21:56\n",
    ":tags:     thermodynamics, reaction engineering\n",
    "\n",
    "[Matlab post](http://matlab.cheme.cmu.edu/2011/12/20/the-gibbs-free-energy-of-a-reacting-mixture-and-the-equilibrium-composition/)\n",
    "\n",
    "In this post we derive the equations needed to find the equilibrium composition of a reacting mixture. We use the method of direct minimization of the Gibbs free energy of the reacting mixture.\n",
    "\n",
    "The Gibbs free energy of a mixture is defined as $G = \\sum\\limits_j \\mu_j n_j$ where $\\mu_j$ is the chemical potential of species $j$, and it is temperature and pressure dependent, and $n_j$ is the number of moles of species $j$.\n",
    "\n",
    "We define the chemical potential as $\\mu_j = G_j^\\circ + RT\\ln a_j$, where $G_j^\\circ$ is the Gibbs energy in a standard state, and $a_j$ is the activity of species $j$ if the pressure and temperature are not at standard state conditions.\n",
    "\n",
    "If a reaction is occurring, then the number of moles of each species are related to each other through the reaction extent $\\epsilon$ and stoichiometric coefficients: $n_j = n_{j0} + \\nu_j \\epsilon$. Note that the reaction extent has units of moles.\n",
    "\n",
    "Combining these three equations and expanding the terms leads to:\n",
    "\n",
    "$$G = \\sum\\limits_j n_{j0}G_j^\\circ +\\sum\\limits_j \\nu_j G_j^\\circ \\epsilon +RT\\sum\\limits_j(n_{j0} + \\nu_j\\epsilon)\\ln a_j $$\n",
    "\n",
    "The first term is simply the initial Gibbs free energy that is present before any reaction begins, and it is a constant. It is difficult to evaluate, so we will move it to the left side of the equation in the next step, because it does not matter what its value is since it is a constant. The second term is related to the Gibbs free energy of reaction: $\\Delta_rG = \\sum\\limits_j \\nu_j G_j^\\circ$. With these observations we rewrite the equation as:\n",
    "\n",
    "$$G - \\sum\\limits_j n_{j0}G_j^\\circ = \\Delta_rG \\epsilon +RT\\sum\\limits_j(n_{j0} + \\nu_j\\epsilon)\\ln a_j $$\n",
    "\n",
    "Now, we have an equation that allows us to compute the change in Gibbs free energy as a function of the reaction extent, initial number of moles of each species, and the activities of each species. This difference in Gibbs free energy has no natural scale, and depends on the size of the system, i.e. on $n_{j0}$. It is desirable to avoid this, so we now rescale the equation by the total initial moles present, $n_{T0}$ and define a new variable $\\epsilon' = \\epsilon/n_{T0}$, which is dimensionless. This leads to:\n",
    "\n",
    "$$ \\frac{G - \\sum\\limits_j n_{j0}G_j^\\circ}{n_{T0}} = \\Delta_rG \\epsilon' + RT \\sum\\limits_j(y_{j0} + \\nu_j\\epsilon')\\ln a_j $$\n",
    "\n",
    "where $y_{j0}$ is the initial mole fraction of species $j$ present. The mole fractions are intensive properties that do not depend on the system size. Finally, we need to address $a_j$. For an ideal gas, we know that $A_j = \\frac{y_j P}{P^\\circ}$, where the numerator is the partial pressure of species $j$ computed from the mole fraction of species $j$ times the total pressure. To get the mole fraction we note:\n",
    "\n",
    "$$y_j = \\frac{n_j}{n_T} = \\frac{n_{j0} + \\nu_j \\epsilon}{n_{T0} + \\epsilon \\sum\\limits_j \\nu_j} = \\frac{y_{j0} + \\nu_j \\epsilon'}{1 + \\epsilon'\\sum\\limits_j \\nu_j} $$\n",
    "\n",
    "This finally leads us to an equation that we can evaluate as a function of reaction extent:\n",
    "\n",
    "$$ \\frac{G - \\sum\\limits_j n_{j0}G_j^\\circ}{n_{T0}} = \\widetilde{\\widetilde{G}} = \\Delta_rG \\epsilon' + RT\\sum\\limits_j(y_{j0} + \\nu_j\\epsilon') \\ln\\left(\\frac{y_{j0}+\\nu_j\\epsilon'}{1+\\epsilon'\\sum\\limits_j\\nu_j} \\frac{P}{P^\\circ}\\right) $$\n",
    "\n",
    "we use a double tilde notation to distinguish this quantity from the quantity derived by Rawlings and Ekerdt which is further normalized by a factor of $RT$. This additional scaling makes the quantities dimensionless, and makes the quantity have a magnitude of order unity, but otherwise has no effect on the shape of the graph.\n",
    "\n",
    "Finally, if we know the initial mole fractions, the initial total pressure, the Gibbs energy of reaction, and the stoichiometric coefficients, we can plot the scaled reacting mixture energy as a function of reaction extent. At equilibrium, this energy will be a minimum. We consider the example in Rawlings and Ekerdt where isobutane (I) reacts with 1-butene (B) to form 2,2,3-trimethylpentane (P). The reaction occurs at a total pressure of 2.5 atm at 400K, with equal molar amounts of I and B. The standard Gibbs free energy of reaction at 400K is -3.72 kcal/mol. Compute the equilibrium composition.\n",
    "\n"
   ]
  },
  {
   "cell_type": "code",
   "execution_count": null,
   "id": "f9841299",
   "metadata": {},
   "outputs": [],
   "source": [
    "import numpy as np\n",
    "\n",
    "R = 8.314\n",
    "P = 250000  # Pa\n",
    "P0 = 100000 # Pa, approximately 1 atm\n",
    "T = 400 # K\n",
    "\n",
    "Grxn = -15564.0 #J/mol\n",
    "yi0 = 0.5; yb0 = 0.5; yp0 = 0.0; # initial mole fractions\n",
    "\n",
    "yj0 = np.array([yi0, yb0, yp0])\n",
    "nu_j = np.array([-1.0, -1.0, 1.0])   # stoichiometric coefficients\n",
    "\n",
    "def Gwigglewiggle(extentp):\n",
    "    diffg = Grxn * extentp\n",
    "    sum_nu_j = np.sum(nu_j)\n",
    "    for i,y in enumerate(yj0):\n",
    "        x1 = yj0[i] + nu_j[i] * extentp\n",
    "        x2 = x1 / (1.0 + extentp*sum_nu_j)\n",
    "        diffg += R * T * x1 * np.log(x2 * P / P0)\n",
    "    return diffg"
   ]
  },
  {
   "cell_type": "markdown",
   "id": "7d2f34ec",
   "metadata": {},
   "source": [
    "There are bounds on how large $\\epsilon'$ can be. Recall that $n_j = n_{j0} + \\nu_j \\epsilon$, and that $n_j \\ge 0$. Thus, $\\epsilon_{max} = -n_{j0}/\\nu_j$, and the maximum value that $\\epsilon'$ can have is therefore $-y_{j0}/\\nu_j$ where $y_{j0}>0$. When there are multiple species, you need the smallest $epsilon'_{max}$ to avoid getting negative mole numbers.\n",
    "\n"
   ]
  },
  {
   "cell_type": "code",
   "execution_count": null,
   "id": "6f99dae1",
   "metadata": {},
   "outputs": [],
   "source": [
    "epsilonp_max = min(-yj0[yj0 > 0] / nu_j[yj0 > 0])\n",
    "epsilonp = np.linspace(1e-6, epsilonp_max, 1000);\n",
    "\n",
    "import matplotlib.pyplot as plt\n",
    "\n",
    "plt.plot(epsilonp,Gwigglewiggle(epsilonp))\n",
    "plt.xlabel('$\\epsilon$')\n",
    "plt.ylabel('Gwigglewiggle');"
   ]
  },
  {
   "cell_type": "markdown",
   "id": "b3df1b2d",
   "metadata": {},
   "source": [
    "Now we simply minimize our Gwigglewiggle function. Based on the figure above, the miminum is near 0.45.\n",
    "\n"
   ]
  },
  {
   "cell_type": "code",
   "execution_count": null,
   "id": "842aca3d",
   "metadata": {},
   "outputs": [],
   "source": [
    "from scipy.optimize import fminbound\n",
    "\n",
    "epsilonp_eq = fminbound(Gwigglewiggle, 0.4, 0.5)\n",
    "print(epsilonp_eq)\n",
    "\n",
    "plt.plot(epsilonp,Gwigglewiggle(epsilonp))\n",
    "plt.xlabel('$\\epsilon$')\n",
    "plt.ylabel('Gwigglewiggle');\n",
    "plt.plot([epsilonp_eq], [Gwigglewiggle(epsilonp_eq)], 'ro');"
   ]
  },
  {
   "cell_type": "markdown",
   "id": "d6de58bb",
   "metadata": {},
   "source": [
    "![img](./images/gibbs-minim-2.png)\n",
    "\n",
    "To compute equilibrium mole fractions we do this:\n",
    "\n"
   ]
  },
  {
   "cell_type": "code",
   "execution_count": null,
   "id": "3a4e1f86",
   "metadata": {},
   "outputs": [],
   "source": [
    "yi = (yi0 + nu_j[0]*epsilonp_eq) / (1.0 + epsilonp_eq*np.sum(nu_j))\n",
    "yb = (yb0 + nu_j[1]*epsilonp_eq) / (1.0 + epsilonp_eq*np.sum(nu_j))\n",
    "yp = (yp0 + nu_j[2]*epsilonp_eq) / (1.0 + epsilonp_eq*np.sum(nu_j))\n",
    "\n",
    "print(yi, yb, yp)\n",
    "\n",
    "# or this\n",
    "y_j = (yj0 + np.dot(nu_j, epsilonp_eq)) / (1.0 + epsilonp_eq*np.sum(nu_j))\n",
    "print(y_j)"
   ]
  },
  {
   "cell_type": "markdown",
   "id": "1be8e862",
   "metadata": {},
   "source": [
    "$K = \\frac{a_P}{a_I a_B} = \\frac{y_p P/P^\\circ}{y_i P/P^\\circ y_b P/P^\\circ} = \\frac{y_P}{y_i y_b}\\frac{P^\\circ}{P}$.\n",
    "\n",
    "We can express the equilibrium constant like this :$K = \\prod\\limits_j a_j^{\\nu_j}$, and compute it with a single line of code.\n",
    "\n"
   ]
  },
  {
   "cell_type": "code",
   "execution_count": null,
   "id": "17c3dea5",
   "metadata": {},
   "outputs": [],
   "source": [
    "K = np.exp(-Grxn/R/T)\n",
    "print('K from delta G ',K)\n",
    "print('K as ratio of mole fractions ',yp / (yi * yb) * P0 / P)\n",
    "print('compact notation: ',np.prod((y_j * P / P0)**nu_j))"
   ]
  },
  {
   "cell_type": "markdown",
   "id": "7abd96a3",
   "metadata": {},
   "source": [
    "These results are very close, and only disagree because of the default tolerance used in identifying the minimum of our function. You could tighten the tolerances by setting options to the fminbnd function.\n",
    "\n"
   ]
  },
  {
   "cell_type": "markdown",
   "id": "0133a6ca",
   "metadata": {},
   "source": [
    "#### Summary\n",
    "\n"
   ]
  },
  {
   "cell_type": "markdown",
   "id": "6aedc392",
   "metadata": {},
   "source": [
    "In this post we derived an equation for the Gibbs free energy of a reacting mixture and used it to find the equilibrium composition. In future posts we will examine some alternate forms of the equations that may be more useful in some circumstances.\n",
    "\n"
   ]
  },
  {
   "cell_type": "markdown",
   "id": "e38c4d8a",
   "metadata": {},
   "source": [
    "### Water gas shift equilibria via the NIST Webbook\n",
    "\n"
   ]
  },
  {
   "cell_type": "markdown",
   "id": "8cf5868c",
   "metadata": {},
   "source": [
    "[Matlab post](http://matlab.cheme.cmu.edu/2011/12/12/water-gas-shift-equilibria-via-the-nist-webbook/)\n",
    "\n",
    "The [NIST webbook](http://webbook.nist.gov/chemistry/) provides parameterized models of the enthalpy, entropy and heat capacity of many molecules. In this example, we will examine how to use these to compute the equilibrium constant for the water gas shift reaction $CO + H_2O \\rightleftharpoons CO_2 + H_2$ in the temperature range of 500K to 1000K.\n",
    "\n",
    "Parameters are provided for:\n",
    "\n",
    "Cp = heat capacity (J/mol\\*K)\n",
    "H = standard enthalpy (kJ/mol)\n",
    "S = standard entropy (J/mol\\*K)\n",
    "\n",
    "with models in the form: $Cp^\\circ = A + B*t + C*t^2 + D*t^3 + E/t^2$\n",
    "\n",
    "$H^\\circ - H^\\circ_{298.15}= A*t + B*t^2/2 + C*t^3/3 + D*t^4/4 - E/t + F - H$\n",
    "\n",
    "$S^\\circ = A*ln(t) + B*t + C*t^2/2 + D*t^3/3 - E/(2*t^2) + G$\n",
    "\n",
    "where $t=T/1000$, and $T$ is the temperature in Kelvin. We can use this data to calculate equilibrium constants in the following manner. First, we have heats of formation at standard state for each compound; for elements, these are zero by definition, and for non-elements, they have values available from the NIST webbook. There are also values for the absolute entropy at standard state. Then, we have an expression for the change in enthalpy from standard state as defined above, as well as the absolute entropy. From these we can derive the reaction enthalpy, free energy and entropy at standard state, as well as at other temperatures.\n",
    "\n",
    "We will examine the water gas shift enthalpy, free energy and equilibrium constant from 500K to 1000K, and finally compute the equilibrium composition of a gas feed containing 5 atm of CO and H\\_2 at 1000K.\n",
    "\n"
   ]
  },
  {
   "cell_type": "code",
   "execution_count": null,
   "id": "0e7351e0",
   "metadata": {},
   "outputs": [],
   "source": [
    "import numpy as np\n",
    "\n",
    "T = np.linspace(500,1000) # degrees K\n",
    "t = T/1000;"
   ]
  },
  {
   "cell_type": "markdown",
   "id": "06d8d080",
   "metadata": {},
   "source": [
    "#### hydrogen\n",
    "\n"
   ]
  },
  {
   "cell_type": "markdown",
   "id": "cebf51b0",
   "metadata": {},
   "source": [
    "\\url{http://webbook.nist.gov/cgi/cbook.cgi?ID=C1333740&Units=SI&Mask=1#Thermo-Gas}\n",
    "\n"
   ]
  },
  {
   "cell_type": "code",
   "execution_count": null,
   "id": "8d4ad4f2",
   "metadata": {},
   "outputs": [],
   "source": [
    "# T = 298-1000K valid temperature range\n",
    "A =  33.066178\n",
    "B = -11.363417\n",
    "C =  11.432816\n",
    "D = -2.772874\n",
    "E = -0.158558\n",
    "F = -9.980797\n",
    "G =  172.707974\n",
    "H =  0.0\n",
    "\n",
    "Hf_29815_H2 = 0.0 # kJ/mol\n",
    "S_29815_H2 = 130.68 # J/mol/K\n",
    "\n",
    "dH_H2 = A*t + B*t**2/2 + C*t**3/3 + D*t**4/4 - E/t + F - H;\n",
    "S_H2 = (A*np.log(t) + B*t + C*t**2/2 + D*t**3/3 - E/(2*t**2) + G);"
   ]
  },
  {
   "cell_type": "markdown",
   "id": "c8db91d5",
   "metadata": {},
   "source": [
    "#### H<sub>2</sub>O\n",
    "\n"
   ]
  },
  {
   "cell_type": "markdown",
   "id": "ccb258c1",
   "metadata": {},
   "source": [
    "\\url{http://webbook.nist.gov/cgi/cbook.cgi?ID=C7732185&Units=SI&Mask=1#Thermo-Gas}\n",
    "\n",
    "Note these parameters limit the temperature range we can examine, as these parameters are not valid below 500K. There is another set of parameters for lower temperatures, but we do not consider them here.\n",
    "\n"
   ]
  },
  {
   "cell_type": "code",
   "execution_count": null,
   "id": "2a6da473",
   "metadata": {},
   "outputs": [],
   "source": [
    "# 500-1700 K valid temperature range\n",
    "A =   30.09200\n",
    "B =   6.832514\n",
    "C =   6.793435\n",
    "D =  -2.534480\n",
    "E =   0.082139\n",
    "F =  -250.8810\n",
    "G =   223.3967\n",
    "H =  -241.8264\n",
    "\n",
    "Hf_29815_H2O = -241.83 #this is Hf.\n",
    "S_29815_H2O = 188.84\n",
    "\n",
    "dH_H2O = A*t + B*t**2/2 + C*t**3/3 + D*t**4/4 - E/t + F - H;\n",
    "S_H2O = (A*np.log(t) + B*t + C*t**2/2 + D*t**3/3 - E/(2*t**2) + G);"
   ]
  },
  {
   "cell_type": "markdown",
   "id": "877a8193",
   "metadata": {},
   "source": [
    "#### CO\n",
    "\n"
   ]
  },
  {
   "cell_type": "markdown",
   "id": "5a4237f7",
   "metadata": {},
   "source": [
    "\\url{http://webbook.nist.gov/cgi/cbook.cgi?ID=C630080&Units=SI&Mask=1#Thermo-Gas}\n",
    "\n"
   ]
  },
  {
   "cell_type": "code",
   "execution_count": null,
   "id": "85d44f29",
   "metadata": {},
   "outputs": [],
   "source": [
    "# 298. - 1300K valid temperature range\n",
    "A =   25.56759\n",
    "B =   6.096130\n",
    "C =   4.054656\n",
    "D =  -2.671301\n",
    "E =   0.131021\n",
    "F =  -118.0089\n",
    "G =   227.3665\n",
    "H = -110.5271\n",
    "\n",
    "Hf_29815_CO = -110.53 #this is Hf kJ/mol.\n",
    "S_29815_CO = 197.66\n",
    "\n",
    "dH_CO = A*t + B*t**2/2 + C*t**3/3 + D*t**4/4 - E/t + F - H;\n",
    "S_CO = (A*np.log(t) + B*t + C*t**2/2 + D*t**3/3 - E/(2*t**2) + G);"
   ]
  },
  {
   "cell_type": "markdown",
   "id": "3c66f21f",
   "metadata": {},
   "source": [
    "#### CO<sub>2</sub>\n",
    "\n"
   ]
  },
  {
   "cell_type": "markdown",
   "id": "22a76c16",
   "metadata": {},
   "source": [
    "\\url{http://webbook.nist.gov/cgi/cbook.cgi?ID=C124389&Units=SI&Mask=1#Thermo-Gas}\n",
    "\n"
   ]
  },
  {
   "cell_type": "code",
   "execution_count": null,
   "id": "5c92543e",
   "metadata": {},
   "outputs": [],
   "source": [
    "# 298. - 1200.K valid temperature range\n",
    "A =   24.99735\n",
    "B =   55.18696\n",
    "C =  -33.69137\n",
    "D =   7.948387\n",
    "E =  -0.136638\n",
    "F =  -403.6075\n",
    "G =   228.2431\n",
    "H =  -393.5224\n",
    "\n",
    "Hf_29815_CO2 = -393.51 # this is Hf.\n",
    "S_29815_CO2 = 213.79\n",
    "\n",
    "dH_CO2 = A*t + B*t**2/2 + C*t**3/3 + D*t**4/4 - E/t + F - H;\n",
    "S_CO2 = (A*np.log(t) + B*t + C*t**2/2 + D*t**3/3 - E/(2*t**2) + G);"
   ]
  },
  {
   "cell_type": "markdown",
   "id": "16586f86",
   "metadata": {},
   "source": [
    "#### Standard state heat of reaction\n",
    "\n"
   ]
  },
  {
   "cell_type": "markdown",
   "id": "aebce518",
   "metadata": {},
   "source": [
    "We compute the enthalpy and free energy of reaction at 298.15 K for the following reaction $CO + H2O \\rightleftharpoons H2 + CO2$.\n",
    "\n"
   ]
  },
  {
   "cell_type": "code",
   "execution_count": null,
   "id": "f857bb8e",
   "metadata": {},
   "outputs": [],
   "source": [
    "Hrxn_29815 = Hf_29815_CO2 + Hf_29815_H2 - Hf_29815_CO - Hf_29815_H2O;\n",
    "Srxn_29815 = S_29815_CO2 + S_29815_H2 - S_29815_CO - S_29815_H2O;\n",
    "Grxn_29815 = Hrxn_29815 - 298.15*(Srxn_29815)/1000;\n",
    "\n",
    "print('deltaH = {0:1.2f}'.format(Hrxn_29815))\n",
    "print('deltaG = {0:1.2f}'.format(Grxn_29815))"
   ]
  },
  {
   "cell_type": "markdown",
   "id": "743b253a",
   "metadata": {},
   "source": [
    "#### Non-standard state $\\Delta H$ and $\\Delta G$\n",
    "\n"
   ]
  },
  {
   "cell_type": "markdown",
   "id": "8d6fe4c1",
   "metadata": {},
   "source": [
    "We have to correct for temperature change away from standard state. We only correct the enthalpy for this temperature change. The correction looks like this:\n",
    "\n",
    "$$ \\Delta H_{rxn}(T) = \\Delta H_{rxn}(T_{ref}) + \\sum_i \\nu_i (H_i(T)-H_i(T_{ref}))$$\n",
    "\n",
    "Where $\\nu_i$ are the stoichiometric coefficients of each species, with appropriate sign for reactants and products, and $(H_i(T)-H_i(T_{ref})$ is precisely what is calculated for each species with the equations\n",
    "\n",
    "The entropy is on an absolute scale, so we directly calculate entropy at each temperature. Recall that H is in kJ/mol and S is in J/mol/K, so we divide S by 1000 to make the units match.\n",
    "\n"
   ]
  },
  {
   "cell_type": "code",
   "execution_count": null,
   "id": "7dbfb331",
   "metadata": {},
   "outputs": [],
   "source": [
    "Hrxn = Hrxn_29815 + dH_CO2 + dH_H2 - dH_CO - dH_H2O\n",
    "Grxn = Hrxn - T*(S_CO2 + S_H2 - S_CO - S_H2O)/1000"
   ]
  },
  {
   "cell_type": "markdown",
   "id": "e24ed5d0",
   "metadata": {},
   "source": [
    "#### Plot how the $\\Delta G$ varies with temperature\n",
    "\n"
   ]
  },
  {
   "cell_type": "code",
   "execution_count": null,
   "id": "74566b63",
   "metadata": {},
   "outputs": [],
   "source": [
    "import matplotlib.pyplot as plt\n",
    "plt.figure(); plt.clf()\n",
    "plt.plot(T,Grxn, label='$\\Delta G_{rxn}$')\n",
    "plt.plot(T,Hrxn, label='$\\Delta H_{rxn}$')\n",
    "plt.xlabel('Temperature (K)')\n",
    "plt.ylabel('(kJ/mol)')\n",
    "plt.legend( loc='best')\n",
    "plt.savefig('images/wgs-nist-1.png')"
   ]
  },
  {
   "cell_type": "markdown",
   "id": "08484969",
   "metadata": {},
   "source": [
    "Over this temperature range the reaction is exothermic, although near 1000K it is just barely exothermic. At higher temperatures we expect the reaction to become endothermic.\n",
    "\n"
   ]
  },
  {
   "cell_type": "markdown",
   "id": "d3312640",
   "metadata": {},
   "source": [
    "#### Equilibrium constant calculation\n",
    "\n"
   ]
  },
  {
   "cell_type": "markdown",
   "id": "c6327ade",
   "metadata": {},
   "source": [
    "Note the equilibrium constant starts out high, i.e. strongly favoring the formation of products, but drops very quicky with increasing temperature.\n",
    "\n"
   ]
  },
  {
   "cell_type": "code",
   "execution_count": null,
   "id": "ad34c3e7",
   "metadata": {},
   "outputs": [],
   "source": [
    "R = 8.314e-3 # kJ/mol/K\n",
    "K = np.exp(-Grxn/R/T);\n",
    "\n",
    "plt.figure()\n",
    "plt.plot(T,K)\n",
    "plt.xlim([500, 1000])\n",
    "plt.xlabel('Temperature (K)')\n",
    "plt.ylabel('Equilibrium constant');"
   ]
  },
  {
   "cell_type": "markdown",
   "id": "3282c70c",
   "metadata": {},
   "source": [
    "#### Equilibrium yield of WGS\n",
    "\n"
   ]
  },
  {
   "cell_type": "markdown",
   "id": "b93104a0",
   "metadata": {},
   "source": [
    "Now let us suppose we have a reactor with a feed of H\\_2O and CO at 10atm at 1000K. What is the equilibrium yield of H\\_2? Let $\\epsilon$ be the extent of reaction, so that $F_i = F_{i,0} + \\nu_i \\epsilon$. For reactants, $\\nu_i$ is negative, and for products, $\\nu_i$ is positive. We have to solve for the extent of reaction that satisfies the equilibrium condition.\n",
    "\n"
   ]
  },
  {
   "cell_type": "code",
   "execution_count": null,
   "id": "ec7f7b0f",
   "metadata": {},
   "outputs": [],
   "source": [
    "from scipy.interpolate import interp1d\n",
    "from scipy.optimize import fsolve\n",
    "\n",
    "#\n",
    "# A = CO\n",
    "# B = H2O\n",
    "# C = H2\n",
    "# D = CO2\n",
    "\n",
    "Pa0 = 5; Pb0 = 5; Pc0 = 0; Pd0 = 0;  # pressure in atm\n",
    "R = 0.082;\n",
    "Temperature = 1000;\n",
    "\n",
    "# we can estimate the equilibrium like this. We could also calculate it\n",
    "# using the equations above, but we would have to evaluate each term. Above\n",
    "# we simply computed a vector of enthalpies, entropies, etc... Here we interpolate\n",
    "K_func = interp1d(T,K);\n",
    "K_Temperature = K_func(1000)\n",
    "\n",
    "\n",
    "# If we let X be fractional conversion then we have $C_A = C_{A0}(1-X)$,\n",
    "# $C_B = C_{B0}-C_{A0}X$, $C_C = C_{C0}+C_{A0}X$, and $C_D =\n",
    "# C_{D0}+C_{A0}X$. We also have $K(T) = (C_C C_D)/(C_A C_B)$, which finally\n",
    "# reduces to $0 = K(T) - Xeq^2/(1-Xeq)^2$ under these conditions.\n",
    "\n",
    "def f(X):\n",
    "    return K_Temperature - X**2/(1-X)**2;\n",
    "\n",
    "x0 = 0.5\n",
    "Xeq, = fsolve(f, x0)\n",
    "\n",
    "print('The equilibrium conversion for these feed conditions is: {0:1.2f}'.format(Xeq))"
   ]
  },
  {
   "cell_type": "markdown",
   "id": "99e8d9a8",
   "metadata": {},
   "source": [
    "#### Compute gas phase pressures of each species\n",
    "\n"
   ]
  },
  {
   "cell_type": "markdown",
   "id": "69a4e3f4",
   "metadata": {},
   "source": [
    "Since there is no change in moles for this reaction, we can directly calculation the pressures from the equilibrium conversion and the initial pressure of gases. you can see there is a slightly higher pressure of H\\_2 and CO\\_2 than the reactants, consistent with the equilibrium constant of about 1.44 at 1000K. At a lower temperature there would be a much higher yield of the products. For example, at 550K the equilibrium constant is about 58, and the pressure of H\\_2 is 4.4 atm due to a much higher equilibrium conversion of 0.88.\n",
    "\n"
   ]
  },
  {
   "cell_type": "code",
   "execution_count": null,
   "id": "fd84e34d",
   "metadata": {},
   "outputs": [],
   "source": [
    "P_CO = Pa0*(1-Xeq)\n",
    "P_H2O = Pa0*(1-Xeq)\n",
    "P_H2 = Pa0*Xeq\n",
    "P_CO2 = Pa0*Xeq\n",
    "\n",
    "print(P_CO,P_H2O, P_H2, P_CO2)"
   ]
  },
  {
   "cell_type": "markdown",
   "id": "4cfe4043",
   "metadata": {},
   "source": [
    "#### Compare the equilibrium constants\n",
    "\n"
   ]
  },
  {
   "cell_type": "markdown",
   "id": "389de6da",
   "metadata": {},
   "source": [
    "We can compare the equilibrium constant from the Gibbs free energy and the one from the ratio of pressures. They should be the same!\n",
    "\n"
   ]
  },
  {
   "cell_type": "code",
   "execution_count": null,
   "id": "ebaa481b",
   "metadata": {},
   "outputs": [],
   "source": [
    "print(K_Temperature)\n",
    "print((P_CO2*P_H2)/(P_CO*P_H2O))"
   ]
  },
  {
   "cell_type": "markdown",
   "id": "a2c96bd5",
   "metadata": {},
   "source": [
    "They are the same.\n",
    "\n"
   ]
  },
  {
   "cell_type": "markdown",
   "id": "e267faee",
   "metadata": {},
   "source": [
    "#### Summary\n",
    "\n"
   ]
  },
  {
   "cell_type": "markdown",
   "id": "f887bce0",
   "metadata": {},
   "source": [
    "The NIST Webbook provides a plethora of data for computing thermodynamic properties. It is a little tedious to enter it all into Matlab, and a little tricky to use the data to estimate temperature dependent reaction energies. A limitation of the Webbook is that it does not tell you have the thermodynamic properties change with pressure. Luckily, those changes tend to be small.\n",
    "\n",
    "I noticed a different behavior in interpolation between scipy.interpolate.interp1d and Matlab's interp1. The scipy function returns an interpolating function, whereas the Matlab function directly interpolates new values, and returns the actual interpolated data.\n",
    "\n"
   ]
  },
  {
   "cell_type": "markdown",
   "id": "1879945c",
   "metadata": {},
   "source": [
    "### Constrained minimization to find equilibrium compositions\n",
    "\n"
   ]
  },
  {
   "cell_type": "markdown",
   "id": "56ff774b",
   "metadata": {},
   "source": [
    "CLOSED: <span class=\"timestamp-wrapper\"><span class=\"timestamp\">[2016-04-04 Mon 13:35]</span></span>\n",
    "\n",
    ":categories: optimization\n",
    ":date:     2013/02/05 09:00:00\n",
    ":updated:  2016/04/04 13:35:51\n",
    ":tags:     thermodynamics, reaction engineering\n",
    "\n",
    "adapated from Chemical Reactor analysis and design fundamentals, Rawlings and Ekerdt, appendix A.2.3.\n",
    "\n",
    "[Matlab post](http://matlab.cheme.cmu.edu/2011/08/12/constrained-minimization-to-find-equilibrium-compositions/)\n",
    "\n",
    "The equilibrium composition of a reaction is the one that minimizes the total Gibbs free energy. The Gibbs free energy of a reacting ideal gas mixture depends on the mole fractions of each species, which are determined by the initial mole fractions of each species, the extent of reactions that convert each species, and the equilibrium constants.\n",
    "\n",
    "Reaction 1: $I + B \\rightleftharpoons P1$\n",
    "\n",
    "Reaction 2: $I + B \\rightleftharpoons P2$\n",
    "\n",
    "Here we define the Gibbs free energy of the mixture as a function of the reaction extents.\n",
    "\n"
   ]
  },
  {
   "cell_type": "code",
   "execution_count": null,
   "id": "3c56872d",
   "metadata": {},
   "outputs": [],
   "source": [
    "import numpy as np\n",
    "\n",
    "def gibbs(E):\n",
    "    'function defining Gibbs free energy as a function of reaction extents'\n",
    "    e1 = E[0]\n",
    "    e2 = E[1]\n",
    "    # known equilibrium constants and initial amounts\n",
    "    K1 = 108; K2 = 284; P = 2.5\n",
    "    yI0 = 0.5; yB0 = 0.5; yP10 = 0.0; yP20 = 0.0\n",
    "    # compute mole fractions\n",
    "    d = 1 - e1 - e2\n",
    "    yI = (yI0 - e1 - e2) / d\n",
    "    yB = (yB0 - e1 - e2) / d\n",
    "    yP1 = (yP10 + e1) / d\n",
    "    yP2 = (yP20 + e2) / d\n",
    "    G = (-(e1 * np.log(K1) + e2 * np.log(K2)) +\n",
    "         d * np.log(P) + yI * d * np.log(yI) +\n",
    "         yB * d * np.log(yB) + yP1 * d * np.log(yP1) + yP2 * d * np.log(yP2))\n",
    "    return G"
   ]
  },
  {
   "cell_type": "markdown",
   "id": "c870b1c3",
   "metadata": {},
   "source": [
    "The equilibrium constants for these reactions are known, and we seek to find the equilibrium reaction extents so we can determine equilibrium compositions. The equilibrium reaction extents are those that minimize the Gibbs free energy.  We have the following constraints, written in standard less than or equal to form:\n",
    "\n",
    "$-\\epsilon_1 \\le 0$\n",
    "\n",
    "$-\\epsilon_2 \\le 0$\n",
    "\n",
    "$\\epsilon_1 + \\epsilon_2 \\le 0.5$\n",
    "\n",
    "In Matlab we express this in matrix form as Ax=b where\n",
    "\n",
    "\\begin{equation}\n",
    "A = \\left[ \\begin{array}{cc} -1 & 0 \\\\ 0 & -1 \\\\ 1 & 1 \\end{array} \\right]\n",
    "\\end{equation}\n",
    "\n",
    "and\n",
    "\n",
    "\\begin{equation}\n",
    "b = \\left[ \\begin{array}{c} 0 \\\\ 0 \\\\ 0.5\\end{array} \\right]\n",
    "\\end{equation}\n",
    "\n",
    "Unlike in Matlab, in python we construct the inequality constraints as functions that are greater than or equal to zero when the constraint is met.\n",
    "\n"
   ]
  },
  {
   "cell_type": "code",
   "execution_count": null,
   "id": "3ea95bfb",
   "metadata": {},
   "outputs": [],
   "source": [
    "def constraint1(E):\n",
    "    e1 = E[0]\n",
    "    return e1\n",
    "\n",
    "\n",
    "def constraint2(E):\n",
    "    e2 = E[1]\n",
    "    return e2\n",
    "\n",
    "\n",
    "def constraint3(E):\n",
    "    e1 = E[0]\n",
    "    e2 = E[1]\n",
    "    return 0.5 - (e1 + e2)"
   ]
  },
  {
   "cell_type": "markdown",
   "id": "5c4ee6a7",
   "metadata": {},
   "source": [
    "Now, we minimize.\n",
    "\n"
   ]
  },
  {
   "cell_type": "code",
   "execution_count": null,
   "id": "f974aead",
   "metadata": {},
   "outputs": [],
   "source": [
    "from scipy.optimize import fmin_slsqp\n",
    "\n",
    "X0 = [0.2, 0.2]\n",
    "X = fmin_slsqp(gibbs, X0, ieqcons=[constraint1, constraint2, constraint3],\n",
    "               bounds=((0.001, 0.499),\n",
    "                       (0.001, 0.499)))\n",
    "print(X)\n",
    "\n",
    "print(gibbs(X))"
   ]
  },
  {
   "cell_type": "markdown",
   "id": "39518b24",
   "metadata": {},
   "source": [
    "One way we can verify our solution is to plot the gibbs function and see where the minimum is, and whether there is more than one minimum. We start by making grids over the range of 0 to 0.5. Note we actually start slightly above zero because at zero there are some numerical imaginary elements of the gibbs function or it is numerically not defined since there are logs of zero there. We also set all elements where the sum of the two extents is greater than 0.5 to near zero, since those regions violate the constraints.\n",
    "\n"
   ]
  },
  {
   "cell_type": "code",
   "execution_count": null,
   "id": "046d0c68",
   "metadata": {},
   "outputs": [],
   "source": [
    "import numpy as np\n",
    "import matplotlib.pyplot as plt\n",
    "\n",
    "def gibbs(E):\n",
    "    'function defining Gibbs free energy as a function of reaction extents'\n",
    "    e1 = E[0]\n",
    "    e2 = E[1]\n",
    "    # known equilibrium constants and initial amounts\n",
    "    K1 = 108; K2 = 284; P = 2.5;\n",
    "    yI0 = 0.5; yB0 = 0.5; yP10 = 0.0; yP20 = 0.0;\n",
    "    # compute mole fractions\n",
    "    d = 1 - e1 - e2;\n",
    "    yI = (yI0 - e1 - e2)/d;\n",
    "    yB = (yB0 - e1 - e2)/d;\n",
    "    yP1 = (yP10 + e1)/d;\n",
    "    yP2 = (yP20 + e2)/d;\n",
    "    G = (-(e1 * np.log(K1) + e2 * np.log(K2)) +\n",
    "         d * np.log(P) + yI * d * np.log(yI) +\n",
    "         yB * d * np.log(yB) + yP1 * d * np.log(yP1) + yP2 * d * np.log(yP2))\n",
    "    return G\n",
    "\n",
    "\n",
    "a = np.linspace(0.001, 0.5, 100)\n",
    "E1, E2 = np.meshgrid(a,a)\n",
    "\n",
    "sumE = E1 + E2\n",
    "E1[sumE >= 0.5] = 0.00001\n",
    "E2[sumE >= 0.5] = 0.00001\n",
    "\n",
    "# now evaluate gibbs\n",
    "G = np.zeros(E1.shape)\n",
    "m,n = E1.shape\n",
    "\n",
    "G = gibbs([E1, E2])\n",
    "\n",
    "CS = plt.contour(E1, E2, G, levels=np.linspace(G.min(),G.max(),100))\n",
    "plt.xlabel('$\\epsilon_1$')\n",
    "plt.ylabel('$\\epsilon_2$')\n",
    "plt.colorbar()\n",
    "\n",
    "plt.plot([0.13336503],  [0.35066486], 'ro');"
   ]
  },
  {
   "cell_type": "markdown",
   "id": "f01ffbb1",
   "metadata": {},
   "source": [
    "You can see we found the minimum. We can compute the mole fractions pretty easily.\n",
    "\n"
   ]
  },
  {
   "cell_type": "code",
   "execution_count": null,
   "id": "2e20fb10",
   "metadata": {},
   "outputs": [],
   "source": [
    "e1 = X[0];\n",
    "e2 = X[1];\n",
    "\n",
    "yI0 = 0.5; yB0 = 0.5; yP10 = 0; yP20 = 0; #initial mole fractions\n",
    "\n",
    "d = 1 - e1 - e2;\n",
    "yI = (yI0 - e1 - e2) / d\n",
    "yB = (yB0 - e1 - e2) / d\n",
    "yP1 = (yP10 + e1) / d\n",
    "yP2 = (yP20 + e2) / d\n",
    "\n",
    "print('y_I = {0:1.3f} y_B = {1:1.3f} y_P1 = {2:1.3f} y_P2 = {3:1.3f}'.format(yI,yB,yP1,yP2))"
   ]
  },
  {
   "cell_type": "markdown",
   "id": "c118283e",
   "metadata": {},
   "source": [
    "#### summary\n",
    "\n"
   ]
  },
  {
   "cell_type": "markdown",
   "id": "76db3a48",
   "metadata": {},
   "source": [
    "I found setting up the constraints in this example to be more confusing than the Matlab syntax.\n",
    "\n"
   ]
  },
  {
   "cell_type": "markdown",
   "id": "424df376",
   "metadata": {},
   "source": [
    "### Using constrained optimization to find the amount of each phase present\n",
    "\n"
   ]
  },
  {
   "cell_type": "markdown",
   "id": "bb2e4217",
   "metadata": {},
   "source": [
    "The problem we solve here is that we have several compounds containing Ni and Al, and a bulk mixture of a particular composition of Ni and Al. We want to know which mixture of phases will minimize the total energy. The tricky part is that the optimization is constrained because the mixture of phases must have the overall stoichiometry we want.  We formulate the problem like this.\n",
    "\n",
    "Basically, we want to minimize the function $E = \\sum w_i E_i$, where $w_i$ is the mass of phase $i$, and $E_i$ is the energy per unit mass of phase $i$. There are some constraints to ensure conservation of mass. Let us consider the following compounds: Al, NiAl, Ni3Al, and Ni, and consider a case where the bulk composition of our alloy is 93.8% Ni and balance Al. We want to know which phases are present, and in what proportions. There are some subtleties in considering the formula and molecular weight of an alloy. We consider the formula with each species amount normalized so the fractions all add up to one. For example, Ni\\_3Al is represented as Ni<sub>0.75</sub>Al<sub>0.25</sub>, and the molecular weight is computed as 0.75\\*MW<sub>Ni</sub> + 0.25\\*MW<sub>Al</sub>.\n",
    "\n",
    "We use scipy.optimize.fmin\\_slsqp to solve this problem, and define two equality constraint functions, and the bounds on each weight fraction.\n",
    "\n",
    "Note: the energies in this example were computed by density functional theory at 0K.\n",
    "\n"
   ]
  },
  {
   "cell_type": "code",
   "execution_count": null,
   "id": "1a1e036e",
   "metadata": {},
   "outputs": [],
   "source": [
    "import numpy as np\n",
    "from scipy.optimize import fmin_slsqp\n",
    "\n",
    "# these are atomic masses of each species\n",
    "Ni = 58.693\n",
    "Al = 26.982\n",
    "\n",
    "COMPOSITIONS = ['Al', 'NiAl',              'Ni3Al',  'Ni']\n",
    "MW = np.array(  [Al,  (Ni + Al)/2.0, (3 * Ni + Al)/4.0, Ni])\n",
    "\n",
    "xNi = np.array([0.0, 0.5, 0.75, 1.0])  # mole fraction of nickel in each compd\n",
    "WNi = xNi * Ni / MW                      # weight fraction of Ni in each cmpd\n",
    "\n",
    "ENERGIES = np.array([0.0, -0.7, -0.5, 0.0])\n",
    "\n",
    "BNi = 0.938\n",
    "\n",
    "def G(w):\n",
    "    'function to minimize. w is a vector of weight fractions, ENERGIES is defined above.'\n",
    "    return np.dot(w, ENERGIES)\n",
    "\n",
    "def ec1(w):\n",
    "    'conservation of Ni constraint'\n",
    "    return BNi - np.dot(w, WNi)\n",
    "\n",
    "def ec2(w):\n",
    "    'weight fractions sum to one constraint'\n",
    "    return 1 - np.sum(w)\n",
    "\n",
    "w0 = np.array([0.0, 0.0, 0.5, 0.5]) # guess weight fractions\n",
    "\n",
    "y = fmin_slsqp(G,\n",
    "               w0,\n",
    "               eqcons=[ec1, ec2],\n",
    "               bounds=[(0,1)]*len(w0))\n",
    "\n",
    "for ci, wi in zip(COMPOSITIONS, y):\n",
    "    print('{0:8s} {1:+8.2%}'.format(ci, wi))"
   ]
  },
  {
   "cell_type": "markdown",
   "id": "a3717664",
   "metadata": {},
   "source": [
    "So, the sample will be about 47% *by weight* of Ni3Al, and 53% *by weight* of pure Ni.\n",
    "\n",
    "It may be convenient to formulate this in terms of moles.\n",
    "\n"
   ]
  },
  {
   "cell_type": "code",
   "execution_count": null,
   "id": "a3e5983f",
   "metadata": {},
   "outputs": [],
   "source": [
    "import numpy as np\n",
    "from scipy.optimize import fmin_slsqp\n",
    "\n",
    "COMPOSITIONS = ['Al', 'NiAl', 'Ni3Al',  'Ni']\n",
    "xNi = np.array([0.0, 0.5, 0.75, 1.0])   # define this in mole fractions\n",
    "\n",
    "ENERGIES = np.array([0.0, -0.7, -0.5, 0.0])\n",
    "\n",
    "xNiB = 0.875  # bulk Ni composition\n",
    "\n",
    "def G(n):\n",
    "    'function to minimize'\n",
    "    return np.dot(n, ENERGIES)\n",
    "\n",
    "def ec1(n):\n",
    "    'conservation of Ni'\n",
    "    Ntot = np.sum(n)\n",
    "    return (Ntot * xNiB) - np.dot(n,  xNi)\n",
    "\n",
    "def ec2(n):\n",
    "    'mole fractions sum to one'\n",
    "    return 1 - np.sum(n)\n",
    "\n",
    "n0 = np.array([0.0, 0.0, 0.45, 0.55]) # initial guess of mole fractions\n",
    "\n",
    "y = fmin_slsqp(G,\n",
    "               n0,\n",
    "               eqcons=[ec1, ec2],\n",
    "               bounds=[(0, 1)]*(len(n0)))\n",
    "\n",
    "for ci, xi in zip(COMPOSITIONS, y):\n",
    "    print('{0:8s} {1:+8.2%}'.format(ci, xi))"
   ]
  },
  {
   "cell_type": "markdown",
   "id": "d61685df",
   "metadata": {},
   "source": [
    "This means we have a 1:1 molar ratio of Ni and Ni<sub>0.75</sub>Al<sub>0.25</sub>. That works out to the overall bulk composition in this particular problem.\n",
    "\n",
    "Let us verify that these two approaches really lead to the same conclusions. On a weight basis we estimate 53.3%wt Ni and 46.7%wt Ni3Al, whereas we predict an equimolar mixture of the two phases. Below we compute the mole fraction of Ni in each case.\n",
    "\n"
   ]
  },
  {
   "cell_type": "code",
   "execution_count": null,
   "id": "660908b8",
   "metadata": {},
   "outputs": [],
   "source": [
    "# these are atomic masses of each species\n",
    "Ni = 58.693\n",
    "Al = 26.982\n",
    "\n",
    "# Molar case\n",
    "# 1 mol Ni + 1 mol Ni_{0.75}Al_{0.25}\n",
    "N1 = 1.0; N2 = 1.0\n",
    "mol_Ni = 1.0 * N1 + 0.75 * N2\n",
    "xNi = mol_Ni / (N1 + N2)\n",
    "print(xNi)\n",
    "\n",
    "# Mass case\n",
    "M1 = 0.533; M2 = 0.467\n",
    "MW1 = Ni; MW2 = 0.75*Ni + 0.25*Al\n",
    "\n",
    "xNi2 = (1.0 * M1/MW1 + 0.75 * M2 / MW2) / (M1/MW1 + M2/MW2)\n",
    "print(xNi2)"
   ]
  },
  {
   "cell_type": "markdown",
   "id": "99cf83b1",
   "metadata": {},
   "source": [
    "You can see the overall mole fraction of Ni is practically the same in each case.\n",
    "\n"
   ]
  },
  {
   "cell_type": "markdown",
   "id": "1ff786a2",
   "metadata": {},
   "source": [
    "### Conservation of mass in chemical reactions\n",
    "\n"
   ]
  },
  {
   "cell_type": "markdown",
   "id": "e159815b",
   "metadata": {},
   "source": [
    "[Matlab post](http://matlab.cheme.cmu.edu/2011/12/18/conservation-of-mass-in-chemical-reactions/)\n",
    "\n",
    "Atoms cannot be destroyed in non-nuclear chemical reactions, hence it follows that the same number of atoms entering a reactor must also leave the reactor. The atoms may leave the reactor in a different molecular configuration due to the reaction, but the total mass leaving the reactor must be the same. Here we look at a few ways to show this.\n",
    "\n",
    "We consider the water gas shift reaction : $CO + H_2O \\rightleftharpoons H_2 + CO_2$. We can illustrate the conservation of mass with the following equation: $\\bf{\\nu}\\bf{M}=\\bf{0}$. Where $\\bf{\\nu}$ is the stoichiometric coefficient vector and $\\bf{M}$ is a column vector of molecular weights. For simplicity, we use pure isotope molecular weights, and not the isotope-weighted molecular weights. This equation simply examines the mass on the right side of the equation and the mass on left side of the equation.\n",
    "\n"
   ]
  },
  {
   "cell_type": "code",
   "execution_count": null,
   "id": "e7aee9ce",
   "metadata": {},
   "outputs": [],
   "source": [
    "import numpy as np\n",
    "nu = [-1, -1, 1, 1];\n",
    "M = [28, 18, 2, 44];\n",
    "print(np.dot(nu, M))"
   ]
  },
  {
   "cell_type": "markdown",
   "id": "3cdbbeb5",
   "metadata": {},
   "source": [
    "You can see that sum of the stoichiometric coefficients times molecular weights is zero. In other words a CO and H\\_2O have the same mass as H\\_2 and CO\\_2.\n",
    "\n",
    "For any balanced chemical equation, there are the same number of each kind of atom on each side of the equation. Since the mass of each atom is unchanged with reaction, that means the mass of all the species that are reactants must equal the mass of all the species that are products! Here we look at the number of C, O, and H on each side of the reaction. Now if we add the mass of atoms in the reactants and products, it should sum to zero (since we used the negative sign for stoichiometric coefficients of reactants).\n",
    "\n"
   ]
  },
  {
   "cell_type": "code",
   "execution_count": null,
   "id": "77801a27",
   "metadata": {},
   "outputs": [],
   "source": [
    "import numpy as np\n",
    "            # C   O   H\n",
    "reactants = [-1, -2, -2]\n",
    "products  = [ 1,  2,  2]\n",
    "\n",
    "atomic_masses = [12.011, 15.999, 1.0079]  # atomic masses\n",
    "\n",
    "print(np.dot(reactants, atomic_masses) + np.dot(products, atomic_masses))"
   ]
  },
  {
   "cell_type": "markdown",
   "id": "18ccab11",
   "metadata": {},
   "source": [
    "That is all there is to mass conservation with reactions. Nothing changes if there are lots of reactions, as long as each reaction is properly balanced, and none of them are nuclear reactions!\n",
    "\n"
   ]
  },
  {
   "cell_type": "markdown",
   "id": "5bedf9da",
   "metadata": {},
   "source": [
    "### Numerically calculating an effectiveness factor for a porous catalyst bead\n",
    "\n"
   ]
  },
  {
   "cell_type": "markdown",
   "id": "f1303bc7",
   "metadata": {},
   "source": [
    "CLOSED: <span class=\"timestamp-wrapper\"><span class=\"timestamp\">[2015-01-05 Mon 09:59]</span></span>\n",
    "\n",
    ":categories: BVP\n",
    ":date:     2013/02/13 09:00:00\n",
    ":updated:  2015/01/05 09:59:14\n",
    ":tags:     reaction engineering\n",
    "\n",
    "[Matlab post](http://matlab.cheme.cmu.edu/2011/11/18/numerically-calculating-an-effectiveness-factor-for-a-porous-catalyst-bead/)\n",
    "\n",
    "If reaction rates are fast compared to diffusion in a porous catalyst pellet, then the observed kinetics will appear to be slower than they really are because not all of the catalyst surface area will be effectively used. For example, the reactants may all be consumed in the near surface area of a catalyst bead, and the inside of the bead will be unutilized because no reactants can get in due to the high reaction rates.\n",
    "\n",
    "References: Ch 12. Elements of Chemical Reaction Engineering, Fogler, 4th edition.\n",
    "\n",
    "A mole balance on the particle volume in spherical coordinates with a first order reaction leads to: $\\frac{d^2Ca}{dr^2} + \\frac{2}{r}\\frac{dCa}{dr}-\\frac{k}{D_e}C_A=0$ with boundary conditions $C_A(R) = C_{As}$ and $\\frac{dCa}{dr}=0$ at $r=0$. We convert this equation to a system of first order ODEs by letting $W_A=\\frac{dCa}{dr}$. Then, our two equations become:\n",
    "\n",
    "$\\frac{dCa}{dr} = W_A$\n",
    "\n",
    "and\n",
    "\n",
    "$\\frac{dW_A}{dr} = -\\frac{2}{r} W_A + \\frac{k}{D_E} C_A$\n",
    "\n",
    "We have a condition of no flux ($W_A=0$) at r=0 and Ca(R) = CAs, which makes this a boundary value problem. We use the shooting method here, and guess what Ca(0) is and iterate the guess to get Ca(R) = CAs.\n",
    "\n",
    "The value of the second differential equation at r=0 is tricky because at this place we have a 0/0 term. We use L'Hopital's rule to evaluate it. The derivative of the top is $\\frac{dW_A}{dr}$ and the derivative of the bottom is 1. So, we have\n",
    "$\\frac{dW_A}{dr} = -2\\frac{dW_A}{dr} + \\frac{k}{D_E} C_A$\n",
    "\n",
    "Which leads to:\n",
    "\n",
    "$3 \\frac{dW_A}{dr} =  \\frac{k}{D_E} C_A$\n",
    "\n",
    "or $\\frac{dW_A}{dr} =  \\frac{3k}{D_E} C_A$ at $r=0$.\n",
    "\n",
    "Finally, we implement the equations in Python and solve.\n",
    "\n"
   ]
  },
  {
   "cell_type": "code",
   "execution_count": null,
   "id": "b7c0d3e9",
   "metadata": {},
   "outputs": [],
   "source": [
    "import numpy as np\n",
    "from scipy.integrate import odeint\n",
    "import matplotlib.pyplot as plt\n",
    "\n",
    "De = 0.1    # diffusivity cm^2/s\n",
    "R = 0.5    # particle radius, cm\n",
    "k = 6.4    # rate constant (1/s)\n",
    "CAs = 0.2   # concentration of A at outer radius of particle (mol/L)\n",
    "\n",
    "\n",
    "def ode(Y, r):\n",
    "    Wa = Y[0]  # molar rate of delivery of A to surface of particle\n",
    "    Ca = Y[1]  # concentration of A in the particle at r\n",
    "    # this solves the singularity at r = 0\n",
    "    if r == 0:\n",
    "        dWadr = k / 3.0 * De * Ca\n",
    "    else:\n",
    "        dWadr = -2 * Wa / r + k / De * Ca\n",
    "    dCadr = Wa\n",
    "    return [dWadr, dCadr]\n",
    "\n",
    "# Initial conditions\n",
    "Ca0 = 0.029315  # Ca(0) (mol/L) guessed to satisfy Ca(R) = CAs\n",
    "Wa0 = 0         # no flux at r=0 (mol/m^2/s)\n",
    "\n",
    "rspan = np.linspace(0, R, 500)\n",
    "\n",
    "Y = odeint(ode, [Wa0, Ca0], rspan)\n",
    "\n",
    "Ca = Y[:, 1]\n",
    "\n",
    "# here we check that Ca(R) = Cas\n",
    "print('At r={0} Ca={1}'.format(rspan[-1], Ca[-1]))\n",
    "\n",
    "plt.plot(rspan, Ca)\n",
    "plt.xlabel('Particle radius')\n",
    "plt.ylabel('$C_A$')\n",
    "\n",
    "r = rspan\n",
    "eta_numerical = (np.trapz(k * Ca * 4 * np.pi * (r**2), r)\n",
    "                 / np.trapz(k * CAs * 4 * np.pi * (r**2), r))\n",
    "\n",
    "print(eta_numerical)\n",
    "\n",
    "phi = R * np.sqrt(k / De)\n",
    "eta_analytical = (3 / phi**2) * (phi * (1.0 / np.tanh(phi)) - 1)\n",
    "print(eta_analytical)"
   ]
  },
  {
   "cell_type": "markdown",
   "id": "72113ae8",
   "metadata": {},
   "source": [
    "You can see the concentration of A inside the particle is significantly lower than outside the particle. That is because it is reacting away faster than it can diffuse into the particle. Hence, the overall reaction rate in the particle is lower than it would be without the diffusion limit.\n",
    "\n",
    "The effectiveness factor is the ratio of the actual reaction rate in the particle with diffusion limitation to the ideal rate in the particle if there was no concentration gradient:\n",
    "\n",
    "$$\\eta = \\frac{\\int_0^R k'' a C_A(r) 4 \\pi r^2 dr}{\\int_0^R k'' a C_{As} 4 \\pi r^2 dr}$$\n",
    "\n",
    "We will evaluate this numerically from our solution and compare it to the analytical solution. The results are in good agreement, and you can make the numerical estimate better by increasing the number of points in the solution so that the numerical integration is more accurate.\n",
    "\n",
    "Why go through the numerical solution when an analytical solution exists? The analytical solution here is only good for 1st order kinetics in a sphere. What would you do for a complicated rate law? You might be able to find some limiting conditions where the analytical equation above is relevant, and if you are lucky, they are appropriate for your problem. If not, it is a good thing you can figure this out numerically!\n",
    "\n",
    "Thanks to Radovan Omorjan for helping me figure out the ODE at r=0!\n",
    "\n"
   ]
  },
  {
   "cell_type": "markdown",
   "id": "0edb7239",
   "metadata": {},
   "source": [
    "### Computing a pipe diameter\n",
    "\n"
   ]
  },
  {
   "cell_type": "markdown",
   "id": "5cfcde75",
   "metadata": {},
   "source": [
    "[Matlab post](http://matlab.cheme.cmu.edu/2011/10/27/compute-pipe-diameter/)\n",
    "A heat exchanger must handle 2.5 L/s of water through a smooth pipe with length of 100 m. The pressure drop cannot exceed 103 kPa at 25 degC. Compute the minimum pipe diameter required for this application.\n",
    "\n",
    "Adapted from problem 8.8 in Problem solving in chemical and Biochemical Engineering with Polymath, Excel, and Matlab. page 303.\n",
    "\n",
    "We need to estimate the Fanning friction factor for these conditions so we can estimate the frictional losses that result in a pressure drop for a uniform, circular pipe. The frictional forces are given by $F_f = 2f_F \\frac{\\Delta L v^2}{D}$, and the corresponding pressure drop is given by $\\Delta P = \\rho F_f$. In these equations, $\\rho$ is the fluid density, $v$ is the fluid velocity, $D$ is the pipe diameter, and $f_F$ is the Fanning friction factor. The average fluid velocity is given by $v = \\frac{q}{\\pi D^2/4}$.\n",
    "\n",
    "For laminar flow, we estimate $f_F = 16/Re$, which is a linear equation, and for turbulent flow ($Re > 2100$) we have the implicit equation $\\frac{1}{\\sqrt{f_F}}=4.0 \\log(Re \\sqrt{f_F})-0.4$. Of course, we define $Re = \\frac{D v\\rho}{\\mu}$ where $\\mu$ is the viscosity of the fluid.\n",
    "\n",
    "It is known that $\\rho(T) = 46.048 + 9.418 T -0.0329 T^2 +4.882\\times10^{-5}-2.895\\times10^{-8}T^4$ and $\\mu = \\exp\\left({-10.547 + \\frac{541.69}{T-144.53}}\\right)$ where $\\rho$ is in kg/m^3 and $\\mu$ is in kg/(m\\*s).\n",
    "\n",
    "The aim is to find $D$ that solves: $\\Delta p = \\rho 2 f_F \\frac{\\Delta L v^2}{D}$. This is a nonlinear equation in $D$, since D affects the fluid velocity, the Re, and the Fanning friction factor. Here is the solution\n",
    "\n"
   ]
  },
  {
   "cell_type": "code",
   "execution_count": null,
   "id": "5276f54b",
   "metadata": {},
   "outputs": [],
   "source": [
    "import numpy as np\n",
    "from scipy.optimize import fsolve\n",
    "import matplotlib.pyplot as plt\n",
    "\n",
    "T = 25 + 273.15\n",
    "Q = 2.5e-3       # m^3/s\n",
    "deltaP = 103000  # Pa\n",
    "deltaL = 100     # m\n",
    "\n",
    "#Note these correlations expect dimensionless T, where the magnitude\n",
    "# of T is in K\n",
    "\n",
    "def rho(T):\n",
    "    return 46.048 + 9.418 * T -0.0329 * T**2 +4.882e-5 * T**3 - 2.895e-8 * T**4\n",
    "\n",
    "def mu(T):\n",
    "    return np.exp(-10.547 + 541.69 / (T - 144.53))\n",
    "\n",
    "def fanning_friction_factor_(Re):\n",
    "    if Re < 2100:\n",
    "        raise Exception('Flow is probably not turbulent, so this correlation is not appropriate.')\n",
    "    # solve the Nikuradse correlation to get the friction factor\n",
    "    def fz(f): return 1.0/np.sqrt(f) - (4.0*np.log10(Re*np.sqrt(f))-0.4)\n",
    "    sol, = fsolve(fz, 0.01)\n",
    "    return sol\n",
    "\n",
    "fanning_friction_factor = np.vectorize(fanning_friction_factor_)\n",
    "\n",
    "Re = np.linspace(2200, 9000)\n",
    "f = fanning_friction_factor(Re)\n",
    "\n",
    "plt.plot(Re, f)\n",
    "plt.xlabel('Re')\n",
    "plt.ylabel('fanning friction factor')\n",
    "# You can see why we use 0.01 as an initial guess for solving for the\n",
    "# Fanning friction factor; it falls in the middle of ranges possible\n",
    "# for these Re numbers.\n",
    "\n",
    "\n",
    "def objective(D):\n",
    "    v = Q / (np.pi * D**2 / 4)\n",
    "    Re = D * v * rho(T) / mu(T)\n",
    "\n",
    "    fF = fanning_friction_factor(Re)\n",
    "\n",
    "    return deltaP - 2 * fF * rho(T) * deltaL * v**2 / D\n",
    "\n",
    "D, = fsolve(objective, 0.04)\n",
    "\n",
    "print('The minimum pipe diameter is {0} m\\n'.format(D))"
   ]
  },
  {
   "cell_type": "markdown",
   "id": "813dc1b0",
   "metadata": {},
   "source": [
    "Any pipe diameter smaller than that value will result in a larger pressure drop at the same volumetric flow rate, or a smaller volumetric flowrate at the same pressure drop. Either way, it will not meet the design specification.\n",
    "\n"
   ]
  },
  {
   "cell_type": "markdown",
   "id": "dcd284a3",
   "metadata": {},
   "source": [
    "### Reading parameter database text files in python\n",
    "\n"
   ]
  },
  {
   "cell_type": "markdown",
   "id": "2ecab7d6",
   "metadata": {},
   "source": [
    "[Matlab post](http://matlab.cheme.cmu.edu/2011/09/10/reading-parameter-database-text-files-in-matlab/)\n",
    "\n",
    "The datafile at [http://terpconnect.umd.edu/~nsw/ench250/antoine.dat>](http://terpconnect.umd.edu/~nsw/ench250/antoine.dat>)(dead link) contains data that can be used to estimate the vapor pressure of about 700 pure compounds using the Antoine equation\n",
    "\n",
    "The data file has the following contents:\n",
    "\n",
    "    Antoine Coefficients\n",
    "      log(P) = A-B/(T+C) where P is in mmHg and T is in Celsius\n",
    "    Source of data: Yaws and Yang (Yaws, C.  L.  and Yang, H.  C.,\n",
    "    \"To estimate vapor pressure easily. antoine coefficients relate vapor pressure to temperature for almost 700 major organic compounds\", Hydrocarbon Processing, 68(10), p65-68, 1989.\n",
    "    \n",
    "    ID  formula  compound name                  A       B       C     Tmin Tmax ??    ?\n",
    "    -----------------------------------------------------------------------------------\n",
    "      1 CCL4     carbon-tetrachloride        6.89410 1219.580 227.170  -20  101 Y2    0\n",
    "      2 CCL3F    trichlorofluoromethane      6.88430 1043.010 236.860  -33   27 Y2    0\n",
    "      3 CCL2F2   dichlorodifluoromethane     6.68619  782.072 235.377 -119  -30 Y6    0\n",
    "\n",
    "To use this data, you find the line that has the compound you want, and read off the data. You could do that manually for each component you want but that is tedious, and error prone. Today we will see how to retrieve the file, then read the data into python to create a database we can use to store and retrieve the data.\n",
    "\n",
    "We will use the data to find the temperature at which the vapor pressure of acetone is 400 mmHg.\n",
    "\n",
    "We use numpy.loadtxt to read the file, and tell the function the format of each column. This creates a special kind of record array which we can access data by field name.\n",
    "\n"
   ]
  },
  {
   "cell_type": "code",
   "execution_count": null,
   "id": "c22a81c7",
   "metadata": {},
   "outputs": [],
   "source": [
    "import numpy as np\n",
    "import matplotlib.pyplot as plt\n",
    "\n",
    "data = np.loadtxt('../data/antoine_data.dat',\n",
    "                  dtype=[('id', int),\n",
    "                         ('formula', 'S8'),\n",
    "                         ('name', 'S28'),\n",
    "                         ('A', float),\n",
    "                         ('B', float),\n",
    "                         ('C', float),\n",
    "                         ('Tmin', float),\n",
    "                         ('Tmax', float),\n",
    "                         ('??', 'S4'),\n",
    "                         ('?', 'S4')],\n",
    "                  skiprows=7)\n",
    "\n",
    "names = data['name']\n",
    "\n",
    "acetone = data[names == 'acetone']\n",
    "\n",
    "# for readability we unpack the array into variables\n",
    "id, formula, name, A, B, C, Tmin, Tmax, u1, u2 = acetone\n",
    "\n",
    "T = np.linspace(Tmin, Tmax)\n",
    "P = 10**(A - B / ( T + C))\n",
    "plt.plot(T, P)\n",
    "plt.xlabel('T ($^\\circ$C)')\n",
    "plt.ylabel('P$_{vap}$ (mmHg)')\n",
    "\n",
    "# Find T at which Pvap = 400 mmHg\n",
    "# from our graph we might guess T ~ 40 ^{\\circ}C\n",
    "\n",
    "def objective(T):\n",
    "    return 400 - 10**(A - B / (T + C))\n",
    "\n",
    "from scipy.optimize import fsolve\n",
    "Tsol, = fsolve(objective, 40)\n",
    "print(Tsol)\n",
    "print('The vapor pressure is 400 mmHg at T = {0:1.1f} degC'.format(Tsol))\n",
    "\n",
    "#Plot CRC data http://en.wikipedia.org/wiki/Acetone_%28data_page%29#Vapor_pressure_of_liquid\n",
    "# We only include the data for the range where the Antoine fit is valid.\n",
    "\n",
    "Tcrc  = [-59.4,         -31.1,  -9.4,   7.7,    39.5,   56.5]\n",
    "Pcrc = [        1,      10,     40,     100,    400,    760]\n",
    "\n",
    "plt.plot(Tcrc, Pcrc, 'bo')\n",
    "plt.legend(['Antoine','CRC Handbook'], loc='best')"
   ]
  },
  {
   "cell_type": "markdown",
   "id": "67e87e48",
   "metadata": {},
   "source": [
    "![img](images/antoine-1.png)\n",
    "\n",
    "This result is close to the value reported [ here](http://en.wikipedia.org/wiki/Acetone_%28data_page%29#Vapor_pressure_of_liquid) (39.5 degC), from the CRC Handbook. The difference is probably that the value reported in the CRC is an actual experimental number.\n",
    "\n",
    "![img](./images/antoine-2.png)\n",
    "\n"
   ]
  },
  {
   "cell_type": "markdown",
   "id": "e1e15257",
   "metadata": {},
   "source": [
    "### Calculating a bubble point pressure of a mixture\n",
    "\n"
   ]
  },
  {
   "cell_type": "markdown",
   "id": "a0a49ffd",
   "metadata": {},
   "source": [
    "[Matlab post](http://matlab.cheme.cmu.edu/2011/09/15/calculating-a-bubble-point-pressure/)\n",
    "\n",
    "Adapted from [http://terpconnect.umd.edu/~nsw/ench250/bubpnt.htm>](http://terpconnect.umd.edu/~nsw/ench250/bubpnt.htm>)(dead link)\n",
    "\n",
    "We previously learned to read a datafile containing lots of Antoine coefficients into a database, and use the coefficients to estimate vapor pressure of a single compound. Here we use those coefficents to compute a bubble point pressure of a mixture.\n",
    "\n",
    "The bubble point is the temperature at which the sum of the component vapor pressures is equal to the the total pressure. This is where a bubble of vapor will first start forming, and the mixture starts to boil.\n",
    "\n",
    "Consider an equimolar mixture of benzene, toluene, chloroform, acetone and methanol. Compute the bubble point at 760 mmHg, and the gas phase composition. The gas phase composition is given by: $y_i = x_i*P_i/P_T$.\n",
    "\n"
   ]
  },
  {
   "cell_type": "code",
   "execution_count": null,
   "id": "1a9ead90",
   "metadata": {},
   "outputs": [],
   "source": [
    "import numpy as np\n",
    "from scipy.optimize import fsolve\n",
    "\n",
    "# load our thermodynamic data\n",
    "data = np.loadtxt('data/antoine_data.dat',\n",
    "                  dtype=[('id', np.int),\n",
    "                         ('formula', 'S8'),\n",
    "                         ('name', 'S28'),\n",
    "                         ('A', np.float),\n",
    "                         ('B', np.float),\n",
    "                         ('C', np.float),\n",
    "                         ('Tmin', np.float),\n",
    "                         ('Tmax', np.float),\n",
    "                         ('??', 'S4'),\n",
    "                         ('?', 'S4')],\n",
    "                  skiprows=7)\n",
    "\n",
    "compounds = ['benzene', 'toluene', 'chloroform', 'acetone', 'methanol']\n",
    "\n",
    "# extract the data we want\n",
    "A = np.array([data[data['name'] == x.encode(encoding='UTF-8')]['A'][0]\n",
    "              for x in compounds])\n",
    "B = np.array([data[data['name'] == x.encode(encoding='UTF-8')]['B'][0]\n",
    "              for x in compounds])\n",
    "C = np.array([data[data['name'] == x.encode(encoding='UTF-8')]['C'][0]\n",
    "              for x in compounds])\n",
    "Tmin = np.array([data[data['name'] == x.encode(encoding='UTF-8')]['Tmin'][0]\n",
    "                 for x in compounds])\n",
    "Tmax = np.array([data[data['name'] == x.encode(encoding='UTF-8')]['Tmax'][0]\n",
    "                 for x in compounds])\n",
    "\n",
    "# we have an equimolar mixture\n",
    "x = np.array([0.2, 0.2, 0.2, 0.2, 0.2])\n",
    "\n",
    "# Given a T, we can compute the pressure of each species like this:\n",
    "\n",
    "T = 67 # degC\n",
    "P = 10**(A - B / (T + C))\n",
    "print(P)\n",
    "print(np.dot(x, P))  # total mole-fraction weighted pressure\n",
    "\n",
    "Tguess = 67\n",
    "Ptotal = 760\n",
    "\n",
    "def func(T):\n",
    "    P = 10**(A - B / (T + C))\n",
    "    return Ptotal - np.dot(x, P)\n",
    "\n",
    "Tbubble, = fsolve(func, Tguess)\n",
    "\n",
    "print('The bubble point is {0:1.2f} degC'.format(Tbubble))\n",
    "\n",
    "# double check answer is in a valid T range\n",
    "if np.any(Tbubble < Tmin) or np.any(Tbubble > Tmax):\n",
    "    print('T_bubble is out of range!')\n",
    "\n",
    "# print gas phase composition\n",
    "y = x * 10**(A - B / (Tbubble + C))/Ptotal\n",
    "\n",
    "for cmpd, yi in zip(compounds, y):\n",
    "    print('y_{0:<10s} = {1:1.3f}'.format(cmpd, yi))"
   ]
  },
  {
   "cell_type": "markdown",
   "id": "cd05b50d",
   "metadata": {},
   "source": [
    "### The equal area method for the van der Waals equation\n",
    "\n"
   ]
  },
  {
   "cell_type": "markdown",
   "id": "d2032f99",
   "metadata": {},
   "source": [
    "[Matlab post](http://matlab.cheme.cmu.edu/2011/09/11/the-equal-area-method-for-the-van-der-waals-equation/)\n",
    "\n",
    "When a gas is below its Tc the van der Waal equation oscillates. In the portion of the isotherm where $\\partial P_R/\\partial V_r > 0$, the isotherm fails to describe real materials, which phase separate into a liquid and gas in this region.\n",
    "\n",
    "Maxwell proposed to replace this region by a flat line, where the area above and below the curves are equal. Today, we examine how to identify where that line should be.\n",
    "\n"
   ]
  },
  {
   "cell_type": "code",
   "execution_count": null,
   "id": "3702f8e2",
   "metadata": {},
   "outputs": [],
   "source": [
    "import numpy as np\n",
    "import matplotlib.pyplot as plt\n",
    "\n",
    "Tr = 0.9 # A Tr below Tc:  Tr = T/Tc\n",
    "# analytical equation for Pr. This is the reduced form of the van der Waal\n",
    "# equation.\n",
    "def Prfh(Vr):\n",
    "    return  8.0 / 3.0 * Tr / (Vr - 1.0 / 3.0) - 3.0 / (Vr**2)\n",
    "\n",
    "Vr = np.linspace(0.5, 4, 100)  # vector of reduced volume\n",
    "Pr = Prfh(Vr)                 # vector of reduced pressure\n",
    "\n",
    "plt.clf()\n",
    "plt.plot(Vr,Pr)\n",
    "plt.ylim([0, 2])\n",
    "plt.xlabel('$V_R$')\n",
    "plt.ylabel('$P_R$')"
   ]
  },
  {
   "cell_type": "markdown",
   "id": "270b8188",
   "metadata": {},
   "source": [
    "![img](./images/maxwell-eq-area-1.png)\n",
    "\n",
    "The idea is to pick a Pr and draw a line through the EOS. We want the areas between the line and EOS to be equal on each side of the middle intersection. Let us draw a line on the figure at y = 0.65.\n",
    "\n"
   ]
  },
  {
   "cell_type": "code",
   "execution_count": null,
   "id": "11fc3791",
   "metadata": {},
   "outputs": [],
   "source": [
    "y = 0.65\n",
    "\n",
    "plt.plot([0.5, 4.0], [y, y], 'k--')"
   ]
  },
  {
   "cell_type": "markdown",
   "id": "14e1ff2c",
   "metadata": {},
   "source": [
    "![img](./images/maxwell-eq-area-2.png)\n",
    "\n",
    "To find the areas, we need to know where the intersection of the vdW eqn with the horizontal line. This is the same as asking what are the roots of the vdW equation at that Pr. We need all three intersections so we can integrate from the first root to the middle root, and then the middle root to the third root. We take advantage of the polynomial nature of the vdW equation, which allows us to use the roots command to get all the roots at once. The polynomial is $V_R^3 - \\frac{1}{3}(1+8 T_R/P_R) + 3/P_R - 1/P_R = 0$. We use the coefficients t0 get the roots like this.\n",
    "\n"
   ]
  },
  {
   "cell_type": "code",
   "execution_count": null,
   "id": "ec9c9a58",
   "metadata": {},
   "outputs": [],
   "source": [
    "vdWp = [1.0, -1. / 3.0 * (1.0 + 8.0 * Tr / y), 3.0 / y, - 1.0 / y]\n",
    "v = np.roots(vdWp)\n",
    "v.sort()\n",
    "print(v)\n",
    "\n",
    "plt.plot(v[0], y, 'bo', v[1], y, 'bo', v[2], y, 'bo');"
   ]
  },
  {
   "cell_type": "markdown",
   "id": "1c9d978a",
   "metadata": {},
   "source": [
    "![img](./images/maxwell-eq-area-3.png)\n",
    "\n"
   ]
  },
  {
   "cell_type": "markdown",
   "id": "f45eb0ff",
   "metadata": {},
   "source": [
    "#### Compute areas\n",
    "\n"
   ]
  },
  {
   "cell_type": "markdown",
   "id": "af8b5e0e",
   "metadata": {},
   "source": [
    "for A1, we need the area under the line minus the area under the vdW curve. That is the area between the curves. For A2, we want the area under the vdW curve minus the area under the line. The area under the line between root 2 and root 1 is just the width (root2 - root1)\\*y\n",
    "\n"
   ]
  },
  {
   "cell_type": "code",
   "execution_count": null,
   "id": "122d1c72",
   "metadata": {},
   "outputs": [],
   "source": [
    "from scipy.integrate import quad\n",
    "\n",
    "A1, e1 = (v[1] - v[0]) * y - quad(Prfh,  v[0], v[1])\n",
    "A2, e2 = quad(Prfh, v[1], v[2]) - (v[2] - v[1])* y\n",
    "\n",
    "print(A1, A2)\n",
    "print(e1, e2)  # interesting these look so large"
   ]
  },
  {
   "cell_type": "code",
   "execution_count": null,
   "id": "0cfb72a5",
   "metadata": {},
   "outputs": [],
   "source": [
    "from scipy.optimize import fsolve\n",
    "\n",
    "def equal_area(y):\n",
    "    Tr = 0.9\n",
    "    vdWp = [1, -1.0 / 3 * ( 1.0 + 8.0 * Tr / y), 3.0 / y,  -1.0 / y]\n",
    "    v = np.roots(vdWp)\n",
    "    v.sort()\n",
    "    A1 = (v[1] - v[0]) * y - quad(Prfh, v[0], v[1])\n",
    "    A2 = quad(Prfh, v[1], v[2]) - (v[2] - v[1]) * y\n",
    "    return  A1 - A2\n",
    "\n",
    "y_eq, = fsolve(equal_area, 0.65)\n",
    "print(y_eq)\n",
    "\n",
    "Tr = 0.9\n",
    "vdWp = [1, -1.0 / 3 * ( 1.0 + 8.0 * Tr / y_eq), 3.0 / y_eq,  -1.0 / y_eq]\n",
    "v = np.roots(vdWp)\n",
    "v.sort()\n",
    "\n",
    "A1, e1 = (v[1] - v[0]) * y_eq - quad(Prfh,  v[0], v[1])\n",
    "A2, e2 = quad(Prfh, v[1], v[2]) - (v[2] - v[1]) * y_eq\n",
    "\n",
    "print(A1, A2)"
   ]
  },
  {
   "cell_type": "markdown",
   "id": "f5c58f65",
   "metadata": {},
   "source": [
    "Now let us plot the equal areas and indicate them by shading.\n",
    "\n"
   ]
  },
  {
   "cell_type": "code",
   "execution_count": null,
   "id": "380c43d1",
   "metadata": {},
   "outputs": [],
   "source": [
    "fig = plt.gcf()\n",
    "ax = fig.add_subplot(111)\n",
    "\n",
    "ax.plot(Vr,Pr)\n",
    "\n",
    "hline = np.ones(Vr.size) * y_eq\n",
    "\n",
    "ax.plot(Vr, hline)\n",
    "ax.fill_between(Vr, hline, Pr, where=(Vr >= v[0]) & (Vr <= v[1]), facecolor='gray')\n",
    "ax.fill_between(Vr, hline, Pr, where=(Vr >= v[1]) & (Vr <= v[2]), facecolor='gray')\n",
    "\n",
    "plt.text(v[0], 1, 'A1 = {0}'.format(A1))\n",
    "plt.text(v[2], 1, 'A2 = {0}'.format(A2))\n",
    "plt.xlabel('$V_R$')\n",
    "plt.ylabel('$P_R$')\n",
    "plt.title('$T_R$ = 0.9');"
   ]
  },
  {
   "cell_type": "markdown",
   "id": "09fd51e3",
   "metadata": {},
   "source": [
    "![img](./images/maxwell-eq-area-4.png)\n",
    "\n"
   ]
  },
  {
   "cell_type": "markdown",
   "id": "450e6cd8",
   "metadata": {},
   "source": [
    "### Time dependent concentration in a first order reversible reaction in a batch reactor\n",
    "\n"
   ]
  },
  {
   "cell_type": "markdown",
   "id": "c751e09e",
   "metadata": {},
   "source": [
    "[Matlab post](http://matlab.cheme.cmu.edu/2011/08/07/first-order-reversible-reaction-in-batch-reactor/)\n",
    "\n",
    "Given this reaction $A \\rightleftharpoons B$, with these rate laws:\n",
    "\n",
    "forward rate law: $-r_a = k_1 C_A$\n",
    "\n",
    "backward rate law: $-r_b = k_{-1} C_B$\n",
    "\n",
    "plot the concentration of A vs. time. This example illustrates a set of coupled first order ODES.\n",
    "\n"
   ]
  },
  {
   "cell_type": "code",
   "execution_count": null,
   "id": "25a59dac",
   "metadata": {},
   "outputs": [],
   "source": [
    "from scipy.integrate import odeint\n",
    "import numpy as np\n",
    "\n",
    "def myode(C, t):\n",
    "    # ra = -k1*Ca\n",
    "    # rb = -k_1*Cb\n",
    "    # net rate for production of A:  ra - rb\n",
    "    # net rate for production of B: -ra + rb\n",
    "\n",
    "    k1 = 1   # 1/min;\n",
    "    k_1 = 0.5   # 1/min;\n",
    "\n",
    "    Ca = C[0]\n",
    "    Cb = C[1]\n",
    "\n",
    "    ra = -k1 * Ca\n",
    "    rb = -k_1 * Cb\n",
    "\n",
    "    dCadt =  ra - rb\n",
    "    dCbdt = -ra + rb\n",
    "\n",
    "    dCdt = [dCadt, dCbdt]\n",
    "    return dCdt\n",
    "\n",
    "tspan = np.linspace(0, 5)\n",
    "\n",
    "init = [1, 0]  # mol/L\n",
    "C = odeint(myode, init, tspan)\n",
    "\n",
    "Ca = C[:,0]\n",
    "Cb = C[:,1]\n",
    "\n",
    "import matplotlib.pyplot as plt\n",
    "plt.plot(tspan, Ca, tspan, Cb)\n",
    "plt.xlabel('Time (min)')\n",
    "plt.ylabel('C (mol/L)')\n",
    "plt.legend(['$C_A$', '$C_B$']);"
   ]
  },
  {
   "cell_type": "markdown",
   "id": "1f9d1bd6",
   "metadata": {},
   "source": [
    "That is it. The main difference between this and Matlab is the order of arguments in odeint is different, and the ode function has differently ordered arguments.\n",
    "\n"
   ]
  },
  {
   "cell_type": "markdown",
   "id": "6d6a7176",
   "metadata": {},
   "source": [
    "### Finding equilibrium conversion\n",
    "\n"
   ]
  },
  {
   "cell_type": "markdown",
   "id": "ed064310",
   "metadata": {},
   "source": [
    "A common problem to solve in reaction engineering is finding the equilibrium conversion. A typical problem to solve is the following nonlinear equation:\n",
    "\n",
    "$1.44 = \\frac{X_e^2}{(1-X_e)^2}$\n",
    "\n",
    "To solve this we create a function:\n",
    "\n",
    "$f(X_e)=0=1.44 - \\frac{X_e^2}{(1-X_e)^2}$\n",
    "\n",
    "and use a nonlinear solver to find the value of $X_e$ that makes this function equal to zero. We have to provide an initial guess. Chemical intuition suggests that the solution must be between 0 and 1, and mathematical intuition suggests the solution might be near 0.5 (which would give a ratio near 1).\n",
    "\n",
    "Here is our solution.\n",
    "\n"
   ]
  },
  {
   "cell_type": "code",
   "execution_count": null,
   "id": "65f98d3d",
   "metadata": {},
   "outputs": [],
   "source": [
    "from scipy.optimize import fsolve\n",
    "\n",
    "def func(Xe):\n",
    "    z = 1.44 - (Xe**2)/(1-Xe)**2\n",
    "    return z\n",
    "\n",
    "X0 = 0.5\n",
    "Xe, = fsolve(func, X0)\n",
    "print('The equilibrium conversion is X = {0:1.2f}'.format(Xe))"
   ]
  },
  {
   "cell_type": "markdown",
   "id": "fe59dfb2",
   "metadata": {},
   "source": [
    "See Fogler, 4th ed. page 1025 for the setup of this equation.\n",
    "\n"
   ]
  },
  {
   "cell_type": "markdown",
   "id": "070812f5",
   "metadata": {},
   "source": [
    "### Integrating a batch reactor design equation\n",
    "\n"
   ]
  },
  {
   "cell_type": "markdown",
   "id": "447d61b4",
   "metadata": {},
   "source": [
    "For a constant volume batch reactor where $A \\rightarrow B$ at a rate of $-r_A = k C_A^2$, we derive the following design equation for the length of time required to achieve a particular level of conversion :\n",
    "\n",
    "$t(X) = \\frac{1}{k C_{A0}} \\int_{X=0}^X \\frac{dX}{(1-X)^2}$\n",
    "\n",
    "if $k = 10^{-3}$ L/mol/s and $C_{A0}$ = 1 mol/L, estimate the time to achieve 90% conversion.\n",
    "\n",
    "We could analytically solve the integral and evaluate it, but instead we will numerically evaluate it using scipy.integrate.quad. This function returns two values: the evaluated integral, and an estimate of the absolute error in the answer.\n",
    "\n"
   ]
  },
  {
   "cell_type": "code",
   "execution_count": null,
   "id": "95f5051a",
   "metadata": {},
   "outputs": [],
   "source": [
    "from scipy.integrate import quad\n",
    "\n",
    "def integrand(X):\n",
    "    k = 1.0e-3\n",
    "    Ca0 = 1.0  # mol/L\n",
    "    return 1./(k*Ca0)*(1./(1-X)**2)\n",
    "\n",
    "sol, abserr = quad(integrand, 0, 0.9)\n",
    "print('t = {0} seconds ({1} hours)'.format(sol, sol/3600))\n",
    "print('Estimated absolute error = {0}'.format(abserr))"
   ]
  },
  {
   "cell_type": "markdown",
   "id": "a10c702e",
   "metadata": {},
   "source": [
    "You can see the estimate error is very small compared to the solution.\n",
    "\n"
   ]
  },
  {
   "cell_type": "markdown",
   "id": "8dffc648",
   "metadata": {},
   "source": [
    "### Uncertainty in an integral equation\n",
    "\n"
   ]
  },
  {
   "cell_type": "markdown",
   "id": "40cff6fc",
   "metadata": {},
   "source": [
    "In a [previous example](http://jkitchin.github.io/blog/2013/01/06/Integrating-a-batch-reactor-design-equation/), we solved for the time to reach a specific conversion in a batch reactor. However, it is likely there is uncertainty in the rate constant, and possibly in the initial concentration. Here we examine the effects of that uncertainty on the time to reach the desired conversion.\n",
    "\n",
    "To do this we have to write a function that takes arguments with uncertainty, and wrap the function with the uncertainties.wrap decorator. The function must return a single float number (current limitation of the uncertainties package). Then, we simply call the function, and the uncertainties from the inputs will be automatically propagated to the outputs. Let us say there is about 10% uncertainty in the rate constant, and 1% uncertainty in the initial concentration.\n",
    "\n"
   ]
  },
  {
   "cell_type": "code",
   "execution_count": null,
   "id": "d40bad10",
   "metadata": {},
   "outputs": [],
   "source": [
    "from scipy.integrate import quad\n",
    "import uncertainties as u\n",
    "\n",
    "k = u.ufloat(1.0e-3, 1.0e-4)\n",
    "Ca0 = u.ufloat(1.0, 0.01)# mol/L\n",
    "\n",
    "@u.wrap\n",
    "def func(k, Ca0):\n",
    "    def integrand(X):\n",
    "        return 1./(k*Ca0)*(1./(1-X)**2)\n",
    "    integral, abserr = quad(integrand, 0, 0.9)\n",
    "    return integral\n",
    "\n",
    "sol = func(k, Ca0)\n",
    "print('t = {0} seconds ({1} hours)'.format(sol, sol/3600))"
   ]
  },
  {
   "cell_type": "markdown",
   "id": "4a55205d",
   "metadata": {},
   "source": [
    "The result shows about a 10% uncertainty in the time, which is similar to the largest uncertainty in the inputs.  This information should certainly be used in making decisions about how long to actually run the reactor to be sure of reaching the goal. For example, in this case, running the reactor for 3 hours (that is roughly + 2&sigma;) would ensure at a high level of confidence (approximately 95% confidence) that you reach at least 90% conversion.\n",
    "\n"
   ]
  },
  {
   "cell_type": "markdown",
   "id": "25258203",
   "metadata": {},
   "source": [
    "### Integrating the batch reactor mole balance\n",
    "\n"
   ]
  },
  {
   "cell_type": "markdown",
   "id": "c061f623",
   "metadata": {},
   "source": [
    "An alternative approach of evaluating an integral is to integrate a differential equation. For the batch reactor, the differential equation that describes conversion as a function of time is:\n",
    "\n",
    "$\\frac{dX}{dt} = -r_A V/N_{A0}$.\n",
    "\n",
    "Given a value of initial concentration, or volume and initial number of moles of A, we can integrate this ODE to find the conversion at some later time. We assume that $X(t=0)=0$. We will integrate the ODE over a time span of 0 to 10,000 seconds.\n",
    "\n"
   ]
  },
  {
   "cell_type": "code",
   "execution_count": null,
   "id": "e28e4554",
   "metadata": {},
   "outputs": [],
   "source": [
    "from scipy.integrate import odeint\n",
    "import numpy as np\n",
    "import matplotlib.pyplot as plt\n",
    "\n",
    "k = 1.0e-3\n",
    "Ca0 = 1.0  # mol/L\n",
    "\n",
    "def func(X, t):\n",
    "    ra = -k * (Ca0 * (1 - X))**2\n",
    "    return -ra / Ca0\n",
    "\n",
    "X0 = 0\n",
    "tspan = np.linspace(0,10000)\n",
    "\n",
    "sol = odeint(func, X0, tspan)\n",
    "plt.plot(tspan,sol)\n",
    "plt.xlabel('Time (sec)')\n",
    "plt.ylabel('Conversion');"
   ]
  },
  {
   "cell_type": "markdown",
   "id": "8cb03636",
   "metadata": {},
   "source": [
    "You can read off of this figure to find the time required to achieve a particular conversion.\n",
    "\n"
   ]
  },
  {
   "cell_type": "markdown",
   "id": "d1c7c9f3",
   "metadata": {},
   "source": [
    "### Plug flow reactor with a pressure drop\n",
    "\n"
   ]
  },
  {
   "cell_type": "markdown",
   "id": "cfefa9c9",
   "metadata": {},
   "source": [
    "If there is a pressure drop in a plug flow reactor,  there are two equations needed to determine the exit conversion: one for the conversion, and one from the pressure drop.\n",
    "\n",
    "\\begin{eqnarray}\n",
    "\\frac{dX}{dW} &=& \\frac{k'}{F_A0} \\left ( \\frac{1-X}{1 + \\epsilon X} \\right) y\\\\\n",
    "\\frac{dX}{dy} &=& -\\frac{\\alpha (1 + \\epsilon X)}{2y}\n",
    "\\end{eqnarray}\n",
    "\n",
    "Here is how to integrate these equations numerically in python.\n",
    "\n"
   ]
  },
  {
   "cell_type": "code",
   "execution_count": null,
   "id": "573f4a7c",
   "metadata": {},
   "outputs": [],
   "source": [
    "import numpy as np\n",
    "from scipy.integrate import odeint\n",
    "import matplotlib.pyplot as plt\n",
    "\n",
    "kprime = 0.0266\n",
    "Fa0 = 1.08\n",
    "alpha = 0.0166\n",
    "epsilon = -0.15\n",
    "\n",
    "def dFdW(F, W):\n",
    "    'set of ODEs to integrate'\n",
    "    X = F[0]\n",
    "    y = F[1]\n",
    "    dXdW = kprime / Fa0 * (1-X) / (1 + epsilon*X) * y\n",
    "    dydW = -alpha * (1 + epsilon * X) / (2 * y)\n",
    "    return [dXdW, dydW]\n",
    "\n",
    "Wspan = np.linspace(0,60)\n",
    "X0 = 0.0\n",
    "y0 = 1.0\n",
    "F0 = [X0, y0]\n",
    "sol = odeint(dFdW, F0, Wspan)\n",
    "\n",
    "# now plot the results\n",
    "plt.plot(Wspan, sol[:,0], label='Conversion')\n",
    "plt.plot(Wspan, sol[:,1], 'g--', label='y=$P/P_0$')\n",
    "plt.legend(loc='best')\n",
    "plt.xlabel('Catalyst weight (lb_m)');"
   ]
  },
  {
   "cell_type": "markdown",
   "id": "45080d57",
   "metadata": {},
   "source": [
    "See Fogler, 4th edition. page 193.\n",
    "\n"
   ]
  },
  {
   "cell_type": "markdown",
   "id": "0e3b92bd",
   "metadata": {},
   "source": [
    "### Solving CSTR design equations\n",
    "\n"
   ]
  },
  {
   "cell_type": "markdown",
   "id": "6b0ece2c",
   "metadata": {},
   "source": [
    "Given a continuously stirred tank reactor with a volume of 66,000 dm^3 where the reaction $A \\rightarrow B$ occurs, at a rate of $-r_A = k C_A^2$ ($k=3$ L/mol/h), with an entering molar flow of F<sub>A0</sub> = 5 mol/h and a volumetric flowrate of 10 L/h, what is the exit concentration of A?\n",
    "\n",
    "From a mole balance we know that at steady state $0 = F_{A0} - F_A + V r_A$. That equation simply states the sum of the molar flow of A in in minus the molar flow of A out  plus the molar rate A is generated is equal to zero at steady state. This is directly the equation we need to solve. We need the following relationship:\n",
    "\n",
    "1.  $F_A = v0 C_A$\n",
    "\n"
   ]
  },
  {
   "cell_type": "code",
   "execution_count": null,
   "id": "7e33d102",
   "metadata": {},
   "outputs": [],
   "source": [
    "from scipy.optimize import fsolve\n",
    "\n",
    "Fa0 = 5.0\n",
    "v0 = 10.\n",
    "\n",
    "V = 66000.0  # reactor volume L^3\n",
    "k = 3.0      # rate constant L/mol/h\n",
    "\n",
    "def func(Ca):\n",
    "    \"Mole balance for a CSTR. Solve this equation for func(Ca)=0\"\n",
    "    Fa = v0 * Ca     # exit molar flow of A\n",
    "    ra = -k * Ca**2  # rate of reaction of A L/mol/h\n",
    "    return Fa0 - Fa + V * ra\n",
    "\n",
    "# CA guess that that 90 % is reacted away\n",
    "CA_guess = 0.1 * Fa0 / v0\n",
    "CA_sol, = fsolve(func, CA_guess)\n",
    "\n",
    "print('The exit concentration is {0} mol/L'.format(CA_sol))"
   ]
  },
  {
   "cell_type": "markdown",
   "id": "bfe35ae2",
   "metadata": {},
   "source": [
    "It is a little confusing why it is necessary to put a comma after the CA\\_sol in the fsolve command. If you do not put it there, you get brackets around the answer.\n",
    "\n"
   ]
  },
  {
   "cell_type": "markdown",
   "id": "7e95901e",
   "metadata": {},
   "source": [
    "### Meet the steam tables\n",
    "\n"
   ]
  },
  {
   "cell_type": "markdown",
   "id": "bce633d0",
   "metadata": {},
   "source": [
    "[Matlab post](http://matlab.cheme.cmu.edu/2011/10/31/matlab-meets-the-steam-tables/)\n",
    "\n",
    "We will use the [iapws](https://pypi.python.org/pypi/iapws) module. Install it like this:\n",
    "\n",
    "    pip install iapws\n",
    "\n",
    "Problem statement: A Rankine cycle operates using steam with the condenser at 100 degC, a pressure of 3.0 MPa and temperature of 600 degC in the boiler. Assuming the compressor and turbine operate reversibly, estimate the efficiency of the cycle.\n",
    "\n",
    "Starting point in the Rankine cycle in condenser.\n",
    "\n",
    "we have saturated liquid here, and we get the thermodynamic properties for the given temperature. In this python module, these properties are all in attributes of an IAPWS object created at a set of conditions.\n",
    "\n"
   ]
  },
  {
   "cell_type": "markdown",
   "id": "067da1ab",
   "metadata": {},
   "source": [
    "#### Starting point in the Rankine cycle in condenser.\n",
    "\n"
   ]
  },
  {
   "cell_type": "markdown",
   "id": "8bf5191e",
   "metadata": {},
   "source": [
    "We have saturated liquid here, and we get the thermodynamic properties for the given temperature.\n",
    "\n"
   ]
  },
  {
   "cell_type": "code",
   "execution_count": null,
   "id": "8fc27459",
   "metadata": {},
   "outputs": [],
   "source": [
    "#import iapws\n",
    "#print iapws.__version__\n",
    "from iapws import IAPWS97\n",
    "\n",
    "T1 = 100 + 273.15 #in K\n",
    "\n",
    "sat_liquid1  = IAPWS97(T=T1, x=0) # x is the steam quality. 0 = liquid\n",
    "\n",
    "P1 = sat_liquid1.P\n",
    "s1 = sat_liquid1.s\n",
    "h1 = sat_liquid1.h\n",
    "v1 = sat_liquid1.v"
   ]
  },
  {
   "cell_type": "markdown",
   "id": "1024ac53",
   "metadata": {},
   "source": [
    "#### Isentropic compression of liquid to point 2\n",
    "\n"
   ]
  },
  {
   "cell_type": "markdown",
   "id": "8830ba80",
   "metadata": {},
   "source": [
    "The final pressure is given, and we need to compute the new temperatures, and enthalpy.\n",
    "\n"
   ]
  },
  {
   "cell_type": "code",
   "execution_count": null,
   "id": "32831c9f",
   "metadata": {},
   "outputs": [],
   "source": [
    "P2 = 3.0 # MPa\n",
    "s2 = s1 # this is what isentropic means\n",
    "\n",
    "sat_liquid2 = IAPWS97(P=P2, s=s1)\n",
    "T2 = sat_liquid2.T\n",
    "h2 = sat_liquid2.h\n",
    "\n",
    "# work done to compress liquid. This is an approximation, since the\n",
    "# volume does change a little with pressure, but the overall work here\n",
    "# is pretty small so we neglect the volume change.\n",
    "WdotP = v1*(P2 - P1);\n",
    "\n",
    "print('The compressor work is: {0:1.4f} kJ/kg'.format(WdotP))"
   ]
  },
  {
   "cell_type": "markdown",
   "id": "85906725",
   "metadata": {},
   "source": [
    "The compression work is almost negligible. This number is 1000 times smaller than we computed with Xsteam. I wonder what the units of v1 actually are.\n",
    "\n"
   ]
  },
  {
   "cell_type": "markdown",
   "id": "73d39e22",
   "metadata": {},
   "source": [
    "#### Isobaric heating to T3 in boiler where we make steam\n",
    "\n"
   ]
  },
  {
   "cell_type": "code",
   "execution_count": null,
   "id": "64170469",
   "metadata": {},
   "outputs": [],
   "source": [
    "T3 = 600 + 273.15 # K\n",
    "P3 = P2 # definition of isobaric\n",
    "steam = IAPWS97(P=P3, T=T3)\n",
    "\n",
    "h3 = steam.h\n",
    "s3 = steam.s\n",
    "\n",
    "Qb = h3 - h2 # heat required to make the steam\n",
    "\n",
    "print('The boiler heat duty is: {0:1.2f} kJ/kg'.format(Qb))"
   ]
  },
  {
   "cell_type": "markdown",
   "id": "362cd8f0",
   "metadata": {},
   "source": [
    "#### Isentropic expansion through turbine to point 4\n",
    "\n"
   ]
  },
  {
   "cell_type": "code",
   "execution_count": null,
   "id": "79c60165",
   "metadata": {},
   "outputs": [],
   "source": [
    "steam =  IAPWS97(P=P1, s=s3)\n",
    "T4 = steam.T\n",
    "h4 = steam.h\n",
    "s4 = s3 # isentropic\n",
    "Qc = h4 - h1 # work required to cool from T4 to T1\n",
    "\n",
    "print('The condenser heat duty is {0:1.2f} kJ/kg'.format(Qc))"
   ]
  },
  {
   "cell_type": "markdown",
   "id": "5eb1aa90",
   "metadata": {},
   "source": [
    "#### To get from point 4 to point 1\n",
    "\n"
   ]
  },
  {
   "cell_type": "code",
   "execution_count": null,
   "id": "50627880",
   "metadata": {},
   "outputs": [],
   "source": [
    "WdotTurbine = h4 - h3 # work extracted from the expansion\n",
    "print('The turbine work is: {0:1.2f} kJ/kg'.format(WdotTurbine))"
   ]
  },
  {
   "cell_type": "markdown",
   "id": "cc153c0d",
   "metadata": {},
   "source": [
    "#### Efficiency\n",
    "\n"
   ]
  },
  {
   "cell_type": "markdown",
   "id": "7ccafce1",
   "metadata": {},
   "source": [
    "This is a ratio of the work put in to make the steam, and the net work obtained from the turbine. The answer here agrees with the efficiency calculated in Sandler on page 135.\n",
    "\n"
   ]
  },
  {
   "cell_type": "code",
   "execution_count": null,
   "id": "e875533c",
   "metadata": {},
   "outputs": [],
   "source": [
    "eta = -(WdotTurbine - WdotP) / Qb\n",
    "print('The overall efficiency is {0:1.2%}.'.format(eta))"
   ]
  },
  {
   "cell_type": "markdown",
   "id": "48f9433f",
   "metadata": {},
   "source": [
    "#### Entropy-temperature chart\n",
    "\n"
   ]
  },
  {
   "cell_type": "markdown",
   "id": "f92357b8",
   "metadata": {},
   "source": [
    "The IAPWS module makes it pretty easy to generate figures of the steam tables. Here we generate an entropy-Temperature graph. We do this to illustrate the path of the Rankine cycle. We need to compute the values of steam entropy for a range of pressures and temperatures.\n",
    "\n"
   ]
  },
  {
   "cell_type": "code",
   "execution_count": null,
   "id": "c231f516",
   "metadata": {},
   "outputs": [],
   "source": [
    "import numpy as np\n",
    "import matplotlib.pyplot as plt\n",
    "\n",
    "plt.figure()\n",
    "plt.clf()\n",
    "T = np.linspace(300, 372+273, 200) # range of temperatures\n",
    "for P in [0.1, 1, 2, 5, 10, 20]: #MPa\n",
    "    steam = [IAPWS97(T=t, P=P) for t in T]\n",
    "    S = [s.s for s in steam]\n",
    "    plt.plot(S, T, 'k-')\n",
    "\n",
    "# saturated vapor and liquid entropy lines\n",
    "svap = [s.s for s in [IAPWS97(T=t, x=1) for t in T]]\n",
    "sliq = [s.s for s in [IAPWS97(T=t, x=0) for t in T]]\n",
    "\n",
    "plt.plot(svap, T, 'r-')\n",
    "plt.plot(sliq, T, 'b-')\n",
    "\n",
    "plt.xlabel('Entropy (kJ/(kg K)')\n",
    "plt.ylabel('Temperature (K)');"
   ]
  },
  {
   "cell_type": "markdown",
   "id": "75ae9574",
   "metadata": {},
   "source": [
    "We can plot our Rankine cycle path like this. We compute the entropies along the non-isentropic paths.\n",
    "\n"
   ]
  },
  {
   "cell_type": "code",
   "execution_count": null,
   "id": "acac6ff4",
   "metadata": {},
   "outputs": [],
   "source": [
    "T23 = np.linspace(T2, T3)\n",
    "S23 = [s.s for s in [IAPWS97(P=P2, T=t) for t in T23]]\n",
    "\n",
    "T41 = np.linspace(T4, T1 - 0.01) # subtract a tiny bit to make sure we get a liquid\n",
    "S41 = [s.s for s in [IAPWS97(P=P1, T=t) for t in T41]]"
   ]
  },
  {
   "cell_type": "markdown",
   "id": "ee8d9c4a",
   "metadata": {},
   "source": [
    "And then we plot the paths.\n",
    "\n"
   ]
  },
  {
   "cell_type": "code",
   "execution_count": null,
   "id": "72a4b18a",
   "metadata": {},
   "outputs": [],
   "source": [
    "plt.plot(svap, T, 'r-')\n",
    "plt.plot(sliq, T, 'b-')\n",
    "\n",
    "\n",
    "plt.plot([s1, s2], [T1, T2], 'r-', lw=4) # Path 1 to 2\n",
    "plt.plot(S23, T23, 'b-', lw=4) # path from 2 to 3 is isobaric\n",
    "plt.plot([s3, s4], [T3, T4], 'g-', lw=4) # path from 3 to 4 is isentropic\n",
    "plt.plot(S41, T41, 'k-', lw=4); # and from 4 to 1 is isobaric"
   ]
  },
  {
   "cell_type": "markdown",
   "id": "764e116b",
   "metadata": {},
   "source": [
    "#### Summary\n",
    "\n"
   ]
  },
  {
   "cell_type": "markdown",
   "id": "a347b670",
   "metadata": {},
   "source": [
    "This was an interesting exercise. On one hand, the tedium of interpolating the steam tables is gone. On the other hand, you still have to know exactly what to ask for to get an answer that is correct. The iapws interface is a little clunky, and takes some getting used to. It does not seem as robust as the Xsteam module I used in Matlab.\n",
    "\n"
   ]
  },
  {
   "cell_type": "markdown",
   "id": "1d4ab913",
   "metadata": {},
   "source": [
    "### What region is a point in\n",
    "\n"
   ]
  },
  {
   "cell_type": "markdown",
   "id": "8b7836cb",
   "metadata": {},
   "source": [
    "Suppose we have a space that is divided by a boundary into two regions, and we want to know if an arbitrary point is on one region or the other. One way to figure this out is to pick a point that is known to be in a region, and then draw a line to the arbitrary point counting the number of times it crosses the boundary. If the line crosses an even number of times, then the point is in the same region and if it crosses an odd number of times, then the point is in the other region.\n",
    "\n",
    "Here is the boundary and region we consider in this example:\n",
    "\n"
   ]
  },
  {
   "cell_type": "code",
   "execution_count": null,
   "id": "587b03c0",
   "metadata": {},
   "outputs": [],
   "source": [
    "boundary = [[0.1, 0],\n",
    "            [0.25, 0.1],\n",
    "            [0.3, 0.2],\n",
    "            [0.35, 0.34],\n",
    "            [0.4, 0.43],\n",
    "            [0.51, 0.47],\n",
    "            [0.48, 0.55],\n",
    "            [0.44, 0.62],\n",
    "            [0.5, 0.66],\n",
    "            [0.55,0.57],\n",
    "            [0.556, 0.48],\n",
    "            [0.63, 0.43],\n",
    "            [0.70, 0.44],\n",
    "            [0.8, 0.51],\n",
    "            [0.91, 0.57],\n",
    "            [1.0, 0.6]]\n",
    "\n",
    "import matplotlib.pyplot as plt\n",
    "plt.clf()\n",
    "plt.plot([p[0] for p in boundary],\n",
    "         [p[1] for p in boundary])\n",
    "plt.ylim([0, 1]);"
   ]
  },
  {
   "cell_type": "markdown",
   "id": "4791cd47",
   "metadata": {},
   "source": [
    "In this example, the boundary is complicated, and not described by a simple function. We will check for intersections of the line from the arbitrary point to the reference point with each segment defining the boundary. If there is an intersection in the boundary, we count that as a crossing. We choose the origin (0, 0) in this case for the reference point. For an arbitrary point (x1, y1), the equation of the line is therefore (provided x1 !=0):\n",
    "\n",
    "$y = \\frac{y1}{x1} x$.\n",
    "\n",
    "Let the points defining a boundary segment be (bx1, by1) and (bx2, by2). The equation for the line connecting these points (provided bx1 != bx2) is:\n",
    "\n",
    "$y = by1 + \\frac{by2 - by1}{bx2 - bx1}(x - bx1)$\n",
    "\n",
    "Setting these two equations equal to each other, we can solve for the value of $x$, and if $bx1 <= x <= bx2$ then we would say there is an intersection with that segment. The solution for x is:\n",
    "\n",
    "$x = \\frac{m bx1 - by1}{m - y1/x1}$\n",
    "\n",
    "This can only fail if $m = y1/x1$ which means the segments are parallel and either do not intersect or go through each other. One issue we have to resolve is what to do when the intersection is at the boundary. In that case, we would see an intersection with two segments since bx1 of one segment is also bx2 of another segment. We resolve the issue by only counting intersections with bx1. Finally, there may be intersections at values of $x$ greater than the point, and we are not interested in those because the intersections are not between the point and reference point.\n",
    "\n",
    "Here are all of the special cases that we  have to handle:\n",
    "\n",
    "![img](./images/region-determination.png)\n",
    "\n",
    "We will have to do float comparisons, so we will define [tolerance functions](./math.md) for all of these. I tried this previously with regular comparison operators, and there were many cases that did not work because of float comparisons. In the code that follows, we define the tolerance functions, the function that handles almost all the special cases, and show that it almost always correctly identifies the region a point is in.\n",
    "\n"
   ]
  },
  {
   "cell_type": "code",
   "execution_count": null,
   "id": "92f01b18",
   "metadata": {},
   "outputs": [],
   "source": [
    "import numpy as np\n",
    "\n",
    "TOLERANCE = 2 * np.spacing(1)\n",
    "\n",
    "def feq(x, y, epsilon=TOLERANCE):\n",
    "    'x == y'\n",
    "    return not((x < (y - epsilon)) or (y < (x - epsilon)))\n",
    "\n",
    "def flt(x, y, epsilon=TOLERANCE):\n",
    "    'x < y'\n",
    "    return x < (y - epsilon)\n",
    "\n",
    "def fgt(x, y, epsilon=TOLERANCE):\n",
    "    'x > y'\n",
    "    return y < (x - epsilon)\n",
    "\n",
    "def fle(x, y, epsilon=TOLERANCE):\n",
    "    'x <= y'\n",
    "    return not(y < (x - epsilon))\n",
    "\n",
    "\n",
    "def fge(x, y, epsilon=TOLERANCE):\n",
    "    'x >= y'\n",
    "    return not(x < (y - epsilon))\n",
    "\n",
    "boundary = [[0.1, 0],\n",
    "            [0.25, 0.1],\n",
    "            [0.3, 0.2],\n",
    "            [0.35, 0.34],\n",
    "            [0.4, 0.43],\n",
    "            [0.51, 0.47],\n",
    "            [0.48, 0.55],\n",
    "            [0.44, 0.62],\n",
    "            [0.5, 0.66],\n",
    "            [0.55,0.57],\n",
    "            [0.556, 0.48],\n",
    "            [0.63, 0.43],\n",
    "            [0.70, 0.44],\n",
    "            [0.8, 0.51],\n",
    "            [0.91, 0.57],\n",
    "            [1.0, 0.6]]\n",
    "\n",
    "def intersects(p, isegment):\n",
    "    'p is a point (x1, y1), isegment is an integer indicating which segment starting with 0'\n",
    "    x1, y1 = p\n",
    "    bx1, by1 = boundary[isegment]\n",
    "    bx2, by2 = boundary[isegment + 1]\n",
    "    if feq(bx1, bx2) and feq(x1, 0.0): # both segments are vertical\n",
    "        if feq(bx1, x1):\n",
    "            return True\n",
    "        else:\n",
    "            return False\n",
    "    elif feq(bx1, bx2):  # segment is vertical\n",
    "        m1 = y1 / x1 # slope of reference line\n",
    "        y = m1 * bx1 # value of reference line at bx1\n",
    "        if ((fge(y, by1) and flt(y, by2))\n",
    "            or (fle(y, by1) and fgt(y,by2))):\n",
    "            # reference line intersects the segment\n",
    "            return True\n",
    "        else:\n",
    "            return False\n",
    "    else: # neither reference line nor segment is vertical\n",
    "        m = (by2 - by1) / (bx2 - bx1) # segment slope\n",
    "        m1 = y1 / x1\n",
    "        if feq(m, m1): # line and segment are parallel\n",
    "            if feq(y1, m * bx1):\n",
    "                return True\n",
    "            else:\n",
    "                return False\n",
    "        else: # lines are not parallel\n",
    "            x = (m * bx1 - by1) / (m - m1) # x at intersection\n",
    "            if ((fge(x, bx1) and flt(x, bx2))\n",
    "                or (fle(x, bx1) and fgt(x, bx2))) and fle(x, x1):\n",
    "                return True\n",
    "            else:\n",
    "                return False\n",
    "    raise Exception('you should not get here')\n",
    "\n",
    "import matplotlib.pyplot as plt\n",
    "\n",
    "plt.plot([p[0] for p in boundary],\n",
    "         [p[1] for p in boundary], 'go-')\n",
    "plt.ylim([0, 1])\n",
    "\n",
    "N = 100\n",
    "\n",
    "X = np.linspace(0, 1, N)\n",
    "\n",
    "for x in X:\n",
    "    for y in X:\n",
    "        p = (x, y)\n",
    "        nintersections = sum([intersects(p, i) for i in range(len(boundary) - 1)])\n",
    "        if nintersections % 2 == 0:\n",
    "            plt.plot(x, y, 'r.')\n",
    "        else:\n",
    "            plt.plot(x, y, 'b.')"
   ]
  },
  {
   "cell_type": "markdown",
   "id": "2d1a11fa",
   "metadata": {},
   "source": [
    "![img](./images/boundary-2.png)\n",
    "\n",
    "If you look carefully, there are two blue points in the red region, which means there is some edge case we do not capture in our function. Kudos to the person who figures it out.\n",
    "Update: It was pointed out that the points intersect a point on the line.\n",
    "\n"
   ]
  }
 ],
 "metadata": {
  "kernelspec": {
   "display_name": "Python 3",
   "language": "python",
   "name": "python3"
  }
 },
 "nbformat": 4,
 "nbformat_minor": 5
}