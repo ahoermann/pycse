{
 "cells": [
  {
   "cell_type": "markdown",
   "id": "7ed197b9",
   "metadata": {},
   "source": [
    "## Programming\n",
    "\n"
   ]
  },
  {
   "cell_type": "markdown",
   "id": "c1bf6168",
   "metadata": {},
   "source": [
    "### Some of this, sum of that\n",
    "\n"
   ]
  },
  {
   "cell_type": "markdown",
   "id": "1c25cb34",
   "metadata": {},
   "source": [
    "[Matlab plot](http://matlab.cheme.cmu.edu/2012/05/29/some-of-this-sum-of-that/)\n",
    "\n",
    "Python provides a sum function to compute the sum of a list. However, the sum function does not work on every arrangement of numbers, and it certainly does not work on nested lists. We will solve this problem with recursion.\n",
    "\n",
    "Here is a simple example.\n",
    "\n"
   ]
  },
  {
   "cell_type": "code",
   "execution_count": null,
   "id": "928be809",
   "metadata": {},
   "outputs": [],
   "source": [
    "v = [1, 2, 3, 4, 5, 6, 7, 8, 9] # a list\n",
    "print(sum(v))\n",
    "\n",
    "v = (1, 2, 3, 4, 5, 6, 7, 8, 9)  # a tuple\n",
    "print(sum(v))"
   ]
  },
  {
   "cell_type": "markdown",
   "id": "a4320fca",
   "metadata": {},
   "source": [
    "If you have data in a dictionary, sum works by default on the keys. You can give the sum function the values like this.\n",
    "\n"
   ]
  },
  {
   "cell_type": "code",
   "execution_count": null,
   "id": "a2b7ef4d",
   "metadata": {},
   "outputs": [],
   "source": [
    "v = {'a':1, 'b':3, 'c':4}\n",
    "print(sum(v.values()))"
   ]
  },
  {
   "cell_type": "markdown",
   "id": "370713fd",
   "metadata": {},
   "source": [
    "#### Nested lists\n",
    "\n"
   ]
  },
  {
   "cell_type": "markdown",
   "id": "00ac8ab3",
   "metadata": {},
   "source": [
    "Suppose now we have nested lists. This kind of structured data might come up if you had grouped several things together. For example, suppose we have 5 departments, with 1, 5, 15, 7 and 17 people in them, and in each department they are divided into groups.\n",
    "\n",
    "Department 1: 1 person\n",
    "Department 2: group of 2 and group of 3\n",
    "Department 3: group of 4 and 11, with a subgroups of 5 and 6 making\n",
    "              up the group of 11.\n",
    "Department 4: 7 people\n",
    "Department 5: one group of 8 and one group of 9.\n",
    "\n",
    "We might represent the data like this nested list. Now, if we want to compute the total number of people, we need to add up each group. We cannot simply sum the list, because some elements are single numbers, and others are lists, or lists of lists. We need to recurse through each entry until we get down to a number, which we can add to the running sum.\n",
    "\n"
   ]
  },
  {
   "cell_type": "code",
   "execution_count": null,
   "id": "254373f7",
   "metadata": {},
   "outputs": [],
   "source": [
    "v = [1,\n",
    "    [2, 3],\n",
    "    [4, [5, 6]],\n",
    "    7,\n",
    "    [8,9]]\n",
    "\n",
    "def recursive_sum(X):\n",
    "    'compute sum of arbitrarily nested lists'\n",
    "    s = 0 # initial value of the sum\n",
    "\n",
    "    for i in range(len(X)):\n",
    "        import types  # we use this to test if we got a number\n",
    "        if isinstance(X[i], (int, float, complex)):\n",
    "            # this is the terminal step\n",
    "            s += X[i]\n",
    "        else:\n",
    "            # we did not get a number, so we recurse\n",
    "            s += recursive_sum(X[i])\n",
    "    return s\n",
    "\n",
    "print(recursive_sum(v))\n",
    "print(recursive_sum([1, 2, 3, 4, 5, 6, 7, 8, 9])) # test on non-nested list"
   ]
  },
  {
   "cell_type": "markdown",
   "id": "117efcb0",
   "metadata": {},
   "source": [
    "In [Post 1970](http://matlab.cheme.cmu.edu/2012/05/28/lather-rinse-and-repeat/) we examined recursive functions that could be replaced by loops. Here we examine a function that can only work with recursion because the nature of the nested data structure is arbitrary. There are arbitrary branches and depth in the data structure. Recursion is nice because you do not have to define that structure in advance.\n",
    "\n"
   ]
  },
  {
   "cell_type": "markdown",
   "id": "737c02fd",
   "metadata": {},
   "source": [
    "### Sorting in python\n",
    "\n"
   ]
  },
  {
   "cell_type": "markdown",
   "id": "efcda55a",
   "metadata": {},
   "source": [
    "[sort](sort)\n",
    "[Matlab post](http://matlab.cheme.cmu.edu/2011/11/12/sorting-in-matlab/)\n",
    "\n",
    "Occasionally it is important to have sorted data. Python has a few sorting options.\n",
    "\n"
   ]
  },
  {
   "cell_type": "code",
   "execution_count": null,
   "id": "f4b23a9e",
   "metadata": {},
   "outputs": [],
   "source": [
    "a = [4, 5, 1, 6, 8, 3, 2]\n",
    "print(a)\n",
    "a.sort()  # inplace sorting\n",
    "print(a)\n",
    "\n",
    "a.sort(reverse=True)\n",
    "print(a)"
   ]
  },
  {
   "cell_type": "markdown",
   "id": "ed740a13",
   "metadata": {},
   "source": [
    "If you do not want to modify your list, but rather get a copy of a sorted list, use the sorted command.\n",
    "\n"
   ]
  },
  {
   "cell_type": "code",
   "execution_count": null,
   "id": "2fc2d4f3",
   "metadata": {},
   "outputs": [],
   "source": [
    "a = [4, 5, 1, 6, 8, 3, 2]\n",
    "print('sorted a = ',sorted(a))  # no change to a\n",
    "print('sorted a = ',sorted(a, reverse=True))  # no change to a\n",
    "print('a        = ',a)"
   ]
  },
  {
   "cell_type": "markdown",
   "id": "81489f0e",
   "metadata": {},
   "source": [
    "This works for strings too:\n",
    "\n"
   ]
  },
  {
   "cell_type": "code",
   "execution_count": null,
   "id": "fcdcc106",
   "metadata": {},
   "outputs": [],
   "source": [
    "a = ['b', 'a', 'c', 'tree']\n",
    "print(sorted(a))"
   ]
  },
  {
   "cell_type": "markdown",
   "id": "2c4a7132",
   "metadata": {},
   "source": [
    "Here is a subtle point though. A capitalized letter comes before a lowercase letter. We can pass a function to the sorted command that is called on each element prior to the sort. Here we make each word lower case before sorting.\n",
    "\n"
   ]
  },
  {
   "cell_type": "code",
   "execution_count": null,
   "id": "32496a4c",
   "metadata": {},
   "outputs": [],
   "source": [
    "a = ['B', 'a', 'c', 'tree']\n",
    "print(sorted(a))\n",
    "\n",
    "# sort by lower case letter\n",
    "print(sorted(a, key=str.lower))"
   ]
  },
  {
   "cell_type": "markdown",
   "id": "bbc1736c",
   "metadata": {},
   "source": [
    "Here is a more complex sorting problem. We have a list of tuples with group names and the letter grade. We want to sort the list by the letter grades. We do this by creating a function that maps the letter grades to the position of the letter grades in a sorted list. We use the list.index function to find the index of the letter grade, and then sort on that.\n",
    "\n"
   ]
  },
  {
   "cell_type": "code",
   "execution_count": null,
   "id": "e4e8ebb0",
   "metadata": {},
   "outputs": [],
   "source": [
    "groups = [('group1', 'B'),\n",
    "          ('group2', 'A+'),\n",
    "          ('group3', 'A')]\n",
    "\n",
    "def grade_key(gtup):\n",
    "    '''gtup is a tuple of ('groupname', 'lettergrade')'''\n",
    "    lettergrade = gtup[1]\n",
    "\n",
    "    grades = ['A++', 'A+', 'A', 'A-', 'A/B'\n",
    "              'B+', 'B', 'B-', 'B/C',\n",
    "              'C+', 'C', 'C-', 'C/D',\n",
    "              'D+', 'D', 'D-', 'D/R',\n",
    "              'R+', 'R', 'R-', 'R--']\n",
    "\n",
    "    return grades.index(lettergrade)\n",
    "\n",
    "print(sorted(groups, key=grade_key))"
   ]
  },
  {
   "cell_type": "markdown",
   "id": "193422b1",
   "metadata": {},
   "source": [
    "### Unique entries in a vector\n",
    "\n"
   ]
  },
  {
   "cell_type": "markdown",
   "id": "f48358f1",
   "metadata": {},
   "source": [
    "[Matlab post](http://matlab.cheme.cmu.edu/2011/11/12/unique-entries-in-a-vector/)\n",
    "\n",
    "It is surprising how often you need to know only the unique entries in a vector of entries. In python, we create a \"set\" from a list, which only contains unique entries. Then we convert the set back to a list.\n",
    "\n"
   ]
  },
  {
   "cell_type": "code",
   "execution_count": null,
   "id": "d016b40a",
   "metadata": {},
   "outputs": [],
   "source": [
    "a = [1, 1, 2, 3, 4, 5, 3, 5]\n",
    "\n",
    "b = list(set(a))\n",
    "print(b)"
   ]
  },
  {
   "cell_type": "code",
   "execution_count": null,
   "id": "1a40862f",
   "metadata": {},
   "outputs": [],
   "source": [
    "a = ['a',\n",
    "    'b',\n",
    "    'abracadabra',\n",
    "    'b',\n",
    "    'c',\n",
    "    'd',\n",
    "    'b']\n",
    "\n",
    "print(list(set(a)))"
   ]
  },
  {
   "cell_type": "markdown",
   "id": "292fc797",
   "metadata": {},
   "source": [
    "### Lather, rinse and repeat\n",
    "\n"
   ]
  },
  {
   "cell_type": "markdown",
   "id": "cf54800e",
   "metadata": {},
   "source": [
    "[Matlab post](http://matlab.cheme.cmu.edu/2012/05/28/lather-rinse-and-repeat/)\n",
    "\n",
    "Recursive functions are functions that call themselves repeatedly until some exit condition is met. Today we look at a classic example of recursive function for computing a factorial. The factorial of a non-negative integer n is denoted n!, and is defined as the product of all positive integers less than or equal to n.\n",
    "\n",
    "The key ideas in defining a recursive function is that there needs to be some logic to identify when to terminate the function. Then, you need logic that calls the function again, but with a smaller part of the problem. Here we recursively call the function with n-1 until it gets called with n=0. 0! is defined to be 1.\n",
    "\n"
   ]
  },
  {
   "cell_type": "code",
   "execution_count": null,
   "id": "3c6350e1",
   "metadata": {},
   "outputs": [],
   "source": [
    "def recursive_factorial(n):\n",
    "    '''compute the factorial recursively. Note if you put a negative\n",
    "    number in, this function will never end. We also do not check if\n",
    "    n is an integer.'''\n",
    "    if n == 0:\n",
    "        return 1\n",
    "    else:\n",
    "        return n * recursive_factorial(n - 1)\n",
    "\n",
    "print(recursive_factorial(5))"
   ]
  },
  {
   "cell_type": "code",
   "execution_count": null,
   "id": "bf353b1a",
   "metadata": {},
   "outputs": [],
   "source": [
    "from scipy.misc import factorial\n",
    "print(factorial(5))"
   ]
  },
  {
   "cell_type": "markdown",
   "id": "1e82a77f",
   "metadata": {},
   "source": [
    "##### Compare to a loop solution\n",
    "\n"
   ]
  },
  {
   "cell_type": "markdown",
   "id": "369a0059",
   "metadata": {},
   "source": [
    "This example can also be solved by a loop. This loop is easier to read and understand than the recursive function. Note the recursive nature of defining the variable as itself times a number.\n",
    "\n"
   ]
  },
  {
   "cell_type": "code",
   "execution_count": null,
   "id": "ff5f9ce6",
   "metadata": {},
   "outputs": [],
   "source": [
    "n = 5\n",
    "factorial_loop = 1\n",
    "for i in range(1, n + 1):\n",
    "    factorial_loop *= i\n",
    "\n",
    "print(factorial_loop)"
   ]
  },
  {
   "cell_type": "markdown",
   "id": "153d279e",
   "metadata": {},
   "source": [
    "There are some significant differences in this example than in Matlab.\n",
    "\n",
    "1.  the syntax of the for loop is quite different with the use of the `in` operator.\n",
    "2.  python has the nice \\*= operator to replace a = a \\* i\n",
    "3.  We have to loop from 1 to n+1 because the last number in the range is not returned.\n",
    "\n"
   ]
  },
  {
   "cell_type": "markdown",
   "id": "f33e930f",
   "metadata": {},
   "source": [
    "#### Conclusions\n",
    "\n"
   ]
  },
  {
   "cell_type": "markdown",
   "id": "bd40b1f8",
   "metadata": {},
   "source": [
    "Recursive functions have a special niche in mathematical programming. There is often another way to accomplish the same goal. That is not always true though, and in a future post we will examine cases where recursion is the only way to solve a problem.\n",
    "\n"
   ]
  },
  {
   "cell_type": "markdown",
   "id": "698c293d",
   "metadata": {},
   "source": [
    "### Brief intro to regular expressions\n",
    "\n"
   ]
  },
  {
   "cell_type": "markdown",
   "id": "b8a238fe",
   "metadata": {},
   "source": [
    "[Matlab post](http://matlab.cheme.cmu.edu/2012/05/07/1701/)\n",
    "\n",
    "This example shows how to use a regular expression to find strings matching the pattern :cmd:\\`datastring\\`. We want to find these strings, and then replace them with something that depends on what cmd is, and what datastring is.\n",
    "\n",
    "Let us define some commands that will take datasring as an argument, and return the modified text. The idea is to find all the cmds, and then run them. We use python's `eval` command to get the function handle from a string, and the cmd functions all take a datastring argument (we define them that way). We will create commands to replace :cmd:\\`datastring\\` with html code for a light gray background, and :red:\\`some text\\` with html code making the text red.\n",
    "\n"
   ]
  },
  {
   "cell_type": "code",
   "execution_count": null,
   "id": "8175d657",
   "metadata": {},
   "outputs": [],
   "source": [
    "text = r'''Here is some text. use the :cmd:`open` to get the text into\n",
    "          a variable. It might also be possible to get a multiline\n",
    "            :red:`line\n",
    "     2` directive.'''\n",
    "\n",
    "print(text)\n",
    "print('---------------------------------')"
   ]
  },
  {
   "cell_type": "markdown",
   "id": "3565f813",
   "metadata": {},
   "source": [
    "Now, we define our functions.\n",
    "\n"
   ]
  },
  {
   "cell_type": "code",
   "execution_count": null,
   "id": "bac7f9c5",
   "metadata": {},
   "outputs": [],
   "source": [
    "def cmd(datastring):\n",
    "    ' replace :cmd:`datastring` with html code with light gray background'\n",
    "    s = '<FONT style=\"BACKGROUND-COLOR: LightGray\">%{0}</FONT>';\n",
    "    html = s.format(datastring)\n",
    "    return html\n",
    "\n",
    "def red(datastring):\n",
    "    'replace :red:`datastring` with html code to make datastring in red font'\n",
    "    html = '<font color=red>{0}</font>'.format(datastring)\n",
    "    return html"
   ]
  },
  {
   "cell_type": "markdown",
   "id": "1a164066",
   "metadata": {},
   "source": [
    "Finally, we do the regular expression. Regular expressions are hard. There are whole books on them. The point of this post is to alert you to the possibilities. I will break this regexp down as follows. 1. we want everything between :\\*: as the directive. `([^:]*)` matches everything not a :. `:([^:]*):` matches the stuff between two :. 2. then we want everything between \\`\\*\\`. ``([^`]*)`` matches everything not a \\`. 3. The () makes a group that python stores so we can refer to them later.\n",
    "\n"
   ]
  },
  {
   "cell_type": "code",
   "execution_count": null,
   "id": "5a7b6187",
   "metadata": {},
   "outputs": [],
   "source": [
    "import re\n",
    "regex = ':([^:]*):`([^`]*)`'\n",
    "matches = re.findall(regex, text)\n",
    "for directive, datastring in matches:\n",
    "    directive = eval(directive) # get the function\n",
    "    text = re.sub(regex, directive(datastring), text)\n",
    "\n",
    "print('Modified text:')\n",
    "print(text)"
   ]
  },
  {
   "cell_type": "markdown",
   "id": "56ff3cef",
   "metadata": {},
   "source": [
    "### Working with lists\n",
    "\n"
   ]
  },
  {
   "cell_type": "markdown",
   "id": "84dc5cc2",
   "metadata": {},
   "source": [
    "It is not too uncommon to have a list of data, and then to apply a function to every element, to filter the list, or extract elements that meet some criteria. In this example, we take a string and split it into words. Then, we will examine several ways to apply functions to the words, to filter the list to get data that meets some criteria. Here is the string splitting.\n",
    "\n"
   ]
  },
  {
   "cell_type": "code",
   "execution_count": null,
   "id": "e0c0fdd3",
   "metadata": {},
   "outputs": [],
   "source": [
    "text = '''\n",
    " As we have seen, handling units with third party functions is fragile, and often requires additional code to wrap the function to handle the units. An alternative approach that avoids the wrapping is to rescale the equations so they are dimensionless. Then, we should be able to use all the standard external functions without modification. We obtain the final solutions by rescaling back to the answers we want.\n",
    "\n",
    "Before doing the examples, let us consider how the quantities package handles dimensionless numbers.\n",
    "\n",
    "import quantities as u\n",
    "\n",
    "a = 5 * u.m\n",
    "L = 10 * u.m # characteristic length\n",
    "\n",
    "print a/L\n",
    "print type(a/L)\n",
    "\n",
    "'''\n",
    "\n",
    "words = text.split()\n",
    "print(words)"
   ]
  },
  {
   "cell_type": "markdown",
   "id": "90901c53",
   "metadata": {},
   "source": [
    "Let us get the length of each word.\n",
    "\n"
   ]
  },
  {
   "cell_type": "code",
   "execution_count": null,
   "id": "bb6ba23e",
   "metadata": {},
   "outputs": [],
   "source": [
    "print([len(word) for word in words])\n",
    "\n",
    "# functional approach with a lambda function\n",
    "print(list(map(lambda word: len(word), words)))\n",
    "\n",
    "# functional approach with a builtin function\n",
    "print(list(map(len, words)))\n",
    "\n",
    "# functional approach with a user-defined function\n",
    "def get_length(word):\n",
    "    return len(word)\n",
    "\n",
    "print(list(map(get_length, words)))"
   ]
  },
  {
   "cell_type": "markdown",
   "id": "adb6a04e",
   "metadata": {},
   "source": [
    "Now let us get all the words that start with the letter \"a\". This is sometimes called filtering a list. We use a string function `startswith` to check for upper and lower-case letters. We will use list comprehension with a condition.\n",
    "\n"
   ]
  },
  {
   "cell_type": "code",
   "execution_count": null,
   "id": "9ee570eb",
   "metadata": {},
   "outputs": [],
   "source": [
    "print([word for word in words if word.startswith('a') or word.startswith('A')])\n",
    "\n",
    "# make word lowercase to simplify the conditional statement\n",
    "print([word for word in words if word.lower().startswith('a')])"
   ]
  },
  {
   "cell_type": "markdown",
   "id": "f5e455e4",
   "metadata": {},
   "source": [
    "A slightly harder example is to find all the words that are actually numbers. We could use a regular expression for that, but we will instead use a function we create. We use a function that tries to cast a word as a float. If this fails, we know the word is not a float, so we return False.\n",
    "\n"
   ]
  },
  {
   "cell_type": "code",
   "execution_count": null,
   "id": "90ca5f57",
   "metadata": {},
   "outputs": [],
   "source": [
    "def float_p(word):\n",
    "    try:\n",
    "        float(word)\n",
    "        return True\n",
    "    except ValueError:\n",
    "        return False\n",
    "\n",
    "print([word for word in words if float_p(word)])\n",
    "\n",
    "# here is a functional approach\n",
    "print(list(filter(float_p, words)))"
   ]
  },
  {
   "cell_type": "markdown",
   "id": "954e23c5",
   "metadata": {},
   "source": [
    "Finally, we consider filtering the list to find all words that contain certain symbols, say any character in this string \"./=\\*#\". Any of those characters will do, so we search each word for one of them, and return True if it contains it, and False if none are contained.\n",
    "\n"
   ]
  },
  {
   "cell_type": "code",
   "execution_count": null,
   "id": "afd3f872",
   "metadata": {},
   "outputs": [],
   "source": [
    "def punctuation_p(word):\n",
    "    S = './=*#'\n",
    "    for s in S:\n",
    "        if s in word:\n",
    "            return True\n",
    "    return False\n",
    "\n",
    "print([word for word in words if punctuation_p(word)])\n",
    "print(filter(punctuation_p, words))"
   ]
  },
  {
   "cell_type": "markdown",
   "id": "68855c73",
   "metadata": {},
   "source": [
    "In this section we examined a few ways to interact with lists using list comprehension and functional programming. These approaches make it possible to work on arbitrary size lists, without needing to know in advance how big the lists are. New lists are automatically generated as results, without the need to preallocate lists, i.e. you do not need to know the size of the output. This can be handy as it avoids needing to write loops in some cases and leads to more compact code.\n",
    "\n"
   ]
  },
  {
   "cell_type": "markdown",
   "id": "16cc763f",
   "metadata": {},
   "source": [
    "### Redirecting the print function\n",
    "\n"
   ]
  },
  {
   "cell_type": "markdown",
   "id": "2217a3d1",
   "metadata": {},
   "source": [
    "Ordinarily a print statement prints to stdout, or your terminal/screen. You can redirect this so that printing is done to a file, for example. This might be helpful if you use print statements for debugging, and later want to save what is printed to a file. Here we make a simple function that prints some things.\n",
    "\n"
   ]
  },
  {
   "cell_type": "code",
   "execution_count": null,
   "id": "bf0a118a",
   "metadata": {},
   "outputs": [],
   "source": [
    "def debug():\n",
    "    print('step 1')\n",
    "    print(3 + 4)\n",
    "    print('finished')\n",
    "\n",
    "debug()"
   ]
  },
  {
   "cell_type": "markdown",
   "id": "0eb19eb9",
   "metadata": {},
   "source": [
    "Now, let us redirect the printed lines to a file. We create a file object, and set sys.stdout equal to that file object.\n",
    "\n"
   ]
  },
  {
   "cell_type": "code",
   "execution_count": null,
   "id": "205ef62f",
   "metadata": {},
   "outputs": [],
   "source": [
    "import sys\n",
    "print('__stdout__ before = {0}'.format(sys.__stdout__), file=sys.stdout)\n",
    "print('stdout before = {0}'.format(sys.stdout), file=sys.stdout)\n",
    "\n",
    "f = open('../data/debug.txt', 'w')\n",
    "sys.stdout = f\n",
    "\n",
    "# note that sys.__stdout__ does not change, but stdout does.\n",
    "print('__stdout__ after = {0}'.format(sys.__stdout__), file=sys.stdout)\n",
    "print('stdout after = {0}'.format(sys.stdout), file=sys.stdout)\n",
    "\n",
    "debug()\n",
    "\n",
    "# reset stdout back to console\n",
    "sys.stdout = sys.__stdout__\n",
    "\n",
    "print(f)\n",
    "f.close() # try to make it a habit to close files\n",
    "print(f)"
   ]
  },
  {
   "cell_type": "markdown",
   "id": "4dbd4db7",
   "metadata": {},
   "source": [
    "Note it can be important to close files. If you are looping through large numbers of files, you will eventually run out of file handles, causing an error. We can use a context manager to automatically close the file like this\n",
    "\n"
   ]
  },
  {
   "cell_type": "code",
   "execution_count": null,
   "id": "1d72d5ef",
   "metadata": {},
   "outputs": [],
   "source": [
    "import sys\n",
    "\n",
    "# use the open context manager to automatically close the file\n",
    "with open('../data/debug.txt', 'w') as f:\n",
    "    sys.stdout = f\n",
    "    debug()\n",
    "    print(f, file=sys.__stdout__)\n",
    "\n",
    "# reset stdout\n",
    "sys.stdout = sys.__stdout__\n",
    "print(f)"
   ]
  },
  {
   "cell_type": "markdown",
   "id": "a01bd2a1",
   "metadata": {},
   "source": [
    "See, the file is closed for us! We can see the contents of our file like this.\n",
    "\n",
    "    cat ../data/debug.txt\n",
    "\n",
    "The approaches above are not fault safe. Suppose our debug function raised an exception. Then, it could be possible the line to reset the stdout would not be executed. We can solve this with try/finally code.\n",
    "\n"
   ]
  },
  {
   "cell_type": "code",
   "execution_count": null,
   "id": "bf45f168",
   "metadata": {},
   "outputs": [],
   "source": [
    "import sys\n",
    "\n",
    "print('before: ', sys.stdout)\n",
    "try:\n",
    "    with open('../data/debug-2.txt', 'w') as f:\n",
    "        sys.stdout = f\n",
    "        # print to the original stdout\n",
    "        print('during: ', sys.stdout, file=sys.__stdout__)\n",
    "        debug()\n",
    "        raise Exception('something bad happened')\n",
    "finally:\n",
    "    # reset stdout\n",
    "    sys.stdout = sys.__stdout__\n",
    "\n",
    "print('after: ', sys.stdout)\n",
    "print(f) # verify it is closed\n",
    "print(sys.stdout) # verify this is reset"
   ]
  },
  {
   "cell_type": "markdown",
   "id": "1885779b",
   "metadata": {},
   "source": [
    "    cat data/debug-2.txt\n",
    "\n",
    "See [http://www.python.org/dev/peps/pep-0343/>](http://www.python.org/dev/peps/pep-0343/>)(number 5) for another example of redirecting using a function decorator. I think it is harder to understand, because it uses a generator.\n",
    "\n",
    "There were a couple of points in this section:\n",
    "\n",
    "1.  You can control where things are printed in your programs by modifying the value of sys.stdout\n",
    "2.  You can use try/except/finally blocks to make sure code gets executed in the event an exception is raised\n",
    "3.  You can use context managers to make sure files get closed, and code gets executed if exceptions are raised.\n",
    "\n"
   ]
  },
  {
   "cell_type": "markdown",
   "id": "7777409d",
   "metadata": {},
   "source": [
    "### Getting a dictionary of counts\n",
    "\n"
   ]
  },
  {
   "cell_type": "markdown",
   "id": "be8b2b56",
   "metadata": {},
   "source": [
    "I frequently want to take a list and get a dictionary of keys that have the count of each element in the list. Here is how I have typically done this countless times in the past.\n",
    "\n"
   ]
  },
  {
   "cell_type": "code",
   "execution_count": null,
   "id": "98b6ecb2",
   "metadata": {},
   "outputs": [],
   "source": [
    "L = ['a', 'a', 'b','d', 'e', 'b', 'e', 'a']\n",
    "\n",
    "d = {}\n",
    "for el in L:\n",
    "    if el in d:\n",
    "        d[el] += 1\n",
    "    else:\n",
    "        d[el] = 1\n",
    "\n",
    "print(d)"
   ]
  },
  {
   "cell_type": "markdown",
   "id": "431b62b6",
   "metadata": {},
   "source": [
    "That seems like too much code, and that there must be a list comprehension approach combined with a dictionary constructor.\n",
    "\n"
   ]
  },
  {
   "cell_type": "code",
   "execution_count": null,
   "id": "854abd64",
   "metadata": {},
   "outputs": [],
   "source": [
    "L = ['a', 'a', 'b','d', 'e', 'b', 'e', 'a']\n",
    "\n",
    "print(dict((el,L.count(el)) for el in L))"
   ]
  },
  {
   "cell_type": "markdown",
   "id": "f19b9919",
   "metadata": {},
   "source": [
    "Wow, that is a lot simpler! I suppose for large lists this might be slow, since count must look through the list for each element, whereas the longer code looks at each element once, and does one conditional analysis.\n",
    "\n",
    "Here is another example of much shorter and cleaner code.\n",
    "\n"
   ]
  },
  {
   "cell_type": "code",
   "execution_count": null,
   "id": "ccb06847",
   "metadata": {},
   "outputs": [],
   "source": [
    "from collections import Counter\n",
    "L = ['a', 'a', 'b','d', 'e', 'b', 'e', 'a']\n",
    "print(Counter(L))\n",
    "print(Counter(L)['a'])"
   ]
  },
  {
   "cell_type": "markdown",
   "id": "432dccc6",
   "metadata": {},
   "source": [
    "### About your python\n",
    "\n"
   ]
  },
  {
   "cell_type": "code",
   "execution_count": null,
   "id": "607fff55",
   "metadata": {},
   "outputs": [],
   "source": [
    "import sys\n",
    "\n",
    "print(sys.version)\n",
    "\n",
    "print(sys.executable)\n",
    "\n",
    "print(sys.platform)\n",
    "\n",
    "# where the platform independent Python files are installed\n",
    "print(sys.prefix)"
   ]
  },
  {
   "cell_type": "markdown",
   "id": "cb645e91",
   "metadata": {},
   "source": [
    "The `platform` module provides similar, complementary information.\n",
    "\n"
   ]
  },
  {
   "cell_type": "code",
   "execution_count": null,
   "id": "91a68f61",
   "metadata": {},
   "outputs": [],
   "source": [
    "import platform\n",
    "\n",
    "print(platform.uname())\n",
    "print(platform.system())\n",
    "print(platform.architecture())\n",
    "print(platform.machine())\n",
    "print(platform.node())\n",
    "print(platform.platform())\n",
    "print(platform.processor())\n",
    "print(platform.python_build())\n",
    "print(platform.python_version())"
   ]
  },
  {
   "cell_type": "markdown",
   "id": "fb4e6a5f",
   "metadata": {},
   "source": [
    "### Automatic, temporary directory changing\n",
    "\n"
   ]
  },
  {
   "cell_type": "markdown",
   "id": "0fb02909",
   "metadata": {},
   "source": [
    "If you are doing some analysis that requires you to change directories, e.g. to read a file, and then change back to another directory to read another file, you have probably run into problems if there is an error somewhere. You would like to make sure that the code changes back to the original directory after each error. We will look at a few ways to accomplish that here.\n",
    "\n",
    "The try/except/finally method is the traditional way to handle exceptions, and make sure that some code \"finally\" runs. Let us look at two examples here. In the first example, we try to change into a directory that does not exist.\n",
    "\n"
   ]
  },
  {
   "cell_type": "code",
   "execution_count": null,
   "id": "a83f95f3",
   "metadata": {},
   "outputs": [],
   "source": [
    "import os, sys\n",
    "\n",
    "CWD = os.getcwd() # store initial position\n",
    "print('initially inside {0}'.format(os.getcwd()))\n",
    "TEMPDIR = 'data/run1' # this does not exist\n",
    "\n",
    "try:\n",
    "    os.chdir(TEMPDIR)\n",
    "    print('inside {0}'.format(os.getcwd()))\n",
    "except:\n",
    "    print('Exception caught: ',sys.exc_info()[0])\n",
    "finally:\n",
    "    print('Running final code')\n",
    "    os.chdir(CWD)\n",
    "    print('finally inside {0}'.format(os.getcwd()))"
   ]
  },
  {
   "cell_type": "markdown",
   "id": "17e14117",
   "metadata": {},
   "source": [
    "Now, let us look at an example where the directory does exist. We will change into the directory, run some code, and then raise an Exception.\n",
    "\n"
   ]
  },
  {
   "cell_type": "code",
   "execution_count": null,
   "id": "3970640e",
   "metadata": {},
   "outputs": [],
   "source": [
    "import os, sys\n",
    "\n",
    "CWD = os.getcwd() # store initial position\n",
    "print('initially inside {0}'.format(os.getcwd()))\n",
    "TEMPDIR = 'data'\n",
    "\n",
    "try:\n",
    "    os.chdir(TEMPDIR)\n",
    "    print('inside {0}'.format(os.getcwd()))\n",
    "    print(os.listdir('.'))\n",
    "    raise Exception('boom')\n",
    "except:\n",
    "    print('Exception caught: ',sys.exc_info()[0])\n",
    "finally:\n",
    "    print('Running final code')\n",
    "    os.chdir(CWD)\n",
    "    print('finally inside {0}'.format(os.getcwd()))"
   ]
  },
  {
   "cell_type": "markdown",
   "id": "cc6c6335",
   "metadata": {},
   "source": [
    "You can see that we changed into the directory, ran some code, and then caught an exception. Afterwards, we changed back to our original directory. This code works fine, but it is somewhat verbose, and tedious to write over and over. We can get a cleaner syntax with a context manager. The context manager uses the `with` keyword in python. In a context manager some code is executed on entering the \"context\", and code is run on exiting the context. We can use that to automatically change directory, and when done, change back to the original directory. We use the `contextlib.contextmanager` decorator on a function. With a function, the code up to a `yield` statement is run on entering the context, and the code after the yield statement is run on exiting. We wrap the yield statement in try/except/finally block to make sure our final code gets run.\n",
    "\n"
   ]
  },
  {
   "cell_type": "code",
   "execution_count": null,
   "id": "6eb64e12",
   "metadata": {},
   "outputs": [],
   "source": [
    "import contextlib\n",
    "import os, sys\n",
    "\n",
    "@contextlib.contextmanager\n",
    "def cd(path):\n",
    "    print('initially inside {0}'.format(os.getcwd()))\n",
    "    CWD = os.getcwd()\n",
    "\n",
    "    os.chdir(path)\n",
    "    print('inside {0}'.format(os.getcwd()))\n",
    "    try:\n",
    "        yield\n",
    "    except:\n",
    "        print('Exception caught: ',sys.exc_info()[0])\n",
    "    finally:\n",
    "        print('finally inside {0}'.format(os.getcwd()))\n",
    "        os.chdir(CWD)\n",
    "\n",
    "# Now we use the context manager\n",
    "with cd('../data'):\n",
    "    print(os.listdir('.'))\n",
    "    raise Exception('boom')\n",
    "\n",
    "print()\n",
    "with cd('../data/run2'):\n",
    "    print(os.listdir('.'))"
   ]
  },
  {
   "cell_type": "markdown",
   "id": "c26df598",
   "metadata": {},
   "source": [
    "One case that is not handled well with this code is if the directory you want to change into does not exist. In that case an exception is raised on entering the context when you try change into a directory that does not exist. An alternative class based context manager can be found [here](http://code.activestate.com/recipes/576620-changedirectory-context-manager/).\n",
    "\n"
   ]
  }
 ],
 "metadata": {
  "kernelspec": {
   "display_name": "Python 3",
   "language": "python",
   "name": "python3"
  }
 },
 "nbformat": 4,
 "nbformat_minor": 5
}