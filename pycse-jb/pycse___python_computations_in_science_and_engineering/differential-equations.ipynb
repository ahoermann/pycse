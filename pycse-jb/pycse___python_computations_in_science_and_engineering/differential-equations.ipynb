{
 "cells": [
  {
   "cell_type": "markdown",
   "id": "2ec38996",
   "metadata": {},
   "source": [
    "## Differential equations\n",
    "\n"
   ]
  },
  {
   "cell_type": "markdown",
   "id": "8935a452",
   "metadata": {},
   "source": [
    "The key to successfully solving many differential equations is correctly classifying the equations, putting them into a standard form and then picking the appropriate solver. You must be able to determine if an equation is:\n",
    "\n",
    "-   An ordinary differential equation $Y' = f(x, Y)$ with\n",
    "    -   initial values (good support in python/numpy/scipy)\n",
    "    -   boundary values (not difficult to write code for simple cases)\n",
    "-   Delay differential equation\n",
    "-   Differential algebraic equations\n",
    "-   A partial differential equation\n",
    "\n",
    "The following sections will illustrate the methods for solving these kinds of equations.\n",
    "\n"
   ]
  },
  {
   "cell_type": "markdown",
   "id": "512965b8",
   "metadata": {},
   "source": [
    "### Ordinary differential equations\n",
    "\n"
   ]
  },
  {
   "cell_type": "markdown",
   "id": "10384d70",
   "metadata": {},
   "source": [
    "#### Numerical solution to a simple ode\n",
    "\n"
   ]
  },
  {
   "cell_type": "markdown",
   "id": "91cb5621",
   "metadata": {},
   "source": [
    "[Matlab post](http://matlab.cheme.cmu.edu/2011/08/03/numerical-solution-to-a-simple-ode/)\n",
    "\n",
    "Integrate this ordinary differential equation (ode):\n",
    "\n",
    "$$\\frac{dy}{dt} = y(t)$$\n",
    "\n",
    "over the time span of 0 to 2. The initial condition is y(0) = 1.\n",
    "\n",
    "to solve this equation, you need to create a function of the form: dydt = f(y, t) and then use one of the odesolvers, e.g. odeint.\n",
    "\n"
   ]
  },
  {
   "cell_type": "code",
   "execution_count": null,
   "id": "f0a08143",
   "metadata": {},
   "outputs": [],
   "source": [
    "import numpy as np\n",
    "from scipy.integrate import odeint\n",
    "import matplotlib.pyplot as plt\n",
    "\n",
    "def fprime(y,t):\n",
    "    return y\n",
    "\n",
    "tspan = np.linspace(0, 25)\n",
    "y0 = 1\n",
    "ysol = odeint(fprime, y0, tspan)\n",
    "plt.figure(figsize=(4,3))\n",
    "plt.plot(tspan, ysol, label='numerical solution')\n",
    "plt.plot(tspan, np.exp(tspan), 'r--', label='analytical solution')\n",
    "plt.xlabel('time')\n",
    "plt.ylabel('y(t)')\n",
    "plt.legend(loc='best');"
   ]
  },
  {
   "cell_type": "markdown",
   "id": "8b97f1ab",
   "metadata": {},
   "source": [
    "The numerical and analytical solutions agree.\n",
    "\n",
    "Now, suppose you want to know at what time is the solution equal to 3? There are several approaches to this, including setting up a solver, or using an event like approach to stop integration at y=3. A simple approach is to use reverse interpolation. We simply reverse the x and y vectors so that y is the independent variable, and we interpolate the corresponding x-value.\n",
    "\n"
   ]
  },
  {
   "cell_type": "code",
   "execution_count": null,
   "id": "b25c5fe1",
   "metadata": {},
   "outputs": [],
   "source": [
    "import numpy as np\n",
    "from scipy.integrate import odeint\n",
    "import matplotlib.pyplot as plt\n",
    "\n",
    "def fprime(y,t):\n",
    "    return y\n",
    "\n",
    "tspan = np.linspace(0, 2)\n",
    "y0 = 1\n",
    "ysol = odeint(fprime, y0, tspan)\n",
    "\n",
    "from scipy.interpolate import interp1d\n",
    "\n",
    "ip = interp1d(ysol[:,0], tspan) # reverse interpolation\n",
    "print('y = 3 at x = {0}'.format(ip(3)))"
   ]
  },
  {
   "cell_type": "markdown",
   "id": "edc304e8",
   "metadata": {},
   "source": [
    "#### Plotting ODE solutions in cylindrical coordinates\n",
    "\n"
   ]
  },
  {
   "cell_type": "markdown",
   "id": "73f8e9fe",
   "metadata": {},
   "source": [
    "[Matlab post](http://matlab.cheme.cmu.edu/2011/11/08/plot-the-solution-to-an-ode-in-cylindrical-coordinates-2/)\n",
    "\n",
    "It is straightforward to plot functions in Cartesian coordinates. It is less convenient to plot them in cylindrical coordinates. Here we solve an ODE in cylindrical coordinates, and then convert the solution to Cartesian coordinates for simple plotting.\n",
    "\n"
   ]
  },
  {
   "cell_type": "code",
   "execution_count": null,
   "id": "6072af21",
   "metadata": {},
   "outputs": [],
   "source": [
    "import numpy as np\n",
    "from scipy.integrate import odeint\n",
    "\n",
    "def dfdt(F, t):\n",
    "    rho, theta, z = F\n",
    "    drhodt = 0   # constant radius\n",
    "    dthetadt = 1 # constant angular velocity\n",
    "    dzdt = -1    # constant dropping velocity\n",
    "    return [drhodt, dthetadt, dzdt]\n",
    "\n",
    "# initial conditions\n",
    "rho0 = 1\n",
    "theta0 = 0\n",
    "z0 = 100\n",
    "\n",
    "tspan = np.linspace(0, 50, 500)\n",
    "sol = odeint(dfdt, [rho0, theta0, z0], tspan)\n",
    "\n",
    "rho = sol[:,0]\n",
    "theta = sol[:,1]\n",
    "z = sol[:,2]\n",
    "\n",
    "# convert cylindrical coords to cartesian for plotting.\n",
    "X = rho * np.cos(theta)\n",
    "Y = rho * np.sin(theta)\n",
    "\n",
    "\n",
    "import matplotlib.pyplot as plt\n",
    "fig = plt.figure()\n",
    "ax = fig.add_subplot(projection='3d')\n",
    "ax.plot(X, Y, z);"
   ]
  },
  {
   "cell_type": "markdown",
   "id": "4efa3b99",
   "metadata": {},
   "source": [
    "#### ODEs with discontinuous forcing functions\n",
    "\n"
   ]
  },
  {
   "cell_type": "markdown",
   "id": "dcd55424",
   "metadata": {},
   "source": [
    "[Matlab post](http://matlab.cheme.cmu.edu/2011/09/01/odes-with-discontinuous-forcing-functions/)\n",
    "\n",
    "Adapted from [http://archives.math.utk.edu/ICTCM/VOL18/S046/paper.pdf](http://archives.math.utk.edu/ICTCM/VOL18/S046/paper.pdf)\n",
    "\n",
    "A mixing tank initially contains 300 g of salt mixed into 1000 L of water. At t=0 min, a solution of 4 g/L salt enters the tank at 6 L/min. At t=10 min, the solution is changed to 2 g/L salt, still entering at 6 L/min. The tank is well stirred, and the tank solution leaves at a rate of 6 L/min. Plot the concentration of salt (g/L) in the tank as a function of time.\n",
    "\n",
    "A mass balance on the salt in the tank leads to this differential equation: $\\frac{dM_S}{dt} = \\nu C_{S,in}(t) - \\nu M_S/V$ with the initial condition that $M_S(t=0)=300$. The wrinkle is that the inlet conditions are not constant.\n",
    "\n",
    "$$C_{S,in}(t) = \\begin{array}{ll} 0 & t \\le 0, \\\\ 4 & 0 < t \\le 10, \\\\ 2 & t > 10. \\end{array}$$\n",
    "\n"
   ]
  },
  {
   "cell_type": "code",
   "execution_count": null,
   "id": "9fe412d5",
   "metadata": {},
   "outputs": [],
   "source": [
    "import numpy as np\n",
    "from scipy.integrate import odeint\n",
    "import matplotlib.pyplot as plt\n",
    "\n",
    "V = 1000.0 # L\n",
    "nu = 6.0  # L/min\n",
    "\n",
    "def Cs_in(t):\n",
    "    'inlet concentration'\n",
    "    if t < 0:\n",
    "        Cs = 0.0 # g/L\n",
    "    elif (t > 0) and (t <= 10):\n",
    "        Cs = 4.0\n",
    "    else:\n",
    "        Cs = 2.0\n",
    "    return Cs\n",
    "\n",
    "def mass_balance(Ms, t):\n",
    "    '$\\frac{dM_S}{dt} = \\nu C_{S,in}(t) - \\nu M_S/V$'\n",
    "    dMsdt = nu * Cs_in(t) - nu * Ms / V\n",
    "    return dMsdt\n",
    "\n",
    "tspan = np.linspace(0.0, 15.0, 50)\n",
    "\n",
    "M0 = 300.0 # gm salt\n",
    "Ms = odeint(mass_balance, M0, tspan)\n",
    "\n",
    "plt.plot(tspan, Ms/V, 'b.-')\n",
    "plt.xlabel('Time (min)')\n",
    "plt.ylabel('Salt concentration (g/L)');"
   ]
  },
  {
   "cell_type": "markdown",
   "id": "1fc78ae1",
   "metadata": {},
   "source": [
    "You can see the discontinuity in the salt concentration at 10 minutes due to the discontinous change in the entering salt concentration.\n",
    "\n"
   ]
  },
  {
   "cell_type": "markdown",
   "id": "8105141f",
   "metadata": {},
   "source": [
    "#### Simulating the events feature of Matlab's ode solvers\n",
    "\n"
   ]
  },
  {
   "cell_type": "markdown",
   "id": "95f510c2",
   "metadata": {},
   "source": [
    "The ode solvers in Matlab allow you create functions that define events that can stop the integration, detect roots, etc&#x2026; We will explore how to get a similar effect in python. Here is an example that somewhat does this, but it is only an approximation. We will manually integrate the ODE, adjusting the time step in each iteration to zero in on the solution. When the desired accuracy is reached, we stop the integration.\n",
    "\n",
    "<span class=\"timestamp-wrapper\"><span class=\"timestamp\">[2023-06-08 Thu] </span></span> events are now supported in scipy.integrate.solve\\_ivp.\n",
    "\n"
   ]
  },
  {
   "cell_type": "code",
   "execution_count": null,
   "id": "067e188b",
   "metadata": {},
   "outputs": [],
   "source": [
    "import numpy as np\n",
    "from scipy.integrate import odeint\n",
    "\n",
    "def dCadt(Ca, t):\n",
    "    \"the ode function\"\n",
    "    k = 0.23\n",
    "    return -k * Ca**2\n",
    "\n",
    "Ca0 = 2.3\n",
    "\n",
    "# create lists to store time span and solution\n",
    "tspan = [0, ]\n",
    "sol = [Ca0,]\n",
    "i = 0\n",
    "\n",
    "while i < 100:   # take max of 100 steps\n",
    "    t1 = tspan[i]\n",
    "    Ca = sol[i]\n",
    "\n",
    "    # pick the next time using a Newton-Raphson method\n",
    "    # we want f(t, Ca) = (Ca(t) - 1)**2 = 0\n",
    "    # df/dt = df/dCa dCa/dt\n",
    "    #       = 2*(Ca - 1) * dCadt\n",
    "    t2 = t1 - (Ca - 1.0)**2 / (2 * (Ca - 1) *dCadt(Ca, t1))\n",
    "\n",
    "    f = odeint(dCadt, Ca, [t1, t2])\n",
    "\n",
    "    if np.abs(Ca - 1.0) <= 1e-4:\n",
    "        print('Solution reached at i = {0}'.format(i))\n",
    "        break\n",
    "\n",
    "    tspan += [t2]\n",
    "    sol.append(f[-1][0])\n",
    "    i += 1\n",
    "\n",
    "print('At t={0:1.2f}  Ca = {1:1.3f}'.format(tspan[-1], sol[-1]))\n",
    "\n",
    "import matplotlib.pyplot as plt\n",
    "plt.plot(tspan, sol, 'bo');"
   ]
  },
  {
   "cell_type": "markdown",
   "id": "2cf212cd",
   "metadata": {},
   "source": [
    "This particular solution works for this example, probably because it is well behaved. It is \"downhill\" to the desired solution. It is not obvious this would work for every example, and it is certainly possible the algorithm could go \"backward\" in time. A better approach might be to integrate forward until you detect a sign change in your event function, and then refine it in a separate loop.\n",
    "\n",
    "I like the events integration in Matlab better, but this is actually pretty functional. It should not be too hard to use this for root counting, e.g. by counting sign changes. It would be considerably harder to get the actual roots. It might also be hard to get the positions of events that include the sign or value of the derivatives at the event points.\n",
    "\n",
    "ODE solving in Matlab is considerably more advanced in functionality than in scipy. There do seem to be some extra packages, e.g. pydstools, scikits.odes that add extra ode functionality.\n",
    "\n"
   ]
  },
  {
   "cell_type": "markdown",
   "id": "21b1e341",
   "metadata": {},
   "source": [
    "#### Mimicking ode events in python\n",
    "\n"
   ]
  },
  {
   "cell_type": "markdown",
   "id": "91139e84",
   "metadata": {},
   "source": [
    "The ODE functions in scipy.integrate do not directly support events like the functions in Matlab do. We can achieve something like it though, by digging into the guts of the solver, and writing a little code. In  previous [example](http://matlab.cheme.cmu.edu/2011/09/10/counting-roots/) I used an event to count the number of roots in a function by integrating the derivative of the function.\n",
    "\n"
   ]
  },
  {
   "cell_type": "code",
   "execution_count": null,
   "id": "809c9273",
   "metadata": {},
   "outputs": [],
   "source": [
    "import numpy as np\n",
    "from scipy.integrate import odeint\n",
    "\n",
    "def myode(f, x):\n",
    "    return 3*x**2 + 12*x -4\n",
    "\n",
    "def event(f, x):\n",
    "    'an event is when f = 0'\n",
    "    return f\n",
    "\n",
    "# initial conditions\n",
    "x0 = -8\n",
    "f0 = -120\n",
    "\n",
    "# final x-range and step to integrate over.\n",
    "xf = 4   #final x value\n",
    "deltax = 0.45 #xstep\n",
    "\n",
    "# lists to store the results in\n",
    "X = [x0]\n",
    "sol = [f0]\n",
    "e = [event(f0, x0)]\n",
    "events = []\n",
    "x2 = x0\n",
    "# manually integrate at each time step, and check for event sign changes at each step\n",
    "while x2 <= xf: #stop integrating when we get to xf\n",
    "    x1 = X[-1]\n",
    "    x2 = x1 + deltax\n",
    "    f1 = sol[-1]\n",
    "\n",
    "    f2 = odeint(myode, f1, [x1, x2]) # integrate from x1,f1 to x2,f2\n",
    "    X += [x2]\n",
    "    sol += [f2[-1][0]]\n",
    "\n",
    "    # now evaluate the event at the last position\n",
    "    e += [event(sol[-1], X[-1])]\n",
    "\n",
    "    if e[-1] * e[-2] < 0:\n",
    "        # Event detected where the sign of the event has changed. The\n",
    "        # event is between xPt = X[-2] and xLt = X[-1]. run a modified bisect\n",
    "        # function to narrow down to find where event = 0\n",
    "        xLt = X[-1]\n",
    "        fLt = sol[-1]\n",
    "        eLt = e[-1]\n",
    "\n",
    "        xPt = X[-2]\n",
    "        fPt = sol[-2]\n",
    "        ePt = e[-2]\n",
    "\n",
    "        j = 0\n",
    "        while j < 100:\n",
    "            if np.abs(xLt - xPt) < 1e-6:\n",
    "                # we know the interval to a prescribed precision now.\n",
    "                print('x = {0}, event = {1}, f = {2}'.format(xLt, eLt, fLt))\n",
    "                events += [(xLt, fLt)]\n",
    "                break # and return to integrating\n",
    "\n",
    "            m = (ePt - eLt)/(xPt - xLt) #slope of line connecting points\n",
    "                                        #bracketing zero\n",
    "\n",
    "            #estimated x where the zero is\n",
    "            new_x = -ePt / m + xPt\n",
    "\n",
    "            # now get the new value of the integrated solution at that new x\n",
    "            f  = odeint(myode, fPt, [xPt, new_x])\n",
    "            new_f = f[-1][-1]\n",
    "            new_e = event(new_f, new_x)\n",
    "\n",
    "            # now check event sign change\n",
    "            if eLt * new_e > 0:\n",
    "                xPt = new_x\n",
    "                fPt = new_f\n",
    "                ePt = new_e\n",
    "            else:\n",
    "                xLt = new_x\n",
    "                fLt = new_f\n",
    "                eLt = new_e\n",
    "\n",
    "            j += 1\n",
    "\n",
    "\n",
    "import matplotlib.pyplot as plt\n",
    "plt.plot(X, sol)\n",
    "\n",
    "# add event points to the graph\n",
    "for x,e in events:\n",
    "    plt.plot(x,e,'bo ')"
   ]
  },
  {
   "cell_type": "markdown",
   "id": "a45d4479",
   "metadata": {},
   "source": [
    "That was a lot of programming to do something like find the roots of the function! Today I would use solve\\_ivp for this.\n",
    "\n"
   ]
  },
  {
   "cell_type": "markdown",
   "id": "ff4cf751",
   "metadata": {},
   "source": [
    "#### Solving an ode for a specific solution value\n",
    "\n"
   ]
  },
  {
   "cell_type": "markdown",
   "id": "ef16e92b",
   "metadata": {},
   "source": [
    "[Matlab post](http://matlab.cheme.cmu.edu/2011/08/31/solving-an-ode-for-a-specific-solution-value/)\n",
    "The analytical solution to an ODE is a function, which can be solved to get a particular value, e.g. if the solution to an ODE is y(x) = exp(x), you can solve the solution to find the value of x that makes $y(x)=2$. In a numerical solution to an ODE we get a vector of independent variable values, and the corresponding function values at those values. To solve for a particular function value we need a different approach. This post will show one way to do that in python.\n",
    "\n",
    "Given that the concentration of a species A in a constant volume, batch reactor obeys this differential equation $\\frac{dC_A}{dt}=- k C_A^2$ with the initial condition $C_A(t=0) = 2.3$ mol/L and $k = 0.23$ L/mol/s, compute the time it takes for $C_A$ to be reduced to 1 mol/L.\n",
    "\n",
    "We will get a solution, then create an interpolating function and use fsolve to get the answer. [interpolation!ODE](interpolation!ODE)\n",
    "\n"
   ]
  },
  {
   "cell_type": "code",
   "execution_count": null,
   "id": "7abc1c8c",
   "metadata": {},
   "outputs": [],
   "source": [
    "from scipy.integrate import odeint\n",
    "from scipy.interpolate import interp1d\n",
    "from scipy.optimize import fsolve\n",
    "import numpy as np\n",
    "import matplotlib.pyplot as plt\n",
    "\n",
    "k = 0.23\n",
    "Ca0 = 2.3\n",
    "\n",
    "def dCadt(Ca, t):\n",
    "    return -k * Ca**2\n",
    "\n",
    "tspan = np.linspace(0, 10)\n",
    "\n",
    "sol = odeint(dCadt, Ca0, tspan)\n",
    "Ca = sol[:,0]\n",
    "\n",
    "plt.plot(tspan, Ca)\n",
    "plt.xlabel('Time (s)')\n",
    "plt.ylabel('$C_A$ (mol/L)');"
   ]
  },
  {
   "cell_type": "markdown",
   "id": "04c62769",
   "metadata": {},
   "source": [
    "You can see the solution is near two seconds. Now we create an interpolating function to evaluate the solution. We will plot the interpolating function on a finer grid to make sure it seems reasonable.\n",
    "\n"
   ]
  },
  {
   "cell_type": "code",
   "execution_count": null,
   "id": "f4e1be03",
   "metadata": {},
   "outputs": [],
   "source": [
    "ca_func = interp1d(tspan, Ca, 'cubic')\n",
    "\n",
    "itime = np.linspace(0, 10, 200)\n",
    "\n",
    "plt.figure()\n",
    "plt.plot(tspan, Ca, '.')\n",
    "plt.plot(itime, ca_func(itime), 'b-')\n",
    "\n",
    "plt.xlabel('Time (s)')\n",
    "plt.ylabel('$C_A$ (mol/L)')\n",
    "plt.legend(['solution','interpolated']);"
   ]
  },
  {
   "cell_type": "markdown",
   "id": "a4da119b",
   "metadata": {},
   "source": [
    "that looks pretty reasonable. Now we solve the problem.\n",
    "\n"
   ]
  },
  {
   "cell_type": "code",
   "execution_count": null,
   "id": "7e33e8c0",
   "metadata": {},
   "outputs": [],
   "source": [
    "tguess = 2.0\n",
    "tsol, = fsolve(lambda t: 1.0 - ca_func(t), tguess)\n",
    "print(tsol)\n",
    "\n",
    "# you might prefer an explicit function\n",
    "def func(t):\n",
    "    return 1.0 - ca_func(t)\n",
    "\n",
    "tsol2, = fsolve(func, tguess)\n",
    "print(tsol2)"
   ]
  },
  {
   "cell_type": "markdown",
   "id": "47027a85",
   "metadata": {},
   "source": [
    "That is it. Interpolation can provide a simple way to evaluate the numerical solution of an ODE at other values.\n",
    "\n",
    "For completeness we examine a final way to construct the function. We can actually integrate the ODE in the function to evaluate the solution at the point of interest. If it is not computationally expensive to evaluate the ODE solution this works fine. Note, however, that the ODE will get integrated from 0 to the value t for each iteration of fsolve.\n",
    "\n"
   ]
  },
  {
   "cell_type": "code",
   "execution_count": null,
   "id": "672f71a6",
   "metadata": {},
   "outputs": [],
   "source": [
    "def func(t):\n",
    "    tspan = [0, t]\n",
    "    sol = odeint(dCadt, Ca0, tspan)\n",
    "    return (1.0 - sol[-1])[0]\n",
    "\n",
    "tsol3, = fsolve(func, tguess)\n",
    "print(tsol3)"
   ]
  },
  {
   "cell_type": "markdown",
   "id": "5507e39b",
   "metadata": {},
   "source": [
    "#### A simple first order ode evaluated at specific points\n",
    "\n"
   ]
  },
  {
   "cell_type": "markdown",
   "id": "d2207efc",
   "metadata": {},
   "source": [
    "[Matlab post](http://matlab.cheme.cmu.edu/2011/08/05/a-simple-first-order-ode-evaluated-at-specific-points/)\n",
    "\n",
    "We have integrated an ODE over a specific time span. Sometimes it is desirable to get the solution at specific points, e.g. at t = [0 0.2 0.4 0.8]; This could be desirable to compare with experimental measurements at those time points. This example demonstrates how to do that.\n",
    "\n",
    "$$\\frac{dy}{dt} = y(t)$$\n",
    "\n",
    "The initial condition is y(0) = 1.\n",
    "\n"
   ]
  },
  {
   "cell_type": "code",
   "execution_count": null,
   "id": "15407598",
   "metadata": {},
   "outputs": [],
   "source": [
    "from scipy.integrate import odeint\n",
    "\n",
    "y0 = 1\n",
    "tspan = [0, 0.2, 0.4, 0.8]\n",
    "\n",
    "def dydt(y, t):\n",
    "    return y\n",
    "\n",
    "Y = odeint(dydt, y0, tspan)\n",
    "print(Y[:,0])"
   ]
  },
  {
   "cell_type": "markdown",
   "id": "87584860",
   "metadata": {},
   "source": [
    "#### Error tolerance in numerical solutions to ODEs\n",
    "\n"
   ]
  },
  {
   "cell_type": "markdown",
   "id": "57dbb03f",
   "metadata": {},
   "source": [
    "[Matlab post](http://matlab.cheme.cmu.edu/2011/09/18/error-tolerance-in-numerical-solutions-to-odes/)\n",
    "[ODE!tolerance](ODE!tolerance)\n",
    "Usually, the numerical ODE solvers in python work well with the standard settings. Sometimes they do not, and it is not always obvious they have not worked! Part of using a tool like python is checking how well your solution really worked. We use an example of integrating an ODE that defines the van der Waal equation of an ideal gas here.\n",
    "\n",
    "we plot the analytical solution to the van der waal equation in reduced form here.\n",
    "\n"
   ]
  },
  {
   "cell_type": "code",
   "execution_count": null,
   "id": "f92c94ca",
   "metadata": {},
   "outputs": [],
   "source": [
    "import numpy as np\n",
    "import matplotlib.pyplot as plt\n",
    "\n",
    "Tr = 0.9\n",
    "Vr = np.linspace(0.34,4,1000)\n",
    "\n",
    "#analytical equation for Pr\n",
    "Prfh = lambda Vr: 8.0 / 3.0 * Tr / (Vr - 1.0 / 3.0) - 3.0 / (Vr**2)\n",
    "Pr = Prfh(Vr) # evaluated on our reduced volume vector.\n",
    "\n",
    "# Plot the EOS\n",
    "plt.clf()\n",
    "plt.plot(Vr,Pr)\n",
    "plt.ylim([0, 2])\n",
    "plt.xlabel('$V_R$')\n",
    "plt.ylabel('$P_R$');"
   ]
  },
  {
   "cell_type": "markdown",
   "id": "9c850e02",
   "metadata": {},
   "source": [
    "we want an equation for dPdV, which we will integrate we use symbolic math to do the derivative for us.\n",
    "\n"
   ]
  },
  {
   "cell_type": "code",
   "execution_count": null,
   "id": "084d6cb1",
   "metadata": {},
   "outputs": [],
   "source": [
    "from sympy import diff, Symbol\n",
    "Vrs = Symbol('Vrs')\n",
    "\n",
    "Prs = 8.0 / 3.0 * Tr / (Vrs - 1.0/3.0) - 3.0/(Vrs**2)\n",
    "print(diff(Prs,Vrs))"
   ]
  },
  {
   "cell_type": "markdown",
   "id": "ad92ba90",
   "metadata": {},
   "source": [
    "Now, we solve the ODE. We will specify a large relative tolerance criteria (Note the default is much smaller than what we show here).\n",
    "\n"
   ]
  },
  {
   "cell_type": "code",
   "execution_count": null,
   "id": "597cd997",
   "metadata": {},
   "outputs": [],
   "source": [
    "from scipy.integrate import odeint\n",
    "\n",
    "def myode(Pr, Vr):\n",
    "    dPrdVr = -2.4/(Vr - 0.333333333333333)**2 + 6.0/Vr**3\n",
    "    return dPrdVr\n",
    "\n",
    "Vspan = np.linspace(0.334, 4)\n",
    "Po = Prfh(Vspan[0])\n",
    "P = odeint(myode, Po, Vspan, rtol=1e-4)\n",
    "\n",
    "# Plot the EOS\n",
    "plt.plot(Vr,Pr) # analytical solution\n",
    "plt.plot(Vspan, P[:,0], 'r.')\n",
    "plt.ylim([0, 2])\n",
    "plt.xlabel('$V_R$')\n",
    "plt.ylabel('$P_R$');"
   ]
  },
  {
   "cell_type": "markdown",
   "id": "7269800f",
   "metadata": {},
   "source": [
    "You can see there is disagreement between the analytical solution and numerical solution. The origin of this problem is accuracy at the initial condition, where the derivative is extremely large.\n",
    "\n"
   ]
  },
  {
   "cell_type": "code",
   "execution_count": null,
   "id": "db95c213",
   "metadata": {},
   "outputs": [],
   "source": [
    "print(myode(Po, 0.34))"
   ]
  },
  {
   "cell_type": "markdown",
   "id": "9194dc91",
   "metadata": {},
   "source": [
    "We can increase the tolerance criteria to get a better answer. The defaults in odeint are actually set to 1.49012e-8.\n",
    "\n"
   ]
  },
  {
   "cell_type": "code",
   "execution_count": null,
   "id": "b5e89eed",
   "metadata": {},
   "outputs": [],
   "source": [
    "Vspan = np.linspace(0.334, 4)\n",
    "Po = Prfh(Vspan[0])\n",
    "P = odeint(myode, Po, Vspan)\n",
    "\n",
    "# Plot the EOS\n",
    "plt.clf()\n",
    "plt.plot(Vr,Pr) # analytical solution\n",
    "plt.plot(Vspan, P[:,0], 'r.')\n",
    "plt.ylim([0, 2])\n",
    "plt.xlabel('$V_R$')\n",
    "plt.ylabel('$P_R$');"
   ]
  },
  {
   "cell_type": "markdown",
   "id": "07167579",
   "metadata": {},
   "source": [
    "The problem here was the derivative value varied by four orders of magnitude over the integration range, so the default tolerances were insufficient to accurately estimate the numerical derivatives over that range. Tightening the tolerances helped resolve that problem. Another approach might be to split the integration up into different regions. For instance, if instead of starting at Vr = 0.34, which is very close to a sigularity in the van der waal equation at Vr = 1/3, if you start at Vr = 0.5, the solution integrates just fine with the standard tolerances.\n",
    "\n"
   ]
  },
  {
   "cell_type": "markdown",
   "id": "a792e164",
   "metadata": {},
   "source": [
    "#### Solving parameterized ODEs over and over conveniently\n",
    "\n"
   ]
  },
  {
   "cell_type": "markdown",
   "id": "e070e83e",
   "metadata": {},
   "source": [
    "[Matlab post](http://matlab.cheme.cmu.edu/2011/09/16/parameterized-odes/)\n",
    "[ODE!parameterized](ODE!parameterized)\n",
    "Sometimes we have an ODE that depends on a parameter, and we want to solve the ODE for several parameter values. It is inconvenient to write an ode function for each parameter case. Here we examine a convenient way to solve this problem; we pass the parameter to the ODE at runtime. We consider the following ODE:\n",
    "\n",
    "$$\\frac{dCa}{dt} = -k Ca(t)$$\n",
    "\n",
    "where $k$ is a parameter, and we want to solve the equation for a couple of values of $k$ to test the sensitivity of the solution on the parameter. Our question is, given $Ca(t=0)=2$, how long does it take to get $Ca = 1$, and how sensitive is the answer to small variations in $k$?\n",
    "\n"
   ]
  },
  {
   "cell_type": "code",
   "execution_count": null,
   "id": "98026d2e",
   "metadata": {},
   "outputs": [],
   "source": [
    "import numpy as np\n",
    "from scipy.integrate import odeint\n",
    "import matplotlib.pyplot as plt\n",
    "\n",
    "def myode(Ca, t, k):\n",
    "    'ODE definition'\n",
    "    dCadt = -k * Ca\n",
    "    return dCadt\n",
    "\n",
    "tspan = np.linspace(0, 0.5)\n",
    "k0 = 2\n",
    "Ca0 = 2\n",
    "\n",
    "plt.figure(); plt.clf()\n",
    "\n",
    "for k in [0.95 * k0, k0, 1.05 * k0]:\n",
    "    sol = odeint(myode, Ca0, tspan, args=(k,))\n",
    "    plt.plot(tspan, sol, label='k={0:1.2f}'.format(k))\n",
    "    print('At t=0.5 Ca = {0:1.2f} mol/L'.format(sol[-1][0]))\n",
    "\n",
    "plt.legend(loc='best')\n",
    "plt.xlabel('Time')\n",
    "plt.ylabel('$C_A$ (mol/L)');"
   ]
  },
  {
   "cell_type": "markdown",
   "id": "39f798fb",
   "metadata": {},
   "source": [
    "You can see there are some variations in the concentration at t = 0.5. You could over or underestimate the concentration if you have the wrong estimate of $k$! You have to use some judgement here to decide how long to run the reaction to ensure a target goal is met.\n",
    "\n"
   ]
  },
  {
   "cell_type": "markdown",
   "id": "eb0deff3",
   "metadata": {},
   "source": [
    "#### Yet another way to parameterize an ODE\n",
    "\n"
   ]
  },
  {
   "cell_type": "markdown",
   "id": "282b5aa5",
   "metadata": {},
   "source": [
    "[Matlab post](http://matlab.cheme.cmu.edu/2011/11/06/yet-another-way-to-parameterize-an-ode/)\n",
    "[ODE!parameterized](ODE!parameterized)\n",
    "We previously examined a way to parameterize an ODE. In those methods, we either used an anonymous function to parameterize an ode function, or we used a nested function that used variables from the shared workspace.\n",
    "\n",
    "We want a convenient way to solve $dCa/dt = -k Ca$ for multiple values of $k$. Here we use a trick to pass a parameter to an ODE through the initial conditions. We expand the ode function definition to include this parameter, and set its derivative to zero, effectively making it a constant.\n",
    "\n"
   ]
  },
  {
   "cell_type": "code",
   "execution_count": null,
   "id": "63a625bd",
   "metadata": {},
   "outputs": [],
   "source": [
    "import numpy as np\n",
    "from scipy.integrate import odeint\n",
    "import matplotlib.pyplot as plt\n",
    "\n",
    "def ode(F, t):\n",
    "    Ca, k = F\n",
    "    dCadt = -k * Ca\n",
    "    dkdt = 0.0\n",
    "    return [dCadt, dkdt]\n",
    "\n",
    "tspan = np.linspace(0, 4)\n",
    "\n",
    "Ca0 = 1;\n",
    "K = [2.0, 3.0]\n",
    "for k in K:\n",
    "    F = odeint(ode, [Ca0, k], tspan)\n",
    "    Ca = F[:,0]\n",
    "    plt.plot(tspan, Ca, label='k={0}'.format(k))\n",
    "plt.xlabel('time')\n",
    "plt.ylabel('$C_A$')\n",
    "plt.legend(loc='best');"
   ]
  },
  {
   "cell_type": "markdown",
   "id": "77eca1c4",
   "metadata": {},
   "source": [
    "I do not think this is a very elegant way to pass parameters around compared to the previous methods, but it nicely illustrates that there is more than one way to do it. And who knows, maybe it will be useful in some other context one day!\n",
    "\n"
   ]
  },
  {
   "cell_type": "markdown",
   "id": "ccc02aaa",
   "metadata": {},
   "source": [
    "#### Another way to parameterize an ODE - nested function\n",
    "\n"
   ]
  },
  {
   "cell_type": "markdown",
   "id": "0455ff51",
   "metadata": {},
   "source": [
    "[Matlab post](http://matlab.cheme.cmu.edu/2011/09/18/another-way-to-parameterize-an-ode-nested-function/)\n",
    "[ODE!parameterized](ODE!parameterized)\n",
    "We saw one method to parameterize an ODE, by creating an ode function that takes an extra parameter argument, and then making a function handle that has the syntax required for the solver, and passes the parameter the ode function.\n",
    "\n",
    "Here we define the ODE function in a loop. Since the nested function is in the namespace of the main function, it can \"see\" the values of the variables in the main function. We will use this method to look at the solution to the van der Pol equation for several different values of mu.\n",
    "\n"
   ]
  },
  {
   "cell_type": "code",
   "execution_count": null,
   "id": "dfd97f35",
   "metadata": {},
   "outputs": [],
   "source": [
    "import numpy as np\n",
    "from scipy.integrate import odeint\n",
    "import matplotlib.pyplot as plt\n",
    "\n",
    "MU = [0.1, 1, 2, 5]\n",
    "tspan = np.linspace(0, 100, 5000)\n",
    "Y0 = [0, 3]\n",
    "\n",
    "for mu in MU:\n",
    "    # define the ODE\n",
    "    def vdpol(Y, t):\n",
    "        x,y = Y\n",
    "        dxdt = y\n",
    "        dydt = -x + mu * (1 - x**2) * y\n",
    "        return  [dxdt, dydt]\n",
    "\n",
    "    Y = odeint(vdpol, Y0, tspan)\n",
    "\n",
    "    x = Y[:,0]; y = Y[:,1]\n",
    "    plt.plot(x, y, label='mu={0:1.2f}'.format(mu))\n",
    "\n",
    "plt.axis('equal')\n",
    "plt.legend(loc='best');"
   ]
  },
  {
   "cell_type": "markdown",
   "id": "d58f4419",
   "metadata": {},
   "source": [
    "You can see the solution changes dramatically for different values of mu. The point here is not to understand why, but to show an easy way to study a parameterize ode with a nested function. Nested functions can be a great way to \"share\" variables between functions especially for ODE solving, and nonlinear algebra solving, or any other application where you need a lot of parameters defined in one function in another function.\n",
    "\n"
   ]
  },
  {
   "cell_type": "markdown",
   "id": "ef377101",
   "metadata": {},
   "source": [
    "#### Solving a second order ode\n",
    "\n"
   ]
  },
  {
   "cell_type": "markdown",
   "id": "d53dc60e",
   "metadata": {},
   "source": [
    "[Matlab post](http://matlab.cheme.cmu.edu/2011/09/26/solving-a-second-order-ode/)\n",
    "[ODE!second order](ODE!second order)\n",
    "\n",
    "The odesolvers in scipy can only solve first order ODEs, or systems of first order ODES. To solve a second order ODE, we must convert it by changes of variables to a system of first order ODES. We consider the Van der Pol oscillator here:\n",
    "\n",
    "$$\\frac{d^2x}{dt^2} - \\mu(1-x^2)\\frac{dx}{dt} + x = 0$$\n",
    "\n",
    "$\\mu$ is a constant. If we let $y=x - x^3/3$ [http://en.wikipedia.org/wiki/Van_der_Pol_oscillator](http://en.wikipedia.org/wiki/Van_der_Pol_oscillator), then we arrive at this set of equations:\n",
    "\n",
    "$$\\frac{dx}{dt} = \\mu(x-1/3x^3-y)$$\n",
    "\n",
    "$$\\frac{dy}{dt} = \\mu/x$$\n",
    "\n",
    "here is how we solve this set of equations. Let $\\mu=1$.\n",
    "\n"
   ]
  },
  {
   "cell_type": "code",
   "execution_count": null,
   "id": "6a752b1e",
   "metadata": {},
   "outputs": [],
   "source": [
    "from scipy.integrate import odeint\n",
    "import numpy as np\n",
    "\n",
    "mu = 1.0\n",
    "\n",
    "def vanderpol(X, t):\n",
    "    x = X[0]\n",
    "    y = X[1]\n",
    "    dxdt = mu * (x - 1./3.*x**3 - y)\n",
    "    dydt = x / mu\n",
    "    return [dxdt, dydt]\n",
    "\n",
    "X0 = [1, 2]\n",
    "t = np.linspace(0, 40, 250)\n",
    "\n",
    "sol = odeint(vanderpol, X0, t)\n",
    "\n",
    "import matplotlib.pyplot as plt\n",
    "x = sol[:, 0]\n",
    "y = sol[:, 1]\n",
    "\n",
    "plt.plot(t,x, t, y)\n",
    "plt.xlabel('t')\n",
    "plt.legend(('x', 'y'))\n",
    "plt.savefig('images/vanderpol-1.png')\n",
    "\n",
    "# phase portrait\n",
    "plt.figure()\n",
    "plt.plot(x,y)\n",
    "plt.plot(x[0], y[0], 'ro')\n",
    "plt.xlabel('x')\n",
    "plt.ylabel('y');"
   ]
  },
  {
   "cell_type": "markdown",
   "id": "cc02b6ee",
   "metadata": {},
   "source": [
    "Here is the phase portrait. You can see that a limit cycle is approached, indicating periodicity in the solution.\n",
    "\n"
   ]
  },
  {
   "cell_type": "markdown",
   "id": "517ba0e4",
   "metadata": {},
   "source": [
    "#### Solving Bessel's Equation numerically\n",
    "\n"
   ]
  },
  {
   "cell_type": "markdown",
   "id": "afe2c87c",
   "metadata": {},
   "source": [
    "[Matlab post](http://matlab.cheme.cmu.edu/2011/08/08/solving-bessels-equation-numerically/)\n",
    "\n",
    "Reference Ch 5.5 Kreysig, Advanced Engineering Mathematics, 9th ed.\n",
    "\n",
    "Bessel's equation $x^2 y'' + x y' + (x^2 - \\nu^2)y=0$ comes up often in engineering problems such as heat transfer. The solutions to this equation are the Bessel functions. To solve this equation numerically, we must convert it to a system of first order ODEs. This can be done by letting $z = y'$ and $z' = y''$ and performing the change of variables:\n",
    "\n",
    "$$ y' = z$$\n",
    "\n",
    "$$ z' = \\frac{1}{x^2}(-x z - (x^2 - \\nu^2) y$$\n",
    "\n",
    "if we take the case where $\\nu = 0$, the solution is known to be the Bessel function $J_0(x)$, which is represented in Matlab as besselj(0,x). The initial conditions for this problem are: $y(0) = 1$ and $y'(0)=0$.\n",
    "\n",
    "There is a problem with our system of ODEs at x=0. Because of the $1/x^2$ term, the ODEs are not defined at x=0. If we start very close to zero instead, we avoid the problem.\n",
    "\n"
   ]
  },
  {
   "cell_type": "code",
   "execution_count": null,
   "id": "4d11e537",
   "metadata": {},
   "outputs": [],
   "source": [
    "import numpy as np\n",
    "from scipy.integrate import odeint\n",
    "from scipy.special import jn # bessel function\n",
    "import matplotlib.pyplot as plt\n",
    "\n",
    "def fbessel(Y, x):\n",
    "    nu = 0.0\n",
    "    y = Y[0]\n",
    "    z = Y[1]\n",
    "\n",
    "    dydx = z\n",
    "    dzdx = 1.0 / x**2 * (-x * z - (x**2 - nu**2) * y)\n",
    "    return [dydx, dzdx]\n",
    "\n",
    "x0 = 1e-15\n",
    "y0 = 1\n",
    "z0 = 0\n",
    "Y0 = [y0, z0]\n",
    "\n",
    "xspan = np.linspace(1e-15, 10)\n",
    "sol = odeint(fbessel, Y0, xspan)\n",
    "\n",
    "plt.plot(xspan, sol[:,0], label='numerical soln')\n",
    "plt.plot(xspan, jn(0, xspan), 'r--', label='Bessel')\n",
    "plt.legend();"
   ]
  },
  {
   "cell_type": "markdown",
   "id": "3042c3d8",
   "metadata": {},
   "source": [
    "You can see the numerical and analytical solutions overlap, indicating they are at least visually the same.\n",
    "\n"
   ]
  },
  {
   "cell_type": "markdown",
   "id": "69a83247",
   "metadata": {},
   "source": [
    "#### Phase portraits of a system of ODEs\n",
    "\n"
   ]
  },
  {
   "cell_type": "markdown",
   "id": "534797c6",
   "metadata": {},
   "source": [
    "[Matlab post](http://matlab.cheme.cmu.edu/2011/08/09/phase-portraits-of-a-system-of-odes/)\n",
    "An undamped pendulum with no driving force is described by\n",
    "\n",
    "$$ y'' + sin(y) = 0$$\n",
    "\n",
    "We reduce this to standard matlab form of a system of first order ODEs by letting $y_1 = y$ and $y_2=y_1'$. This leads to:\n",
    "\n",
    "$y_1' = y_2$\n",
    "\n",
    "$y_2' = -sin(y_1)$\n",
    "\n",
    "The phase portrait is a plot of a vector field which qualitatively shows how the solutions to these equations will go from a given starting point. here is our definition of the differential equations:\n",
    "\n",
    "To generate the phase portrait, we need to compute the derivatives $y_1'$ and $y_2'$ at $t=0$ on a grid over the range of values for $y_1$ and $y_2$ we are interested in. We will plot the derivatives as a vector at each (y1, y2) which will show us the initial direction from each point. We will examine the solutions over the range -2 < y1 < 8, and -2 < y2 < 2 for y2, and create a grid of 20 x 20 points.\n",
    "\n"
   ]
  },
  {
   "cell_type": "code",
   "execution_count": null,
   "id": "fd92e6ee",
   "metadata": {},
   "outputs": [],
   "source": [
    "import numpy as np\n",
    "import matplotlib.pyplot as plt\n",
    "\n",
    "def f(Y, t):\n",
    "    y1, y2 = Y\n",
    "    return [y2, -np.sin(y1)]\n",
    "\n",
    "y1 = np.linspace(-2.0, 8.0, 20)\n",
    "y2 = np.linspace(-2.0, 2.0, 20)\n",
    "\n",
    "Y1, Y2 = np.meshgrid(y1, y2)\n",
    "\n",
    "t = 0\n",
    "\n",
    "u, v = np.zeros(Y1.shape), np.zeros(Y2.shape)\n",
    "\n",
    "NI, NJ = Y1.shape\n",
    "\n",
    "for i in range(NI):\n",
    "    for j in range(NJ):\n",
    "        x = Y1[i, j]\n",
    "        y = Y2[i, j]\n",
    "        yprime = f([x, y], t)\n",
    "        u[i,j] = yprime[0]\n",
    "        v[i,j] = yprime[1]\n",
    "\n",
    "\n",
    "Q = plt.quiver(Y1, Y2, u, v, color='r')\n",
    "\n",
    "plt.xlabel('$y_1$')\n",
    "plt.ylabel('$y_2$')\n",
    "plt.xlim([-2, 8])\n",
    "plt.ylim([-4, 4]);"
   ]
  },
  {
   "cell_type": "markdown",
   "id": "17d2e7da",
   "metadata": {},
   "source": [
    "Let us plot a few solutions on the vector field. We will consider the solutions where y1(0)=0, and values of y2(0) = [0 0.5 1 1.5 2 2.5], in otherwords we start the pendulum at an angle of zero, with some angular velocity.\n",
    "\n"
   ]
  },
  {
   "cell_type": "code",
   "execution_count": null,
   "id": "579fb982",
   "metadata": {},
   "outputs": [],
   "source": [
    "from scipy.integrate import odeint\n",
    "\n",
    "plt.clf()\n",
    "for y20 in [0, 0.5, 1, 1.5, 2, 2.5]:\n",
    "    tspan = np.linspace(0, 50, 200)\n",
    "    y0 = [0.0, y20]\n",
    "    ys = odeint(f, y0, tspan)\n",
    "    plt.plot(ys[:,0], ys[:,1], 'b-') # path\n",
    "    plt.plot([ys[0,0]], [ys[0,1]], 'o') # start\n",
    "    plt.plot([ys[-1,0]], [ys[-1,1]], 's') # end\n",
    "\n",
    "\n",
    "plt.xlim([-2, 8]);"
   ]
  },
  {
   "cell_type": "markdown",
   "id": "cfb10a60",
   "metadata": {},
   "source": [
    "What do these figures mean? For starting points near the origin, and small velocities, the pendulum goes into a stable limit cycle. For others, the trajectory appears to fly off into y1 space. Recall that y1 is an angle that has values from $-\\pi$ to $\\pi$. The y1 data in this case is not wrapped around to be in this range.\n",
    "\n"
   ]
  },
  {
   "cell_type": "markdown",
   "id": "293a28cd",
   "metadata": {},
   "source": [
    "#### Linear algebra approaches to solving systems of constant coefficient ODEs\n",
    "\n"
   ]
  },
  {
   "cell_type": "markdown",
   "id": "bb218a7a",
   "metadata": {},
   "source": [
    "[Matlab post](http://matlab.cheme.cmu.edu/2011/10/20/linear-algebra-approaches-to-solving-systems-of-constant-coefficient-odes)\n",
    "[ODE!coupled](ODE!coupled)\n",
    "Today we consider how to solve a system of first order, constant coefficient ordinary differential equations using linear algebra. These equations could be solved numerically, but in this case there are analytical solutions that can be derived. The equations we will solve are:\n",
    "\n",
    "$y'_1 = -0.02 y_1 + 0.02 y_2$\n",
    "\n",
    "$y'_2 = 0.02 y_1 - 0.02 y_2$\n",
    "\n",
    "We can express this set of equations in matrix form as: $\\left[\\begin{array}{c}y'_1\\\\y'_2\\end{array}\\right] = \\left[\\begin{array}{cc} -0.02 & 0.02 \\\\ 0.02 & -0.02\\end{array}\\right] \\left[\\begin{array}{c}y_1\\\\y_2\\end{array}\\right]$\n",
    "\n",
    "The general solution to this set of equations is\n",
    "\n",
    "$\\left[\\begin{array}{c}y_1\\\\y_2\\end{array}\\right] = \\left[\\begin{array}{cc}v_1 & v_2\\end{array}\\right] \\left[\\begin{array}{cc} c_1 & 0 \\\\ 0 & c_2\\end{array}\\right] \\exp\\left(\\left[\\begin{array}{cc} \\lambda_1 & 0 \\\\ 0 & \\lambda_2\\end{array}\\right] \\left[\\begin{array}{c}t\\\\t\\end{array}\\right]\\right)$\n",
    "\n",
    "where $\\left[\\begin{array}{cc} \\lambda_1 & 0 \\\\ 0 & \\lambda_2\\end{array}\\right]$ is a diagonal matrix of the eigenvalues of the constant coefficient matrix, $\\left[\\begin{array}{cc}v_1 & v_2\\end{array}\\right]$ is a matrix of eigenvectors where the $i^{th}$ column corresponds to the eigenvector of the $i^{th}$ eigenvalue, and $\\left[\\begin{array}{cc} c_1 & 0 \\\\ 0 & c_2\\end{array}\\right]$ is a matrix determined by the initial conditions.\n",
    "\n",
    "In this example, we evaluate the solution using linear algebra. The initial conditions we will consider are $y_1(0)=0$ and $y_2(0)=150$.\n",
    "\n"
   ]
  },
  {
   "cell_type": "code",
   "execution_count": null,
   "id": "b8aea8fb",
   "metadata": {},
   "outputs": [],
   "source": [
    "import numpy as np\n",
    "\n",
    "A = np.array([[-0.02,  0.02],\n",
    "              [ 0.02, -0.02]])\n",
    "\n",
    "# Return the eigenvalues and eigenvectors of a Hermitian or symmetric matrix.\n",
    "evals, evecs = np.linalg.eigh(A)\n",
    "print(evals)\n",
    "print(evecs)"
   ]
  },
  {
   "cell_type": "markdown",
   "id": "d63a53ae",
   "metadata": {},
   "source": [
    "The eigenvectors are the *columns* of evecs.\n",
    "\n",
    "Compute the $c$ matrix\n",
    "\n",
    "V\\*c = Y0\n",
    "\n"
   ]
  },
  {
   "cell_type": "code",
   "execution_count": null,
   "id": "91a59dd6",
   "metadata": {},
   "outputs": [],
   "source": [
    "Y0 = [0, 150]\n",
    "\n",
    "c = np.diag(np.linalg.solve(evecs, Y0))\n",
    "print(c)"
   ]
  },
  {
   "cell_type": "markdown",
   "id": "b0c64357",
   "metadata": {},
   "source": [
    "Constructing the solution\n",
    "\n",
    "We will create a vector of time values, and stack them for each solution, $y_1(t)$ and $Y_2(t)$.\n",
    "\n"
   ]
  },
  {
   "cell_type": "code",
   "execution_count": null,
   "id": "73308c8b",
   "metadata": {},
   "outputs": [],
   "source": [
    "import matplotlib.pyplot as plt\n",
    "\n",
    "t = np.linspace(0, 100)\n",
    "T = np.row_stack([t, t])\n",
    "\n",
    "D = np.diag(evals)\n",
    "\n",
    "# y = V*c*exp(D*T);\n",
    "y = np.dot(np.dot(evecs, c), np.exp(np.dot(D, T)))\n",
    "\n",
    "# y has a shape of (2, 50) so we have to transpose it\n",
    "plt.plot(t, y.T)\n",
    "plt.xlabel('t')\n",
    "plt.ylabel('y')\n",
    "plt.legend(['$y_1$', '$y_2$']);"
   ]
  },
  {
   "cell_type": "markdown",
   "id": "e472c291",
   "metadata": {},
   "source": [
    "### Delay Differential Equations\n",
    "\n"
   ]
  },
  {
   "cell_type": "markdown",
   "id": "1cbe0a2a",
   "metadata": {},
   "source": [
    "In Matlab you can solve Delay Differential equations (DDE) ([Matlab post](http://matlab.cheme.cmu.edu/2011/09/28/delay-differential-equations/)). I do not know of a solver in scipy at this time that can do this.\n",
    "\n"
   ]
  },
  {
   "cell_type": "markdown",
   "id": "ef8aeb30",
   "metadata": {},
   "source": [
    "### Differential algebraic systems of equations\n",
    "\n"
   ]
  },
  {
   "cell_type": "markdown",
   "id": "d40c707f",
   "metadata": {},
   "source": [
    "There is not a builtin solver for DAE systems in scipy. It looks like [pysundials](http://pysundials.sourceforge.net/) may do it, but it must be compiled and installed.\n",
    "\n"
   ]
  },
  {
   "cell_type": "markdown",
   "id": "5779968f",
   "metadata": {},
   "source": [
    "### Boundary value equations\n",
    "\n"
   ]
  },
  {
   "cell_type": "markdown",
   "id": "7d7f2e17",
   "metadata": {},
   "source": [
    "In the following examples we implement some approaches to solving certain types of linear BVPs.\n",
    "\n",
    "scipy.integrate.solve\\_bvp now exists.\n",
    "\n"
   ]
  },
  {
   "cell_type": "markdown",
   "id": "c2a8c761",
   "metadata": {},
   "source": [
    "#### Plane Poiseuille flow - BVP solve by shooting method\n",
    "\n"
   ]
  },
  {
   "cell_type": "markdown",
   "id": "95ace203",
   "metadata": {},
   "source": [
    "[Matlab post](http://matlab.cheme.cmu.edu/2011/09/08/plane-poiseuille-flow-bvp-solve-by-shooting-method/)\n",
    "\n",
    "One approach to solving BVPs is to use the shooting method. The reason we cannot use an initial value solver for a BVP is that there is not enough information at the initial value to start. In the shooting method, we take the function value at the initial point, and guess what the function derivatives are so that we can do an integration. If our guess was good, then the solution will go through the known second boundary point. If not, we guess again, until we get the answer we need. In this example we repeat the pressure driven flow example, but illustrate the shooting method.\n",
    "\n",
    "In the pressure driven flow of a fluid with viscosity $\\mu$ between two stationary plates separated by distance $d$ and driven by a pressure drop $\\Delta P/\\Delta x$, the governing equations on the velocity $u$ of the fluid are (assuming flow in the x-direction with the velocity varying only in the y-direction):\n",
    "\n",
    "$$\\frac{\\Delta P}{\\Delta x} = \\mu \\frac{d^2u}{dy^2}$$\n",
    "\n",
    "with boundary conditions $u(y=0) = 0$ and $u(y=d) = 0$, i.e. the no-slip condition at the edges of the plate.\n",
    "\n",
    "we convert this second order BVP to a system of ODEs by letting $u_1 = u$, $u_2 = u_1'$ and then $u_2' = u_1''$. This leads to:\n",
    "\n",
    "$\\frac{d u_1}{dy} = u_2$\n",
    "\n",
    "$\\frac{d u_2}{dy} = \\frac{1}{\\mu}\\frac{\\Delta P}{\\Delta x}$\n",
    "\n",
    "with boundary conditions $u_1(y=0) = 0$ and $u_1(y=d) = 0$.\n",
    "\n",
    "for this problem we let the plate separation be d=0.1, the viscosity $\\mu = 1$, and $\\frac{\\Delta P}{\\Delta x} = -100$.\n",
    "\n"
   ]
  },
  {
   "cell_type": "markdown",
   "id": "e468d158",
   "metadata": {},
   "source": [
    "##### First guess\n",
    "\n"
   ]
  },
  {
   "cell_type": "markdown",
   "id": "e33c2584",
   "metadata": {},
   "source": [
    "We need u\\_1(0) and u\\_2(0), but we only have u\\_1(0). We need to guess a value for u\\_2(0) and see if the solution goes through the u\\_2(d)=0 boundary value.\n",
    "\n"
   ]
  },
  {
   "cell_type": "code",
   "execution_count": null,
   "id": "d417b676",
   "metadata": {},
   "outputs": [],
   "source": [
    "import numpy as np\n",
    "from scipy.integrate import odeint\n",
    "import matplotlib.pyplot as plt\n",
    "\n",
    "d = 0.1 # plate thickness\n",
    "\n",
    "def odefun(U, y):\n",
    "    u1, u2 = U\n",
    "    mu = 1\n",
    "    Pdrop = -100\n",
    "    du1dy = u2\n",
    "    du2dy = 1.0 / mu * Pdrop\n",
    "    return [du1dy, du2dy]\n",
    "\n",
    "u1_0 = 0 # known\n",
    "u2_0 = 1 # guessed\n",
    "\n",
    "dspan = np.linspace(0, d)\n",
    "\n",
    "U = odeint(odefun, [u1_0, u2_0], dspan)\n",
    "\n",
    "plt.plot(dspan, U[:,0])\n",
    "plt.plot([d],[0], 'ro')\n",
    "plt.xlabel('d')\n",
    "plt.ylabel('$u_1$');"
   ]
  },
  {
   "cell_type": "markdown",
   "id": "bcddd042",
   "metadata": {},
   "source": [
    "Here we have undershot the boundary condition. Let us try a larger guess.\n",
    "\n"
   ]
  },
  {
   "cell_type": "markdown",
   "id": "71f68305",
   "metadata": {},
   "source": [
    "##### Second guess\n",
    "\n"
   ]
  },
  {
   "cell_type": "code",
   "execution_count": null,
   "id": "90b4d2d6",
   "metadata": {},
   "outputs": [],
   "source": [
    "u1_0 = 0 # known\n",
    "u2_0 = 10 # guessed\n",
    "\n",
    "dspan = np.linspace(0, d)\n",
    "\n",
    "U = odeint(odefun, [u1_0, u2_0], dspan)\n",
    "\n",
    "plt.plot(dspan, U[:,0])\n",
    "plt.plot([d],[0], 'ro')\n",
    "plt.xlabel('d')\n",
    "plt.ylabel('$u_1$');"
   ]
  },
  {
   "cell_type": "markdown",
   "id": "ddde4885",
   "metadata": {},
   "source": [
    "Now we have clearly overshot. Let us now make a function that will iterate for us to find the right value.\n",
    "\n"
   ]
  },
  {
   "cell_type": "markdown",
   "id": "749418c3",
   "metadata": {},
   "source": [
    "##### Let fsolve do the work\n",
    "\n"
   ]
  },
  {
   "cell_type": "code",
   "execution_count": null,
   "id": "66aee5c3",
   "metadata": {},
   "outputs": [],
   "source": [
    "from scipy.optimize import fsolve\n",
    "import matplotlib.pyplot as plt\n",
    "\n",
    "Pdrop = -100\n",
    "\n",
    "def objective(u2_0):\n",
    "    dspan = np.linspace(0, d)\n",
    "    U = odeint(odefun, [u1_0, u2_0], dspan)\n",
    "    u1 = U[:,0]\n",
    "    return u1[-1]\n",
    "\n",
    "u2_0, = fsolve(objective, 1.0)\n",
    "\n",
    "# now solve with optimal u2_0\n",
    "U = odeint(odefun, [u1_0, u2_0], dspan)\n",
    "\n",
    "plt.plot(dspan, U[:,0], label='Numerical solution')\n",
    "plt.plot([d],[0], 'ro')\n",
    "\n",
    "# plot an analytical solution\n",
    "u = -(Pdrop) * d**2 / 2 / mu * (dspan / d - (dspan / d)**2)\n",
    "plt.plot(dspan, u, 'r--', label='Analytical solution')\n",
    "\n",
    "\n",
    "plt.xlabel('d')\n",
    "plt.ylabel('$u_1$')\n",
    "plt.legend(loc='best');"
   ]
  },
  {
   "cell_type": "markdown",
   "id": "11911d1a",
   "metadata": {},
   "source": [
    "You can see the agreement is excellent!\n",
    "\n"
   ]
  },
  {
   "cell_type": "markdown",
   "id": "b95e6b83",
   "metadata": {},
   "source": [
    "#### Plane poiseuelle flow solved by finite difference\n",
    "\n"
   ]
  },
  {
   "cell_type": "markdown",
   "id": "94e3875c",
   "metadata": {},
   "source": [
    "[Matlab post](http://matlab.cheme.cmu.edu/2011/09/30/plane-poiseuelle-flow-solved-by-finite-difference/)\n",
    "\n",
    "Adapted from [http://www.physics.arizona.edu/~restrepo/475B/Notes/sourcehtml/node24.html](http://www.physics.arizona.edu/~restrepo/475B/Notes/sourcehtml/node24.html)\n",
    "\n",
    "We want to solve a linear boundary value problem of the form: y'' = p(x)y' + q(x)y + r(x) with boundary conditions y(x1) = alpha and y(x2) = beta.\n",
    "\n",
    "For this example, we solve the plane poiseuille flow problem using a finite difference approach. An advantage of the approach we use here is we do not have to rewrite the second order ODE as a set of coupled first order ODEs, nor do we have to provide guesses for the solution. We do, however, have to discretize the derivatives and formulate a linear algebra problem.\n",
    "\n",
    "we want to solve u'' = 1/mu\\*DPDX with u(0)=0 and u(0.1)=0. for this problem we let the plate separation be d=0.1, the viscosity $\\mu = 1$, and $\\frac{\\Delta P}{\\Delta x} = -100$.\n",
    "\n",
    "The idea behind the finite difference method is to approximate the derivatives by finite differences on a grid. See here for details. By discretizing the ODE, we arrive at a set of linear algebra equations of the form $A y = b$, where $A$ and $b$ are defined as follows.\n",
    "\n",
    "$$A = \\left [ \\begin{array}{ccccc} %\n",
    " 2 + h^2 q_1         & -1 + \\frac{h}{2} p_1 & 0                    & 0 & 0 \\\\\n",
    "-1 - \\frac{h}{2} p_2 & 2 + h^2 q_2          & -1 + \\frac{h}{2} p_2 & 0 & 0 \\\\\n",
    "0                    & \\ddots               & \\ddots               & \\ddots & 0 \\\\\n",
    "0                    & 0                    & -1 - \\frac{h}{2} p_{N-1} & 2 + h^2 q_{N-1} & -1 + \\frac{h}{2} p_{N-1} \\\\\n",
    "0                    & 0                    & 0  & -1 - \\frac{h}{2} p_N & 2 + h^2 q_N \\end{array} \\right ] $$\n",
    "\n",
    "$$ y = \\left [ \\begin{array}{c} y_i \\\\ \\vdots \\\\ y_N \\end{array} \\right ] $$\n",
    "\n",
    "$$ b = \\left [ \\begin{array}{c} -h^2 r_1 + ( 1 + \\frac{h}{2} p_1) \\alpha \\\\\n",
    "-h^2 r_2 \\\\\n",
    "\\vdots \\\\\n",
    "-h^2 r_{N-1} \\\\\n",
    "-h^2 r_N + (1 - \\frac{h}{2} p_N) \\beta \\end{array} \\right] $$\n",
    "\n"
   ]
  },
  {
   "cell_type": "code",
   "execution_count": null,
   "id": "8b3aac01",
   "metadata": {},
   "outputs": [],
   "source": [
    "import numpy as np\n",
    "\n",
    "# we use the notation for y'' = p(x)y' + q(x)y + r(x)\n",
    "def p(x):\n",
    "    return 0\n",
    "\n",
    "def q(x):\n",
    "    return 0\n",
    "\n",
    "def r(x):\n",
    "    return -100\n",
    "\n",
    "#we use the notation y(x1) = alpha and y(x2) = beta\n",
    "\n",
    "x1 = 0; alpha = 0.0\n",
    "x2 = 0.1; beta = 0.0\n",
    "\n",
    "npoints = 100\n",
    "\n",
    "# compute interval width\n",
    "h = (x2-x1)/npoints;\n",
    "\n",
    "# preallocate and shape the b vector and A-matrix\n",
    "b = np.zeros((npoints - 1, 1));\n",
    "A = np.zeros((npoints - 1, npoints - 1));\n",
    "X = np.zeros((npoints - 1, 1));\n",
    "\n",
    "#now we populate the A-matrix and b vector elements\n",
    "for i in range(npoints - 1):\n",
    "    X[i,0] = x1 + (i + 1) * h\n",
    "\n",
    "    # get the value of the BVP Odes at this x\n",
    "    pi = p(X[i])\n",
    "    qi = q(X[i])\n",
    "    ri = r(X[i])\n",
    "\n",
    "    if i == 0:\n",
    "        # first boundary condition\n",
    "        b[i] = -h**2 * ri + (1 + h / 2 * pi)*alpha;\n",
    "    elif i == npoints - 1:\n",
    "        # second boundary condition\n",
    "        b[i] = -h**2 * ri + (1 - h / 2 * pi)*beta;\n",
    "    else:\n",
    "        b[i] = -h**2 * ri # intermediate points\n",
    "\n",
    "    for j in range(npoints - 1):\n",
    "        if j == i: # the diagonal\n",
    "            A[i,j] = 2 + h**2 * qi\n",
    "        elif j == i - 1: # left of the diagonal\n",
    "            A[i,j] = -1 - h / 2 * pi\n",
    "        elif j == i + 1: # right of the diagonal\n",
    "            A[i,j] = -1 + h / 2 * pi\n",
    "        else:\n",
    "            A[i,j] = 0 # off the tri-diagonal\n",
    "\n",
    "# solve the equations A*y = b for Y\n",
    "Y = np.linalg.solve(A,b)\n",
    "\n",
    "x = np.hstack([x1, X[:,0], x2])\n",
    "y = np.hstack([alpha, Y[:,0], beta])\n",
    "\n",
    "import matplotlib.pyplot as plt\n",
    "\n",
    "plt.plot(x, y)\n",
    "\n",
    "mu = 1\n",
    "d = 0.1\n",
    "x = np.linspace(0,0.1);\n",
    "Pdrop = -100 # this is DeltaP/Deltax\n",
    "u = -(Pdrop) * d**2 / 2.0 / mu * (x / d - (x / d)**2)\n",
    "plt.plot(x,u,'r--')\n",
    "\n",
    "plt.xlabel('distance between plates')\n",
    "plt.ylabel('fluid velocity')\n",
    "plt.legend(('finite difference', 'analytical soln'));"
   ]
  },
  {
   "cell_type": "markdown",
   "id": "554b5f6d",
   "metadata": {},
   "source": [
    "You can see excellent agreement here between the numerical and analytical solution.\n",
    "\n"
   ]
  },
  {
   "cell_type": "markdown",
   "id": "db419c96",
   "metadata": {},
   "source": [
    "#### Boundary value problem in heat conduction\n",
    "\n"
   ]
  },
  {
   "cell_type": "markdown",
   "id": "0c9c72e6",
   "metadata": {},
   "source": [
    "[Matlab post](http://matlab.cheme.cmu.edu/2011/08/11/boundary-value-problem-in-heat-conduction/)\n",
    "\n",
    "For steady state heat conduction the temperature distribution in one-dimension is governed by the Laplace equation:\n",
    "\n",
    "$$ \\nabla^2 T = 0$$\n",
    "\n",
    "with boundary conditions that at $T(x=a) = T_A$ and $T(x=L) = T_B$.\n",
    "\n",
    "The analytical solution is not difficult here: $T = T_A-\\frac{T_A-T_B}{L}x$, but we will solve this by finite differences.\n",
    "\n",
    "For this problem, lets consider a slab that is defined by x=0 to x=L, with $T(x=0) = 100$, and $T(x=L) = 200$. We want to find the function T(x) inside the slab.\n",
    "\n",
    "We approximate the second derivative by finite differences as\n",
    "\n",
    "$ f''(x) \\approx \\frac{f(x-h) - 2 f(x) + f(x+h)}{h^2} $\n",
    "\n",
    "Since the second derivative in this case is equal to zero, we have at each discretized node $0 = T_{i-1} - 2 T_i + T_{i+1}$. We know the values of $T_{x=0} = \\alpha$ and $T_{x=L} = \\beta$.\n",
    "\n",
    "$$A = \\left [ \\begin{array}{ccccc} %\n",
    " -2         & 1 & 0                    & 0 & 0 \\\\\n",
    "1           & -2& 1 & 0 & 0 \\\\\n",
    "0                    & \\ddots               & \\ddots               & \\ddots & 0 \\\\\n",
    "0                    & 0                    & 1 & -2 & 1 \\\\\n",
    "0                    & 0                    & 0  & 1  & -2  \\end{array} \\right ] $$\n",
    "\n",
    "$$ x = \\left [ \\begin{array}{c} T_1 \\\\ \\vdots \\\\ T_N \\end{array} \\right ] $$\n",
    "\n",
    "$$ b = \\left [ \\begin{array}{c} -T(x=0) \\\\\n",
    "0 \\\\\n",
    "\\vdots \\\\\n",
    "0 \\\\\n",
    "-T(x=L) \\end{array} \\right] $$\n",
    "\n",
    "These are linear equations in the unknowns $x$ that we can easily solve. Here, we evaluate the solution.\n",
    "\n"
   ]
  },
  {
   "cell_type": "code",
   "execution_count": null,
   "id": "a3aab38d",
   "metadata": {},
   "outputs": [],
   "source": [
    "import numpy as np\n",
    "\n",
    "#we use the notation T(x1) = alpha and T(x2) = beta\n",
    "x1 = 0; alpha = 100\n",
    "x2 = 5; beta = 200\n",
    "\n",
    "npoints = 100\n",
    "\n",
    "# preallocate and shape the b vector and A-matrix\n",
    "b = np.zeros((npoints, 1));\n",
    "b[0] = -alpha\n",
    "b[-1] = -beta\n",
    "\n",
    "A = np.zeros((npoints, npoints));\n",
    "\n",
    "#now we populate the A-matrix and b vector elements\n",
    "for i in range(npoints ):\n",
    "    for j in range(npoints):\n",
    "        if j == i: # the diagonal\n",
    "            A[i,j] = -2\n",
    "        elif j == i - 1: # left of the diagonal\n",
    "            A[i,j] = 1\n",
    "        elif j == i + 1: # right of the diagonal\n",
    "            A[i,j] = 1\n",
    "\n",
    "# solve the equations A*y = b for Y\n",
    "Y = np.linalg.solve(A,b)\n",
    "\n",
    "x = np.linspace(x1, x2, npoints + 2)\n",
    "y = np.hstack([alpha, Y[:,0], beta])\n",
    "\n",
    "import matplotlib.pyplot as plt\n",
    "\n",
    "plt.plot(x, y)\n",
    "\n",
    "plt.plot(x, alpha + (beta - alpha)/(x2 - x1) * x, 'r--')\n",
    "\n",
    "plt.xlabel('X')\n",
    "plt.ylabel('T(X)')\n",
    "plt.legend(('finite difference', 'analytical soln'), loc='best');"
   ]
  },
  {
   "cell_type": "markdown",
   "id": "8b16359a",
   "metadata": {},
   "source": [
    "#### A nonlinear BVP\n",
    "\n"
   ]
  },
  {
   "cell_type": "markdown",
   "id": "6dad32db",
   "metadata": {},
   "source": [
    "[PDE!nonlinear](PDE!nonlinear)\n",
    "Adapted from Example 8.7 in <u>Numerical Methods in Engineering with Python</u> by Jaan Kiusalaas.\n",
    "\n",
    "We want to solve $y''(x) = -3 y(x) y'(x)$ with $y(0) = 0 and $y(2) = 1$ using a finite difference method. We discretize the region and approximate the derivatives as:\n",
    "\n",
    "$y''(x) \\approx \\frac{y_{i-1} - 2 y_i + y_{i+1}}{h^2} $\n",
    "\n",
    "$y'(x) \\approx \\frac{y_{i+1} - y_{i-1}}{2 h} $\n",
    "\n",
    "We define a function $y''(x) = F(x, y, y')$. At each node in our discretized region, we will have an equation that looks like $y''(x) - F(x, y, y') = 0$, which will be nonlinear in the unknown solution $y$. The set of equations to solve is:\n",
    "\n",
    "\\begin{eqnarray}\n",
    "y_0 - \\alpha &=& 0 \\\\\n",
    "\\frac{y_{i-1} - 2 y_i + y_{i+1}}{h^2} + (3 y_i) (\\frac{y_{i+1} - y_{i-1}}{2 h}) &=& 0 \\\\\n",
    "y_L - \\beta &=&0\n",
    "\\end{eqnarray}\n",
    "\n",
    "Since we use a nonlinear solver, we will have to provide an initial guess to the solution. We will in this case assume a line. In other cases, a bad initial guess may lead to no solution.\n",
    "\n"
   ]
  },
  {
   "cell_type": "code",
   "execution_count": null,
   "id": "9ea09e46",
   "metadata": {},
   "outputs": [],
   "source": [
    "import numpy as np\n",
    "from scipy.optimize import fsolve\n",
    "import matplotlib.pyplot as plt\n",
    "\n",
    "x1 = 0.0\n",
    "x2 = 2.0\n",
    "\n",
    "alpha = 0.0\n",
    "beta = 1.0\n",
    "\n",
    "N = 11\n",
    "X = np.linspace(x1, x2, N)\n",
    "h = (x2 - x1) / (N - 1)\n",
    "\n",
    "def Ypp(x, y, yprime):\n",
    "    '''define y'' = 3*y*y' '''\n",
    "    return -3.0 * y * yprime\n",
    "\n",
    "def residuals(y):\n",
    "    '''When we have the right values of y, this function will be zero.'''\n",
    "\n",
    "    res = np.zeros(y.shape)\n",
    "\n",
    "    res[0] = y[0] - alpha\n",
    "\n",
    "    for i in range(1, N - 1):\n",
    "        x = X[i]\n",
    "        YPP = (y[i - 1] - 2 * y[i] + y[i + 1]) / h**2\n",
    "        YP = (y[i + 1] - y[i - 1]) / (2 * h)\n",
    "        res[i] = YPP - Ypp(x, y[i], YP)\n",
    "\n",
    "    res[-1] = y[-1] - beta\n",
    "    return res\n",
    "\n",
    "# we need an initial guess\n",
    "init = alpha + (beta - alpha) / (x2 - x1) * X\n",
    "\n",
    "Y = fsolve(residuals, init)\n",
    "\n",
    "plt.plot(X, Y);"
   ]
  },
  {
   "cell_type": "markdown",
   "id": "9e68d74c",
   "metadata": {},
   "source": [
    "### Partial differential equations\n",
    "\n"
   ]
  },
  {
   "cell_type": "markdown",
   "id": "11b8f833",
   "metadata": {},
   "source": [
    "#### Modeling a transient plug flow reactor\n",
    "\n"
   ]
  },
  {
   "cell_type": "markdown",
   "id": "b765c5b5",
   "metadata": {},
   "source": [
    "[Matlab post](http://matlab.cheme.cmu.edu/2011/11/17/modeling-a-transient-plug-flow-reactor)\n",
    "\n",
    "The PDE that describes the transient behavior of a plug flow reactor with constant volumetric flow rate is:\n",
    "\n",
    "$ \\frac{\\partial C_A}{\\partial dt} = -\\nu_0 \\frac{\\partial C_A}{\\partial dV} + r_A $.\n",
    "\n",
    "To solve this numerically in python, we will utilize the method of lines. The idea is to discretize the reactor in volume, and approximate the spatial derivatives by finite differences. Then we will have a set of coupled ordinary differential equations that can be solved in the usual way. Let us simplify the notation with $C = C_A$, and let $r_A = -k C^2$. Graphically this looks like this:\n",
    "\n",
    "![img](./images/pde-method-of-lines.png)\n",
    "\n",
    "This leads to the following set of equations:\n",
    "\n",
    "\\begin{eqnarray}\n",
    "\\frac{dC_0}{dt} &=& 0 \\text{ (entrance concentration never changes)} \\\\\n",
    "\\frac{dC_1}{dt} &=& -\\nu_0 \\frac{C_1 - C_0}{V_1 - V_0} - k C_1^2 \\\\\n",
    "\\frac{dC_2}{dt} &=& -\\nu_0 \\frac{C_2 - C_1}{V_2 - V_1} - k C_2^2 \\\\\n",
    "\\vdots \\\\\n",
    "\\frac{dC_4}{dt} &=& -\\nu_0 \\frac{C_4 - C_3}{V_4 - V_3} - k C_4^2\n",
    "\\end{eqnarray}\n",
    "\n",
    "Last, we need initial conditions for all the nodes in the discretization. Let us assume the reactor was full of empty solvent, so that $C_i = 0$ at $t=0$. In the next block of code, we get the transient solutions, and the steady state solution.\n",
    "\n"
   ]
  },
  {
   "cell_type": "code",
   "execution_count": null,
   "id": "88e54fd8",
   "metadata": {},
   "outputs": [],
   "source": [
    "import numpy as np\n",
    "from scipy.integrate import odeint\n",
    "\n",
    "Ca0 = 2     # Entering concentration\n",
    "vo = 2      # volumetric flow rate\n",
    "volume = 20 # total volume of reactor, spacetime = 10\n",
    "k = 1       # reaction rate constant\n",
    "\n",
    "N = 100     # number of points to discretize the reactor volume on\n",
    "\n",
    "init = np.zeros(N)    # Concentration in reactor at t = 0\n",
    "init[0] = Ca0         # concentration at entrance\n",
    "\n",
    "V = np.linspace(0, volume, N) # discretized volume elements\n",
    "tspan = np.linspace(0, 25)    # time span to integrate over\n",
    "\n",
    "def method_of_lines(C, t):\n",
    "    'coupled ODES at each node point'\n",
    "    D = -vo * np.diff(C) / np.diff(V) - k * C[1:]**2\n",
    "    return np.concatenate([[0], #C0 is constant at entrance\n",
    "                            D])\n",
    "\n",
    "sol = odeint(method_of_lines, init, tspan)\n",
    "\n",
    "# steady state solution\n",
    "def pfr(C, V):\n",
    "    return 1.0 / vo * (-k * C**2)\n",
    "\n",
    "ssol = odeint(pfr, Ca0, V)"
   ]
  },
  {
   "cell_type": "markdown",
   "id": "131ddc2a",
   "metadata": {},
   "source": [
    "The transient solution contains the time dependent behavior of each node in the discretized reactor. Each row contains the concentration as a function of volume at a specific time point. For example, we can plot the concentration of A at the exit vs. time (that is, the last entry of each row) as:\n",
    "\n"
   ]
  },
  {
   "cell_type": "code",
   "execution_count": null,
   "id": "0659ac05",
   "metadata": {},
   "outputs": [],
   "source": [
    "import matplotlib.pyplot as plt\n",
    "plt.plot(tspan, sol[:, -1])\n",
    "plt.xlabel('time')\n",
    "plt.ylabel('$C_A$ at exit');"
   ]
  },
  {
   "cell_type": "markdown",
   "id": "b5f4f050",
   "metadata": {},
   "source": [
    "After approximately one space time, the steady state solution is reached at the exit. For completeness, we also examine the steady state solution.\n",
    "\n"
   ]
  },
  {
   "cell_type": "code",
   "execution_count": null,
   "id": "48abd145",
   "metadata": {},
   "outputs": [],
   "source": [
    "plt.figure()\n",
    "plt.plot(V, ssol, label='Steady state')\n",
    "plt.plot(V, sol[-1], label='t = {}'.format(tspan[-1]))\n",
    "plt.xlabel('Volume')\n",
    "plt.ylabel('$C_A$')\n",
    "plt.legend(loc='best');"
   ]
  },
  {
   "cell_type": "markdown",
   "id": "a18ed3d8",
   "metadata": {},
   "source": [
    "There is some minor disagreement between the final transient solution and the steady state solution. That is due to the approximation in discretizing the reactor volume. In this example we used 100 nodes. You get better agreement with a larger number of nodes, say 200 or more. Of course, it takes slightly longer to compute then, since the number of coupled odes is equal to the number of nodes.\n",
    "\n",
    "We can also create an animated gif to show how the concentration of A throughout the reactor varies with time. Note, I had to install ffmpeg ([http://ffmpeg.org/](http://ffmpeg.org/)) to save the animation.\n",
    "\n"
   ]
  },
  {
   "cell_type": "code",
   "execution_count": null,
   "id": "cf153a6d",
   "metadata": {},
   "outputs": [],
   "source": [
    "from matplotlib import animation\n",
    "\n",
    "# make empty figure\n",
    "fig = plt.figure()\n",
    "ax = plt.axes(xlim=(0, 20), ylim=(0, 2))\n",
    "line, = ax.plot(V, init, lw=2)\n",
    "\n",
    "def animate(i):\n",
    "    line.set_xdata(V)\n",
    "    line.set_ydata(sol[i])\n",
    "    ax.set_title('t = {0}'.format(tspan[i]))\n",
    "    ax.figure.canvas.draw()\n",
    "    return line,\n",
    "\n",
    "\n",
    "anim = animation.FuncAnimation(fig, animate, frames=50,  blit=True)\n",
    "\n",
    "anim.save('images/transient_pfr.mp4', fps=10)"
   ]
  },
  {
   "cell_type": "markdown",
   "id": "524df781",
   "metadata": {},
   "source": [
    "You can see from the animation that after about 10 time units, the solution is not changing further, suggesting steady state has been reached.\n",
    "\n"
   ]
  },
  {
   "cell_type": "markdown",
   "id": "22e96499",
   "metadata": {},
   "source": [
    "#### Transient heat conduction - partial differential equations\n",
    "\n"
   ]
  },
  {
   "cell_type": "markdown",
   "id": "5a2d3dbd",
   "metadata": {},
   "source": [
    "[Matlab post](http://matlab.cheme.cmu.edu/2011/08/21/transient-heat-conduction-partial-differential-equations/)\n",
    "adapated from [http://msemac.redwoods.edu/~darnold/math55/DEproj/sp02/AbeRichards/slideshowdefinal.pdf](http://msemac.redwoods.edu/~darnold/math55/DEproj/sp02/AbeRichards/slideshowdefinal.pdf)\n",
    "[PDE!method of lines](PDE!method of lines)\n",
    "\n",
    "We solved a steady state BVP modeling heat conduction. Today we examine the transient behavior of a rod at constant T put between two heat reservoirs at different temperatures, again T1 = 100, and T2 = 200. The rod will start at 150. Over time, we should expect a solution that approaches the steady state solution: a linear temperature profile from one side of the rod to the other.\n",
    "\n",
    "$\\frac{\\partial u}{\\partial t} = k \\frac{\\partial^2 u}{\\partial x^2}$\n",
    "\n",
    "at $t=0$, in this example we have $u_0(x) = 150$ as an initial condition. with boundary conditions $u(0,t)=100$ and $u(L,t)=200$.\n",
    "\n",
    "In Matlab there is the pdepe command. There is not yet a PDE solver in scipy. Instead, we will utilze the method of lines to solve this problem. We discretize the rod into segments, and approximate the second derivative in the spatial dimension as $\\frac{\\partial^2 u}{\\partial x^2} = (u(x + h) - 2 u(x) + u(x-h))/ h^2$ at each node. This leads to a set of coupled ordinary differential equations that is easy to solve.\n",
    "\n",
    "Let us say the rod has a length of 1, $k=0.02$, and solve for the time-dependent temperature profiles.\n",
    "\n"
   ]
  },
  {
   "cell_type": "code",
   "execution_count": null,
   "id": "b0358013",
   "metadata": {},
   "outputs": [],
   "source": [
    "import numpy as np\n",
    "from scipy.integrate import odeint\n",
    "import matplotlib.pyplot as plt\n",
    "\n",
    "N = 100  # number of points to discretize\n",
    "L = 1.0\n",
    "X = np.linspace(0, L, N) # position along the rod\n",
    "h = L / (N - 1)\n",
    "\n",
    "k = 0.02\n",
    "\n",
    "def odefunc(u, t):\n",
    "    dudt = np.zeros(X.shape)\n",
    "\n",
    "    dudt[0] = 0 # constant at boundary condition\n",
    "    dudt[-1] = 0\n",
    "\n",
    "    # now for the internal nodes\n",
    "    for i in range(1, N-1):\n",
    "        dudt[i] = k * (u[i + 1] - 2*u[i] + u[i - 1]) / h**2\n",
    "\n",
    "    return dudt\n",
    "\n",
    "init = 150.0 * np.ones(X.shape) # initial temperature\n",
    "init[0] = 100.0  # one boundary condition\n",
    "init[-1] = 200.0 # the other boundary condition\n",
    "\n",
    "tspan = np.linspace(0.0, 5.0, 100)\n",
    "sol = odeint(odefunc, init, tspan)\n",
    "\n",
    "\n",
    "for i in range(0, len(tspan), 5):\n",
    "    plt.plot(X, sol[i], label='t={0:1.2f}'.format(tspan[i]))\n",
    "\n",
    "# put legend outside the figure\n",
    "plt.legend(loc='center left', bbox_to_anchor=(1, 0.5))\n",
    "plt.xlabel('X position')\n",
    "plt.ylabel('Temperature')\n",
    "\n",
    "# adjust figure edges so the legend is in the figure\n",
    "plt.subplots_adjust(top=0.89, right=0.77)"
   ]
  },
  {
   "cell_type": "code",
   "execution_count": null,
   "id": "10b0b8ac",
   "metadata": {},
   "outputs": [],
   "source": [
    "# Make a 3d figure\n",
    "fig = plt.figure()\n",
    "ax = fig.add_subplot(111, projection='3d')\n",
    "\n",
    "SX, ST = np.meshgrid(X, tspan)\n",
    "ax.plot_surface(SX, ST, sol, cmap='jet')\n",
    "ax.set_xlabel('X')\n",
    "ax.set_ylabel('time')\n",
    "ax.set_zlabel('T')\n",
    "ax.view_init(elev=15, azim=-124) # adjust view so it is easy to see;"
   ]
  },
  {
   "cell_type": "markdown",
   "id": "4a0039b7",
   "metadata": {},
   "source": [
    "This version of the graphical solution is not that easy to read, although with some study you can see the solution evolves from the initial condition which is flat, to the steady state solution which is a linear temperature ramp.\n",
    "\n",
    "The 3d version may be easier to interpret. The temperature profile starts out flat, and gradually changes to the linear ramp.\n",
    "\n"
   ]
  },
  {
   "cell_type": "markdown",
   "id": "d19e4b7c",
   "metadata": {},
   "source": [
    "#### Transient diffusion - partial differential equations\n",
    "\n"
   ]
  },
  {
   "cell_type": "markdown",
   "id": "5270263a",
   "metadata": {},
   "source": [
    "[pde](pde)\n",
    "We want to solve for the concentration profile of  component that diffuses into a 1D rod, with an impermeable barrier at the end. The PDE governing this situation is:\n",
    "\n",
    "$\\frac{\\partial C}{\\partial t} = D \\frac{\\partial^2 C}{\\partial x^2}$\n",
    "\n",
    "at $t=0$, in this example we have $C_0(x) = 0$ as an initial condition, with boundary conditions $C(0,t)=0.1$ and $\\partial C/ \\partial x(L,t)=0$.\n",
    "\n",
    "We are going to discretize this equation in both time and space to arrive at the solution. We will let $i$ be the index for the spatial discretization, and $j$ be the index for the temporal discretization. The discretization looks like this.\n",
    "\n",
    "![img](./images/pde-diffusion-discretization-scheme.png)\n",
    "\n",
    "Note that we cannot use the method of lines as we did before because we have the derivative-based boundary condition at one of the boundaries.\n",
    "\n",
    "We approximate the time derivative as:\n",
    "\n",
    "$\\frac{\\partial C}{\\partial t} \\bigg| _{i,j} \\approx \\frac{C_{i,j+1} - C_{i,j}}{\\Delta t} $\n",
    "\n",
    "$\\frac{\\partial^2 C}{\\partial  x^2} \\bigg| _{i,j} \\approx \\frac{C_{i+1,j} - 2 C_{i,j} + C_{i-1,j}}{h^2} $\n",
    "\n",
    "We define $\\alpha = \\frac{D \\Delta t}{h^2}$, and from these two approximations and the PDE, we solve for the unknown solution at a later time step as:\n",
    "\n",
    "$C_{i, j+1} = \\alpha C_{i+1,j} + (1 - 2 \\alpha) C_{i,j}  + \\alpha C_{i-1,j} $\n",
    "\n",
    "We know $C_{i,j=0}$ from the initial conditions, so we simply need to iterate to evaluate $C_{i,j}$, which is the solution at each time step.\n",
    "\n",
    "See also: [http://www3.nd.edu/~jjwteach/441/PdfNotes/lecture16.pdf](http://www3.nd.edu/~jjwteach/441/PdfNotes/lecture16.pdf)\n",
    "\n"
   ]
  },
  {
   "cell_type": "code",
   "execution_count": null,
   "id": "7452dcb6",
   "metadata": {},
   "outputs": [],
   "source": [
    "import numpy as np\n",
    "import matplotlib.pyplot as plt\n",
    "\n",
    "N = 20  # number of points to discretize\n",
    "L = 1.0\n",
    "X = np.linspace(0, L, N) # position along the rod\n",
    "h = L / (N - 1)          # discretization spacing\n",
    "\n",
    "C0t = 0.1  # concentration at x = 0\n",
    "D = 0.02\n",
    "\n",
    "tfinal = 50.0\n",
    "Ntsteps = 1000\n",
    "dt = tfinal / (Ntsteps - 1)\n",
    "t = np.linspace(0, tfinal, Ntsteps)\n",
    "\n",
    "alpha = D * dt / h**2\n",
    "print(alpha)\n",
    "\n",
    "C_xt = [] # container for all the time steps\n",
    "\n",
    "# initial condition at t = 0\n",
    "C = np.zeros(X.shape)\n",
    "C[0] = C0t\n",
    "\n",
    "C_xt += [C]\n",
    "\n",
    "for j in range(1, Ntsteps):\n",
    "    N = np.zeros(C.shape)\n",
    "    N[0] =  C0t\n",
    "    N[1:-1] = alpha*C[2:] + (1 - 2 * alpha) * C[1:-1] + alpha * C[0:-2]\n",
    "    N[-1] = N[-2]  # derivative boundary condition flux = 0\n",
    "    C[:] = N\n",
    "    C_xt += [N]\n",
    "\n",
    "    # plot selective solutions\n",
    "    if j in [1,2,5,10,20,50,100,200,500]:\n",
    "        plt.plot(X, N, label='t={0:1.2f}'.format(t[j]))\n",
    "\n",
    "plt.xlabel('Position in rod')\n",
    "plt.ylabel('Concentration')\n",
    "plt.title('Concentration at different times')\n",
    "plt.legend(loc='best')\n",
    "\n",
    "C_xt = np.array(C_xt)\n",
    "plt.figure()\n",
    "plt.plot(t, C_xt[:,5], label='x={0:1.2f}'.format(X[5]))\n",
    "plt.plot(t, C_xt[:,10], label='x={0:1.2f}'.format(X[10]))\n",
    "plt.plot(t, C_xt[:,15], label='x={0:1.2f}'.format(X[15]))\n",
    "plt.plot(t, C_xt[:,19], label='x={0:1.2f}'.format(X[19]))\n",
    "plt.legend(loc='best')\n",
    "plt.xlabel('Time')\n",
    "plt.ylabel('Concentration');"
   ]
  },
  {
   "cell_type": "markdown",
   "id": "7c499a82",
   "metadata": {},
   "source": [
    "The solution is somewhat sensitive to the choices of time step and spatial discretization. If you make the time step too big, the method is not stable, and large oscillations may occur.\n",
    "\n"
   ]
  }
 ],
 "metadata": {
  "kernelspec": {
   "display_name": "Python 3",
   "language": "python",
   "name": "python3"
  }
 },
 "nbformat": 4,
 "nbformat_minor": 5
}