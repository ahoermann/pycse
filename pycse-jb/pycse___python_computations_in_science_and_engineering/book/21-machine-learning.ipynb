{
 "cells": [
  {
   "cell_type": "markdown",
   "id": "b24f0876",
   "metadata": {},
   "source": [
    "# Introduction to machine learning\n",
    "\n",
    "- KEYWORDS: autograd\n"
   ]
  },
  {
   "cell_type": "markdown",
   "id": "9c5e7db2",
   "metadata": {},
   "source": [
    "## Flexible nonlinear models for regression\n",
    "\n"
   ]
  },
  {
   "cell_type": "markdown",
   "id": "de64db8d",
   "metadata": {},
   "source": [
    "Today we are going to take a meandering path to using autograd to train a neural network for regression. First let us consider this very general looking nonlinear model that we might fit to data. There are 10 parameters in it, so we should expect we can get it to fit some data pretty well.\n",
    "\n",
    "$y = b1 + w10 tanh(w00 x + b00) + w11 tanh(w01 x + b01) + w12 tanh(w02 x + b02)$\n",
    "\n",
    "For now let us not concern ourselves with how we chose this particular model. We will return to the choices later.\n",
    "\n",
    "We will use it to fit data that is generated from $y = x^\\frac{1}{3}$. First, we just do a least\\_squares fit. This function is similar to `scipy.optimize.curve_fit`.\n",
    "\n"
   ]
  },
  {
   "cell_type": "code",
   "execution_count": null,
   "id": "f7d4292c",
   "metadata": {},
   "outputs": [],
   "source": [
    "import autograd.numpy as np\n",
    "from autograd import jacobian\n",
    "\n",
    "from scipy.optimize import least_squares\n",
    "least_squares?"
   ]
  },
  {
   "cell_type": "markdown",
   "id": "0093a41a",
   "metadata": {},
   "source": [
    "Here is the data we are going to work with.\n",
    "\n"
   ]
  },
  {
   "cell_type": "code",
   "execution_count": null,
   "id": "fce94bd1",
   "metadata": {},
   "outputs": [],
   "source": [
    "# Some generated data\n",
    "X = np.linspace(0, 1)\n",
    "Y = X**(1. / 3.)\n",
    "\n",
    "import matplotlib.pyplot as plt\n",
    "plt.plot(X, Y, 'b.')\n",
    "plt.xlabel('x')\n",
    "plt.ylabel('y');"
   ]
  },
  {
   "cell_type": "markdown",
   "id": "707004d8",
   "metadata": {},
   "source": [
    "We have to define a function for our model, and then another one for the residuals. For now, we stick with a syntax we are familiar with, and one that works with `least_squares`.\n",
    "\n"
   ]
  },
  {
   "cell_type": "code",
   "execution_count": null,
   "id": "c072176f",
   "metadata": {},
   "outputs": [],
   "source": [
    "def model(x, *pars):\n",
    "    b1, w10, w00, b00, w11, w01, b01, w12, w02, b02 = pars\n",
    "    pred = (b1 + w10 * np.tanh(w00 * x + b00)\n",
    "               + w11 * np.tanh(w01 * x + b01)\n",
    "               + w12 * np.tanh(w02 * x + b02))\n",
    "    return pred\n",
    "\n",
    "\n",
    "def resid(pars):\n",
    "    return Y - model(X, *pars)"
   ]
  },
  {
   "cell_type": "markdown",
   "id": "8794bbb5",
   "metadata": {},
   "source": [
    "Finally, we call `least_squares` to get the parameters. We have a nonlinear model, and are using a nonlinear optimizer, so we need an initial guess to get started. Here we use normally distributed random numbers for the guess.\n",
    "\n"
   ]
  },
  {
   "cell_type": "code",
   "execution_count": null,
   "id": "c803d1ef",
   "metadata": {},
   "outputs": [],
   "source": [
    "np.random.randn?"
   ]
  },
  {
   "cell_type": "code",
   "execution_count": null,
   "id": "9be6fc8e",
   "metadata": {},
   "outputs": [],
   "source": [
    "pars = least_squares(resid, x0=np.random.randn(10) * 0.1)\n",
    "pars.message"
   ]
  },
  {
   "cell_type": "code",
   "execution_count": null,
   "id": "c0efbe6b",
   "metadata": {},
   "outputs": [],
   "source": [
    "pars"
   ]
  },
  {
   "cell_type": "markdown",
   "id": "a8cc261e",
   "metadata": {},
   "source": [
    "At first, that looks bad, like we did not succeed. The cost function is small though:\n",
    "\n"
   ]
  },
  {
   "cell_type": "code",
   "execution_count": null,
   "id": "527787b3",
   "metadata": {},
   "outputs": [],
   "source": [
    "pars.cost"
   ]
  },
  {
   "cell_type": "markdown",
   "id": "afba9a4e",
   "metadata": {},
   "source": [
    "Also, it looks like the gradients at the end-point are all close to zero.\n",
    "\n"
   ]
  },
  {
   "cell_type": "code",
   "execution_count": null,
   "id": "ec9a3467",
   "metadata": {},
   "outputs": [],
   "source": [
    "np.set_printoptions(precision=3, suppress=True)\n",
    "pars.grad"
   ]
  },
  {
   "cell_type": "markdown",
   "id": "581456b6",
   "metadata": {},
   "source": [
    "Finally, we can see that although our model is not positive definite at the endpoint, the non-zero eigenvalues are greater than zero.\n",
    "\n"
   ]
  },
  {
   "cell_type": "code",
   "execution_count": null,
   "id": "9b848ec9",
   "metadata": {},
   "outputs": [],
   "source": [
    "from autograd import hessian\n",
    "def sse(params):\n",
    "    return np.sum(resid(params)**2)\n",
    "H = hessian(sse)\n",
    "np.linalg.eigvals(H(pars.x))"
   ]
  },
  {
   "cell_type": "markdown",
   "id": "61438688",
   "metadata": {},
   "source": [
    "The zeros suggest our model is too complex, that it has more parameters than are required. We leave this point for future consideration. Also note that the Hessian is singular:\n",
    "\n"
   ]
  },
  {
   "cell_type": "code",
   "execution_count": null,
   "id": "0898210c",
   "metadata": {},
   "outputs": [],
   "source": [
    "np.linalg.det(H(pars.x))"
   ]
  },
  {
   "cell_type": "markdown",
   "id": "f241aeb8",
   "metadata": {},
   "source": [
    "That means we cannot use any method that requires an inverse Hessian to help with the optimization.\n",
    "\n",
    "Finally, we can graphically show that this model works ok.\n",
    "\n"
   ]
  },
  {
   "cell_type": "code",
   "execution_count": null,
   "id": "b29c0133",
   "metadata": {},
   "outputs": [],
   "source": [
    "plt.plot(X, Y, 'b.', X, model(X, *pars.x))\n",
    "plt.legend(['data', 'fit']);\n",
    "plt.xlabel('x')\n",
    "plt.ylabel('y');"
   ]
  },
  {
   "cell_type": "markdown",
   "id": "adb23ed6",
   "metadata": {},
   "source": [
    "Evidently, we just have not reached the required tolerances for least\\_squares to claim success.\n",
    "\n",
    "Let's inspect the parameter values. They vary by some orders of magnitude, and surprisingly are all negative.\n",
    "\n",
    "**Exercise** Run this sequence several times with new initializations. You should get equally good fits, but different parameters. These models are not unique. That is one thing many people do not like about machine learning.\n",
    "\n"
   ]
  },
  {
   "cell_type": "code",
   "execution_count": null,
   "id": "97c9f1d9",
   "metadata": {},
   "outputs": [],
   "source": [
    "pars.x"
   ]
  },
  {
   "cell_type": "code",
   "execution_count": null,
   "id": "37d193e5",
   "metadata": {},
   "outputs": [],
   "source": [
    "pars.x"
   ]
  },
  {
   "cell_type": "markdown",
   "id": "657ffcf0",
   "metadata": {},
   "source": [
    "We have fitted a nonlinear model to the data, and so we should not expect it to extrapolate reliably. We can show this is the case explicitly:\n",
    "\n"
   ]
  },
  {
   "cell_type": "code",
   "execution_count": null,
   "id": "aefed1a2",
   "metadata": {},
   "outputs": [],
   "source": [
    "EX = np.linspace(0, 10)\n",
    "EY = model(EX, *pars.x)\n",
    "DY = EX**(1 / 3)\n",
    "\n",
    "plt.plot(EX, DY, 'b.', EX, EY)\n",
    "plt.legend(['Real function', 'Model'])\n",
    "plt.xlabel('x')\n",
    "plt.ylabel('y');"
   ]
  },
  {
   "cell_type": "markdown",
   "id": "a655c9d9",
   "metadata": {},
   "source": [
    "You can see that this model saturates for large $x$. That might be anticipated from knowledge of the tanh function, it also saturates at large values of $x$.\n",
    "\n"
   ]
  },
  {
   "cell_type": "code",
   "execution_count": null,
   "id": "46590cf6",
   "metadata": {},
   "outputs": [],
   "source": [
    "tx = np.linspace(-5, 5)\n",
    "plt.plot(tx, np.tanh(tx))\n",
    "plt.xlabel('x')\n",
    "plt.ylabel('y');"
   ]
  },
  {
   "cell_type": "markdown",
   "id": "b0dae958",
   "metadata": {},
   "source": [
    "Up to here, this is mostly review for us. It is just a nonlinear regression (admittedly to a strange looking function), and analysis of the resulting model. Note that the model is very flexible, and it can be used to fit a variety of other functions.\n",
    "\n",
    "I did not pull that model out of nowhere. Let's rewrite it in a few steps. If we think of `tanh` as a function that operates element-wise on a vector, we could write that equation more compactly at:\n",
    "\n",
    "                                  [w00 * x + b01]\n",
    "    y = [w10, w11, w12] @ np.tanh([w01 * x + b01]) + b1\n",
    "                                  [w02 * x + b02]\n",
    "\n",
    "We can rewrite this one more time in matrix notation:\n",
    "\n",
    "    y = w1 @ np.tanh(w0 @ x + b0) + b1\n",
    "\n",
    "Another way to read these equations is that we have an input of $x$. We multiply the input by a vector weights ($\\mathbf{w0}$), add a vector of offsets (biases), $\\mathbf{b0}$, *activate* that by the nonlinear `tanh` function, then multiply that by a new set of weights, and add a final bias. We typically call this kind of model a *neural network*. There is an input layer, one hidden layer with 3 neurons that are activated by `tanh`, and one output layer with linear activation.\n",
    "\n",
    "A conventional graphical representation of this function as a neural network is shown here:\n",
    "![nn.png](attachment:nn.png)\n",
    "\n",
    "These models are called neural networks because they were originally modeled after neurons. Neurons take input, and if the input is large enough the neuron is activated and has an output. The `tanh` function approximates this behavior in a smooth, differentiable way. Remarkably, neural networks have been shown to be universal function approximators and hence they are extremely useful.\n",
    "\n",
    "When you use a neural network, you have several choices to make:\n",
    "\n",
    "1.  How many layers? Here we used one layer, but it is possible to have many layers where the output of the first layer goes to the second layer, etc.  This increases the flexibility of the network.\n",
    "2.  How many neurons should be in each layer? The more neurons you use, the more parameters there will be. This increases the flexibility of the network.\n",
    "3.  What activation function to use. The classics are tanh and sigmoid functions, but almost any nonlinear function can be used.\n",
    "\n",
    "In machine learning lingo, these choices are called *hyperparameters*. These are parameters that determine the size of the model, but they are fixed, and not fitted as part of the model. It is mostly *art and experience* that is how these choices are made. There are many advanced methods for doing this more systematically, but they are computationally expensive and beyond the scope of this class.\n",
    "\n"
   ]
  },
  {
   "cell_type": "markdown",
   "id": "9e408968",
   "metadata": {},
   "source": [
    "### Another interpretation of neural networks\n",
    "\n"
   ]
  },
  {
   "cell_type": "markdown",
   "id": "51fcef4a",
   "metadata": {},
   "source": [
    "In this section we consider another interpretation of what a neural network is. We start with a partial Fourier series expansion of a periodic function ([http://mathworld.wolfram.com/FourierSeries.html](http://mathworld.wolfram.com/FourierSeries.html)). This expansion can fit any even periodic function in the infinite limit, and can approximate that function otherwise.\n",
    "\n",
    "$f(x) = \\frac{1}{2} a_0 + \\sum_{n=1}^{\\infty} a_n \\cos(n x)$\n",
    "\n",
    "We use a partial series (leaving out the sin terms) just for simplicity of notation here. Next, we write this in a vector form. In the Fourier series, the $a_n$ have formal definitions: $a_n = \\int_{-\\pi}^{\\pi} f(x) cos(n x) dx$.  Let $\\mathbf{a} = [a_0, a_1, a_2, ..., a_n]$, and $\\mathbf{n} = [1, 2, .., n]$ Then, we can replace the sum as $\\mathbf{a} \\cdot \\cos(\\mathbf{n} x)$. We can for now imagine that $n$ could go to $\\infty$, but it is not critical; if we truncate the expansion, then we just have an approximate expansion.\n",
    "\n",
    "To get to a neural network, we relax a few things. First, we let $n$ take on continuous values that are determined by fitting, not just integer values. Second, we let $a_n$ become a fitting parameter, rather than computing it from the definition. Third, we allow other functions than $\\cos$ to \"activate\" the layers. In this sense, we can see that a single layer neural network is like an expansion in a basis set of the activation functions, with a more flexible definition of their form.\n",
    "\n",
    "A network can have multiple layers, and we interpret these as a composition of functions, e.g. f(g(x)), where the second layer serves to nonlinearly transform the output of the first layer.  Thus, \"deep learning\" provides a nonlinear transform of your input space to a new space with different dimensionality where the output is linear in this new space.\n",
    "\n"
   ]
  },
  {
   "cell_type": "markdown",
   "id": "3702dc55",
   "metadata": {},
   "source": [
    "## Modern machine learning with neural networks\n",
    "\n"
   ]
  },
  {
   "cell_type": "markdown",
   "id": "fd40abc7",
   "metadata": {},
   "source": [
    "Modern machine learning does not use the algorithms described above to fit neural networks. Most use a gradient descent based algorithm, which means we need easy access to gradient functions. The standard approaches use automatic differentiation to get these. Autograd was designed in part for building neural networks. Now we will  reformulate this regression as a neural network. This code is lightly adapted from [https://github.com/HIPS/autograd/blob/master/examples/neural_net_regression.py](https://github.com/HIPS/autograd/blob/master/examples/neural_net_regression.py).\n",
    "\n",
    "First we define a neural network function. This code is more general than what we described before, and can accommodate multiple layers.\n",
    "\n"
   ]
  },
  {
   "cell_type": "code",
   "execution_count": null,
   "id": "605f48e3",
   "metadata": {},
   "outputs": [],
   "source": [
    "def nn(params, inputs, activation=np.tanh):\n",
    "    \"\"\"a neural network.\n",
    "    params is a list of (weights, bias) for each layer.\n",
    "    inputs goes into the nn. Each row corresponds to one output label.\n",
    "    activation is the nonlinear activation function.\n",
    "    \"\"\"\n",
    "    for W, b in params[:-1]:\n",
    "        outputs = np.dot(inputs, W) + b\n",
    "        inputs = activation(outputs)\n",
    "    # no activation on the last layer\n",
    "    W, b = params[-1]\n",
    "    return np.dot(inputs, W) + b"
   ]
  },
  {
   "cell_type": "markdown",
   "id": "a8898697",
   "metadata": {},
   "source": [
    "The next function initializes the weights and biases for each layer in our network. It is standard practice to initialize them to small random numbers to avoid any unintentional symmetries that might occur from a systematic initialization (e.g. all ones or zeros). This code is kind of tricky, but it is very convenient. The size of the arrays are computable. For example, we have one input into a 3 neuron layer, which requires an array of three weights and three biases. Then these get combined back into one output, so we need  again three weights, but now only one bias. In a matrix multiply sense we have: (N, 1) @ (1, 3) @ (3, 1) = (N, 1). This function just automates building this even when there are multiple layers, inputs and outputs.\n",
    "\n"
   ]
  },
  {
   "cell_type": "code",
   "execution_count": null,
   "id": "d0a2e4f1",
   "metadata": {},
   "outputs": [],
   "source": [
    "import autograd.numpy.random as npr\n",
    "\n",
    "def init_random_params(scale, layer_sizes, rs=npr.RandomState(0)):\n",
    "    \"\"\"Build a list of (weights, biases) tuples, one for each layer.\"\"\"\n",
    "    return [(rs.randn(insize, outsize) * scale,   # weight matrix\n",
    "             rs.randn(outsize) * scale)           # bias vector\n",
    "            for insize, outsize in zip(layer_sizes[:-1], layer_sizes[1:])]"
   ]
  },
  {
   "cell_type": "markdown",
   "id": "0751f5b1",
   "metadata": {},
   "source": [
    "To use this, we specify the layer\\_sizes, e.g. layer\\_sizes=[1, 3, 1] which means one input, 3 neurons in the first layer, and one output.\n",
    "\n"
   ]
  },
  {
   "cell_type": "code",
   "execution_count": null,
   "id": "7d2fa627",
   "metadata": {},
   "outputs": [],
   "source": [
    "params = init_random_params(0.1, layer_sizes=[1, 3, 1])\n",
    "for i, wb in enumerate(params):\n",
    "    W, b = wb\n",
    "    print('w{0}: {1}, b{0}: {2}'.format(i, W.shape, b.shape))\n",
    "\n",
    "print(params)"
   ]
  },
  {
   "cell_type": "markdown",
   "id": "e909ecbc",
   "metadata": {},
   "source": [
    "You can see w0 is a column vector of weights, and there are three biases in b0. W1 in contrast, is a row vector of weights, with one bias. So 10 parameters in total, like we had before. We will create an objective function of the mean squared error again. There is a subtle point here too. The input data will go in with a specific shape of (N, 1) where N is the number of x-points. Our input is from `np.linspace` as a 1D array. So, we build a 2D array with the 1D array as the first row, and then transpose it to get it into a column.\n",
    "\n",
    "Another subtle detail is the objective function has an optional step argument. We will see shortly this is a required argument for the optimizer algorithm.\n",
    "\n"
   ]
  },
  {
   "cell_type": "code",
   "execution_count": null,
   "id": "fd0811be",
   "metadata": {},
   "outputs": [],
   "source": [
    "def objective(params, step=None):\n",
    "    pred = nn(params, np.array([X]).T)\n",
    "    err = np.array([Y]).T - pred\n",
    "    return np.mean(err**2)"
   ]
  },
  {
   "cell_type": "markdown",
   "id": "555a619d",
   "metadata": {},
   "source": [
    "Finally, we are ready to do some optimization. We use the [Adam optimizer](https://machinelearningmastery.com/adam-optimization-algorithm-for-deep-learning/). The details are not super important at this point, suffice to say it is a gradient descent algorithm. We use `autograd.grad` to provide that gradient of the objective function. One more important point here is the `step_size` argument. This is sometimes also called the *learning rate* in ML jargon. This parameter determines how fast the optimization converges. If it is too small, the rate of convergence is slow. If it is too large, then the convergence may not be stable. This is another *hyperparameter* that affects the model.\n",
    "\n",
    "We do the training iteratively, taking N steps per iteration. If you run this set of blocks many times, you will get different results from different random initial guesses. Sometimes, the optimization can get trapped in local minima. It takes experience to recognize and diagnose problems with these.\n",
    "\n"
   ]
  },
  {
   "cell_type": "code",
   "execution_count": null,
   "id": "d1e830d2",
   "metadata": {},
   "outputs": [],
   "source": [
    "from autograd.misc.optimizers import adam\n",
    "from autograd import grad\n",
    "\n",
    "N = 50\n",
    "MAX_EPOCHS = 500\n",
    "\n",
    "for i in range(MAX_EPOCHS):\n",
    "    params = adam(grad(objective), params,\n",
    "                  step_size=0.01, num_iters=N)\n",
    "    if i % 100 == 0:  # print every 100th step\n",
    "        print(f'Step {i}: {objective(params)}')\n",
    "    if objective(params, _) < 2e-5:\n",
    "        print(f'Tolerance reached at epoch {i}, stopping')\n",
    "        break"
   ]
  },
  {
   "cell_type": "markdown",
   "id": "39edf896",
   "metadata": {},
   "source": [
    "Now we can compare the output of this to our previous fit.\n",
    "\n"
   ]
  },
  {
   "cell_type": "code",
   "execution_count": null,
   "id": "60aba12e",
   "metadata": {},
   "outputs": [],
   "source": [
    "for i, wb in enumerate(params):\n",
    "    W, b = wb\n",
    "    print('w{0}: {1}, b{0}: {2}'.format(i, W, b))\n",
    "print(pars.x)  # from least_squares"
   ]
  },
  {
   "cell_type": "markdown",
   "id": "f2b4d90b",
   "metadata": {},
   "source": [
    "A crucial point is they don't appear related at all. They aren't. There are many sets of parameters that lead to similar fits. These parameters don't have any particular meaning. This is another thing some researchers do not like about neural networks. They are usually not interpretable as physical parameters.\n",
    "\n",
    "As before, this model cannot extrapolate (or generalize as ML researchers say). That is because the activation functions all saturate to a constant value. The network **does not learn** anything but a representation of the data in the region the regression is done.\n",
    "\n"
   ]
  },
  {
   "cell_type": "code",
   "execution_count": null,
   "id": "90383306",
   "metadata": {},
   "outputs": [],
   "source": [
    "X2 = np.linspace(0, 10)\n",
    "Y2 = X2**(1/3)\n",
    "Z2 = nn(params, X2.reshape([-1, 1]))\n",
    "\n",
    "plt.plot(X2, Y2, 'b.', label='analytical')\n",
    "plt.plot(X2, Z2, label='NN')\n",
    "plt.fill_between(X2 < 1, 0, 1.4, facecolor='gray', alpha=0.5)\n",
    "plt.xlabel('x')\n",
    "plt.ylabel('y');"
   ]
  },
  {
   "cell_type": "markdown",
   "id": "bcc0eb66",
   "metadata": {},
   "source": [
    "## Summary\n",
    "\n"
   ]
  },
  {
   "cell_type": "markdown",
   "id": "4f6d77e0",
   "metadata": {
    "lines_to_next_cell": 2
   },
   "source": [
    "Today we pulled together many ideas about nonlinear models, regression, and optimization as an introduction to modern machine learning. ML is little more than building computational models from data. It is usually using flexible, universal function approximators, e.g. neural networks, and all modern ML relies on automatic differentiation to do the regression.\n",
    "\n",
    "ML code is much more verbose than the simpler regression models we used previously. There is often data scaling that is done in advance, and *regularization* that is used to reduce overfitting. There are whole courses and now degrees on these topics. You are now at a starting point to study these topics.\n",
    "\n"
   ]
  }
 ],
 "metadata": {
  "kernelspec": {
   "display_name": "Python 3 (ipykernel)",
   "language": "python",
   "name": "python3"
  }
 },
 "nbformat": 4,
 "nbformat_minor": 5
}