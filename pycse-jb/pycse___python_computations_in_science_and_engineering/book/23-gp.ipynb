{
 "cells": [
  {
   "cell_type": "markdown",
   "metadata": {},
   "source": [
    "# Gaussian Process Regression\n",
    "\n",
    "- KEYWORDS: Gaussian process"
   ]
  },
  {
   "cell_type": "markdown",
   "metadata": {},
   "source": [
    "An alternative approach to data-driven models is Gaussian Process Regression. It is so different from the other kinds of regression we have done so far that we will need to take some time unraveling what it is and how to use it. First we briefly review what we have done so far.\n",
    "\n"
   ]
  },
  {
   "cell_type": "markdown",
   "metadata": {},
   "source": [
    "## Regular regression - models with parameters\n",
    "\n"
   ]
  },
  {
   "cell_type": "markdown",
   "metadata": {},
   "source": [
    "Most of what we have done is use models (e.g. a line, polynomial, exponential, etc.) with parameters in them that we fit to some data. We often can interpret those parameters in meaningful ways, e.g. the slope of the line, or a rate constant, etc. We worked out a way to estimate the uncertainty of the parameters, and it is possible to propagate that uncertainty to predictions of the model.\n",
    "\n"
   ]
  },
  {
   "cell_type": "markdown",
   "metadata": {},
   "source": [
    "## Machine learning regression - flexible models with parameters\n",
    "\n"
   ]
  },
  {
   "cell_type": "markdown",
   "metadata": {},
   "source": [
    "We expanded our thinking of models, and developed a way to build very flexible models that could be nonlinear, and that had a lot of adjustable parameters. These parameters were still found by fitting, e.g. minimizing the summed squared errors, to data. We gave up the interpretability of the parameters in favor of the flexibility to fit the data.\n",
    "\n"
   ]
  },
  {
   "cell_type": "markdown",
   "metadata": {},
   "source": [
    "## Interpolation schemes\n",
    "\n"
   ]
  },
  {
   "cell_type": "markdown",
   "metadata": {},
   "source": [
    "We also considered a few interpolating schemes. In these schemes, you assume some functional form exists between data points, locally fit the data, and then use the local fit to make predictions about intermediate points. Typical functional forms are linear, quadratic or cubic splines.\n",
    "\n"
   ]
  },
  {
   "cell_type": "markdown",
   "metadata": {},
   "source": [
    "## Gaussian process regression (GPR)\n",
    "\n"
   ]
  },
  {
   "cell_type": "markdown",
   "metadata": {},
   "source": [
    "GPR is somewhat intermediate in these ideas: It is like an interpolation scheme in the sense that we will make estimates of new points as weighted sums of known points. The weights, however, will be computed by an assumed model that has some parameters in it that must be fitted. These parameters are usually not directly meaningful though.\n",
    "\n",
    "There is a substantial history and mathematical foundation behind GPR. In this lecture we will take a very practical approach based on some definitions for GPR. This will have the benefit that at the end you will know what it is and how to do it, but not where the definitions come from. That is not necessary to understand what is done, but if you are interested, here are some resources for learning more.\n",
    "\n",
    "Automatic Model Construction with Gaussian Processes - David Duvenaud PhD thesis\n",
    "[https://www.cs.toronto.edu/~duvenaud/thesis.pdf](https://www.cs.toronto.edu/~duvenaud/thesis.pdf)\n",
    "\n",
    "Gaussian Processes for Machine Learning\n",
    "[http://www.gaussianprocess.org/gpml/chapters/RW.pdf](http://www.gaussianprocess.org/gpml/chapters/RW.pdf)\n",
    "\n"
   ]
  },
  {
   "cell_type": "markdown",
   "metadata": {},
   "source": [
    "## GPR by example\n",
    "\n"
   ]
  },
  {
   "cell_type": "markdown",
   "metadata": {},
   "source": [
    "Let's start with a goal, which is given some set of data points $x_i, y_i$ we would like to predict the value of $y*$ at some new point $x*$, and we would like that prediction to have the form of $y* = \\sum_i w_i y_i$. That is we want the predicted value to be a weighted sum of the known points.  The key challenge is how to compute those weights.\n",
    "\n",
    "To motivate why this is a reasonable idea, recall the idea behind Gaussian quadrature for integrals ([https://en.wikipedia.org/wiki/Gaussian_quadrature](https://en.wikipedia.org/wiki/Gaussian_quadrature)): we can compute the value of an integral as the weighted sum of a few special points. The integral is a kind of function, and surely if those special points were among our data points, we could just weight all the other points by 0 and achieve this goal.\n",
    "\n",
    "Alternatively, consider how you might estimate it in your head. You would look at the data, and use points that are close to the data point you want to estimate to form the estimate. Points that are far from the data point would have less influence on your estimate. You are implicitly weighting the value of the known points in doing this. In GPR we make this idea quantitative.\n",
    "\n",
    "The key concept to quantify this is called *covariance*, which is how are two variables correlated with each other. Intuitively, if two x-values are close together, then we anticipate that the corresponding $f(x$ values are also close together. We can say that the values \"co-vary\", i.e. they are not independent. We use this fact when we integrate an ODE and estimate the next point, or in root solving when we iteratively find the next steps. We will use this idea to compute the weights that we need. The covariance is a matrix and each element of the matrix defines the covariance between two data points. To compute this, *we need to make some assumptions* about the data. A common assumption is that the covariance is Gaussian with the form:\n",
    "\n",
    "$K_{ij} = \\sigma_f \\exp\\left(-\\frac{(x_i - x_j)^2}{2 \\lambda^2}\\right)$\n",
    "\n",
    "In this equation, $\\sigma_f$ and $\\lambda$ are called *hyperparameters* and we have to determine what are good values for them. $\\sigma_f$ is a scale factor, and $\\lambda$ is a length scale. With this formula, data points with a distance of $2\\lambda$ away from the point of interest have low (near zero) covariance with that point. In other words, only data points within $2\\lambda$ distance units of a point will contribute to our estimate for that point.\n",
    "\n"
   ]
  },
  {
   "cell_type": "code",
   "execution_count": 1,
   "metadata": {},
   "outputs": [
    {
     "data": {
      "image/png": "[encoded data removed]",
      "text/plain": [
       "<Figure size 432x288 with 1 Axes>"
      ]
     },
     "metadata": {},
     "output_type": "display_data"
    }
   ],
   "source": [
    "import numpy as np\n",
    "\n",
    "sigmaf = 1.0\n",
    "_lambda = 1.0\n",
    "\n",
    "x0 = 0.0\n",
    "x = np.linspace(-4, 4)\n",
    "\n",
    "%matplotlib inline\n",
    "import matplotlib.pyplot as plt\n",
    "plt.plot(x, sigmaf * np.exp(-(x0 - x)**2 / (2 * _lambda**2)))\n",
    "plt.xlabel('x')\n",
    "plt.ylabel('covariance');"
   ]
  },
  {
   "cell_type": "markdown",
   "metadata": {},
   "source": [
    "So, what we need is a convenient way to compute the covariance between the points we know, and the points we want to estimate. To keep things simple for now, we consider a small data set. We need to be able to compute the distance from each known $x_i$ to each known $x_j$. Numpy array broadcasting makes this simple. We *expand* each array, and then take the difference.\n",
    "\n"
   ]
  },
  {
   "cell_type": "code",
   "execution_count": 3,
   "metadata": {},
   "outputs": [
    {
     "data": {
      "text/plain": [
       "array([[ 0. , -0.5, -1. ],\n",
       "       [ 0.5,  0. , -0.5],\n",
       "       [ 1. ,  0.5,  0. ]])"
      ]
     },
     "execution_count": 3,
     "metadata": {},
     "output_type": "execute_result"
    }
   ],
   "source": [
    "X = np.linspace(0, 1, 3)\n",
    "y = X**(1/3) + np.random.normal(0,  0.01, len(X)) # we add a little noise\n",
    "\n",
    "Xp = np.array([0.45, 0.55]) # predict at these two points\n",
    "\n",
    "dX = X[:, None] - X[None, :]  # This is the array X_i - X_j\n",
    "dX"
   ]
  },
  {
   "cell_type": "code",
   "execution_count": 7,
   "metadata": {},
   "outputs": [
    {
     "data": {
      "text/plain": [
       "(3,)"
      ]
     },
     "execution_count": 7,
     "metadata": {},
     "output_type": "execute_result"
    }
   ],
   "source": [
    "X.shape"
   ]
  },
  {
   "cell_type": "code",
   "execution_count": 8,
   "metadata": {},
   "outputs": [
    {
     "data": {
      "text/plain": [
       "array([[ 0. ,  0.5,  1. ],\n",
       "       [-0.5,  0. ,  0.5],\n",
       "       [-1. , -0.5,  0. ]])"
      ]
     },
     "execution_count": 8,
     "metadata": {},
     "output_type": "execute_result"
    }
   ],
   "source": [
    "X[None, :] - X[:, None]  # This is equivalent to X_j - X_i"
   ]
  },
  {
   "cell_type": "code",
   "execution_count": 6,
   "metadata": {},
   "outputs": [
    {
     "data": {
      "text/plain": [
       "array([[ 0. , -0.5, -1. ],\n",
       "       [ 0.5,  0. , -0.5],\n",
       "       [ 1. ,  0.5,  0. ]])"
      ]
     },
     "execution_count": 6,
     "metadata": {},
     "output_type": "execute_result"
    }
   ],
   "source": [
    "# We use broadcasting to avoid this double loop\n",
    "K = np.empty((3, 3))\n",
    "for i in range(len(X)):\n",
    "    for j in range(len(X)):\n",
    "        K[i, j] = X[i] - X[j]\n",
    "        \n",
    "K"
   ]
  },
  {
   "cell_type": "markdown",
   "metadata": {},
   "source": [
    "First, we get the covariance array for *the known x-values*. We have to make some choices for the hyperparameters. We will return to how to do this later. For now, we use these values because they work. We also add at this point the possibility that there is some noise in our data, which is characterized by a normal distribution with a mean of 0, and a spread of $\\sigma_n$.\n",
    "\n"
   ]
  },
  {
   "cell_type": "code",
   "execution_count": 10,
   "metadata": {},
   "outputs": [
    {
     "data": {
      "text/plain": [
       "array([0. , 0.5, 1. ])"
      ]
     },
     "execution_count": 10,
     "metadata": {},
     "output_type": "execute_result"
    }
   ],
   "source": [
    "X"
   ]
  },
  {
   "cell_type": "code",
   "execution_count": 9,
   "metadata": {},
   "outputs": [
    {
     "data": {
      "text/plain": [
       "array([[1.00010000e+00, 3.86592014e-03, 2.23363144e-10],\n",
       "       [3.86592014e-03, 1.00010000e+00, 3.86592014e-03],\n",
       "       [2.23363144e-10, 3.86592014e-03, 1.00010000e+00]])"
      ]
     },
     "execution_count": 9,
     "metadata": {},
     "output_type": "execute_result"
    }
   ],
   "source": [
    "sigma_f = 1\n",
    "lam = 0.15\n",
    "sigma_n = 0.01\n",
    "\n",
    "K1 = sigma_f * np.exp(-dX**2 / (2 * lam**2)) + sigma_n**2 * np.eye(len(y))\n",
    "K1"
   ]
  },
  {
   "cell_type": "markdown",
   "metadata": {},
   "source": [
    "Next, we get the covariance of the *values of x we want to predict* and the known x-values. Note here we do not include the noise.\n",
    "\n"
   ]
  },
  {
   "cell_type": "code",
   "execution_count": 11,
   "metadata": {},
   "outputs": [
    {
     "data": {
      "text/plain": [
       "array([[0.011109  , 0.94595947, 0.00120386],\n",
       "       [0.00120386, 0.94595947, 0.011109  ]])"
      ]
     },
     "execution_count": 11,
     "metadata": {},
     "output_type": "execute_result"
    }
   ],
   "source": [
    "K2 = sigma_f * np.exp(-(Xp[:, None] - X[None, :])**2 / (2 * lam**2))\n",
    "K2"
   ]
  },
  {
   "cell_type": "markdown",
   "metadata": {},
   "source": [
    "The first definition that we need is:\n",
    "\n",
    "$\\mathbf{w} = K(X*, X) \\cdot [K(X, X) + \\sigma_n^2 \\mathbf{I}]^{-1}$\n",
    "\n",
    "Here, $\\sigma_n$ is a constant that represents noise. It can be zero, but during fitting it is helpful for it to be non-zero to avoid ill-conditioned matrices.\n",
    "\n"
   ]
  },
  {
   "cell_type": "code",
   "execution_count": 14,
   "metadata": {},
   "outputs": [
    {
     "data": {
      "text/plain": [
       "array([[ 0.00745169,  0.94584556, -0.00245246],\n",
       "       [-0.00245246,  0.94584556,  0.00745169]])"
      ]
     },
     "execution_count": 14,
     "metadata": {},
     "output_type": "execute_result"
    }
   ],
   "source": [
    "w = K2 @ np.linalg.inv(K1)\n",
    "w"
   ]
  },
  {
   "cell_type": "markdown",
   "metadata": {},
   "source": [
    "Those weights mean that the middle data point contributes the most to the estimate, and the others hardly contribute.\n",
    "\n",
    "To make an estimate with these weights, we use this second definition:\n",
    "\n",
    "$y* = \\mathbf{w} \\cdot \\mathbf{y}$\n",
    "\n"
   ]
  },
  {
   "cell_type": "code",
   "execution_count": 15,
   "metadata": {},
   "outputs": [
    {
     "data": {
      "text/plain": [
       "array([0.73868919, 0.74862309])"
      ]
     },
     "execution_count": 15,
     "metadata": {},
     "output_type": "execute_result"
    }
   ],
   "source": [
    "yp = w @ y\n",
    "yp"
   ]
  },
  {
   "cell_type": "markdown",
   "metadata": {},
   "source": [
    "Let's see how well we did.\n",
    "\n"
   ]
  },
  {
   "cell_type": "code",
   "execution_count": 16,
   "metadata": {},
   "outputs": [
    {
     "data": {
      "text/plain": [
       "[<matplotlib.lines.Line2D at 0x110c80470>]"
      ]
     },
     "execution_count": 16,
     "metadata": {},
     "output_type": "execute_result"
    },
    {
     "data": {
      "image/png": "[encoded data removed]",
      "text/plain": [
       "<Figure size 432x288 with 1 Axes>"
      ]
     },
     "metadata": {},
     "output_type": "display_data"
    }
   ],
   "source": [
    "%matplotlib inline\n",
    "import matplotlib.pyplot as plt\n",
    "\n",
    "plt.plot(X, y, 'bo')\n",
    "plt.plot(Xp, yp, 'r*');"
   ]
  },
  {
   "cell_type": "markdown",
   "metadata": {},
   "source": [
    "That is not bad, but clearly not great. With a $\\lambda=0.15$, only one data point is contributing to the estimate, the other points have only small contributions because they are far from points we are estimating. This is a feature of the *assumption* we made about the covariance with $\\lambda$. This means we do not have enough data to make a very good estimate. We can see this if we try this with a much more dense data set.\n",
    "\n"
   ]
  },
  {
   "cell_type": "code",
   "execution_count": 18,
   "metadata": {},
   "outputs": [
    {
     "name": "stdout",
     "output_type": "stream",
     "text": [
      "Known data step size is 0.05\n"
     ]
    },
    {
     "data": {
      "image/png": "[encoded data removed]",
      "text/plain": [
       "<Figure size 432x288 with 1 Axes>"
      ]
     },
     "metadata": {},
     "output_type": "display_data"
    }
   ],
   "source": [
    "X, h = np.linspace(0, 1, 20, retstep=True)\n",
    "y = X**(1/3) + np.random.normal(0, 0.01, len(X))\n",
    "\n",
    "xp = np.linspace(0, 1.0, 50)\n",
    "\n",
    "sigma_n = 0.01\n",
    "sigma_f = 1\n",
    "lam = 0.15\n",
    "\n",
    "K1 = sigma_f * np.exp(-(X[None, :] - X[:, None])**2 / (2 * lam**2)) + sigma_n**2 * np.eye(len(y))\n",
    "Kp = sigma_f * np.exp(-(X[None, :] - xp[:, None])**2 / (2 * lam**2))\n",
    "\n",
    "yp = Kp @ np.linalg.inv(K1) @ y\n",
    "\n",
    "\n",
    "import matplotlib.pyplot as plt\n",
    "\n",
    "plt.plot(X, y, 'bo')\n",
    "plt.plot(xp, yp, 'r-')\n",
    "plt.legend(['data', 'fit'])\n",
    "print(f'Known data step size is {h:1.2f}')"
   ]
  },
  {
   "cell_type": "markdown",
   "metadata": {},
   "source": [
    "Now you can see that we do very well in estimating the values. The length scale here might even be considered too short, since it is evident we are fitting trends in the noise.\n",
    "\n",
    "GPR is often called a kind of machine learning. Let's see if the GPR actually \"learned\" the data by testing it in extrapolation.\n",
    "\n"
   ]
  },
  {
   "cell_type": "code",
   "execution_count": 19,
   "metadata": {},
   "outputs": [
    {
     "name": "stdout",
     "output_type": "stream",
     "text": [
      "Known data step size is 0.05\n"
     ]
    },
    {
     "data": {
      "image/png": "[encoded data removed]",
      "text/plain": [
       "<Figure size 432x288 with 1 Axes>"
      ]
     },
     "metadata": {},
     "output_type": "display_data"
    }
   ],
   "source": [
    "xp = np.linspace(-1, 2.0, 50)\n",
    "\n",
    "sigma_f = 1\n",
    "lam = 0.15\n",
    "\n",
    "K1 = sigma_f * np.exp(-(X[:, None] - X[None, :])**2 / (2 * lam**2)) + sigma_n**2 * np.eye(len(y))\n",
    "Kp = sigma_f * np.exp(-(xp[:, None] - X[None, :])**2 / (2 * lam**2))\n",
    "\n",
    "yp = Kp @ np.linalg.inv(K1) @ y\n",
    "\n",
    "%matplotlib inline\n",
    "import matplotlib.pyplot as plt\n",
    "\n",
    "plt.plot(X, y, 'bo')\n",
    "plt.plot(xp, yp, 'r-')\n",
    "plt.legend(['data', 'fit'])\n",
    "print(f'Known data step size is {h:1.2f}')"
   ]
  },
  {
   "cell_type": "code",
   "execution_count": 23,
   "metadata": {},
   "outputs": [
    {
     "data": {
      "text/plain": [
       "((50,), (20,))"
      ]
     },
     "execution_count": 23,
     "metadata": {},
     "output_type": "execute_result"
    }
   ],
   "source": [
    " xp.shape, X.shape,"
   ]
  },
  {
   "cell_type": "code",
   "execution_count": 22,
   "metadata": {},
   "outputs": [
    {
     "data": {
      "text/plain": [
       "(50, 20)"
      ]
     },
     "execution_count": 22,
     "metadata": {},
     "output_type": "execute_result"
    }
   ],
   "source": [
    "(xp[:, None] - X[None, :]).shape"
   ]
  },
  {
   "cell_type": "code",
   "execution_count": 43,
   "metadata": {},
   "outputs": [
    {
     "data": {
      "text/plain": [
       "True"
      ]
     },
     "execution_count": 43,
     "metadata": {},
     "output_type": "execute_result"
    }
   ],
   "source": [
    "# xp[:, None] - X[None, :] is syntactic sugar for np.expand_dims\n",
    "np.allclose(xp[:, None] - X[None, :], np.expand_dims(xp, -1) - np.expand_dims(X, 0))"
   ]
  },
  {
   "cell_type": "markdown",
   "metadata": {},
   "source": [
    "As we saw with neural networks, GPRs do not extrapolate in a way that reflects the data. Eventually, in this case the result extrapolates to zero because of the Gaussian covariance function, but there are edge effects that are not desirable. As with Nns, we should be wary of extrapolation. We return to this in a later section.\n",
    "\n"
   ]
  },
  {
   "cell_type": "markdown",
   "metadata": {},
   "source": [
    "### Underfitting in GPR\n",
    "\n"
   ]
  },
  {
   "cell_type": "markdown",
   "metadata": {},
   "source": [
    "If you make the lengthscale too large then you over smooth the data, and don't fit any of them on average. This is underfitting, and it is not desirable because the estimates will not be good at new points. Note that you need some noise in the covariance array to make sure it is invertible in this case.\n",
    "\n"
   ]
  },
  {
   "cell_type": "code",
   "execution_count": 49,
   "metadata": {},
   "outputs": [
    {
     "data": {
      "text/plain": [
       "<matplotlib.legend.Legend at 0x1112b7ef0>"
      ]
     },
     "execution_count": 49,
     "metadata": {},
     "output_type": "execute_result"
    },
    {
     "data": {
      "image/png": "[encoded data removed]",
      "text/plain": [
       "<Figure size 432x288 with 1 Axes>"
      ]
     },
     "metadata": {},
     "output_type": "display_data"
    }
   ],
   "source": [
    "xp = np.linspace(0, 1.0, 50)\n",
    "\n",
    "sigma_f, lam, sigma_n = 1, 0.5, 0.01\n",
    "\n",
    "K1 = sigma_f * np.exp(-(X[:, None] - X[None, :])**2 / (2 * lam**2)) + sigma_n**2 * np.eye(len(y))\n",
    "Kp = sigma_f * np.exp(-(xp[:, None] - X[None, :])**2 / (2 * lam**2))\n",
    "\n",
    "yp = Kp @ np.linalg.inv(K1) @ y\n",
    "\n",
    "%matplotlib inline\n",
    "import matplotlib.pyplot as plt\n",
    "\n",
    "plt.plot(X, y, 'bo')\n",
    "plt.plot(xp, yp, 'r-')\n",
    "plt.legend(['data', 'fit']);"
   ]
  },
  {
   "cell_type": "markdown",
   "metadata": {},
   "source": [
    "### Overfitting in GPR\n",
    "\n"
   ]
  },
  {
   "cell_type": "markdown",
   "metadata": {},
   "source": [
    "If you make the lengthscale too small, then you effectively fit every point, and have wiggles between them. This is overfitting, and it is not desirable because you won't get a good estimate at new points.\n",
    "\n"
   ]
  },
  {
   "cell_type": "code",
   "execution_count": 53,
   "metadata": {},
   "outputs": [
    {
     "data": {
      "text/plain": [
       "<matplotlib.legend.Legend at 0x11172a898>"
      ]
     },
     "execution_count": 53,
     "metadata": {},
     "output_type": "execute_result"
    },
    {
     "data": {
      "image/png": "[encoded data removed]",
      "text/plain": [
       "<Figure size 432x288 with 1 Axes>"
      ]
     },
     "metadata": {},
     "output_type": "display_data"
    }
   ],
   "source": [
    "sigma_f, lam, sigma_n = 1, 0.35, 0.01\n",
    "\n",
    "K1 = sigma_f * np.exp(-(X[:, None] - X[None, :])**2 / (2 * lam**2)) + sigma_n**2 * np.eye(len(y))\n",
    "Kp = sigma_f * np.exp(-(xp[:, None] - X[None, :])**2 / (2 * lam**2))\n",
    "\n",
    "yp = Kp @ np.linalg.inv(K1) @ y\n",
    "\n",
    "%matplotlib inline\n",
    "import matplotlib.pyplot as plt\n",
    "\n",
    "plt.plot(X, y, 'bo')\n",
    "plt.plot(xp, yp, 'r-')\n",
    "plt.legend(['data', 'fit']);"
   ]
  },
  {
   "cell_type": "markdown",
   "metadata": {},
   "source": [
    "### Finding the hyperparameters in GPR\n",
    "\n"
   ]
  },
  {
   "cell_type": "markdown",
   "metadata": {},
   "source": [
    "You can see from the examples above that we have to choose some compromises in the hyperparameters. Some sets will underfit, and some will overfit. So, we need some principled way to estimate these. In conventional regression we would do this by minimizing an error function. In GPR, we use a different approach called *maximizing the log likelihood* of the parameters. This is a statistical concept, that is similar to minimizing the summed squared error, but different in that it is estimating the most likely average value of the hyperparameters. It is also must an optimization problem, that we formulate as:\n",
    "\n",
    "$logp \\approx -0.5 y K^{-1} y - 0.5 \\log |K|$\n",
    "\n",
    "The first term emphasizes fitting to the data, while the second term penalizes complexity. In this equation, $K$ depends on the hyperparameters, and we want to adjust these to maximize $logp$. Since we know something about the noise here, we fix that parameter, and adjust the other two parameters.\n",
    "\n",
    "Given the original data, we now estimate the best hyperparameters and then predict other values.\n",
    "\n"
   ]
  },
  {
   "cell_type": "code",
   "execution_count": 55,
   "metadata": {},
   "outputs": [
    {
     "data": {
      "text/plain": [
       "array([1.       , 0.0676821])"
      ]
     },
     "execution_count": 55,
     "metadata": {},
     "output_type": "execute_result"
    },
    {
     "data": {
      "image/png": "[encoded data removed]",
      "text/plain": [
       "<Figure size 432x288 with 1 Axes>"
      ]
     },
     "metadata": {},
     "output_type": "display_data"
    }
   ],
   "source": [
    "def log_likelihood(params):\n",
    "    sigmaf, lam = params\n",
    "    sigma_n = 0.01\n",
    "    K = sigma_f * np.exp(-(X[:, None] - X[None, :])**2 / (2 * lam**2)) + sigma_n**2 * np.eye(len(y))\n",
    "    return -1*(-0.5 * y @ np.linalg.inv(K) @ y - 0.5 * np.log(np.diag(K)).sum())\n",
    "\n",
    "xp = np.linspace(-1, 2.0, 50)\n",
    "\n",
    "from scipy.optimize import minimize\n",
    "\n",
    "p = minimize(log_likelihood, [1, 0.05])\n",
    "sigma_f, lam, sigma_n = (*p.x, 0.001)\n",
    "\n",
    "K1 = sigma_f * np.exp(-(X[:, None] - X[None, :])**2 / (2 * lam**2)) + sigma_n**2 * np.eye(len(y))\n",
    "Kp = sigma_f * np.exp(-(xp[:, None] - X[None, :])**2 / (2 * lam**2))\n",
    "\n",
    "yp = Kp @ np.linalg.inv(K1) @ y\n",
    "\n",
    "%matplotlib inline\n",
    "import matplotlib.pyplot as plt\n",
    "\n",
    "plt.plot(X, y, 'bo')\n",
    "plt.plot(xp, yp, 'r-')\n",
    "plt.legend(['data', 'fit'])\n",
    "\n",
    "p.x"
   ]
  },
  {
   "cell_type": "code",
   "execution_count": 58,
   "metadata": {},
   "outputs": [
    {
     "data": {
      "text/plain": [
       "array([1.        , 0.20814342, 0.19250857])"
      ]
     },
     "execution_count": 58,
     "metadata": {},
     "output_type": "execute_result"
    },
    {
     "data": {
      "image/png": "[encoded data removed]",
      "text/plain": [
       "<Figure size 432x288 with 1 Axes>"
      ]
     },
     "metadata": {},
     "output_type": "display_data"
    }
   ],
   "source": [
    "# Treat sigma_n as a free parameter\n",
    "def log_likelihood(params):\n",
    "    sigmaf, lam, sigma_n = params\n",
    "    K = sigma_f * np.exp(-(X[:, None] - X[None, :])**2 / (2 * lam**2)) + sigma_n**2 * np.eye(len(y))\n",
    "    return -1*(-0.5 * y @ np.linalg.inv(K) @ y - 0.5 * np.log(np.diag(K)).sum())\n",
    "\n",
    "xp = np.linspace(-1, 2.0, 50)\n",
    "\n",
    "from scipy.optimize import minimize\n",
    "\n",
    "p = minimize(log_likelihood, [1, 0.05, 0.01])\n",
    "sigma_f, lam, sigma_n = p.x\n",
    "\n",
    "K1 = sigma_f * np.exp(-(X[:, None] - X[None, :])**2 / (2 * lam**2)) + sigma_n**2 * np.eye(len(y))\n",
    "Kp = sigma_f * np.exp(-(xp[:, None] - X[None, :])**2 / (2 * lam**2))\n",
    "\n",
    "yp = Kp @ np.linalg.inv(K1) @ y\n",
    "\n",
    "\n",
    "import matplotlib.pyplot as plt\n",
    "\n",
    "plt.plot(X, y, 'bo')\n",
    "plt.plot(xp, yp, 'r-')\n",
    "plt.legend(['data', 'fit'])\n",
    "\n",
    "p.x"
   ]
  },
  {
   "cell_type": "markdown",
   "metadata": {},
   "source": [
    "Note that we still see some wiggles in the fit, indicating some minor degree of overfitting with the optimal hyperparameters. That is happening because we fit to all the data, and do not use any to estimate how good our fits are. You can use train/test data splits for GPR for this purpose as well, but it is out of the scope of the lecture today.\n",
    "\n",
    "Also, note that the GPR doesn't *learn* the underlying function; it simply provides a weighted interpolation based on the covariance (assumed to be Gaussian) of neighboring points. The quality of the estimates depends on 1) the density of nearby points, and 2) whether Gaussian covariance is reasonable. When you have a lot of data that is close together, you can always get away with Gaussian covariance, but with small data sets of sparse points, it can be difficult to figure out reasonable hyperparameters. Also, Gaussian covariance does not extrapolate the way the underlying function here extrapolates.\n",
    "\n"
   ]
  },
  {
   "cell_type": "markdown",
   "metadata": {},
   "source": [
    "## GPR Kernels\n",
    "\n"
   ]
  },
  {
   "cell_type": "markdown",
   "metadata": {},
   "source": [
    "The function we used to compute the covariance arrays is called a *kernel*. It is in a way, a measure of similarity between two points. In the Gaussian kernel, we assume the similarity decays exponentially with the square of the distance between points, so that points that are more than a few lengthscales away are uncorrelated and have no information to contribute.\n",
    "\n",
    "There are many other kinds of kernels, including linear and periodic kernels.\n",
    "\n",
    "-   [https://peterroelants.github.io/posts/gaussian-process-kernels/](https://peterroelants.github.io/posts/gaussian-process-kernels/)\n",
    "-   [https://www.cs.toronto.edu/~duvenaud/cookbook/](https://www.cs.toronto.edu/~duvenaud/cookbook/)\n",
    "\n",
    "These kernels can be combined by multiplication and addition to form new kernels, allowing you to build sophisticated models for interpolating data.\n",
    "\n",
    "Choosing a reasonable kernel is important, because it determines how well the model fits, and its extrapolation behavior (much like the activation functions in a NN).\n",
    "\n"
   ]
  },
  {
   "cell_type": "markdown",
   "metadata": {},
   "source": [
    "### An example with a linear kernel\n",
    "\n"
   ]
  },
  {
   "cell_type": "markdown",
   "metadata": {},
   "source": [
    "One definition of a linear kernel is\n",
    "\n",
    "$k(x, x*) = \\sigma_b^2 + \\sigma_v^2 (x-c)(x_{*}-c)$.\n",
    "\n",
    "There are three hyperparameters in this kernel, $\\sigma_b, \\sigma_v$ and $c$. None of these are easily interpreted as properties of the line though. Instead, they represent properties of a distribution of lines that fit the data. We do not care about this distribution directly, but rather about their mean value which is what we are predicting.\n",
    "\n",
    "We will use this to fit some linear data in this example.\n",
    "\n"
   ]
  },
  {
   "cell_type": "code",
   "execution_count": 59,
   "metadata": {},
   "outputs": [
    {
     "data": {
      "text/plain": [
       "Text(0, 0.5, 'y')"
      ]
     },
     "execution_count": 59,
     "metadata": {},
     "output_type": "execute_result"
    },
    {
     "data": {
      "image/png": "[encoded data removed]",
      "text/plain": [
       "<Figure size 432x288 with 1 Axes>"
      ]
     },
     "metadata": {},
     "output_type": "display_data"
    }
   ],
   "source": [
    "X = np.linspace(0, 1, 10)\n",
    "y = 2 * X + 3 + np.random.normal(0, 0.05, len(X))\n",
    "\n",
    "plt.plot(X, y, 'b.')\n",
    "plt.xlabel('x')\n",
    "plt.ylabel('y');"
   ]
  },
  {
   "cell_type": "markdown",
   "metadata": {},
   "source": [
    "As before, we setup a log likelihood function and maximize it to get estimates for the parameters.\n",
    "\n"
   ]
  },
  {
   "cell_type": "code",
   "execution_count": 60,
   "metadata": {},
   "outputs": [
    {
     "data": {
      "text/plain": [
       "      fun: 7.554985659126938\n",
       " hess_inv: array([[ 6.01095768, -0.01369641, -0.04952888],\n",
       "       [-0.01369641,  0.02353533,  0.0136649 ],\n",
       "       [-0.04952888,  0.0136649 ,  0.04479794]])\n",
       "      jac: array([ 3.45706940e-06,  3.09944153e-06, -7.86781311e-06])\n",
       "  message: 'Optimization terminated successfully.'\n",
       "     nfev: 185\n",
       "      nit: 30\n",
       "     njev: 37\n",
       "   status: 0\n",
       "  success: True\n",
       "        x: array([-3.15255764e-07,  6.58035368e-01, -1.45948177e+00])"
      ]
     },
     "execution_count": 60,
     "metadata": {},
     "output_type": "execute_result"
    }
   ],
   "source": [
    "def LL(params):\n",
    "    sb, sv, c = params\n",
    "    # Use the linear kernel now\n",
    "    K = sb**2 + sv**2 * (X - c)[:, None] * (X - c)[None, :]\n",
    "    K += 0.05 * np.eye(len(y))\n",
    "    return -1*(-0.5 * y @ np.linalg.inv(K) @ y - 0.5 * np.log(np.diag(K)).sum())\n",
    "\n",
    "from scipy.optimize import minimize\n",
    "p = minimize(LL, [3, 2, 0])\n",
    "p"
   ]
  },
  {
   "cell_type": "markdown",
   "metadata": {},
   "source": [
    "And we can plot the function to see how well it does.\n",
    "\n"
   ]
  },
  {
   "cell_type": "code",
   "execution_count": 70,
   "metadata": {},
   "outputs": [
    {
     "data": {
      "text/plain": [
       "<matplotlib.legend.Legend at 0x1154e9f28>"
      ]
     },
     "execution_count": 70,
     "metadata": {},
     "output_type": "execute_result"
    },
    {
     "data": {
      "image/png": "[encoded data removed]",
      "text/plain": [
       "<Figure size 432x288 with 1 Axes>"
      ]
     },
     "metadata": {},
     "output_type": "display_data"
    }
   ],
   "source": [
    "sb, sv, c = p.x\n",
    "\n",
    "Xp = np.linspace(-1, 2)\n",
    "\n",
    "K = sb**2 + sv**2 * (X - c)[:, None] * (X - c)[None, :]\n",
    "K += 0.05 * np.eye(len(y))\n",
    "\n",
    "Kp = sb**2 + sv**2 * (Xp - c)[:, None] * (X - c)[None, :]\n",
    "\n",
    "yp = Kp @ np.linalg.inv(K) @ y\n",
    "\n",
    "plt.plot(X, y, 'b.')\n",
    "plt.plot(Xp, yp)\n",
    "plt.xlabel('x')\n",
    "plt.ylabel('y')\n",
    "plt.legend(['data', 'GPR']);"
   ]
  },
  {
   "cell_type": "markdown",
   "metadata": {},
   "source": [
    "Note that now, we get linear extrapolation, because we are using a linear kernel. Note also that the hyperparameters do not mean anything in particular to us. They do not include the slope or intercept. We can work those out pretty easily though. The intercept is just a prediction at $x=0$:\n",
    "\n"
   ]
  },
  {
   "cell_type": "code",
   "execution_count": 71,
   "metadata": {},
   "outputs": [
    {
     "data": {
      "text/plain": [
       "array([2.98876483])"
      ]
     },
     "execution_count": 71,
     "metadata": {},
     "output_type": "execute_result"
    }
   ],
   "source": [
    "Kp = sb**2 + sv**2 * (np.array([0]) - c)[:, None] * (X - c)[None, :]\n",
    "\n",
    "Kp @ np.linalg.inv(K) @ y"
   ]
  },
  {
   "cell_type": "markdown",
   "metadata": {},
   "source": [
    "Not surprisingly, the intercept is about 3.0. We can similarly compute the slope as rise/run since we have a line in our predictions, and it is also approximately what we expect.\n",
    "\n"
   ]
  },
  {
   "cell_type": "code",
   "execution_count": 72,
   "metadata": {},
   "outputs": [
    {
     "data": {
      "text/plain": [
       "2.0478260812183793"
      ]
     },
     "execution_count": 72,
     "metadata": {},
     "output_type": "execute_result"
    }
   ],
   "source": [
    "(yp[-1] - yp[0]) / (Xp[-1] - Xp[0])"
   ]
  },
  {
   "cell_type": "markdown",
   "metadata": {},
   "source": [
    "#### Uncertainty quantification in GPR\n",
    "\n"
   ]
  },
  {
   "cell_type": "markdown",
   "metadata": {},
   "source": [
    "One of the main reasons to use GPR is that you can estimate the uncertainty in predictions in a straightforward way. The covariance of a prediction is given by:\n",
    "\n",
    "$\\mathbf{\\sigma} = K(X*, X*) - K(X*, X) [K(X, X) + \\sigma_n^2 \\mathbf{I}]^{-1} K(X, X*)$\n",
    "\n",
    "As we have done before, the square root of the diagonal is an estimate of the error in the prediction of each point.\n",
    "\n"
   ]
  },
  {
   "cell_type": "code",
   "execution_count": 77,
   "metadata": {},
   "outputs": [
    {
     "data": {
      "text/plain": [
       "<matplotlib.legend.Legend at 0x115b95b00>"
      ]
     },
     "execution_count": 77,
     "metadata": {},
     "output_type": "execute_result"
    },
    {
     "data": {
      "image/png": "[encoded data removed]",
      "text/plain": [
       "<Figure size 432x288 with 1 Axes>"
      ]
     },
     "metadata": {},
     "output_type": "display_data"
    }
   ],
   "source": [
    "Xp = np.linspace(0, 4)\n",
    "\n",
    "\n",
    "K = sb**2 + sv**2 * (X - c)[:, None] * (X - c)[None, :]\n",
    "K += 0.05 * np.eye(len(y))\n",
    "\n",
    "Kp = sb**2 + sv**2 * (Xp - c)[:, None] * (X - c)[None, :]\n",
    "Kt = sb**2 + sv**2 * (Xp - c)[:, None] * (Xp - c)[None, :]\n",
    "\n",
    "yp = Kp @ np.linalg.inv(K) @ y\n",
    "sigma = np.sqrt(np.diag(Kt - Kp @ np.linalg.inv(K) @ Kp.T)) # uncertainty of each estimated point\n",
    "\n",
    "plt.plot(X, y, 'b.')\n",
    "plt.plot(Xp, yp)\n",
    "plt.fill_between(Xp, yp + 2*sigma, yp - 2*sigma, alpha=0.2, color='gray')\n",
    "plt.xlabel('x')\n",
    "plt.ylabel('y')\n",
    "plt.legend(['data', 'GPR']);"
   ]
  },
  {
   "cell_type": "markdown",
   "metadata": {},
   "source": [
    "### Combining kernels\n",
    "\n"
   ]
  },
  {
   "cell_type": "markdown",
   "metadata": {},
   "source": [
    "Here we consider modeling a slowly increasing periodic function.\n",
    "\n"
   ]
  },
  {
   "cell_type": "code",
   "execution_count": 95,
   "metadata": {},
   "outputs": [
    {
     "data": {
      "text/plain": [
       "[<matplotlib.lines.Line2D at 0x115dc63c8>]"
      ]
     },
     "execution_count": 95,
     "metadata": {},
     "output_type": "execute_result"
    },
    {
     "data": {
      "image/png": "[encoded data removed]",
      "text/plain": [
       "<Figure size 432x288 with 1 Axes>"
      ]
     },
     "metadata": {},
     "output_type": "display_data"
    }
   ],
   "source": [
    "X = np.linspace(0, 1, 40)\n",
    "y = 2 * X + 3 + np.sin(X * 20) + np.random.normal(0, 0.05, len(X))\n",
    "\n",
    "plt.plot(X, y, 'b.');"
   ]
  },
  {
   "cell_type": "markdown",
   "metadata": {},
   "source": [
    "This looks like a sin wave superimposed on a line. A periodic kernel is defined as\n",
    "\n",
    "$k(x, x') = \\sigma^2 \\exp\\left(-\\frac{2 \\sin^2(\\pi|x - x'| / p)}{l^2}\\right)$\n",
    "\n",
    "$p$ is the periodicity and $l$ is the lengthscale. A key feature of GPR is you can add two kernel functions together and get a new kernel. Here we combine the linear kernel with the periodic kernel to represent data that is periodic and which increases (or decreases) with time.\n",
    "\n",
    "As before we use the log likeliehood to find the hyperparameters that best fit this data.\n",
    "\n"
   ]
  },
  {
   "cell_type": "code",
   "execution_count": 96,
   "metadata": {},
   "outputs": [
    {
     "data": {
      "text/plain": [
       "      fun: 20.8564439189349\n",
       " hess_inv: array([[ 1.83768646e-03,  3.13885637e-04,  3.23160421e-04,\n",
       "         5.42165080e-04,  1.17882026e-04, -1.28264578e-03],\n",
       "       [ 3.13885637e-04,  4.07553360e-04,  1.61412937e-04,\n",
       "        -1.77827105e-04,  4.12210420e-05, -3.18800123e-04],\n",
       "       [ 3.23160421e-04,  1.61412937e-04,  1.40676538e-04,\n",
       "        -5.06436194e-05,  1.13521271e-04, -1.91639570e-04],\n",
       "       [ 5.42165080e-04, -1.77827105e-04, -5.06436194e-05,\n",
       "         4.88001354e-04, -6.80433516e-05, -3.90187222e-04],\n",
       "       [ 1.17882026e-04,  4.12210420e-05,  1.13521271e-04,\n",
       "        -6.80433516e-05,  1.63696612e-04,  1.36524091e-05],\n",
       "       [-1.28264578e-03, -3.18800123e-04, -1.91639570e-04,\n",
       "        -3.90187222e-04,  1.36524091e-05,  1.00348232e-03]])\n",
       "      jac: array([ 1.21593475e-05,  2.86102295e-06, -2.38418579e-07,  8.82148743e-06,\n",
       "        1.88350677e-05,  1.04904175e-05])\n",
       "  message: 'Desired error not necessarily achieved due to precision loss.'\n",
       "     nfev: 1676\n",
       "      nit: 55\n",
       "     njev: 208\n",
       "   status: 2\n",
       "  success: False\n",
       "        x: array([ 8.93797392e-06,  4.04643045e-01, -1.40745619e+00,  6.43999490e-01,\n",
       "        9.38979460e-01, -3.42681773e-01])"
      ]
     },
     "execution_count": 96,
     "metadata": {},
     "output_type": "execute_result"
    }
   ],
   "source": [
    "def LL(params):\n",
    "    sb, sv, c, sp, p, l = params\n",
    "    K1 = sb**2 + sv**2 * (X - c)[:, None] * (X - c)[None, :]\n",
    "    K2 = sp**2 * np.exp(-2 * np.sin(np.pi / p * np.abs((X[:, None] - X[None, :])))**2 / l**2)\n",
    "    K = K1 + K2 + 0.05 * np.eye(len(y))\n",
    "    return -1*(-0.5 * y @ np.linalg.inv(K) @ y - 0.5 * np.log(np.diag(K)).sum())\n",
    "\n",
    "pars = minimize(LL, [3, 2, 0, 1, 1, 0.01])\n",
    "pars"
   ]
  },
  {
   "cell_type": "markdown",
   "metadata": {},
   "source": [
    "And we check how the fit looks, and how it extrapolates.\n",
    "\n"
   ]
  },
  {
   "cell_type": "code",
   "execution_count": 97,
   "metadata": {},
   "outputs": [
    {
     "data": {
      "text/plain": [
       "[<matplotlib.lines.Line2D at 0x1160a84e0>,\n",
       " <matplotlib.lines.Line2D at 0x1160a85f8>]"
      ]
     },
     "execution_count": 97,
     "metadata": {},
     "output_type": "execute_result"
    },
    {
     "data": {
      "image/png": "[encoded data removed]",
      "text/plain": [
       "<Figure size 432x288 with 1 Axes>"
      ]
     },
     "metadata": {},
     "output_type": "display_data"
    }
   ],
   "source": [
    "xp = np.linspace(-1, 2, 200)\n",
    "\n",
    "sb, sv, c, sp, p, l = pars.x\n",
    "\n",
    "K1 = sb**2 + sv**2 * (X - c)[:, None] * (X - c)[None, :]\n",
    "K2 = sp**2 * np.exp(-2 * np.sin(np.pi / p * np.abs((X[:, None] - X[None, :])))**2 / l**2)\n",
    "K = K1 + K2 + 0.05 * np.eye(len(y))\n",
    "\n",
    "Kp1 = sb**2 + sv**2 * (xp - c)[:, None] * (X - c)[None, :]\n",
    "Kp2 = sp**2 * np.exp(-2 * np.sin(np.pi / p * np.abs((xp[:, None] - X[None, :])))**2 / l**2)\n",
    "Kp = Kp1 + Kp2\n",
    "\n",
    "\n",
    "yp = Kp @ np.linalg.inv(K) @ y\n",
    "plt.plot(X, y, 'b.', xp, yp);"
   ]
  },
  {
   "cell_type": "markdown",
   "metadata": {},
   "source": [
    "Note that we get oscillatory + linear extrapolation behavior!\n",
    "\n"
   ]
  },
  {
   "cell_type": "markdown",
   "metadata": {},
   "source": [
    "## Brief comparison of GPR and NN\n",
    "\n"
   ]
  },
  {
   "cell_type": "markdown",
   "metadata": {},
   "source": [
    "GPR is called a non-parametric regression method. That is only partly true, there are hyperparameters that must be chosen in the kernels. In contrast, neural networks (and other physical models are called *parametric* models.\n",
    "\n",
    "A key feature of GPR compared to other methods is that uncertainty estimates are a \"built-in\" feature, compared to parametric models where you might consider it an add-on feature that approximates the uncertainty. Although we say uncertainty analysis is built into to GPR, it also relies on some assumptions, e.g. that there is Gaussian noise in the data, and that the residual errors are Gaussian. If those are not true, then the uncertainty in a GPR is also an estimate.\n",
    "\n",
    "For very large datasets GPR has a distinct disadvantage over neural networks. For $n$ data points covariance matrix is an $n \\times n$, and we need the inverse of this array. Inverse calculations usually scale as $O(n^3)$ so this can get expensive fast. Even after that, however, you have to do several matrix multiplications, including an $m \\times n$ covariance array, a $n \\times n$ inverse covariance array and the $n \\times 1$ array of known values. If is possible to compute one of these one time only, but for every prediction, one must compute the $m \\times n$ covariance array every time.\n",
    "\n",
    "In contrast, for neural networks, all the time is spent upfront on training. After that, all the arrays of weights are fixed, and the computational time for predictions is constant (and usually comparatively small).\n",
    "\n"
   ]
  },
  {
   "cell_type": "markdown",
   "metadata": {},
   "source": [
    "## GPR libraries\n",
    "\n"
   ]
  },
  {
   "cell_type": "markdown",
   "metadata": {},
   "source": [
    "In this lecture we have examined GPR in a hand's on, practical and manual way. In practice, it is rare to do this anymore as there are libraries that automate much of the calculations. Using these requires a sophisticated understanding of how GP works though, and they are not easy to start with.\n",
    "\n",
    "-   **scikit-learn:** [https://scikit-learn.org/stable/modules/gaussian_process.html](https://scikit-learn.org/stable/modules/gaussian_process.html)\n",
    "-   **Gpy:** [https://sheffieldml.github.io/GPy/>](https://sheffieldml.github.io/GPy/>)(pytorch)\n",
    "-   **GPFlow:** [https://gpflow.readthedocs.io/en/latest/intro.html>](https://gpflow.readthedocs.io/en/latest/intro.html>)(Tensorflow)\n",
    "\n"
   ]
  },
  {
   "cell_type": "markdown",
   "metadata": {},
   "source": [
    "## Summary\n",
    "\n"
   ]
  },
  {
   "cell_type": "markdown",
   "metadata": {},
   "source": [
    "This lecture introduced GPR in a practical, by example way. There are formal ways to derive the equations we introduced, but they rely on a deep understanding of statistics that is beyond the scope of this class. These approaches provide a variety of insights to understand why GPR works, how it is related to other types of machine learning, etc.\n",
    "\n"
   ]
  }
 ],
 "metadata": {
  "kernelspec": {
   "display_name": "Python 3 (ipykernel)",
   "language": "python",
   "name": "python3"
  },
  "language_info": {
   "codemirror_mode": {
    "name": "ipython",
    "version": 3
   },
   "file_extension": ".py",
   "mimetype": "text/x-python",
   "name": "python",
   "nbconvert_exporter": "python",
   "pygments_lexer": "ipython3",
   "version": "3.10.11"
  },
  "org": {
   "KEYWORDS": "Gaussian process"
  }
 },
 "nbformat": 4,
 "nbformat_minor": 4
}
