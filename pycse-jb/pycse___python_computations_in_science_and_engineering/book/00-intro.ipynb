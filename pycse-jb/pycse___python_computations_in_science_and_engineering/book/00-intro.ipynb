{
 "cells": [
  {
   "cell_type": "markdown",
   "metadata": {},
   "source": [
    "# Introduction to Python and Jupyter\n",
    "- KEYWORDS: introduction\n"
   ]
  },
  {
   "cell_type": "markdown",
   "metadata": {},
   "source": [
    "## Python\n",
    "\n"
   ]
  },
  {
   "cell_type": "markdown",
   "metadata": {},
   "source": [
    "I will use Python exclusively in class, every day. Python is free, and better than anything else for what we will do in this class. I have used it in research for more than a decade, and it is one of the most popular programming languages around today.\n",
    "\n",
    "I assume most of you have not used Python before. We will start small, and continuously build up skills in using it. You will see it a lot, and you should practice using it. It is an opportunity to learn something new!\n",
    "\n",
    "For a lot of examples of using Python for scientific computing, see [http://kitchingroup.cheme.cmu.edu/pycse/](http://kitchingroup.cheme.cmu.edu/pycse/).\n",
    "\n"
   ]
  },
  {
   "cell_type": "markdown",
   "metadata": {},
   "source": [
    "## Jupyter notebook introduction\n",
    "\n"
   ]
  },
  {
   "cell_type": "markdown",
   "metadata": {},
   "source": [
    "Jupyter notebooks are an interactive, browser-based tool for running Python. We will use them exclusively in this class. We will quickly build up the skills required to solve engineering problems. We will not learn everything about programming, mathematical modeling or engineering processes. My goal is to get you thinking about a very general computational way of thinking about these problems, and to learn how to use computation as a way to augment your analytical skills.\n",
    "\n",
    "I will lecture from the notebooks, and show you how I use them. The notes will be available to you during class for you to work along with me.\n",
    "\n"
   ]
  },
  {
   "cell_type": "code",
   "execution_count": 1,
   "metadata": {},
   "outputs": [
    {
     "name": "stdout",
     "output_type": "stream",
     "text": [
      "Hello World! Welcome to the pycse course!\n"
     ]
    }
   ],
   "source": [
    "print('Hello World! Welcome to the pycse course!')\n",
    "# Type C-Enter to run this cell\n",
    "# Type shift-Enter to run this cell and got to the next one or create a new one."
   ]
  },
  {
   "cell_type": "markdown",
   "metadata": {},
   "source": [
    "What is the value of $a$ that satisfies the equation $a + 4 = 5$?\n",
    "\n",
    "We can document our solution here, e.g. we find $x$ by algebra. If we subtract 4 from each side of the equation, $a$ will be isolated, and equal to the value of the right hand side of the equation.\n",
    "\n",
    "<div class=\"alert alert-warning\">\n",
    "You can double-click on any text block to see what the Markdown is that generates it. Type C-Enter to re-render the cell.\n",
    "</div>\n",
    "\n",
    "You can add text if you want, and re-execute the cell with C-enter\n",
    "\n",
    "Here is the code that implements that explanation:\n",
    "\n"
   ]
  },
  {
   "cell_type": "code",
   "execution_count": 14,
   "metadata": {},
   "outputs": [
    {
     "name": "stdout",
     "output_type": "stream",
     "text": [
      "The solution is 1\n"
     ]
    }
   ],
   "source": [
    "a = 5 - 4\n",
    "print(f'The solution is {a}')"
   ]
  },
  {
   "cell_type": "markdown",
   "metadata": {},
   "source": [
    "### numpy\n",
    "\n"
   ]
  },
  {
   "cell_type": "markdown",
   "metadata": {},
   "source": [
    "[numpy](http://www.numpy.org) is a Python library for arrays. We have to import this library to access the functionality in it. The conventional way to import this library is:\n",
    "\n",
    "<div class=\"alert alert-warning\">\n",
    "Remember this cell. You will use it almost every time.\n",
    "</div>\n",
    "\n"
   ]
  },
  {
   "cell_type": "code",
   "execution_count": 15,
   "metadata": {},
   "outputs": [],
   "source": [
    "import numpy as np"
   ]
  },
  {
   "cell_type": "markdown",
   "metadata": {},
   "source": [
    "To see help on the numpy library, run this cell:\n",
    "\n"
   ]
  },
  {
   "cell_type": "code",
   "execution_count": 16,
   "metadata": {},
   "outputs": [],
   "source": [
    "?np"
   ]
  },
  {
   "cell_type": "markdown",
   "metadata": {},
   "source": [
    "Now, we can access functions in the numpy module using \"dot notation\". For example, let us start by creating an array of linearly spaced points using the linspace function. First, we access the help to see how to use it.\n",
    "\n"
   ]
  },
  {
   "cell_type": "code",
   "execution_count": 17,
   "metadata": {},
   "outputs": [],
   "source": [
    "?np.linspace"
   ]
  },
  {
   "cell_type": "markdown",
   "metadata": {},
   "source": [
    "<div class=\"alert alert-warning\">\n",
    "np.pi is a constant for the number $\\pi$\n",
    "</div>\n",
    "\n"
   ]
  },
  {
   "cell_type": "code",
   "execution_count": 45,
   "metadata": {},
   "outputs": [
    {
     "data": {
      "text/plain": [
       "array([0.        , 0.16110732, 0.32221463, 0.48332195, 0.64442926,\n",
       "       0.80553658, 0.96664389, 1.12775121, 1.28885852, 1.44996584,\n",
       "       1.61107316, 1.77218047, 1.93328779, 2.0943951 , 2.25550242,\n",
       "       2.41660973, 2.57771705, 2.73882436, 2.89993168, 3.061039  ,\n",
       "       3.22214631, 3.38325363, 3.54436094, 3.70546826, 3.86657557,\n",
       "       4.02768289, 4.1887902 , 4.34989752, 4.51100484, 4.67211215,\n",
       "       4.83321947, 4.99432678, 5.1554341 , 5.31654141, 5.47764873,\n",
       "       5.63875604, 5.79986336, 5.96097068, 6.12207799, 6.28318531])"
      ]
     },
     "execution_count": 45,
     "metadata": {},
     "output_type": "execute_result"
    }
   ],
   "source": [
    "x = np.linspace(0, 2 * np.pi, 40)\n",
    "x"
   ]
  },
  {
   "cell_type": "markdown",
   "metadata": {},
   "source": [
    "Most mathematical operations are element-wise on arrays.\n",
    "\n"
   ]
  },
  {
   "cell_type": "code",
   "execution_count": 30,
   "metadata": {},
   "outputs": [
    {
     "data": {
      "text/plain": [
       "array([0.00000000e+00, 2.59555671e-02, 1.03822269e-01, 2.33600104e-01,\n",
       "       4.15289074e-01, 6.48889178e-01, 9.34400417e-01, 1.27182279e+00,\n",
       "       1.66115630e+00, 2.10240094e+00, 2.59555671e+00, 3.14062362e+00,\n",
       "       3.73760167e+00, 4.38649084e+00, 5.08729116e+00, 5.84000260e+00,\n",
       "       6.64462519e+00, 7.50115890e+00, 8.40960375e+00, 9.36995973e+00,\n",
       "       1.03822269e+01, 1.14464051e+01, 1.25624945e+01, 1.37304950e+01,\n",
       "       1.49504067e+01, 1.62222295e+01, 1.75459634e+01, 1.89216084e+01,\n",
       "       2.03491646e+01, 2.18286320e+01, 2.33600104e+01, 2.49433000e+01,\n",
       "       2.65785007e+01, 2.82656126e+01, 3.00046356e+01, 3.17955697e+01,\n",
       "       3.36384150e+01, 3.55331714e+01, 3.74798389e+01, 3.94784176e+01])"
      ]
     },
     "execution_count": 30,
     "metadata": {},
     "output_type": "execute_result"
    }
   ],
   "source": [
    "x * x"
   ]
  },
  {
   "cell_type": "markdown",
   "metadata": {},
   "source": [
    "We can define new variables\n",
    "\n"
   ]
  },
  {
   "cell_type": "code",
   "execution_count": 33,
   "metadata": {},
   "outputs": [
    {
     "data": {
      "text/plain": [
       "(40,)"
      ]
     },
     "execution_count": 33,
     "metadata": {},
     "output_type": "execute_result"
    }
   ],
   "source": [
    "y1 = np.sin(x)\n",
    "y2 = np.cos(x)\n",
    "y2.shape"
   ]
  },
  {
   "cell_type": "code",
   "execution_count": 37,
   "metadata": {},
   "outputs": [
    {
     "name": "stdout",
     "output_type": "stream",
     "text": [
      "[0, 1, 2]\n",
      "[0 1 2]\n"
     ]
    }
   ],
   "source": [
    "a = [ 0, 1, 2]\n",
    "print(a) \n",
    "print(np.array([0, 1, 2]))"
   ]
  },
  {
   "cell_type": "code",
   "execution_count": 43,
   "metadata": {},
   "outputs": [
    {
     "data": {
      "text/plain": [
       "array([2, 3, 4])"
      ]
     },
     "execution_count": 43,
     "metadata": {},
     "output_type": "execute_result"
    }
   ],
   "source": [
    "2 * a\n",
    "2 + np.array(a)"
   ]
  },
  {
   "cell_type": "code",
   "execution_count": 42,
   "metadata": {},
   "outputs": [
    {
     "data": {
      "text/plain": [
       "(array([0.        , 0.84147098, 0.90929743]),\n",
       " array([0.        , 0.84147098, 0.90929743]))"
      ]
     },
     "execution_count": 42,
     "metadata": {},
     "output_type": "execute_result"
    }
   ],
   "source": [
    "np.sin([0, 1, 2]), np.sin(a)"
   ]
  },
  {
   "cell_type": "markdown",
   "metadata": {},
   "source": [
    "### plotting\n",
    "\n"
   ]
  },
  {
   "cell_type": "markdown",
   "metadata": {},
   "source": [
    "We can make plots using [matplotlib](https://matplotlib.org). First we need these two lines. The first one makes the plots appear inline in the notebook. The second imports the plotting library. These should be used in this order.\n",
    "\n",
    "<div class=\"alert alert-warning\">\n",
    "Remember this cell. You will use it almost every time you make a plot.\n",
    "</div>\n",
    "\n"
   ]
  },
  {
   "cell_type": "code",
   "execution_count": 47,
   "metadata": {},
   "outputs": [],
   "source": [
    "%matplotlib inline\n",
    "import matplotlib.pyplot as plt"
   ]
  },
  {
   "cell_type": "code",
   "execution_count": 48,
   "metadata": {},
   "outputs": [],
   "source": [
    "?plt.plot"
   ]
  },
  {
   "cell_type": "markdown",
   "metadata": {},
   "source": [
    "You call functions in the plt library to create plots. These are automatically saved in the notebook.\n",
    "\n"
   ]
  },
  {
   "cell_type": "code",
   "execution_count": 54,
   "metadata": {},
   "outputs": [
    {
     "data": {
      "text/plain": [
       "(-1.0991078979887265,\n",
       " 1.0991078979887265,\n",
       " -1.0965951735409205,\n",
       " 1.0998378654067105)"
      ]
     },
     "execution_count": 54,
     "metadata": {},
     "output_type": "execute_result"
    },
    {
     "data": {
      "image/png": "[encoded data removed]",
      "text/plain": [
       "<Figure size 432x288 with 1 Axes>"
      ]
     },
     "metadata": {},
     "output_type": "display_data"
    }
   ],
   "source": [
    "plt.plot(y1, y2, 'g-.')\n",
    "plt.xlabel('y1')\n",
    "plt.ylabel('y2')\n",
    "plt.legend(['y1', 'y2'])\n",
    "plt.axis('equal')\n",
    "# Always include axis labels and legends when appropriate"
   ]
  },
  {
   "cell_type": "markdown",
   "metadata": {},
   "source": [
    "### scipy\n",
    "\n"
   ]
  },
  {
   "cell_type": "markdown",
   "metadata": {},
   "source": [
    "[scipy](https://www.scipy.org) contains numerous libraries for a broad range of scientific computing needs.\n",
    "\n",
    "Suppose we want to perform the [following integral](https://docs.scipy.org/doc/scipy/reference/tutorial/integrate.html#general-integration-quad): $I = \\int_0^{4.5} J_{2.5}(x) dx$. The function $J_{2.5}$ is a special function known as a Bessel function. scipy provides both the integration function, and an implementation of the special function we can use.\n",
    "\n"
   ]
  },
  {
   "cell_type": "code",
   "execution_count": 55,
   "metadata": {},
   "outputs": [],
   "source": [
    "from scipy.integrate import quad\n",
    "from scipy.special import jv"
   ]
  },
  {
   "cell_type": "code",
   "execution_count": 88,
   "metadata": {},
   "outputs": [],
   "source": [
    "?quad"
   ]
  },
  {
   "cell_type": "code",
   "execution_count": 58,
   "metadata": {},
   "outputs": [],
   "source": [
    "?jv"
   ]
  },
  {
   "cell_type": "markdown",
   "metadata": {},
   "source": [
    "To evaluate this integral, we have to define a function for the integrand, and use the quad function to compute the integral. The quad function returns two values, the value of the integral, and an estimate of the maximum error in the integral.\n",
    "\n"
   ]
  },
  {
   "cell_type": "code",
   "execution_count": 62,
   "metadata": {},
   "outputs": [
    {
     "data": {
      "text/plain": [
       "[<matplotlib.lines.Line2D at 0x115db8898>]"
      ]
     },
     "execution_count": 62,
     "metadata": {},
     "output_type": "execute_result"
    },
    {
     "data": {
      "image/png": "[encoded data removed]",
      "text/plain": [
       "<Figure size 432x288 with 1 Axes>"
      ]
     },
     "metadata": {},
     "output_type": "display_data"
    }
   ],
   "source": [
    "# This is how we define a function. There is a function name, and arguments\n",
    "# The function returns the output of the jv function.\n",
    "def integrand(x):\n",
    "    return jv(2.5, x)\n",
    "\n",
    "integrand([0, 0.5])\n",
    "\n",
    "x1 = np.linspace(0, 4.5)\n",
    "plt.plot(x1, integrand(x1))"
   ]
  },
  {
   "cell_type": "code",
   "execution_count": 92,
   "metadata": {},
   "outputs": [
    {
     "data": {
      "text/plain": [
       "{'alist': array([0.00000000e+000, 2.25000000e+000, 6.95257521e-310, 2.32210854e-322,\n",
       "        0.00000000e+000, 0.00000000e+000, 0.00000000e+000, 0.00000000e+000,\n",
       "        0.00000000e+000, 0.00000000e+000, 0.00000000e+000, 0.00000000e+000,\n",
       "        0.00000000e+000, 0.00000000e+000, 0.00000000e+000, 0.00000000e+000,\n",
       "        0.00000000e+000, 0.00000000e+000, 0.00000000e+000, 0.00000000e+000,\n",
       "        0.00000000e+000, 0.00000000e+000, 0.00000000e+000, 0.00000000e+000,\n",
       "        0.00000000e+000, 0.00000000e+000, 0.00000000e+000, 0.00000000e+000,\n",
       "        0.00000000e+000, 0.00000000e+000, 0.00000000e+000, 0.00000000e+000,\n",
       "        0.00000000e+000, 0.00000000e+000, 0.00000000e+000, 0.00000000e+000,\n",
       "        0.00000000e+000, 0.00000000e+000, 0.00000000e+000, 0.00000000e+000,\n",
       "        0.00000000e+000, 0.00000000e+000, 0.00000000e+000, 0.00000000e+000,\n",
       "        0.00000000e+000, 0.00000000e+000, 0.00000000e+000, 0.00000000e+000,\n",
       "        0.00000000e+000, 0.00000000e+000]),\n",
       " 'blist': array([ 2.25000000e+000,  4.50000000e+000, -1.01547479e+111,\n",
       "        -4.95453649e+293,  6.35360882e-312,  0.00000000e+000,\n",
       "         0.00000000e+000,  0.00000000e+000,  0.00000000e+000,\n",
       "         0.00000000e+000,  0.00000000e+000,  0.00000000e+000,\n",
       "         0.00000000e+000,  0.00000000e+000,  0.00000000e+000,\n",
       "         0.00000000e+000,  0.00000000e+000,  0.00000000e+000,\n",
       "         0.00000000e+000,  0.00000000e+000,  0.00000000e+000,\n",
       "         0.00000000e+000,  0.00000000e+000,  0.00000000e+000,\n",
       "         0.00000000e+000,  0.00000000e+000,  0.00000000e+000,\n",
       "         0.00000000e+000,  0.00000000e+000,  0.00000000e+000,\n",
       "         0.00000000e+000,  0.00000000e+000,  0.00000000e+000,\n",
       "         0.00000000e+000,  0.00000000e+000,  0.00000000e+000,\n",
       "         0.00000000e+000,  0.00000000e+000,  0.00000000e+000,\n",
       "         0.00000000e+000, -2.31584178e+077, -2.31584178e+077,\n",
       "         2.12199579e-314,  3.05947868e-308, -1.00000000e+000,\n",
       "         0.00000000e+000,  0.00000000e+000,  0.00000000e+000,\n",
       "         1.00000000e+000,  0.00000000e+000]),\n",
       " 'elist': array([ 7.86630709e-009,  1.01263339e-014,  1.00000000e+000,\n",
       "         1.00000000e+000, -3.11110003e+231, -3.11110003e+231,\n",
       "         1.97626258e-323,  0.00000000e+000, -1.73060684e-077,\n",
       "        -2.32036441e+077,  9.88131292e-324,  8.34402697e-309,\n",
       "         9.88131292e-324,  9.88131292e-324,  7.90505033e-323,\n",
       "         1.11253693e-308,  9.88131292e-324,  9.88131292e-324,\n",
       "         7.90505033e-323,  3.95252517e-323, -2.31584178e+077,\n",
       "         2.68679842e+154,  8.39911598e-323,  2.78134232e-309,\n",
       "         1.25000000e-001,  1.25000000e-001,  9.00000000e-001,\n",
       "         8.80000000e-001,  2.68679842e+154, -1.29074555e-231,\n",
       "         4.94065646e-323,  0.00000000e+000,  1.00000000e+000,\n",
       "         0.00000000e+000,  0.00000000e+000,  0.00000000e+000,\n",
       "         1.00000000e+000,  6.95335581e-309,  1.00000000e+000,\n",
       "         0.00000000e+000,  0.00000000e+000,  0.00000000e+000,\n",
       "         1.00000000e+000,  0.00000000e+000,  0.00000000e+000,\n",
       "         0.00000000e+000,  1.00000000e+000,  1.94743173e-308,\n",
       "         1.48219694e-323,  1.48219694e-323]),\n",
       " 'iord': array([         1,          2,          0, -805306368,         13,\n",
       "                 0,          0,          0,          0,        113,\n",
       "        1868767867,  975332708, 1025526050, 1635086624, 1852385380,\n",
       "        1919378804,  744779361,  539766816,  741682740, 1819633184,\n",
       "        1970233196, 1953853556, 1546203453, 1231969390,  573317664,\n",
       "        1701603699,  975336558, 1936482662, 1931619429, 1701998452,\n",
       "        1936287839, 2037542772, 1920219682,  573334901, 1919251317,\n",
       "        1886938463, 1936942450, 1936617321, 2105227810, 1818305068,\n",
       "        1601662828, 1768191091, 1949966958,  744846706, 1869902626,\n",
       "        1852792688, 1920099679,  975336047, 1702195828,        125],\n",
       "       dtype=int32),\n",
       " 'last': 2,\n",
       " 'neval': 63,\n",
       " 'rlist': array([ 2.05718868e-001,  9.12099070e-001,  1.33397724e-322,\n",
       "         2.27270197e-321,  3.50292543e-321,  1.76875501e-321,\n",
       "         3.50292543e-321,  1.26480805e-321,  3.50292543e-321,\n",
       "         7.60861095e-322,  3.74995825e-321,  2.56914136e-322,\n",
       "         3.99205042e-321,  2.56914136e-322,  4.23908324e-321,\n",
       "         2.56914136e-322,  4.48117541e-321,  7.60861095e-322,\n",
       "         4.48117541e-321,  1.26480805e-321,  4.48117541e-321,\n",
       "         1.76875501e-321,  4.23908324e-321,  2.27270197e-321,\n",
       "         3.99205042e-321,  2.52961611e-321,  4.37742162e-321,\n",
       "         2.52961611e-321,  4.78255545e-321,  1.88239011e-321,\n",
       "         4.78255545e-321,  1.26480805e-321,  4.78255545e-321,\n",
       "         6.47225996e-322,  4.37742162e-321,  0.00000000e+000,\n",
       "         3.99205042e-321,  0.00000000e+000,  3.60667921e-321,\n",
       "         0.00000000e+000,  3.20154539e-321,  6.47225996e-322,\n",
       "         3.20154539e-321,  1.26480805e-321,  3.20154539e-321,\n",
       "         1.88239011e-321,  3.60667921e-321,  3.33761079e-308,\n",
       "        -1.13141975e+140,  1.00619029e-309])}"
      ]
     },
     "execution_count": 92,
     "metadata": {},
     "output_type": "execute_result"
    }
   ],
   "source": [
    "I, err, info = quad(integrand, 0, 4.5, full_output=1)\n",
    "\n",
    "info"
   ]
  },
  {
   "cell_type": "code",
   "execution_count": 67,
   "metadata": {},
   "outputs": [],
   "source": [
    "?np.trapz"
   ]
  },
  {
   "cell_type": "code",
   "execution_count": 77,
   "metadata": {},
   "outputs": [
    {
     "data": {
      "text/plain": [
       "-1.3991438186509969e-05"
      ]
     },
     "execution_count": 77,
     "metadata": {},
     "output_type": "execute_result"
    }
   ],
   "source": [
    "x1 = np.linspace(0, 4.5, 150)\n",
    "(np.trapz(integrand(x1), x1) - I) / I"
   ]
  },
  {
   "cell_type": "markdown",
   "metadata": {},
   "source": [
    "## Summary\n",
    "\n"
   ]
  },
  {
   "cell_type": "markdown",
   "metadata": {},
   "source": [
    "Today we introduced several ideas about using Jupyter notebooks to run Python computations. The main points are:\n",
    "\n",
    "1.  Code is run in code cells\n",
    "2.  You have to import some functions from libraries\n",
    "3.  numpy, scipy and matplotlib are three of the main scientific programming libraries we will use a lot.\n",
    "4.  We saw some ways to get help on functions\n",
    "\n",
    "Next time we will dig into defining functions more deeply, and how to print formatted strings containing results.\n",
    "\n"
   ]
  }
 ],
 "metadata": {
  "kernelspec": {
   "display_name": "Python 3 (ipykernel)",
   "language": "python",
   "name": "python3"
  },
  "language_info": {
   "codemirror_mode": {
    "name": "ipython",
    "version": 3
   },
   "file_extension": ".py",
   "mimetype": "text/x-python",
   "name": "python",
   "nbconvert_exporter": "python",
   "pygments_lexer": "ipython3",
   "version": "3.10.11"
  },
  "org": {
   "KEYWORDS": "introduction"
  }
 },
 "nbformat": 4,
 "nbformat_minor": 4
}
