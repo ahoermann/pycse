{
 "cells": [
  {
   "cell_type": "markdown",
   "id": "3338cc52",
   "metadata": {},
   "source": [
    "# Introduction to linear algebra\n",
    "\n",
    "- KEYWORDS: numpy.transpose, numpy.eye, numpy.diag, numpy.tri, @, numpy.transpose, numpy.allclose, numpy.linalg.det, numpy.linalg.inv, numpy.linalg.matrix_rank, numpy.linalg.cond, numpy.linalg.solve\n"
   ]
  },
  {
   "cell_type": "markdown",
   "id": "b9534a9a",
   "metadata": {},
   "source": [
    "![06623-roadmap.png](./06623-roadmap.png)\n",
    "\n",
    "Just a reminder of where we are! We are now in the Plains of Linear Algebra."
   ]
  },
  {
   "cell_type": "markdown",
   "id": "760f7fcc",
   "metadata": {},
   "source": [
    "## Multidimensional arrays\n",
    "\n"
   ]
  },
  {
   "cell_type": "markdown",
   "id": "6fe4e3aa",
   "metadata": {},
   "source": [
    "The foundation of linear algebra in Python is in multidimensional arrays.\n",
    "\n"
   ]
  },
  {
   "cell_type": "code",
   "execution_count": null,
   "id": "e49287a8",
   "metadata": {},
   "outputs": [],
   "source": [
    "import numpy as np"
   ]
  },
  {
   "cell_type": "markdown",
   "id": "cf832521",
   "metadata": {},
   "source": [
    "We make multidimensional arrays by using lists of lists of numbers. For example, here is a 2D array:\n",
    "\n"
   ]
  },
  {
   "cell_type": "code",
   "execution_count": null,
   "id": "9e4b6607",
   "metadata": {},
   "outputs": [],
   "source": [
    "A = np.array([[1, 2],\n",
    "              [3, 4]])"
   ]
  },
  {
   "cell_type": "markdown",
   "id": "01700018",
   "metadata": {},
   "source": [
    "We can find out the shape of an array, i.e. the number of rows and columns from the shape attribute. It returns (rows, columns).\n",
    "\n"
   ]
  },
  {
   "cell_type": "code",
   "execution_count": null,
   "id": "980796b1",
   "metadata": {},
   "outputs": [],
   "source": [
    "A.shape, A.size, len(A)"
   ]
  },
  {
   "cell_type": "code",
   "execution_count": null,
   "id": "6f17943a",
   "metadata": {},
   "outputs": [],
   "source": [
    "for row in A:\n",
    "    print(row)"
   ]
  },
  {
   "cell_type": "code",
   "execution_count": null,
   "id": "1d7719fb",
   "metadata": {},
   "outputs": [],
   "source": [
    "A[1]"
   ]
  },
  {
   "cell_type": "markdown",
   "id": "1aed5a9a",
   "metadata": {},
   "source": [
    "### Constructing arrays\n",
    "\n"
   ]
  },
  {
   "cell_type": "markdown",
   "id": "d89c1f6a",
   "metadata": {},
   "source": [
    "You can always make arrays by typing them in. There are many convenient ways to make special ones though. For example, you can make an array of all ones or zeros with these:\n",
    "\n"
   ]
  },
  {
   "cell_type": "code",
   "execution_count": null,
   "id": "f018a3fb",
   "metadata": {},
   "outputs": [],
   "source": [
    "np.zeros(shape=[3, 3])"
   ]
  },
  {
   "cell_type": "code",
   "execution_count": null,
   "id": "51fdac81",
   "metadata": {},
   "outputs": [],
   "source": [
    "np.ones(shape=[3, 3])"
   ]
  },
  {
   "cell_type": "markdown",
   "id": "6a8c01a6",
   "metadata": {},
   "source": [
    "You can make an identity matrix with:\n",
    "\n"
   ]
  },
  {
   "cell_type": "code",
   "execution_count": null,
   "id": "d0a5f76d",
   "metadata": {},
   "outputs": [],
   "source": [
    "np.eye(N=4)"
   ]
  },
  {
   "cell_type": "markdown",
   "id": "10ea1805",
   "metadata": {},
   "source": [
    "or a diagonal array:\n",
    "\n"
   ]
  },
  {
   "cell_type": "code",
   "execution_count": null,
   "id": "18d2c876",
   "metadata": {},
   "outputs": [],
   "source": [
    "I = np.eye(N=3, dtype=int)\n",
    "I[1, 1] = 2\n",
    "I[2, 2] = 3\n",
    "I"
   ]
  },
  {
   "cell_type": "code",
   "execution_count": null,
   "id": "803a6d66",
   "metadata": {},
   "outputs": [],
   "source": [
    "np.diag([1, 2, 3])* 1.0"
   ]
  },
  {
   "cell_type": "markdown",
   "id": "f949481c",
   "metadata": {},
   "source": [
    "If you need a lower triangular array:\n",
    "\n"
   ]
  },
  {
   "cell_type": "code",
   "execution_count": null,
   "id": "f28e0e01",
   "metadata": {},
   "outputs": [],
   "source": [
    "np.ones((3, 3)) - np.tri(3) + np.eye(3)"
   ]
  },
  {
   "cell_type": "code",
   "execution_count": null,
   "id": "d69c60a6",
   "metadata": {},
   "outputs": [],
   "source": [
    "np.triu(np.ones(3))  # How to get an upper triangle array"
   ]
  },
  {
   "cell_type": "markdown",
   "id": "8bfa3d8f",
   "metadata": {},
   "source": [
    "### Regular Algebra with arrays\n",
    "\n"
   ]
  },
  {
   "cell_type": "markdown",
   "id": "321c83d3",
   "metadata": {},
   "source": [
    "It takes some getting use to how to use arrays with algebra.\n",
    "\n"
   ]
  },
  {
   "cell_type": "markdown",
   "id": "32c7a079",
   "metadata": {},
   "source": [
    "#### Addition and subtraction\n",
    "\n"
   ]
  },
  {
   "cell_type": "markdown",
   "id": "2b50bdb8",
   "metadata": {},
   "source": [
    "Let's start with addition and subtraction. A good rule to remember that you can add and subtract arrays with the same shape.\n",
    "\n"
   ]
  },
  {
   "cell_type": "code",
   "execution_count": null,
   "id": "e53157b3",
   "metadata": {
    "lines_to_next_cell": 2
   },
   "outputs": [],
   "source": [
    "A"
   ]
  },
  {
   "cell_type": "code",
   "execution_count": null,
   "id": "77450cf2",
   "metadata": {},
   "outputs": [],
   "source": [
    "B = np.ones(A.shape)\n",
    "\n",
    "A + B"
   ]
  },
  {
   "cell_type": "code",
   "execution_count": null,
   "id": "957af53a",
   "metadata": {},
   "outputs": [],
   "source": [
    "A - B"
   ]
  },
  {
   "cell_type": "markdown",
   "id": "c5706236",
   "metadata": {},
   "source": [
    "This is an error though because the shapes do not match.\n",
    "\n"
   ]
  },
  {
   "cell_type": "code",
   "execution_count": null,
   "id": "9b2825e9",
   "metadata": {},
   "outputs": [],
   "source": [
    "C = np.array([[0, 0, 1],\n",
    "              [1, 0, 0]])\n",
    "\n",
    "A + C"
   ]
  },
  {
   "cell_type": "markdown",
   "id": "fd4ed2c9",
   "metadata": {},
   "source": [
    "Note, however, that this is ok. This feature is called *broadcasting*. It works when the thing you are adding can be added to each row.\n",
    "\n"
   ]
  },
  {
   "cell_type": "code",
   "execution_count": null,
   "id": "78df32e3",
   "metadata": {},
   "outputs": [],
   "source": [
    "C * np.array([2, 2, 2])"
   ]
  },
  {
   "cell_type": "code",
   "execution_count": null,
   "id": "53a196be",
   "metadata": {},
   "outputs": [],
   "source": [
    "np.array([[[1], [1]]]).shape"
   ]
  },
  {
   "cell_type": "markdown",
   "id": "79e5b894",
   "metadata": {},
   "source": [
    "**Exercise** Use some algebra to get an array that is ones above the main diagonal, and zeros everywhere else.\n",
    "\n"
   ]
  },
  {
   "cell_type": "code",
   "execution_count": null,
   "id": "a6978fe9",
   "metadata": {},
   "outputs": [],
   "source": [
    "np.triu(np.ones(3), k=1)"
   ]
  },
  {
   "cell_type": "code",
   "execution_count": null,
   "id": "c00cb103",
   "metadata": {},
   "outputs": [],
   "source": [
    "np.ones((3, 3))  - np.tri(3)"
   ]
  },
  {
   "cell_type": "markdown",
   "id": "71dc1080",
   "metadata": {},
   "source": [
    "#### Multiplication and division\n",
    "\n"
   ]
  },
  {
   "cell_type": "markdown",
   "id": "d7a1e8ac",
   "metadata": {},
   "source": [
    "The default multiplication and division operators work *element-wise*.\n",
    "\n"
   ]
  },
  {
   "cell_type": "code",
   "execution_count": null,
   "id": "ec085f87",
   "metadata": {},
   "outputs": [],
   "source": [
    "A"
   ]
  },
  {
   "cell_type": "code",
   "execution_count": null,
   "id": "082eb806",
   "metadata": {},
   "outputs": [],
   "source": [
    "2 * A"
   ]
  },
  {
   "cell_type": "code",
   "execution_count": null,
   "id": "b8681b28",
   "metadata": {},
   "outputs": [],
   "source": [
    "1 / A"
   ]
  },
  {
   "cell_type": "code",
   "execution_count": null,
   "id": "ac72d1d9",
   "metadata": {},
   "outputs": [],
   "source": [
    "A * B"
   ]
  },
  {
   "cell_type": "code",
   "execution_count": null,
   "id": "d61bc11c",
   "metadata": {},
   "outputs": [],
   "source": [
    "B / A"
   ]
  },
  {
   "cell_type": "code",
   "execution_count": null,
   "id": "3cae8f49",
   "metadata": {},
   "outputs": [],
   "source": [
    "A % 2"
   ]
  },
  {
   "cell_type": "code",
   "execution_count": null,
   "id": "106a6b7c",
   "metadata": {},
   "outputs": [],
   "source": [
    "A**2"
   ]
  },
  {
   "cell_type": "code",
   "execution_count": null,
   "id": "ded8351a",
   "metadata": {},
   "outputs": [],
   "source": [
    "np.sqrt(A)"
   ]
  },
  {
   "cell_type": "code",
   "execution_count": null,
   "id": "1669ede8",
   "metadata": {},
   "outputs": [],
   "source": []
  },
  {
   "cell_type": "markdown",
   "id": "5dbb37b3",
   "metadata": {},
   "source": [
    "### Matrix algebra\n",
    "\n"
   ]
  },
  {
   "cell_type": "markdown",
   "id": "7c87c14b",
   "metadata": {},
   "source": [
    "To do matrix multiplication you use the @ operator (This is new in Python 3.5), or the `numpy.dot` function. If you are not familiar with the idea of matrix multiplication you should review it at [https://en.wikipedia.org/wiki/Matrix_multiplication](https://en.wikipedia.org/wiki/Matrix_multiplication).\n",
    "\n",
    "We write matrix multiplication as: $\\mathbf{A} \\mathbf{B}$. We cannot multiply any two arrays; their shapes must follow some rules. We can multiply any two arrays with these shapes:\n",
    "\n",
    "(m, c) \\* (c, n) = (m, n)\n",
    "\n",
    "In other words the number of columns in the first array must equal the number of rows in the second array. This means it is not generally true that $\\mathbf{A} \\mathbf{B} = \\mathbf{B} \\mathbf{A}$.\n",
    "\n"
   ]
  },
  {
   "cell_type": "code",
   "execution_count": null,
   "id": "5bcd7fd9",
   "metadata": {},
   "outputs": [],
   "source": [
    "A.shape, B.shape"
   ]
  },
  {
   "cell_type": "code",
   "execution_count": null,
   "id": "c54e8d55",
   "metadata": {},
   "outputs": [],
   "source": [
    "A"
   ]
  },
  {
   "cell_type": "code",
   "execution_count": null,
   "id": "941c7663",
   "metadata": {},
   "outputs": [],
   "source": [
    "B"
   ]
  },
  {
   "cell_type": "code",
   "execution_count": null,
   "id": "df8a00a5",
   "metadata": {},
   "outputs": [],
   "source": [
    "A @ B"
   ]
  },
  {
   "cell_type": "markdown",
   "id": "9db90e4a",
   "metadata": {},
   "source": [
    "This is the older way to do matrix multiplication.\n",
    "\n"
   ]
  },
  {
   "cell_type": "code",
   "execution_count": null,
   "id": "950461af",
   "metadata": {},
   "outputs": [],
   "source": [
    "np.dot(A, B)"
   ]
  },
  {
   "cell_type": "markdown",
   "id": "20cbbfbb",
   "metadata": {},
   "source": [
    "These rules are true:\n",
    "\n",
    "1.  $(k \\mathbf{A})\\mathbf{B} = k(\\mathbf{A} \\mathbf{B}) = \\mathbf{A}(k\\mathbf{B})$\n",
    "2.  $\\mathbf{A}(\\mathbf{B}\\mathbf{C}) = (\\mathbf{A}\\mathbf{B})\\mathbf{C}$\n",
    "3.  $(\\mathbf{A} + \\mathbf{B})\\mathbf{C} = \\mathbf{A}\\mathbf{B} + \\mathbf{A}\\mathbf{C}$\n",
    "4.  $\\mathbf{C}(\\mathbf{A} + \\mathbf{B}) = \\mathbf{C}\\mathbf{A} + \\mathbf{C}\\mathbf{B}$\n",
    "\n",
    "**Exercise** construct examples of each of these rules.\n",
    "\n",
    "We can also multiply a matrix and vector. This is like the shapes of (m, r) \\* (r, 1) = (m, 1)\n",
    "\n"
   ]
  },
  {
   "cell_type": "code",
   "execution_count": null,
   "id": "f9523078",
   "metadata": {},
   "outputs": [],
   "source": [
    "k = 2\n",
    "(k * A) @ B == k * (A @ B)"
   ]
  },
  {
   "cell_type": "code",
   "execution_count": null,
   "id": "b411f9f8",
   "metadata": {},
   "outputs": [],
   "source": [
    "# Checking rule #4\n",
    "C = np.random.random((2, 2))\n",
    "C\n",
    "np.allclose((C @ (A + B)),  (C @ A + C @ B))"
   ]
  },
  {
   "cell_type": "code",
   "execution_count": null,
   "id": "a8b32e12",
   "metadata": {},
   "outputs": [],
   "source": [
    "x = np.array([1, 2])\n",
    "A @ x"
   ]
  },
  {
   "cell_type": "markdown",
   "id": "97c7d151",
   "metadata": {},
   "source": [
    "There is a small subtle point, the x-array is 1-D:\n",
    "\n"
   ]
  },
  {
   "cell_type": "code",
   "execution_count": null,
   "id": "42dfa97b",
   "metadata": {},
   "outputs": [],
   "source": [
    "x.shape"
   ]
  },
  {
   "cell_type": "markdown",
   "id": "0cc92b27",
   "metadata": {},
   "source": [
    "Its shape is not (2, 1)! Numpy does the right thing here and figures out what you want. Not all languages allow this, however, and you have to be careful that everything has the right shape with them.\n",
    "\n"
   ]
  },
  {
   "cell_type": "markdown",
   "id": "895b9460",
   "metadata": {},
   "source": [
    "## Linear algebra functions of arrays\n",
    "\n"
   ]
  },
  {
   "cell_type": "markdown",
   "id": "bec4c606",
   "metadata": {},
   "source": [
    "### The transpose\n",
    "\n"
   ]
  },
  {
   "cell_type": "markdown",
   "id": "a0807385",
   "metadata": {},
   "source": [
    "In the transpose operation you swap the rows and columns of an array. The transpose of A is denoted $\\mathbf{A}^T$.\n",
    "\n"
   ]
  },
  {
   "cell_type": "code",
   "execution_count": null,
   "id": "9406a585",
   "metadata": {},
   "outputs": [],
   "source": [
    "A"
   ]
  },
  {
   "cell_type": "code",
   "execution_count": null,
   "id": "d8c40346",
   "metadata": {},
   "outputs": [],
   "source": [
    "A.T"
   ]
  },
  {
   "cell_type": "markdown",
   "id": "4f58ac4d",
   "metadata": {},
   "source": [
    "There is also a function for transposing.\n",
    "\n"
   ]
  },
  {
   "cell_type": "code",
   "execution_count": null,
   "id": "42e5347c",
   "metadata": {},
   "outputs": [],
   "source": [
    "np.transpose(A)"
   ]
  },
  {
   "cell_type": "markdown",
   "id": "0d8b09ee",
   "metadata": {},
   "source": [
    "A matrix is called *symmetric* if it is equal to its transpose: $\\mathbf{A} == \\mathbf{A}^T$.\n",
    "\n"
   ]
  },
  {
   "cell_type": "code",
   "execution_count": null,
   "id": "762be576",
   "metadata": {},
   "outputs": [],
   "source": [
    "Q = np.array([[1, 2],\n",
    "              [2, 4]])\n",
    "\n",
    "np.allclose(Q, Q.T)"
   ]
  },
  {
   "cell_type": "markdown",
   "id": "a3c5b50b",
   "metadata": {},
   "source": [
    "A matrix is called *skew symmetric* if $\\mathbf{A}^T = -\\mathbf{A}$.\n",
    "\n"
   ]
  },
  {
   "cell_type": "code",
   "execution_count": null,
   "id": "656018e8",
   "metadata": {},
   "outputs": [],
   "source": [
    "Q = np.array([[0, 1],\n",
    "              [-1, 0]])\n",
    "\n",
    "np.allclose(Q.T, -Q)"
   ]
  },
  {
   "cell_type": "markdown",
   "id": "04c6e2e9",
   "metadata": {},
   "source": [
    "A matrix is called *orthogonal* if this equation is true: $\\mathbf{A} \\mathbf{A}^T = \\mathbf{I}$. Here is an example of an orthogonal matrix:\n",
    "\n"
   ]
  },
  {
   "cell_type": "code",
   "execution_count": null,
   "id": "6fd8df07",
   "metadata": {},
   "outputs": [],
   "source": [
    "theta = 120\n",
    "Q = np.array([[np.cos(theta), -np.sin(theta)],\n",
    "              [np.sin(theta),  np.cos(theta)]])\n",
    "\n",
    "with np.printoptions(suppress=True):\n",
    "    print(Q @ Q.T)"
   ]
  },
  {
   "cell_type": "markdown",
   "id": "d6eca641",
   "metadata": {},
   "source": [
    "Here are the four rules for matrix multiplication and transposition\n",
    "\n",
    "1.  $(\\mathbf{A}^T)^T = \\mathbf{A}$\n",
    "\n",
    "2.  $(\\mathbf{A}+\\mathbf{B})^T = \\mathbf{A}^T+\\mathbf{B}^T$\n",
    "\n",
    "3.  $(\\mathit{c}\\mathbf{A})^T = \\mathit{c}\\mathbf{A}^T$\n",
    "\n",
    "4.  $(\\mathbf{AB})^T = \\mathbf{B}^T\\mathbf{A}^T$\n",
    "\n",
    "**Exercise** Come up with an example for each rule.\n",
    "\n"
   ]
  },
  {
   "cell_type": "code",
   "execution_count": null,
   "id": "30f1c3d7",
   "metadata": {},
   "outputs": [],
   "source": [
    "# rule #4\n",
    "A = np.random.random((30, 30))\n",
    "B = np.random.random((30, 30))\n",
    "np.max(np.abs((A @ B).T -  B.T @ A.T))"
   ]
  },
  {
   "cell_type": "markdown",
   "id": "a0379719",
   "metadata": {},
   "source": [
    "### The determinant\n",
    "\n"
   ]
  },
  {
   "cell_type": "markdown",
   "id": "f03e15af",
   "metadata": {},
   "source": [
    "The determinant of a matrix is noted: det(A) or |A|. Many matrices are used to linearly transform vectors, and the determinant is related to the scaling magnitude.\n",
    "\n"
   ]
  },
  {
   "cell_type": "code",
   "execution_count": null,
   "id": "eb74ead5",
   "metadata": {},
   "outputs": [],
   "source": [
    "np.linalg.det(A)"
   ]
  },
  {
   "cell_type": "markdown",
   "id": "df36702a",
   "metadata": {},
   "source": [
    "### The inverse\n",
    "\n"
   ]
  },
  {
   "cell_type": "markdown",
   "id": "f90053a1",
   "metadata": {},
   "source": [
    "A matrix is invertible if and only if the determinant of the matrix is non-zero.\n",
    "\n",
    "The inverse is defined by: $\\mathbf{A} \\mathbf{A}^{-1} = \\mathbf{I}$.\n",
    "\n",
    "We compute the inverse as:\n",
    "\n"
   ]
  },
  {
   "cell_type": "code",
   "execution_count": null,
   "id": "55f91b73",
   "metadata": {},
   "outputs": [],
   "source": [
    "A = np.random.random((3, 3))\n",
    "np.linalg.inv(A)"
   ]
  },
  {
   "cell_type": "markdown",
   "id": "6f9e5b67",
   "metadata": {},
   "source": [
    "And here verify the definition.\n",
    "\n"
   ]
  },
  {
   "cell_type": "code",
   "execution_count": null,
   "id": "a2eb1eda",
   "metadata": {},
   "outputs": [],
   "source": [
    "with np.printoptions(suppress=True):\n",
    "    print(A @ np.linalg.inv(A))"
   ]
  },
  {
   "cell_type": "markdown",
   "id": "cb9f2d42",
   "metadata": {},
   "source": [
    "Another way to define an orthogonal matrix is $\\mathbf{A}^T = \\mathbf{A}^{-1}$.\n",
    "\n",
    "A A.T = I\n",
    "\n",
    "A.inv A A.T = A.inv I = A.inv\n",
    "\n",
    "I A.T = A.inv\n",
    "\n",
    "A.T = A.inv\n"
   ]
  },
  {
   "cell_type": "code",
   "execution_count": null,
   "id": "6f43f086",
   "metadata": {},
   "outputs": [],
   "source": [
    "theta = 12\n",
    "Q = np.array([[np.cos(theta), -np.sin(theta)],\n",
    "              [np.sin(theta),  np.cos(theta)]])\n",
    "\n",
    "np.allclose(Q.T, np.linalg.inv(Q))"
   ]
  },
  {
   "cell_type": "markdown",
   "id": "988ef9e8",
   "metadata": {},
   "source": [
    "### Rank\n",
    "\n"
   ]
  },
  {
   "cell_type": "markdown",
   "id": "e1e3dd0c",
   "metadata": {},
   "source": [
    "The rank of a matrix is equal to the number of linearly independent rows in it. Rows are linearly independent if and only if they cannot be made by constants times another row or linear combinations of other rows.\n",
    "\n"
   ]
  },
  {
   "cell_type": "code",
   "execution_count": null,
   "id": "db4e8895",
   "metadata": {},
   "outputs": [],
   "source": [
    "np.linalg.matrix_rank(A)"
   ]
  },
  {
   "cell_type": "markdown",
   "id": "46e5833c",
   "metadata": {},
   "source": [
    "Here is an example of a rank-deficient array. The last row is a linear combination of the first two rows.\n",
    "\n"
   ]
  },
  {
   "cell_type": "code",
   "execution_count": null,
   "id": "45766b0f",
   "metadata": {},
   "outputs": [],
   "source": [
    "A1 = [[1, 2, 3],\n",
    "      [0, 2, 3],\n",
    "      [2, 6, 9]]\n",
    "\n",
    "np.linalg.matrix_rank(A1)"
   ]
  },
  {
   "cell_type": "markdown",
   "id": "b69353d7",
   "metadata": {},
   "source": [
    "Here is an example of a *rank-deficient* array. It is deficient because the last row is just 0 times any other row.\n",
    "\n"
   ]
  },
  {
   "cell_type": "code",
   "execution_count": null,
   "id": "6910f887",
   "metadata": {},
   "outputs": [],
   "source": [
    "A1 = [[1, 2, 3],\n",
    "      [0, 2, 3],\n",
    "      [0, 0, 0]]\n",
    "\n",
    "np.linalg.matrix_rank(A1)"
   ]
  },
  {
   "cell_type": "markdown",
   "id": "304adacb",
   "metadata": {},
   "source": [
    "Note the determinant of this array is nearly zero as a result.\n",
    "\n"
   ]
  },
  {
   "cell_type": "code",
   "execution_count": null,
   "id": "a69690eb",
   "metadata": {},
   "outputs": [],
   "source": [
    "np.linalg.det(A1)"
   ]
  },
  {
   "cell_type": "markdown",
   "id": "7518d1c3",
   "metadata": {},
   "source": [
    "Also note the inverse may be undefined or have some enormous numbers in it. This is not a reliable inverse. It is never a good idea to have giant numbers and small numbers in the same calculations!\n",
    "\n"
   ]
  },
  {
   "cell_type": "code",
   "execution_count": null,
   "id": "eb70d091",
   "metadata": {},
   "outputs": [],
   "source": [
    "np.linalg.inv(A1)"
   ]
  },
  {
   "cell_type": "markdown",
   "id": "ce3beebd",
   "metadata": {},
   "source": [
    "The condition number is a measure of the norm of an array times the inverse of the array. If it is very large, the array is said to be *ill-conditioned*.\n",
    "\n"
   ]
  },
  {
   "cell_type": "code",
   "execution_count": null,
   "id": "c733167c",
   "metadata": {},
   "outputs": [],
   "source": [
    "np.linalg.cond(A1)"
   ]
  },
  {
   "cell_type": "markdown",
   "id": "423ca184",
   "metadata": {},
   "source": [
    "What all of these mean is that we only have two independent rows in the array.\n",
    "\n"
   ]
  },
  {
   "cell_type": "markdown",
   "id": "d47d2e42",
   "metadata": {},
   "source": [
    "## Solving linear algebraic equations\n",
    "\n"
   ]
  },
  {
   "cell_type": "markdown",
   "id": "9db66270",
   "metadata": {},
   "source": [
    "One of the key reasons to develop the tools above is for solving linear equations. Let's consider an example.\n",
    "\n",
    "Given these equations, find [x1, x2, x3]\n",
    "\n",
    "\n",
    "$x_1 - x_2 + x_3 = 0$\n",
    "\n",
    "$10 x_2 + 25 x_3 = 90$\n",
    "\n",
    "$20 x_1 + 10 x_2 = 80$\n",
    "\n",
    "\n",
    "reference: Kreysig, Advanced Engineering Mathematics, 9th ed. Sec. 7.3\n",
    "\n",
    "First, we express this in the form $\\mathbf{A} \\mathbf{x} = \\mathbf{b}$.\n",
    "\n"
   ]
  },
  {
   "cell_type": "code",
   "execution_count": null,
   "id": "3c2189b2",
   "metadata": {},
   "outputs": [],
   "source": [
    "A = np.array([[1, -1, 1],\n",
    "              [0, 10, 25],\n",
    "              [20, 10, 0]])\n",
    "\n",
    "b = np.array([0, 90, 80])"
   ]
  },
  {
   "cell_type": "markdown",
   "id": "45c7d6f4",
   "metadata": {},
   "source": [
    "Now, if we *left* multiply by $\\mathbf{A}^{-1}$ then we get:\n",
    "\n",
    "$\\mathbf{A}^{-1} \\mathbf{A} \\mathbf{x} = \\mathbf{A}^{-1} \\mathbf{b}$ which simplifies to:\n",
    "\n",
    "$\\mathbf{x} = \\mathbf{A}^{-1} \\mathbf{b}$\n",
    "\n",
    "How do we know if there should be a solution?  First we make the augmented matrix $\\mathbf{A} | \\mathbf{b}$. Note for this we need \\mathbf{b} as a column vector. Here is one way to make that happen. We make it a row in a 2D array, and transpose that to make it a column.\n",
    "\n"
   ]
  },
  {
   "cell_type": "code",
   "execution_count": null,
   "id": "a607d834",
   "metadata": {},
   "outputs": [],
   "source": [
    "Awiggle = np.hstack([A, np.array([b]).T])\n",
    "Awiggle"
   ]
  },
  {
   "cell_type": "markdown",
   "id": "94b1e8a6",
   "metadata": {},
   "source": [
    "If the rank of $\\mathbf{A}$ and the rank of $\\mathbf{\\tilde{A}}$ are the same, then we will have one unique solution. if the rank is less than the number of unknowns, there maybe an infinite number of solutions.\n",
    "\n"
   ]
  },
  {
   "cell_type": "code",
   "execution_count": null,
   "id": "ea77346b",
   "metadata": {},
   "outputs": [],
   "source": [
    "np.linalg.matrix_rank(A), np.linalg.matrix_rank(Awiggle)"
   ]
  },
  {
   "cell_type": "markdown",
   "id": "2b059d62",
   "metadata": {},
   "source": [
    "If $mathbf{b}$ is not all zeros, we can also use the fact that a non-zero determinant leads to a unique solution.\n",
    "\n"
   ]
  },
  {
   "cell_type": "code",
   "execution_count": null,
   "id": "fc9e3306",
   "metadata": {},
   "outputs": [],
   "source": [
    "np.linalg.det(A)"
   ]
  },
  {
   "cell_type": "markdown",
   "id": "cd09b7d0",
   "metadata": {},
   "source": [
    "It should also be evident that since we use an inverse matrix, it must exist (which is certain since the determinant is non-zero). Now we can evaluate our solution.\n",
    "\n"
   ]
  },
  {
   "cell_type": "code",
   "execution_count": null,
   "id": "e5e0a3ff",
   "metadata": {},
   "outputs": [],
   "source": [
    "x = np.linalg.inv(A) @ b\n",
    "x"
   ]
  },
  {
   "cell_type": "markdown",
   "id": "d420cd64",
   "metadata": {},
   "source": [
    "Now you might see why we *vastly* prefer linear algebra to nonlinear algebra; there is no guessing or iteration, we just solve the equations!\n",
    "\n",
    "Let us confirm our solution:\n",
    "\n"
   ]
  },
  {
   "cell_type": "code",
   "execution_count": null,
   "id": "d102a840",
   "metadata": {},
   "outputs": [],
   "source": [
    "A @ x == b"
   ]
  },
  {
   "cell_type": "markdown",
   "id": "7310ca65",
   "metadata": {},
   "source": [
    "This fails because of float tolerances:\n",
    "\n"
   ]
  },
  {
   "cell_type": "code",
   "execution_count": null,
   "id": "2bfa13d2",
   "metadata": {},
   "outputs": [],
   "source": [
    "[float(z) for z in A @ x - b]  # subtle point that sometimes small numbers print as zero"
   ]
  },
  {
   "cell_type": "markdown",
   "id": "f2dddac7",
   "metadata": {},
   "source": [
    "We should instead see if they are all close. You could roll your own comparison, but we instead leverage `numpy.allclose` for this comparison.\n",
    "\n"
   ]
  },
  {
   "cell_type": "code",
   "execution_count": null,
   "id": "2a90711a",
   "metadata": {},
   "outputs": [],
   "source": [
    "np.allclose(A @ x, b)"
   ]
  },
  {
   "cell_type": "markdown",
   "id": "8ad5b39f",
   "metadata": {},
   "source": [
    "The formula we used above to solve for $\\mathbf{x}$ is not commonly used. It turns out computing the inverse of a matrix is moderately expensive. For small systems it is negligible, but the time to compute the inverse grows as $N^3$, and there are more efficient ways to solve these when the number of equations grows large.\n",
    "\n"
   ]
  },
  {
   "cell_type": "code",
   "execution_count": null,
   "id": "62926b1a",
   "metadata": {},
   "outputs": [],
   "source": [
    "import numpy as np\n",
    "import time\n",
    "\n",
    "t = []\n",
    "I = np.array(range(2, 5001, 50))\n",
    "for i in I:\n",
    "    m = np.eye(i)\n",
    "    t0 = time.time()\n",
    "    np.linalg.inv(m)\n",
    "    t += [time.time() - t0]\n",
    "\n",
    "import matplotlib.pyplot as plt\n",
    "plt.plot(I, t)\n",
    "plt.xlabel('N')\n",
    "plt.ylabel('Time to invert (s)')"
   ]
  },
  {
   "cell_type": "markdown",
   "id": "6c54478a",
   "metadata": {},
   "source": [
    "As usual, there is a function we can use to solve this.\n",
    "\n"
   ]
  },
  {
   "cell_type": "code",
   "execution_count": null,
   "id": "d0daff20",
   "metadata": {},
   "outputs": [],
   "source": [
    "np.linalg.solve(A, b)"
   ]
  },
  {
   "cell_type": "code",
   "execution_count": null,
   "id": "913885c6",
   "metadata": {},
   "outputs": [],
   "source": [
    "t = []\n",
    "I = np.array(range(2, 5001, 500))\n",
    "for i in I:\n",
    "    A = np.eye(i)\n",
    "    b = np.arange(i)\n",
    "    t0 = time.time()\n",
    "    np.linalg.solve(A, b)\n",
    "    t += [time.time() - t0]\n",
    "\n",
    "\n",
    "plt.plot(I, t)\n",
    "plt.xlabel('N')\n",
    "plt.ylabel('Time to solve Ax=b (s)')"
   ]
  },
  {
   "cell_type": "code",
   "execution_count": null,
   "id": "ab803b18",
   "metadata": {},
   "outputs": [],
   "source": []
  },
  {
   "cell_type": "markdown",
   "id": "76c25bb5",
   "metadata": {},
   "source": [
    "You can see by inspection that solve must not be using an inverse to solve these equations; if it did, it would take much longer to solve them. It is remarkable that we can solve ~5000 simultaneous equations here in about 1 second!\n",
    "\n",
    "This may seem like a lot of equations, but it isn't really. Problems of this size routinely come up in solving linear boundary value problems where you discretize the problem into a large number of linear equations that are solved.\n",
    "\n"
   ]
  },
  {
   "cell_type": "markdown",
   "id": "d85c9de9",
   "metadata": {},
   "source": [
    "## Summary\n",
    "\n"
   ]
  },
  {
   "cell_type": "markdown",
   "id": "deebdc1e",
   "metadata": {},
   "source": [
    "Today we introduced many functions used in linear algebra. One of the main applications of linear algebra is solving linear equations. These arise in many engineering applications like mass balances, reaction network analysis, etc. Because we can solve them directly (not iteratively with a guess like with non-linear algebra) it is highly desirable to formulate problems as linear ones where possible.\n",
    "\n",
    "There are many more specialized routines at [https://docs.scipy.org/doc/numpy-1.15.1/reference/routines.linalg.html](https://docs.scipy.org/doc/numpy-1.15.1/reference/routines.linalg.html).\n",
    "\n"
   ]
  },
  {
   "cell_type": "code",
   "execution_count": null,
   "id": "cddbd10c",
   "metadata": {
    "lines_to_next_cell": 2
   },
   "outputs": [],
   "source": []
  }
 ],
 "metadata": {
  "kernelspec": {
   "display_name": "Python 3 (ipykernel)",
   "language": "python",
   "name": "python3"
  }
 },
 "nbformat": 4,
 "nbformat_minor": 5
}