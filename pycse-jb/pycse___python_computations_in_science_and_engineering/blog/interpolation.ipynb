{
 "cells": [
  {
   "cell_type": "markdown",
   "id": "c75a6ff8",
   "metadata": {},
   "source": [
    "## Interpolation\n",
    "\n"
   ]
  },
  {
   "cell_type": "markdown",
   "id": "17a43f1e",
   "metadata": {},
   "source": [
    "### Better interpolate than never\n",
    "\n"
   ]
  },
  {
   "cell_type": "markdown",
   "id": "2a4b8c13",
   "metadata": {},
   "source": [
    "[interpolation](interpolation)\n",
    "[Matlab post](http://matlab.cheme.cmu.edu/2012/02/02/better-interpolate-than-never/)\n",
    "\n",
    "We often have some data that we have obtained in the lab, and we want to solve some problem using the data. For example, suppose we have this data that describes the value of f at time t.\n",
    "\n"
   ]
  },
  {
   "cell_type": "code",
   "execution_count": null,
   "id": "bedfe412",
   "metadata": {},
   "outputs": [],
   "source": [
    "import matplotlib.pyplot as plt\n",
    "\n",
    "t = [0.5, 1, 3, 6]\n",
    "f = [0.6065,    0.3679,    0.0498,    0.0025]\n",
    "plt.plot(t, f)\n",
    "plt.xlabel('t')\n",
    "plt.ylabel('f(t)');"
   ]
  },
  {
   "cell_type": "markdown",
   "id": "665fb1da",
   "metadata": {},
   "source": [
    "#### Estimate the value of f at t=2.\n",
    "\n"
   ]
  },
  {
   "cell_type": "markdown",
   "id": "1162daf3",
   "metadata": {},
   "source": [
    "This is a simple interpolation problem.\n",
    "\n"
   ]
  },
  {
   "cell_type": "code",
   "execution_count": null,
   "id": "7fd592b5",
   "metadata": {},
   "outputs": [],
   "source": [
    "from scipy.interpolate import interp1d\n",
    "\n",
    "g = interp1d(t, f) # default is linear interpolation\n",
    "\n",
    "print(g(2))\n",
    "print(g([2, 3, 4]))"
   ]
  },
  {
   "cell_type": "markdown",
   "id": "670bcd4a",
   "metadata": {},
   "source": [
    "The function we sample above is actually f(t) = exp(-t). The linearly interpolated example is not too accurate.\n",
    "\n"
   ]
  },
  {
   "cell_type": "code",
   "execution_count": null,
   "id": "6a89e007",
   "metadata": {},
   "outputs": [],
   "source": [
    "import numpy as np\n",
    "print(np.exp(-2))"
   ]
  },
  {
   "cell_type": "markdown",
   "id": "567d5e25",
   "metadata": {},
   "source": [
    "#### improved interpolation?\n",
    "\n"
   ]
  },
  {
   "cell_type": "markdown",
   "id": "25f6dfc0",
   "metadata": {},
   "source": [
    "[interpolation!cubic](interpolation!cubic)\n",
    "\n",
    "We can tell `interp1d` to use a different interpolation scheme such as cubic polynomial splines like this. For nonlinear functions, this may improve the accuracy of the interpolation, as it implicitly includes information about the curvature by fitting a cubic polynomial over neighboring points.\n",
    "\n"
   ]
  },
  {
   "cell_type": "code",
   "execution_count": null,
   "id": "bd5159c8",
   "metadata": {},
   "outputs": [],
   "source": [
    "g2 = interp1d(t, f, 'cubic')\n",
    "print(g2(2))\n",
    "print(g2([2, 3, 4]))"
   ]
  },
  {
   "cell_type": "markdown",
   "id": "a1f5fe1a",
   "metadata": {},
   "source": [
    "Interestingly, this is a different value than Matlab's cubic interpolation. Let us show the cubic spline fit.\n",
    "\n"
   ]
  },
  {
   "cell_type": "code",
   "execution_count": null,
   "id": "7fb47108",
   "metadata": {},
   "outputs": [],
   "source": [
    "plt.figure()\n",
    "plt.plot(t, f)\n",
    "plt.xlabel('t')\n",
    "plt.ylabel('f(t)')\n",
    "\n",
    "x = np.linspace(0.5, 6)\n",
    "fit = g2(x)\n",
    "plt.plot(x, fit, label='fit');"
   ]
  },
  {
   "cell_type": "markdown",
   "id": "02b51af4",
   "metadata": {},
   "source": [
    "Wow. That is a weird looking fit. Very different from what Matlab [produces](http://matlab.cheme.cmu.edu/wp-content/uploads/2012/02/interp_methods_02.png). This is a good teaching moment not to rely blindly on interpolation! We will rely on the linear interpolation from here out which behaves predictably.\n",
    "\n"
   ]
  },
  {
   "cell_type": "markdown",
   "id": "29bbdc26",
   "metadata": {},
   "source": [
    "#### The inverse question\n",
    "\n"
   ]
  },
  {
   "cell_type": "markdown",
   "id": "1e2ceaa2",
   "metadata": {},
   "source": [
    "It is easy to interpolate a new value of f given a value of t. What if we want to know the time that f=0.2? We can approach this a few ways.\n",
    "\n"
   ]
  },
  {
   "cell_type": "markdown",
   "id": "af6b2b74",
   "metadata": {},
   "source": [
    "##### method 1\n",
    "\n"
   ]
  },
  {
   "cell_type": "markdown",
   "id": "a9ee9067",
   "metadata": {},
   "source": [
    "We setup a function that we can use fsolve on. The function will be equal to zero at the time. The second function will look like 0 = 0.2 - f(t). The answer for 0.2=exp(-t) is t = 1.6094. Since we use interpolation here, we will get an approximate answer.\n",
    "\n"
   ]
  },
  {
   "cell_type": "code",
   "execution_count": null,
   "id": "ffcfb553",
   "metadata": {},
   "outputs": [],
   "source": [
    "from scipy.optimize import fsolve\n",
    "\n",
    "def func(t):\n",
    "    return 0.2 - g(t)\n",
    "\n",
    "initial_guess = 2\n",
    "ans, = fsolve(func, initial_guess)\n",
    "print(ans)"
   ]
  },
  {
   "cell_type": "markdown",
   "id": "22a3f028",
   "metadata": {},
   "source": [
    "##### method 2: switch the interpolation order\n",
    "\n"
   ]
  },
  {
   "cell_type": "markdown",
   "id": "cdc5044a",
   "metadata": {},
   "source": [
    "We can switch the order of the interpolation to solve this problem. An issue we have to address in this method is that the \"x\" values must be monotonically *increasing*. It is somewhat subtle to reverse a list in python. I will use the cryptic syntax of [::-1] instead of the list.reverse() function or reversed() function. list.reverse() actually reverses the list \"in place\", which changes the contents of the variable. That is not what I want. reversed() returns an iterator which is also not what I want. [::-1] is a fancy indexing trick that returns a reversed list.\n",
    "\n"
   ]
  },
  {
   "cell_type": "code",
   "execution_count": null,
   "id": "00a5529b",
   "metadata": {},
   "outputs": [],
   "source": [
    "g3 = interp1d(f[::-1], t[::-1])\n",
    "\n",
    "print(g3(0.2))"
   ]
  },
  {
   "cell_type": "markdown",
   "id": "d65f536e",
   "metadata": {},
   "source": [
    "#### A harder problem\n",
    "\n"
   ]
  },
  {
   "cell_type": "markdown",
   "id": "2eb6952b",
   "metadata": {},
   "source": [
    "Suppose we want to know at what time is 1/f = 100? Now we have to decide what do we interpolate: f(t) or 1/f(t). Let us look at both ways and decide what is best. The answer to $1/exp(-t) = 100$ is 4.6052\n",
    "\n"
   ]
  },
  {
   "cell_type": "markdown",
   "id": "1f53ac4d",
   "metadata": {},
   "source": [
    "##### interpolate on f(t) then invert the interpolated number\n",
    "\n"
   ]
  },
  {
   "cell_type": "code",
   "execution_count": null,
   "id": "124257d1",
   "metadata": {},
   "outputs": [],
   "source": [
    "def func(t):\n",
    "    'objective function. we do some error bounds because we cannot interpolate out of the range.'\n",
    "    if t < 0.5: t=0.5\n",
    "    if t > 6: t = 6\n",
    "    return 100 - 1.0 / g(t)\n",
    "\n",
    "initial_guess = 4.5\n",
    "a1, = fsolve(func, initial_guess)\n",
    "print(a1)\n",
    "print('The %error is {0:%}'.format((a1 - 4.6052)/4.6052))"
   ]
  },
  {
   "cell_type": "markdown",
   "id": "b44002b9",
   "metadata": {},
   "source": [
    "##### invert f(t) then interpolate on 1/f\n",
    "\n"
   ]
  },
  {
   "cell_type": "code",
   "execution_count": null,
   "id": "61c341fa",
   "metadata": {},
   "outputs": [],
   "source": [
    "ig = interp1d(t, 1.0 / np.array(f))\n",
    "\n",
    "def ifunc(t):\n",
    "    if t < 0.5:\n",
    "        t=0.5\n",
    "    elif t > 6:\n",
    "        t = 6\n",
    "    return 100 - ig(t)\n",
    "\n",
    "initial_guess = 4.5\n",
    "a2, = fsolve(ifunc, initial_guess)\n",
    "print(a2)\n",
    "print('The %error is {0:%}'.format((a2 - 4.6052)/4.6052))"
   ]
  },
  {
   "cell_type": "markdown",
   "id": "1997ec04",
   "metadata": {},
   "source": [
    "#### Discussion\n",
    "\n"
   ]
  },
  {
   "cell_type": "markdown",
   "id": "487bf812",
   "metadata": {},
   "source": [
    "In this case you get different errors, one overestimates and one underestimates the answer, and by a lot: ± 20%. Let us look at what is happening.\n",
    "\n"
   ]
  },
  {
   "cell_type": "code",
   "execution_count": null,
   "id": "6fdb6323",
   "metadata": {},
   "outputs": [],
   "source": [
    "import matplotlib.pyplot as plt\n",
    "import numpy as np\n",
    "from scipy.interpolate import interp1d\n",
    "\n",
    "t = [0.5, 1, 3, 6]\n",
    "f = [0.6065,    0.3679,    0.0498,    0.0025]\n",
    "\n",
    "x = np.linspace(0.5, 6)\n",
    "\n",
    "\n",
    "g = interp1d(t, f) # default is linear interpolation\n",
    "ig = interp1d(t, 1.0 / np.array(f))\n",
    "\n",
    "plt.figure()\n",
    "plt.plot(t, 1 / np.array(f), 'ko ', label='data')\n",
    "plt.plot(x, 1 / g(x), label='1/interpolated f(x)')\n",
    "plt.plot(x, ig(x), label='interpolate on 1/f(x)')\n",
    "plt.plot(x, 1 / np.exp(-x), 'k--', label='1/exp(-x)')\n",
    "plt.xlabel('t')\n",
    "plt.ylabel('1/f(t)')\n",
    "plt.legend(loc='best');"
   ]
  },
  {
   "cell_type": "markdown",
   "id": "b6f5ec90",
   "metadata": {},
   "source": [
    "You can see that the 1/interpolated f(x) underestimates the value, while interpolated (1/f(x)) overestimates the value. This is an example of where you clearly need more data in that range to make good estimates. Neither interpolation method is doing a great job. The trouble in reality is that you often do not know the real function to do this analysis. Here you can say the time is probably between 3.6 and 5.5 where 1/f(t) = 100, but you can not read much more than that into it. If you need a more precise answer, you need better data, or you need to use an approach other than interpolation. For example, you could fit an exponential function to the data and use that to estimate values at other times.\n",
    "\n",
    "So which is the best to interpolate? I think you should interpolate the quantity that is linear in the problem you want to solve, so in this case I think interpolating 1/f(x) is better. When you use an interpolated function in a nonlinear function, strange, unintuitive things can happen. That is why the blue curve looks odd. Between data points are linear segments in the original interpolation, but when you invert them, you cause the curvature to form.\n",
    "\n"
   ]
  },
  {
   "cell_type": "markdown",
   "id": "3773a176",
   "metadata": {},
   "source": [
    "### Interpolation of data\n",
    "\n"
   ]
  },
  {
   "cell_type": "markdown",
   "id": "4631eb38",
   "metadata": {},
   "source": [
    "[Matlab post](http://matlab.cheme.cmu.edu/2011/08/01/interpolation-of-data/)\n",
    "\n",
    "When we have data at two points but we need data in between them we use interpolation. Suppose we have the points (4,3) and (6,2) and we want to know the value of y at x=4.65, assuming y varies linearly between these points. we use the interp1d command to achieve this. The syntax in python is slightly different than in matlab.\n",
    "\n"
   ]
  },
  {
   "cell_type": "code",
   "execution_count": null,
   "id": "d316e4b8",
   "metadata": {},
   "outputs": [],
   "source": [
    "from scipy.interpolate import interp1d\n",
    "\n",
    "x = [4, 6]\n",
    "y = [3, 2]\n",
    "\n",
    "ifunc = interp1d(x, y)\n",
    "\n",
    "print(ifunc(4.65))\n",
    "\n",
    "\n",
    "ifunc = interp1d(x, y, bounds_error=False) # do not raise error on out of bounds\n",
    "print(ifunc([4.65, 5.01, 4.2, 9]))"
   ]
  },
  {
   "cell_type": "markdown",
   "id": "ca61416c",
   "metadata": {},
   "source": [
    "The default interpolation method is simple linear interpolation between points. Other methods exist too, such as fitting a cubic spline to the data and using the spline representation to interpolate from.\n",
    "\n"
   ]
  },
  {
   "cell_type": "code",
   "execution_count": null,
   "id": "0315b7f2",
   "metadata": {},
   "outputs": [],
   "source": [
    "from scipy.interpolate import interp1d\n",
    "\n",
    "x = [1, 2, 3, 4];\n",
    "y = [1, 4, 9, 16]; # y = x^2\n",
    "\n",
    "xi = [ 1.5, 2.5, 3.5]; # we want to interpolate on these values\n",
    "y1 = interp1d(x,y)\n",
    "\n",
    "print(y1(xi))\n",
    "\n",
    "y2 = interp1d(x,y,'cubic')\n",
    "print(y2(xi))\n",
    "\n",
    "import numpy as np\n",
    "print(np.array(xi)**2)"
   ]
  },
  {
   "cell_type": "markdown",
   "id": "7e9822d5",
   "metadata": {},
   "source": [
    "In this case the cubic spline interpolation is  more accurate than the linear interpolation. That is because the underlying data was polynomial in nature, and a spline is like a polynomial. That may not always be the case, and you need some engineering judgement to know which method is best.\n",
    "\n"
   ]
  },
  {
   "cell_type": "markdown",
   "id": "f0af4378",
   "metadata": {},
   "source": [
    "### Interpolation with splines\n",
    "\n"
   ]
  },
  {
   "cell_type": "markdown",
   "id": "b735b577",
   "metadata": {},
   "source": [
    "When you do not know the functional form of data to fit an equation, you can still fit/interpolate with splines.\n",
    "\n"
   ]
  },
  {
   "cell_type": "code",
   "execution_count": null,
   "id": "27d556c9",
   "metadata": {},
   "outputs": [],
   "source": [
    "# use splines to fit and interpolate data\n",
    "from scipy.interpolate import interp1d\n",
    "from scipy.optimize import fmin\n",
    "import numpy as np\n",
    "import matplotlib.pyplot as plt\n",
    "\n",
    "x = np.array([ 0,      1,      2,      3,      4    ])\n",
    "y = np.array([ 0.,     0.308,  0.55,   0.546,  0.44 ])\n",
    "\n",
    "# create the interpolating function\n",
    "f = interp1d(x, y, kind='cubic', bounds_error=False)\n",
    "\n",
    "# to find the maximum, we minimize the negative of the function. We\n",
    "# cannot just multiply f by -1, so we create a new function here.\n",
    "f2 = interp1d(x, -y, kind='cubic')\n",
    "xmax = fmin(f2, 2.5)\n",
    "\n",
    "xfit = np.linspace(0,4)\n",
    "\n",
    "plt.plot(x,y,'bo')\n",
    "plt.plot(xfit, f(xfit),'r-')\n",
    "plt.plot(xmax, f(xmax),'g*')\n",
    "plt.legend(['data','fit','max'], loc='best', numpoints=1)\n",
    "plt.xlabel('x data')\n",
    "plt.ylabel('y data')\n",
    "plt.title('Max point = ({0:1.2f}, {1:1.2f})'.format(float(xmax),\n",
    "\t\t\t\t\t\t    float(f(xmax))));"
   ]
  },
  {
   "cell_type": "markdown",
   "id": "9a4f1fdd",
   "metadata": {},
   "source": [
    "There are other good examples at [http://docs.scipy.org/doc/scipy/reference/tutorial/interpolate.html](http://docs.scipy.org/doc/scipy/reference/tutorial/interpolate.html)\n",
    "\n"
   ]
  }
 ],
 "metadata": {
  "kernelspec": {
   "display_name": "Python 3",
   "language": "python",
   "name": "python3"
  }
 },
 "nbformat": 4,
 "nbformat_minor": 5
}